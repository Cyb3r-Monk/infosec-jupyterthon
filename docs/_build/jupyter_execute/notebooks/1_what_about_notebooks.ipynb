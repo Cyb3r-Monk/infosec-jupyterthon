{
 "cells": [
  {
   "cell_type": "markdown",
   "metadata": {
    "slideshow": {
     "slide_type": "slide"
    }
   },
   "source": [
    "![](images/banner.png)\n"
   ]
  },
  {
   "cell_type": "markdown",
   "metadata": {
    "slideshow": {
     "slide_type": "slide"
    }
   },
   "source": [
    "# <font color=peru>Welcome Infosec Community!</font>\n",
    "![](images/jupyter-community.png)"
   ]
  },
  {
   "cell_type": "markdown",
   "metadata": {
    "slideshow": {
     "slide_type": "slide"
    }
   },
   "source": [
    "# <font color=dimgray>Roberto Rodriguez</font> <font color=cadetblue>@Cyb3rWard0g</font>\n",
    "\n",
    "<img src=\"images/author.jpg\" align=\"right\"/>\n",
    "\n",
    "* Microsoft Threat Intelligence Center (MSTIC) R&D\n",
    "* I ❤️ Open Source\n",
    "* Read > Blog > Tweet > Repeat!\n",
    "* Projects:\n",
    " * @HunterPlaybook 🏹\n",
    " * @THE_HELK\n",
    " * ATTACK-Python-Client\n",
    " * @OSSEM_Project\n",
    " * @Mordor_Project + Mordor Labs 😈\n",
    " * Blacksmith & More\n",
    "* Non-tech:\n",
    " * Blacksmithing!\n",
    " * Cooking Recipes: https://infosecwelldone.com/ \n"
   ]
  },
  {
   "cell_type": "markdown",
   "metadata": {
    "slideshow": {
     "slide_type": "slide"
    }
   },
   "source": [
    "# <font color=dimgray>Industry</font>\n",
    "![](images/community-industry.png)"
   ]
  },
  {
   "cell_type": "markdown",
   "metadata": {
    "slideshow": {
     "slide_type": "subslide"
    }
   },
   "source": [
    "# <font color=dimgray>Jupyter Notebooks Level</font>\n",
    "![](images/community-jupyter-level.png)"
   ]
  },
  {
   "cell_type": "markdown",
   "metadata": {
    "slideshow": {
     "slide_type": "subslide"
    }
   },
   "source": [
    "# <font color=dimgray>What do you exepect to learn about Jupyter Notebooks in this event?</font>\n",
    "![](images/cloud-words-rocket.jpg)"
   ]
  },
  {
   "cell_type": "markdown",
   "metadata": {
    "slideshow": {
     "slide_type": "subslide"
    }
   },
   "source": [
    "# <font color=dimgray>What do you exepect to learn about Jupyter Notebooks in this event?</font>\n",
    "![](images/cloud-words-paw.jpg)"
   ]
  },
  {
   "cell_type": "markdown",
   "metadata": {
    "slideshow": {
     "slide_type": "slide"
    }
   },
   "source": [
    "# <font color=dimgray>Housekeeping</font> \n",
    "\n",
    "* **📺 Recordings**\n",
    "  * Today’s event is being recorded.\n",
    "  * Subscribe: https://bit.ly/OTRYouTubeSub\n",
    "* **⏳ Timekeeping**\n",
    "  * Presentations from 10:00am - 8:00pm Eastern Time\n",
    "  * Breaks:\n",
    "    * 11:35am -11:55am\n",
    "    * 2:45pm - 3:00pm\n",
    "* **🎙️ Online Conversations**\n",
    "  * Slack #infosecjupyterthon\n",
    "    * Automatic Invite: https://launchpass.com/threathunting\n",
    "* **👍 Social Media**\n",
    "  * Twitter Handle: @jupyterthon\n",
    "  * Hashtag: #infosecjupyterthon\n",
    "    * We would like to know where you are joining us from! 🌎"
   ]
  },
  {
   "cell_type": "markdown",
   "metadata": {
    "slideshow": {
     "slide_type": "subslide"
    }
   },
   "source": [
    "# <font color=dimgray>Interactive Talks</font>\n",
    "\n",
    "Keep an eye on the Binder badge next to each talk title in the agenda!\n",
    "\n",
    "![](images/interactive-example.png)\n"
   ]
  },
  {
   "cell_type": "markdown",
   "metadata": {
    "slideshow": {
     "slide_type": "slide"
    }
   },
   "source": [
    "# <font color=dimgray>Getting up to speed..</font>\n",
    "\n",
    "![](images/timeline.png)"
   ]
  },
  {
   "cell_type": "markdown",
   "metadata": {
    "slideshow": {
     "slide_type": "slide"
    }
   },
   "source": [
    "# <font color=dimgray>Getting up to speed..</font>\n",
    "\n",
    "![](images/timeline-ipython.png)"
   ]
  },
  {
   "cell_type": "markdown",
   "metadata": {
    "slideshow": {
     "slide_type": "slide"
    }
   },
   "source": [
    "# <font color=dimgray>What is Interactive Computing?</font>\n",
    "\n",
    "An Interactive computation is a persistent computer program that runs with a **\"human in the loop\"** where the primary mode of steering the program is through the human iteratively writing/running blocks of code and looking at the result.\n",
    "\n",
    "Reference:https://www.youtube.com/watch?v=YKmJvHjTGAM&list=PL055Epbe6d5aP6Ru42r7hk68GTSaclYgi&index=29"
   ]
  },
  {
   "cell_type": "markdown",
   "metadata": {
    "slideshow": {
     "slide_type": "subslide"
    }
   },
   "source": [
    "# <font color=dimgray>Interactivity as a Protocol</font>\n",
    "* Read-Evaluate-Print Loop (REPL):\n",
    "  * Takes a single user’s inputs\n",
    "  * Evaluates them\n",
    "  * Returns the result to the user\n",
    "* A two-process model based on a kernel-client infrastructure\n",
    "  * Kernel: Executes code\n",
    "  * Client: Reads input and present output\n",
    " "
   ]
  },
  {
   "cell_type": "markdown",
   "metadata": {
    "slideshow": {
     "slide_type": "slide"
    }
   },
   "source": [
    "# <font color=dimgray>IPython</font> \n",
    "\n",
    "* Released on Dec 10, 2001 by Fernando Perez while he was a graduate student at the University of Colorado\n",
    "  * Release: https://mail.python.org/pipermail/python-list/2001-December/093408.html\n",
    "* IPython as we know it today grew out of the following three projects:\n",
    "  * ipython by Fernando Pérez.\n",
    "  * IPP by Janko Hauser.\n",
    "  * LazyPython by Nathan Gray.\n",
    "\n",
    "Reference: https://ipython.readthedocs.io/en/stable/about/history.html"
   ]
  },
  {
   "cell_type": "markdown",
   "metadata": {
    "slideshow": {
     "slide_type": "subslide"
    }
   },
   "source": [
    "![](images/python-ipython-notebook.png)\n",
    "Reference: https://ipython.readthedocs.io/en/stable/interactive/python-ipython-diff.html"
   ]
  },
  {
   "cell_type": "markdown",
   "metadata": {
    "slideshow": {
     "slide_type": "subslide"
    }
   },
   "source": [
    "# <font color=dimgray>Fernando Perez Inspiration</font>\n",
    "* Research with open tools for access and collaboration\n",
    "  * Validated in SciPy India 2010 - Workshop to include students from underprivileged colleges in rural India.\n",
    "* Scientific\n",
    "  * Business of science is to understand nature\n",
    "  * Science is about opening up the black boxes nature\n",
    "* Community!\n",
    "  * SciPy: Scientists collaborating and building better tools together!\n",
    "  * Less competitions and more collaboration!\n",
    "  \n",
    "reference: https://www.youtube.com/watch?v=xuNj5paMuow&list=PL055Epbe6d5aP6Ru42r7hk68GTSaclYgi"
   ]
  },
  {
   "cell_type": "markdown",
   "metadata": {
    "slideshow": {
     "slide_type": "slide"
    }
   },
   "source": [
    "# <font color=dimgray>IPython -> Jupyter Project</font>\n",
    "\n",
    "![](images/ipython-to-jupyter.png)"
   ]
  },
  {
   "cell_type": "markdown",
   "metadata": {
    "slideshow": {
     "slide_type": "subslide"
    }
   },
   "source": [
    "![](images/ipython-features.png)\n",
    "\n",
    "Reference: https://speakerdeck.com/fperez/project-jupyter?slide=5"
   ]
  },
  {
   "cell_type": "markdown",
   "metadata": {
    "slideshow": {
     "slide_type": "subslide"
    }
   },
   "source": [
    "![](images/ipython-jupyter-features.png)\n",
    "\n",
    "Reference: https://speakerdeck.com/fperez/project-jupyter?slide=5"
   ]
  },
  {
   "cell_type": "markdown",
   "metadata": {
    "slideshow": {
     "slide_type": "slide"
    }
   },
   "source": [
    "# <font color=dimgray>What are Jupyter Notebooks?</font>\n",
    "\n",
    "The Jupyter Notebook is an open-source web application that allows you to create and share documents that contain live code, equations, visualizations and narrative text. The Jupyter notebook combines two components:\n",
    "\n",
    "* **A web application**: a browser-based tool for interactive authoring of documents which combine explanatory text, mathematics, computations and their rich media output.\n",
    "* **Notebook documents**: a representation of all content visible in the web application, including inputs and outputs of the computations, explanatory text, mathematics, images, and rich media representations of objects.\n",
    "\n",
    "Uses include:\n",
    "* Data cleaning and transformation\n",
    "* Statistical modeling\n",
    "* Data visualization\n",
    "* Machine learning, and much more\n",
    "\n",
    "reference: https://jupyter.org/"
   ]
  },
  {
   "cell_type": "markdown",
   "metadata": {
    "slideshow": {
     "slide_type": "subslide"
    }
   },
   "source": [
    "# <font color=dimgray>Architecture (Interactive Protocol)</font>\n",
    "![](images/jupyter-notebooks-architecture.png)\n"
   ]
  },
  {
   "cell_type": "markdown",
   "metadata": {
    "slideshow": {
     "slide_type": "subslide"
    }
   },
   "source": [
    "# <font color=dimgray>What does it look like?</font>"
   ]
  },
  {
   "cell_type": "code",
   "execution_count": null,
   "metadata": {},
   "outputs": [],
   "source": [
    "print(\"Hola Roberto!\")"
   ]
  },
  {
   "cell_type": "code",
   "execution_count": null,
   "metadata": {},
   "outputs": [],
   "source": [
    "for x in range(5):\n",
    "    print(x)"
   ]
  },
  {
   "cell_type": "markdown",
   "metadata": {
    "slideshow": {
     "slide_type": "slide"
    }
   },
   "source": [
    "# <font color=dimgray>Installing Jupyter Notebooks (Manually)</font>\n",
    "\n",
    "**Prerequisite**: Python\n",
    "\n",
    "While Jupyter runs code in many programming languages, Python is a requirement (Python 3.3 or greater, or Python 2.7) for installing the JupyterLab or the classic Jupyter Notebook.\n",
    "\n",
    "**Using Conda**\n",
    "\n",
    "```\n",
    "conda install -c conda-forge notebook\n",
    "```\n",
    "\n",
    "**Using PIP**\n",
    "\n",
    "```\n",
    "pip install notebook\n",
    "```\n",
    "\n",
    "Once Jupyter Notebook is installed, you can run it with the following command:\n",
    "\n",
    "```\n",
    "jupyter notebook\n",
    "\n",
    "```"
   ]
  },
  {
   "cell_type": "markdown",
   "metadata": {
    "slideshow": {
     "slide_type": "slide"
    }
   },
   "source": [
    "# <font color=dimgray>Installing Jupyter Notebooks (Docker CE)</font>\n",
    "\n",
    "**Prerequisite**: Docker CE\n",
    "\n",
    "You just have to install the community edition of Docker, so that you can pull and build ready-to-run Docker images containing Jupyter applications and interactive computing tools. You can use a stack image to do any of the following (and more):\n",
    "\n",
    "* Start a personal Jupyter Notebook server in a local Docker container\n",
    "* Run JupyterLab servers for a team using JupyterHub\n",
    "* Write your own project Dockerfile\n",
    "\n",
    "* Jupyter Docker Stacks: https://github.com/jupyter/docker-stacks\n",
    "* Jupyter Docker Base Image: https://hub.docker.com/r/jupyter/base-notebook/\n",
    "\n",
    "```\n",
    "docker run -p 8888:8888 jupyter/minimal-notebook:3b1f4f5e6cc1```\n"
   ]
  },
  {
   "cell_type": "code",
   "execution_count": null,
   "metadata": {
    "scrolled": true,
    "slideshow": {
     "slide_type": "subslide"
    }
   },
   "outputs": [],
   "source": [
    "from IPython.display import YouTubeVideo\n",
    "\n",
    "YouTubeVideo('KVR1_cVlLRE', width=1000, height=800)"
   ]
  },
  {
   "cell_type": "markdown",
   "metadata": {
    "slideshow": {
     "slide_type": "slide"
    }
   },
   "source": [
    "# <font color=dimgray>Enter Binder Project</font>\n",
    "\n",
    "* Released on May, 2016\n",
    "* Updated 2.0 on November, 2019\n",
    "* The Binder Project is an open community that makes it possible to create shareable, interactive, reproducible environments.\n",
    "* The main technical product that the community creates is called BinderHub, and one deployment of a BinderHub exists at mybinder.org.\n",
    "* Who is it for?: \n",
    "  * Researchers, Educators, people analyzing data and people trying to communicate the data analysis to others!!"
   ]
  },
  {
   "cell_type": "markdown",
   "metadata": {
    "slideshow": {
     "slide_type": "subslide"
    }
   },
   "source": [
    "# <font color=dimgray>BinderHub</font>\n",
    "\n",
    "BinderHub connects several services together to provide on-the-fly creation and registry of Docker images. It utilizes the following tools:\n",
    "* A cloud provider such Google Cloud, Microsoft Azure, Amazon EC2, and others\n",
    "* Kubernetes to manage resources on the cloud\n",
    "* Helm to configure and control Kubernetes\n",
    "* Docker to use containers that standardize computing environments\n",
    "* A BinderHub UI that users can access to specify Git repos they want built\n",
    "* BinderHub to generate Docker images using the URL of a Git repository\n",
    "* A Docker registry (such as gcr.io) that hosts container images\n",
    "* JupyterHub to deploy temporary containers for users"
   ]
  },
  {
   "cell_type": "markdown",
   "metadata": {
    "slideshow": {
     "slide_type": "subslide"
    }
   },
   "source": [
    "# <font color=dimgray>BinderHub Flow</font>\n",
    "\n",
    "![](images/Binderhub-Architecture.png)\n"
   ]
  },
  {
   "cell_type": "markdown",
   "metadata": {
    "slideshow": {
     "slide_type": "subslide"
    }
   },
   "source": [
    "# <font color=dimgray>Let's Try it!</font>\n",
    "\n",
    "![](images/interactive-example.png)"
   ]
  },
  {
   "cell_type": "markdown",
   "metadata": {
    "slideshow": {
     "slide_type": "slide"
    }
   },
   "source": [
    "# <font color=dimgray>I have a Notebook. Now What!</font>\n",
    "\n",
    "From a security perspective, there are a few basic things that you can start doing to start integrating notebooks to your research operations.\n",
    "\n",
    "Connect to your favorite SIEMs\n",
    "\n",
    "* ELK (Elasticsearch)\n",
    "* Splunk\n",
    "* Azure Sentinel (Workspace)\n",
    "\n",
    "Empower others in the infosec community and make your work reproducible\n",
    "* Mordor Project (@Mordor_Project)\n",
    "* Threat Hunter Playbook (@HunterPlaybook)\n"
   ]
  },
  {
   "cell_type": "markdown",
   "metadata": {
    "slideshow": {
     "slide_type": "subslide"
    }
   },
   "source": [
    "# <font color=hotpink>Connect to Elasticsearch</font> <font color=dimgray>(Elasticsearch DSL Libraries)</font>\n",
    "\n",
    "Pre-requisites:\n",
    "\n",
    "* pip install elasticsearch\n",
    "* pip install pandas\n",
    "* pip install elasticsearch-dsl\n",
    "\n",
    "Import the following libraries\n",
    "\n",
    "```\n",
    "from elasticsearch import Elasticsearch\n",
    "from elasticsearch_dsl import Search\n",
    "import pandas as pd\n",
    "```\n",
    "\n",
    "\n",
    "Reference: https://medium.com/threat-hunters-forge/jupyter-notebooks-from-sigma-rules-%EF%B8%8F-to-query-elasticsearch-31a74cc59b99"
   ]
  },
  {
   "cell_type": "markdown",
   "metadata": {
    "slideshow": {
     "slide_type": "subslide"
    }
   },
   "source": [
    "# <font color=hotpink>Connect to Elasticsearch</font> <font color=dimgray>(Elasticsearch DSL Libraries)</font>\n",
    "\n",
    "Initialize an Elasticsearch client using a specific Elasticsearch URL. Next, you can pass the client to the Search object that we will use to represent the search request in a little bit.\n",
    "\n",
    "```\n",
    "es = Elasticsearch(['http://<elasticsearch-ip>:9200'])\n",
    "searchContext = Search(using=es, index='logs-*', doc_type='doc')\n",
    "```\n",
    "\n",
    "Reference: https://medium.com/threat-hunters-forge/jupyter-notebooks-from-sigma-rules-%EF%B8%8F-to-query-elasticsearch-31a74cc59b99\n"
   ]
  },
  {
   "cell_type": "markdown",
   "metadata": {
    "slideshow": {
     "slide_type": "subslide"
    }
   },
   "source": [
    "# <font color=hotpink>Connect to Elasticsearch</font> <font color=dimgray>(Elasticsearch DSL Libraries)</font>\n",
    "\n",
    "In addition, we will need to use the query class to pass an Elasticsearch query_string . For example, what if I want to query event_id 1 events?.\n",
    "\n",
    "```\n",
    "s = searchContext.query('query_string', query='event_id:1')\n",
    "```\n",
    "\n",
    "Reference: https://medium.com/threat-hunters-forge/jupyter-notebooks-from-sigma-rules-%EF%B8%8F-to-query-elasticsearch-31a74cc59b99"
   ]
  },
  {
   "cell_type": "markdown",
   "metadata": {
    "slideshow": {
     "slide_type": "subslide"
    }
   },
   "source": [
    "# <font color=hotpink>Connect to Elasticsearch</font> <font color=dimgray>(Elasticsearch DSL Libraries)</font>\n",
    "\n",
    "Finally, you can run the query and get the results back as a DataFrame\n",
    "\n",
    "```\n",
    "if response.success():\n",
    "    df = pd.DataFrame((d.to_dict() for d in s.scan()))\n",
    "\n",
    "df\n",
    "```\n",
    "\n",
    "Reference: https://medium.com/threat-hunters-forge/jupyter-notebooks-from-sigma-rules-%EF%B8%8F-to-query-elasticsearch-31a74cc59b99"
   ]
  },
  {
   "cell_type": "markdown",
   "metadata": {
    "slideshow": {
     "slide_type": "subslide"
    }
   },
   "source": [
    "# <font color=hotpink>Connect to Elasticsearch</font> <font color=dimgray>(Elasticsearch DSL Libraries)</font>\n",
    "\n",
    "![](images/elasticsearch-dsl-query.png)\n",
    "\n",
    "Reference: https://medium.com/threat-hunters-forge/jupyter-notebooks-from-sigma-rules-%EF%B8%8F-to-query-elasticsearch-31a74cc59b99"
   ]
  },
  {
   "cell_type": "markdown",
   "metadata": {
    "slideshow": {
     "slide_type": "subslide"
    }
   },
   "source": [
    "# <font color=hotpink>Connect to Elasticsearch</font> <font color=dimgray>(HuntLib Library @DavidJBianco)</font>\n",
    "\n",
    "Pre-requisites:\n",
    "\n",
    "* pip install huntlib\n",
    "\n",
    "Import the Elastic Dataframe class and create a plaintext connection to the Elastic server, no authentication.\n",
    "\n",
    "```\n",
    "from huntlib.elastic import ElasticDF\n",
    "\n",
    "e = ElasticDF(\n",
    "    url=\"http://localhost:9200\"\n",
    ")\n",
    "```\n",
    "\n",
    "Reference: https://github.com/target/huntlib"
   ]
  },
  {
   "cell_type": "markdown",
   "metadata": {
    "slideshow": {
     "slide_type": "subslide"
    }
   },
   "source": [
    "# <font color=hotpink>Connect to Elasticsearch</font> <font color=dimgray>(HuntLib Library @DavidJBianco)</font>\n",
    "\n",
    "A more complex example, showing how to set the Elastic document type, use Python-style datetime objects to constrain the search to a certain time period, and a user-defined field against which to do the time comparisons. The result size will be limited to no more than 1500 entries.\n",
    "\n",
    "```\n",
    "df = e.search_df(\n",
    "                  lucene=\"item:5285 AND color:red\",\n",
    "                  index=\"myindex-*\",\n",
    "                  doctype=\"doc\", date_field=\"mydate\",\n",
    "                  start_time=datetime.now() - timedelta(days=8),\n",
    "                  end_time=datetime.now() - timedelta(days=6),\n",
    "                  limit=1500\n",
    ")\n",
    "```\n",
    "\n",
    "Reference: https://github.com/target/huntlib"
   ]
  },
  {
   "cell_type": "markdown",
   "metadata": {
    "slideshow": {
     "slide_type": "subslide"
    }
   },
   "source": [
    "# <font color=mediumaquamarine>Connect to Splunk</font> <font color=dimgray>(HuntLib Library @DavidJBianco)</font>\n",
    "\n",
    "The SplunkDF class search Splunk and returns the results as a Pandas DataFrame. This makes it easier to work with the search results using standard data analysis techniques. Establish a connectio to the splunk server\n",
    "\n",
    "```\n",
    "from huntlib.splunk import SplunkDF\n",
    "\n",
    "s = SplunkDF (\n",
    "    host=splunk_server,\n",
    "    username=\"myuser\",\n",
    "    password=\"mypass\"\n",
    ")\n",
    "```\n",
    "\n",
    "Reference: https://github.com/target/huntlib"
   ]
  },
  {
   "cell_type": "markdown",
   "metadata": {
    "slideshow": {
     "slide_type": "subslide"
    }
   },
   "source": [
    "# <font color=mediumaquamarine>Connect to Splunk</font> <font color=dimgray>(HuntLib Library @DavidJBianco)</font>\n",
    "\n",
    "Time bounded search using Splunk notation.\n",
    "\n",
    "```\n",
    "df = s.search_df(\n",
    "                  spl=\"search index=win_events EventCode=4688\",\n",
    "                  start_time=\"-2d@d\",\n",
    "                  end_time=\"@d\"\n",
    ")\n",
    "```\n",
    "\n",
    "Reference: https://github.com/target/huntlib"
   ]
  },
  {
   "cell_type": "markdown",
   "metadata": {
    "slideshow": {
     "slide_type": "subslide"
    }
   },
   "source": [
    "# <font color=dimgray>Dataframes?</font>\n",
    "\n",
    "* DataFrame is a 2-dimensional labeled data structure with columns of potentially different types.\n",
    "* You can think of it like a spreadsheet or SQL table\n",
    "\n",
    "![](images/dataframes.png)"
   ]
  },
  {
   "cell_type": "markdown",
   "metadata": {
    "slideshow": {
     "slide_type": "subslide"
    }
   },
   "source": [
    "# <font color=dodgerblue>Connect to Azure Sentinel</font> <font color=dimgray>(MSTICpy)</font>\n",
    "\n",
    "Import libraries"
   ]
  },
  {
   "cell_type": "code",
   "execution_count": null,
   "metadata": {},
   "outputs": [],
   "source": [
    "import os\n",
    "\n",
    "import pandas as pd\n",
    "from msticpy.nbtools.wsconfig import WorkspaceConfig\n",
    "from msticpy.data.data_providers import QueryProvider\n",
    "os.environ[\"KQLMAGIC_LOAD_MODE\"]=\"silent\""
   ]
  },
  {
   "cell_type": "markdown",
   "metadata": {
    "slideshow": {
     "slide_type": "subslide"
    }
   },
   "source": [
    "# <font color=dodgerblue>Connect to Azure Sentinel</font> <font color=dimgray>(MSTICpy)</font>\n",
    "\n",
    "Define connection string. We are going to authenticate to our demo workspace with an AppKey. Therefore, there is no need for you to pass an azure account or authenticate with your credentials! This is a great demo environment to test your notebooks!"
   ]
  },
  {
   "cell_type": "code",
   "execution_count": null,
   "metadata": {},
   "outputs": [],
   "source": [
    "connect_str = f\"loganalytics://workspace='DEMO_WORKSPACE';appkey='DEMO_KEY';alias='myworkspace'\"\n",
    "qry_prov = QueryProvider(\"LogAnalytics\")\n",
    "qry_prov.connect(connect_str)"
   ]
  },
  {
   "cell_type": "markdown",
   "metadata": {
    "slideshow": {
     "slide_type": "subslide"
    }
   },
   "source": [
    "## Native Kqlmagic interface\n",
    "See https://github.com/Microsoft/jupyter-Kqlmagic"
   ]
  },
  {
   "cell_type": "code",
   "execution_count": null,
   "metadata": {},
   "outputs": [],
   "source": [
    "%kql SecurityEvent | take 1"
   ]
  },
  {
   "cell_type": "markdown",
   "metadata": {
    "slideshow": {
     "slide_type": "subslide"
    }
   },
   "source": [
    "## MSITCPy query interface"
   ]
  },
  {
   "cell_type": "code",
   "execution_count": null,
   "metadata": {
    "slideshow": {
     "slide_type": "-"
    }
   },
   "outputs": [],
   "source": [
    "alerts_df = qry_prov.exec_query(\"\"\"\n",
    "SecurityAlert \n",
    "| take 10\n",
    "\"\"\")\n",
    "print(type(alerts_df))\n",
    "alerts_df.head(5)"
   ]
  },
  {
   "cell_type": "markdown",
   "metadata": {
    "slideshow": {
     "slide_type": "subslide"
    }
   },
   "source": [
    "### Send queries of arbitrary complexity (using `%%kql` or `msticpy`)"
   ]
  },
  {
   "cell_type": "code",
   "execution_count": null,
   "metadata": {},
   "outputs": [],
   "source": [
    "events_df = qry_prov.exec_query(\"\"\"\n",
    "SecurityEvent\n",
    "| where TimeGenerated between (ago(1d) .. now())\n",
    "| summarize EventCount=count() by EventID\n",
    "\"\"\")\n",
    "display(events_df.head(5))\n",
    "events_df.plot.bar(x=\"EventID\")"
   ]
  },
  {
   "cell_type": "markdown",
   "metadata": {
    "slideshow": {
     "slide_type": "subslide"
    }
   },
   "source": [
    "### Simple parameterization of queries"
   ]
  },
  {
   "cell_type": "code",
   "execution_count": null,
   "metadata": {},
   "outputs": [],
   "source": [
    "from datetime import datetime, timedelta\n",
    "param_query = \"\"\"\n",
    "SecurityEvent\n",
    "| where TimeGenerated between (datetime({start}) .. datetime({end}))\n",
    "| summarize EventCount=count() by EventID\n",
    "\"\"\"\n",
    "\n",
    "end = datetime.utcnow()\n",
    "start = end - timedelta(3)\n",
    "\n",
    "events_df = qry_prov.exec_query(\n",
    "    param_query.format(start=start, end=end)\n",
    ")\n",
    "\n",
    "display(events_df.head(5))\n",
    "events_df.plot.scatter(x=\"EventID\", y=\"EventCount\", figsize=(15, 4), s=50, c=\"EventCount\", colormap=\"viridis\")"
   ]
  },
  {
   "cell_type": "markdown",
   "metadata": {
    "slideshow": {
     "slide_type": "slide"
    }
   },
   "source": [
    "# <font color=dimgray>Building an Infosec Community around Jupyter Notebooks</font>\n",
    "\n",
    "How can I expedite collaboration in the Infosec community and allow anyone in the 🌎 to use the notebooks I build and also the datasets to reproduce my research?\n",
    "\n",
    "* Threat Hunter Playbook (@HunterPlaybook)\n",
    "  * https://threathunterplaybook.com/introduction\n",
    "* Mordor Project (@Mordor_Project)\n",
    "  * https://mordordatasets.com/introduction"
   ]
  },
  {
   "cell_type": "markdown",
   "metadata": {
    "slideshow": {
     "slide_type": "subslide"
    }
   },
   "source": [
    "# <font color=dimgray>Enter Jupyter Book</font>\n",
    "\n",
    "Jupyter Book is an open source project for building beautiful, publication-quality books and documents from computational material.\n",
    "\n",
    "![](images/jupyter-book-jupyterthon.png)\n",
    "\n"
   ]
  },
  {
   "cell_type": "markdown",
   "metadata": {
    "slideshow": {
     "slide_type": "slide"
    }
   },
   "source": [
    "# <font color=dimgray>Resources</font>\n",
    "\n",
    "* https://the-turing-way.netlify.app/introduction/introduction.html\n",
    "* https://gist.github.com/fperez/1579699 \n",
    "* https://mail.python.org/pipermail/python-list/2001-December/093408.html \n",
    "* https://ipython.org/news.html#ipython-0-12 \n",
    "* https://speakerdeck.com/fperez/project-jupyter \n",
    "* https://blog.jupyter.org/rendering-notebooks-on-github-f7ac8736d686 \n",
    "* https://blog.jupyter.org/binder-2-0-a-tech-guide-2017-fd40515a3a84 \n",
    "* https://elifesciences.org/labs/a7d53a88/toward-publishing-reproducible-computation-with-binder\n",
    "* https://mordordatasets.com/introduction\n",
    "* https://threathunterplaybook.com/introduction\n",
    "* https://github.com/target/huntlib\n",
    "* https://elasticsearch-dsl.readthedocs.io/en/latest/\n",
    "* https://jupyterbook.org/intro.html"
   ]
  },
  {
   "cell_type": "code",
   "execution_count": null,
   "metadata": {},
   "outputs": [],
   "source": []
  }
 ],
 "metadata": {
  "celltoolbar": "Slideshow",
  "kernelspec": {
   "display_name": "Python 3",
   "language": "python",
   "name": "python3"
  },
  "language_info": {
   "codemirror_mode": {
    "name": "ipython",
    "version": 3
   },
   "file_extension": ".py",
   "mimetype": "text/x-python",
   "name": "python",
   "nbconvert_exporter": "python",
   "pygments_lexer": "ipython3",
   "version": "3.7.3"
  },
  "rise": {
   "autolaunch": true,
   "enable_chalkboard": true,
   "scroll": true
  }
 },
 "nbformat": 4,
 "nbformat_minor": 2
}