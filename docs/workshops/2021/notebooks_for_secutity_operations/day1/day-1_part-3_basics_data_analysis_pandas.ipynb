{
 "cells": [
  {
   "cell_type": "markdown",
   "metadata": {},
   "source": [
    "# Day 1 (Part 3): Basics of Data Analysis with Pandas\n",
    "\n",
    "## I) Representing data in an Organized way: Dataframe\n",
    "\n",
    "### **a. Storing data in Python objects**\n",
    "\n",
    "- Importing libraries:"
   ]
  },
  {
   "cell_type": "markdown",
   "metadata": {},
   "source": [
    "### **b. Creating our first dataframe**\n",
    "\n",
    "- Importing libraries:"
   ]
  },
  {
   "cell_type": "markdown",
   "metadata": {},
   "source": [
    "### **c. Data analysis techniques**\n",
    "\n",
    "- **Selection**"
   ]
  },
  {
   "cell_type": "markdown",
   "metadata": {},
   "source": [
    "- **Filtering**"
   ]
  },
  {
   "cell_type": "markdown",
   "metadata": {},
   "source": []
  }
 ],
 "metadata": {
  "interpreter": {
   "hash": "1f3badd15024c32157114ba2220d2563bd5c52546c58b5347587a8ed5081412b"
  },
  "kernelspec": {
   "display_name": "Python 3.9.6 64-bit",
   "name": "python3"
  },
  "language_info": {
   "name": "python",
   "version": ""
  },
  "orig_nbformat": 4
 },
 "nbformat": 4,
 "nbformat_minor": 2
}