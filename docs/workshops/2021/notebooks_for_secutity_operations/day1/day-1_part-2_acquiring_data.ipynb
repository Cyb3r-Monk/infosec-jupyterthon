{
 "cells": [
  {
   "cell_type": "markdown",
   "metadata": {},
   "source": [
    "# Day 1 (Part 2): Acquiring Data\n",
    "\n",
    "## I) Connecting to Databases\n",
    "\n",
    "### **a. Elasticsearch**\n",
    "\n",
    "- Importing libraries:"
   ]
  },
  {
   "cell_type": "code",
   "execution_count": 1,
   "metadata": {},
   "outputs": [],
   "source": [
    "# Elasticsearch connector\n",
    "from elasticsearch import Elasticsearch\n",
    "from elasticsearch_dsl import Search\n",
    "# Data manipulation\n",
    "import pandas as pd"
   ]
  },
  {
   "cell_type": "markdown",
   "metadata": {},
   "source": [
    "- Initializing an Elasticsearch client:\n",
    "\n",
    "    Initialize an Elasticsearch client using a specific Elasticsearch URL. Next, you can pass the client to the Search object that we will use to represent the search request in a little bit."
   ]
  },
  {
   "cell_type": "code",
   "execution_count": null,
   "metadata": {},
   "outputs": [],
   "source": [
    "es = Elasticsearch(['http://<elasticsearch-ip>:9200'])\n",
    "searchContext = Search(using=es, index='logs-*', doc_type='doc')"
   ]
  },
  {
   "cell_type": "markdown",
   "metadata": {},
   "source": [
    "- Setting the query search context:\n",
    "\n",
    "    In addition, we will need to use the query class to pass an Elasticsearch query_string . For example, what if I want to query event_id 1 events?."
   ]
  },
  {
   "cell_type": "code",
   "execution_count": null,
   "metadata": {},
   "outputs": [],
   "source": [
    "s = searchContext.query('query_string', query='event_id:1')"
   ]
  },
  {
   "cell_type": "markdown",
   "metadata": {},
   "source": [
    "- Running query & Exploring response:\n",
    "\n",
    "    Finally, you can run the query and get the results back as a DataFrame."
   ]
  },
  {
   "cell_type": "code",
   "execution_count": null,
   "metadata": {},
   "outputs": [],
   "source": [
    "response = s.execute()\n",
    "\n",
    "if response.success():\n",
    "    df = pd.DataFrame((d.to_dict() for d in s.scan()))\n",
    "\n",
    "df"
   ]
  },
  {
   "cell_type": "markdown",
   "metadata": {},
   "source": [
    "### **b. Splunk**\n",
    "\n",
    "- Importing libraries:"
   ]
  },
  {
   "cell_type": "markdown",
   "metadata": {},
   "source": [
    "### **c. Sqlite**\n",
    "\n",
    "- Importing libraries:"
   ]
  },
  {
   "cell_type": "markdown",
   "metadata": {},
   "source": [
    "### **d. Log analytics workspace**\n",
    "\n",
    "- Importing libraries:"
   ]
  },
  {
   "cell_type": "markdown",
   "metadata": {},
   "source": [
    "### **e. M365 advanced hunting APIs**\n",
    "\n",
    "- Importing libraries:"
   ]
  },
  {
   "cell_type": "markdown",
   "metadata": {},
   "source": [
    "### **f. MSTICPy**\n",
    "\n",
    "- Importing libraries:"
   ]
  },
  {
   "cell_type": "markdown",
   "metadata": {},
   "source": [
    "## II) Collecting Datasets\n",
    "\n",
    "### **a. Reading Pickle files with Pandas**\n",
    "\n",
    "- Importing libraries."
   ]
  },
  {
   "cell_type": "code",
   "execution_count": 8,
   "metadata": {},
   "outputs": [],
   "source": [
    "# Data manipulation\n",
    "import pandas as pd"
   ]
  },
  {
   "cell_type": "markdown",
   "metadata": {},
   "source": [
    "- Reading Pickle file using [read_pickle](https://pandas.pydata.org/pandas-docs/stable/reference/api/pandas.read_pickle.html) Pandas method."
   ]
  },
  {
   "cell_type": "code",
   "execution_count": 10,
   "metadata": {},
   "outputs": [],
   "source": [
    "logons_full_df = pd.read_pickle(\"../data/host_logons.pkl\")"
   ]
  },
  {
   "cell_type": "markdown",
   "metadata": {},
   "source": [
    "- Exploring pickle file."
   ]
  },
  {
   "cell_type": "code",
   "execution_count": 11,
   "metadata": {},
   "outputs": [
    {
     "data": {
      "text/html": [
       "<div>\n",
       "<style scoped>\n",
       "    .dataframe tbody tr th:only-of-type {\n",
       "        vertical-align: middle;\n",
       "    }\n",
       "\n",
       "    .dataframe tbody tr th {\n",
       "        vertical-align: top;\n",
       "    }\n",
       "\n",
       "    .dataframe thead th {\n",
       "        text-align: right;\n",
       "    }\n",
       "</style>\n",
       "<table border=\"1\" class=\"dataframe\">\n",
       "  <thead>\n",
       "    <tr style=\"text-align: right;\">\n",
       "      <th></th>\n",
       "      <th>TenantId</th>\n",
       "      <th>Account</th>\n",
       "      <th>EventID</th>\n",
       "      <th>TimeGenerated</th>\n",
       "      <th>SourceComputerId</th>\n",
       "      <th>Computer</th>\n",
       "      <th>SubjectUserName</th>\n",
       "      <th>SubjectDomainName</th>\n",
       "      <th>SubjectUserSid</th>\n",
       "      <th>TargetUserName</th>\n",
       "      <th>TargetDomainName</th>\n",
       "      <th>TargetUserSid</th>\n",
       "      <th>TargetLogonId</th>\n",
       "      <th>LogonProcessName</th>\n",
       "      <th>LogonType</th>\n",
       "      <th>AuthenticationPackageName</th>\n",
       "      <th>Status</th>\n",
       "      <th>IpAddress</th>\n",
       "      <th>WorkstationName</th>\n",
       "      <th>TimeCreatedUtc</th>\n",
       "    </tr>\n",
       "  </thead>\n",
       "  <tbody>\n",
       "    <tr>\n",
       "      <th>0</th>\n",
       "      <td>52b1ab41-869e-4138-9e40-2a4457f09bf0</td>\n",
       "      <td>NT AUTHORITY\\SYSTEM</td>\n",
       "      <td>4624</td>\n",
       "      <td>2019-02-12 04:56:34.307</td>\n",
       "      <td>263a788b-6526-4cdc-8ed9-d79402fe4aa0</td>\n",
       "      <td>MSTICAlertsWin1</td>\n",
       "      <td>MSTICAlertsWin1$</td>\n",
       "      <td>WORKGROUP</td>\n",
       "      <td>S-1-5-18</td>\n",
       "      <td>SYSTEM</td>\n",
       "      <td>NT AUTHORITY</td>\n",
       "      <td>S-1-5-18</td>\n",
       "      <td>0x3e7</td>\n",
       "      <td>Advapi</td>\n",
       "      <td>5</td>\n",
       "      <td>Negotiate</td>\n",
       "      <td></td>\n",
       "      <td>-</td>\n",
       "      <td>-</td>\n",
       "      <td>2019-02-12 04:56:34.307</td>\n",
       "    </tr>\n",
       "    <tr>\n",
       "      <th>1</th>\n",
       "      <td>52b1ab41-869e-4138-9e40-2a4457f09bf0</td>\n",
       "      <td>MSTICAlertsWin1\\MSTICAdmin</td>\n",
       "      <td>4624</td>\n",
       "      <td>2019-02-12 04:37:25.340</td>\n",
       "      <td>263a788b-6526-4cdc-8ed9-d79402fe4aa0</td>\n",
       "      <td>MSTICAlertsWin1</td>\n",
       "      <td>-</td>\n",
       "      <td>-</td>\n",
       "      <td>S-1-0-0</td>\n",
       "      <td>MSTICAdmin</td>\n",
       "      <td>MSTICAlertsWin1</td>\n",
       "      <td>S-1-5-21-996632719-2361334927-4038480536-500</td>\n",
       "      <td>0xc90e957</td>\n",
       "      <td>NtLmSsp</td>\n",
       "      <td>3</td>\n",
       "      <td>NTLM</td>\n",
       "      <td></td>\n",
       "      <td>131.107.147.209</td>\n",
       "      <td>IANHELLE-DEV17</td>\n",
       "      <td>2019-02-12 04:37:25.340</td>\n",
       "    </tr>\n",
       "    <tr>\n",
       "      <th>2</th>\n",
       "      <td>52b1ab41-869e-4138-9e40-2a4457f09bf0</td>\n",
       "      <td>MSTICAlertsWin1\\MSTICAdmin</td>\n",
       "      <td>4624</td>\n",
       "      <td>2019-02-12 04:37:27.997</td>\n",
       "      <td>263a788b-6526-4cdc-8ed9-d79402fe4aa0</td>\n",
       "      <td>MSTICAlertsWin1</td>\n",
       "      <td>-</td>\n",
       "      <td>-</td>\n",
       "      <td>S-1-0-0</td>\n",
       "      <td>MSTICAdmin</td>\n",
       "      <td>MSTICAlertsWin1</td>\n",
       "      <td>S-1-5-21-996632719-2361334927-4038480536-500</td>\n",
       "      <td>0xc90ea44</td>\n",
       "      <td>NtLmSsp</td>\n",
       "      <td>3</td>\n",
       "      <td>NTLM</td>\n",
       "      <td></td>\n",
       "      <td>131.107.147.209</td>\n",
       "      <td>IANHELLE-DEV17</td>\n",
       "      <td>2019-02-12 04:37:27.997</td>\n",
       "    </tr>\n",
       "    <tr>\n",
       "      <th>3</th>\n",
       "      <td>52b1ab41-869e-4138-9e40-2a4457f09bf0</td>\n",
       "      <td>MSTICAlertsWin1\\MSTICAdmin</td>\n",
       "      <td>4624</td>\n",
       "      <td>2019-02-12 04:38:16.550</td>\n",
       "      <td>263a788b-6526-4cdc-8ed9-d79402fe4aa0</td>\n",
       "      <td>MSTICAlertsWin1</td>\n",
       "      <td>-</td>\n",
       "      <td>-</td>\n",
       "      <td>S-1-0-0</td>\n",
       "      <td>MSTICAdmin</td>\n",
       "      <td>MSTICAlertsWin1</td>\n",
       "      <td>S-1-5-21-996632719-2361334927-4038480536-500</td>\n",
       "      <td>0xc912d62</td>\n",
       "      <td>NtLmSsp</td>\n",
       "      <td>3</td>\n",
       "      <td>NTLM</td>\n",
       "      <td></td>\n",
       "      <td>131.107.147.209</td>\n",
       "      <td>IANHELLE-DEV17</td>\n",
       "      <td>2019-02-12 04:38:16.550</td>\n",
       "    </tr>\n",
       "    <tr>\n",
       "      <th>4</th>\n",
       "      <td>52b1ab41-869e-4138-9e40-2a4457f09bf0</td>\n",
       "      <td>MSTICAlertsWin1\\MSTICAdmin</td>\n",
       "      <td>4624</td>\n",
       "      <td>2019-02-12 04:38:21.370</td>\n",
       "      <td>263a788b-6526-4cdc-8ed9-d79402fe4aa0</td>\n",
       "      <td>MSTICAlertsWin1</td>\n",
       "      <td>-</td>\n",
       "      <td>-</td>\n",
       "      <td>S-1-0-0</td>\n",
       "      <td>MSTICAdmin</td>\n",
       "      <td>MSTICAlertsWin1</td>\n",
       "      <td>S-1-5-21-996632719-2361334927-4038480536-500</td>\n",
       "      <td>0xc913737</td>\n",
       "      <td>NtLmSsp</td>\n",
       "      <td>3</td>\n",
       "      <td>NTLM</td>\n",
       "      <td></td>\n",
       "      <td>131.107.147.209</td>\n",
       "      <td>IANHELLE-DEV17</td>\n",
       "      <td>2019-02-12 04:38:21.370</td>\n",
       "    </tr>\n",
       "  </tbody>\n",
       "</table>\n",
       "</div>"
      ],
      "text/plain": [
       "                               TenantId                     Account  EventID  \\\n",
       "0  52b1ab41-869e-4138-9e40-2a4457f09bf0         NT AUTHORITY\\SYSTEM     4624   \n",
       "1  52b1ab41-869e-4138-9e40-2a4457f09bf0  MSTICAlertsWin1\\MSTICAdmin     4624   \n",
       "2  52b1ab41-869e-4138-9e40-2a4457f09bf0  MSTICAlertsWin1\\MSTICAdmin     4624   \n",
       "3  52b1ab41-869e-4138-9e40-2a4457f09bf0  MSTICAlertsWin1\\MSTICAdmin     4624   \n",
       "4  52b1ab41-869e-4138-9e40-2a4457f09bf0  MSTICAlertsWin1\\MSTICAdmin     4624   \n",
       "\n",
       "            TimeGenerated                      SourceComputerId  \\\n",
       "0 2019-02-12 04:56:34.307  263a788b-6526-4cdc-8ed9-d79402fe4aa0   \n",
       "1 2019-02-12 04:37:25.340  263a788b-6526-4cdc-8ed9-d79402fe4aa0   \n",
       "2 2019-02-12 04:37:27.997  263a788b-6526-4cdc-8ed9-d79402fe4aa0   \n",
       "3 2019-02-12 04:38:16.550  263a788b-6526-4cdc-8ed9-d79402fe4aa0   \n",
       "4 2019-02-12 04:38:21.370  263a788b-6526-4cdc-8ed9-d79402fe4aa0   \n",
       "\n",
       "          Computer   SubjectUserName SubjectDomainName SubjectUserSid  \\\n",
       "0  MSTICAlertsWin1  MSTICAlertsWin1$         WORKGROUP       S-1-5-18   \n",
       "1  MSTICAlertsWin1                 -                 -        S-1-0-0   \n",
       "2  MSTICAlertsWin1                 -                 -        S-1-0-0   \n",
       "3  MSTICAlertsWin1                 -                 -        S-1-0-0   \n",
       "4  MSTICAlertsWin1                 -                 -        S-1-0-0   \n",
       "\n",
       "  TargetUserName TargetDomainName  \\\n",
       "0         SYSTEM     NT AUTHORITY   \n",
       "1     MSTICAdmin  MSTICAlertsWin1   \n",
       "2     MSTICAdmin  MSTICAlertsWin1   \n",
       "3     MSTICAdmin  MSTICAlertsWin1   \n",
       "4     MSTICAdmin  MSTICAlertsWin1   \n",
       "\n",
       "                                  TargetUserSid TargetLogonId  \\\n",
       "0                                      S-1-5-18         0x3e7   \n",
       "1  S-1-5-21-996632719-2361334927-4038480536-500     0xc90e957   \n",
       "2  S-1-5-21-996632719-2361334927-4038480536-500     0xc90ea44   \n",
       "3  S-1-5-21-996632719-2361334927-4038480536-500     0xc912d62   \n",
       "4  S-1-5-21-996632719-2361334927-4038480536-500     0xc913737   \n",
       "\n",
       "  LogonProcessName  LogonType AuthenticationPackageName Status  \\\n",
       "0         Advapi            5                 Negotiate          \n",
       "1         NtLmSsp           3                      NTLM          \n",
       "2         NtLmSsp           3                      NTLM          \n",
       "3         NtLmSsp           3                      NTLM          \n",
       "4         NtLmSsp           3                      NTLM          \n",
       "\n",
       "         IpAddress WorkstationName          TimeCreatedUtc  \n",
       "0                -               - 2019-02-12 04:56:34.307  \n",
       "1  131.107.147.209  IANHELLE-DEV17 2019-02-12 04:37:25.340  \n",
       "2  131.107.147.209  IANHELLE-DEV17 2019-02-12 04:37:27.997  \n",
       "3  131.107.147.209  IANHELLE-DEV17 2019-02-12 04:38:16.550  \n",
       "4  131.107.147.209  IANHELLE-DEV17 2019-02-12 04:38:21.370  "
      ]
     },
     "execution_count": 11,
     "metadata": {},
     "output_type": "execute_result"
    }
   ],
   "source": [
    "logons_full_df.head()"
   ]
  },
  {
   "cell_type": "markdown",
   "metadata": {},
   "source": [
    "### **b. Reading OTR-SecurityDatasets**\n",
    "\n",
    "- Importing libraries."
   ]
  },
  {
   "cell_type": "code",
   "execution_count": 12,
   "metadata": {},
   "outputs": [],
   "source": [
    "# Generate HTTP request\n",
    "import requests\n",
    "# Zip file object manipulation\n",
    "from zipfile import ZipFile\n",
    "# Byte data manipulations\n",
    "from io import BytesIO\n",
    "# Read JSON file\n",
    "from pandas.io import json"
   ]
  },
  {
   "cell_type": "markdown",
   "metadata": {},
   "source": [
    "- Making an HTTP request using [get](https://docs.python-requests.org/en/latest/user/quickstart/#make-a-request) method."
   ]
  },
  {
   "cell_type": "code",
   "execution_count": 15,
   "metadata": {},
   "outputs": [],
   "source": [
    "url = 'https://raw.githubusercontent.com/OTRF/Security-Datasets/master/datasets/atomic/windows/discovery/host/empire_shell_net_localgroup_administrators.zip'\n",
    "zipFileRequest = requests.get(url)"
   ]
  },
  {
   "cell_type": "markdown",
   "metadata": {},
   "source": [
    "- Opening zip file after reading request content (In [bytes](https://docs.python.org/3/library/io.html#binary-i-o) format) using the [ZipFile](https://docs.python.org/3/library/zipfile.html#zipfile-objects) class."
   ]
  },
  {
   "cell_type": "code",
   "execution_count": 16,
   "metadata": {},
   "outputs": [],
   "source": [
    "zipFile = ZipFile(BytesIO(zipFileRequest.content))"
   ]
  },
  {
   "cell_type": "markdown",
   "metadata": {},
   "source": [
    "- Extracting first file within the compressed folder using the [extract](https://docs.python.org/3/library/zipfile.html#zipfile.ZipFile.extract) method. This method returns the normalized path to the JSON file."
   ]
  },
  {
   "cell_type": "code",
   "execution_count": 19,
   "metadata": {},
   "outputs": [
    {
     "name": "stdout",
     "output_type": "stream",
     "text": [
      "../data/empire_shell_net_localgroup_administrators_2020-09-21191843.json\n"
     ]
    }
   ],
   "source": [
    "datasetJSONPath = zipFile.extract(zipFile.namelist()[0], path = '../data')\n",
    "\n",
    "print(datasetJSONPath)"
   ]
  },
  {
   "cell_type": "markdown",
   "metadata": {},
   "source": [
    "- Reading JSON file using the [read_json](https://pandas.pydata.org/docs/reference/api/pandas.io.json.read_json.html) method."
   ]
  },
  {
   "cell_type": "code",
   "execution_count": 21,
   "metadata": {},
   "outputs": [],
   "source": [
    "dataset = json.read_json(path_or_buf = datasetJSONPath, lines=True)"
   ]
  },
  {
   "cell_type": "markdown",
   "metadata": {},
   "source": [
    "- Exploring dataset using the [head](https://pandas.pydata.org/pandas-docs/stable/reference/api/pandas.DataFrame.head.html) method."
   ]
  },
  {
   "cell_type": "code",
   "execution_count": 22,
   "metadata": {},
   "outputs": [
    {
     "data": {
      "text/html": [
       "<div>\n",
       "<style scoped>\n",
       "    .dataframe tbody tr th:only-of-type {\n",
       "        vertical-align: middle;\n",
       "    }\n",
       "\n",
       "    .dataframe tbody tr th {\n",
       "        vertical-align: top;\n",
       "    }\n",
       "\n",
       "    .dataframe thead th {\n",
       "        text-align: right;\n",
       "    }\n",
       "</style>\n",
       "<table border=\"1\" class=\"dataframe\">\n",
       "  <thead>\n",
       "    <tr style=\"text-align: right;\">\n",
       "      <th></th>\n",
       "      <th>Keywords</th>\n",
       "      <th>SeverityValue</th>\n",
       "      <th>TargetObject</th>\n",
       "      <th>EventTypeOrignal</th>\n",
       "      <th>EventID</th>\n",
       "      <th>ProviderGuid</th>\n",
       "      <th>ExecutionProcessID</th>\n",
       "      <th>host</th>\n",
       "      <th>Channel</th>\n",
       "      <th>UserID</th>\n",
       "      <th>...</th>\n",
       "      <th>SourceIsIpv6</th>\n",
       "      <th>DestinationPortName</th>\n",
       "      <th>DestinationHostname</th>\n",
       "      <th>Service</th>\n",
       "      <th>Details</th>\n",
       "      <th>ShareName</th>\n",
       "      <th>EnabledPrivilegeList</th>\n",
       "      <th>DisabledPrivilegeList</th>\n",
       "      <th>ShareLocalPath</th>\n",
       "      <th>RelativeTargetName</th>\n",
       "    </tr>\n",
       "  </thead>\n",
       "  <tbody>\n",
       "    <tr>\n",
       "      <th>0</th>\n",
       "      <td>-9223372036854775808</td>\n",
       "      <td>2</td>\n",
       "      <td>HKU\\S-1-5-21-4228717743-1032521047-1810997296-...</td>\n",
       "      <td>INFO</td>\n",
       "      <td>12</td>\n",
       "      <td>{5770385F-C22A-43E0-BF4C-06F5698FFBD9}</td>\n",
       "      <td>3172</td>\n",
       "      <td>wec.internal.cloudapp.net</td>\n",
       "      <td>Microsoft-Windows-Sysmon/Operational</td>\n",
       "      <td>S-1-5-18</td>\n",
       "      <td>...</td>\n",
       "      <td>NaN</td>\n",
       "      <td>NaN</td>\n",
       "      <td>NaN</td>\n",
       "      <td>NaN</td>\n",
       "      <td>NaN</td>\n",
       "      <td>NaN</td>\n",
       "      <td>NaN</td>\n",
       "      <td>NaN</td>\n",
       "      <td>NaN</td>\n",
       "      <td>NaN</td>\n",
       "    </tr>\n",
       "  </tbody>\n",
       "</table>\n",
       "<p>1 rows × 155 columns</p>\n",
       "</div>"
      ],
      "text/plain": [
       "              Keywords  SeverityValue  \\\n",
       "0 -9223372036854775808              2   \n",
       "\n",
       "                                        TargetObject EventTypeOrignal  \\\n",
       "0  HKU\\S-1-5-21-4228717743-1032521047-1810997296-...             INFO   \n",
       "\n",
       "   EventID                            ProviderGuid  ExecutionProcessID  \\\n",
       "0       12  {5770385F-C22A-43E0-BF4C-06F5698FFBD9}                3172   \n",
       "\n",
       "                        host                               Channel    UserID  \\\n",
       "0  wec.internal.cloudapp.net  Microsoft-Windows-Sysmon/Operational  S-1-5-18   \n",
       "\n",
       "   ... SourceIsIpv6  DestinationPortName DestinationHostname Service Details  \\\n",
       "0  ...          NaN                  NaN                 NaN     NaN     NaN   \n",
       "\n",
       "  ShareName EnabledPrivilegeList DisabledPrivilegeList  ShareLocalPath  \\\n",
       "0       NaN                  NaN                   NaN             NaN   \n",
       "\n",
       "  RelativeTargetName  \n",
       "0                NaN  \n",
       "\n",
       "[1 rows x 155 columns]"
      ]
     },
     "execution_count": 22,
     "metadata": {},
     "output_type": "execute_result"
    }
   ],
   "source": [
    "dataset.head(n=1)"
   ]
  },
  {
   "cell_type": "markdown",
   "metadata": {},
   "source": [
    "### **c. MSTICPy Security Datasets**\n",
    "\n",
    "- Importing libraries."
   ]
  },
  {
   "cell_type": "markdown",
   "metadata": {},
   "source": []
  }
 ],
 "metadata": {
  "interpreter": {
   "hash": "1f3badd15024c32157114ba2220d2563bd5c52546c58b5347587a8ed5081412b"
  },
  "kernelspec": {
   "display_name": "Python 3.9.6 64-bit",
   "name": "python3"
  },
  "language_info": {
   "codemirror_mode": {
    "name": "ipython",
    "version": 3
   },
   "file_extension": ".py",
   "mimetype": "text/x-python",
   "name": "python",
   "nbconvert_exporter": "python",
   "pygments_lexer": "ipython3",
   "version": "3.9.6"
  },
  "orig_nbformat": 4
 },
 "nbformat": 4,
 "nbformat_minor": 2
}