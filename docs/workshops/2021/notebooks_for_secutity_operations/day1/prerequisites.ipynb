{
 "cells": [
  {
   "cell_type": "markdown",
   "metadata": {},
   "source": [
    "# Pre-Requisites"
   ]
  },
  {
   "cell_type": "markdown",
   "metadata": {},
   "source": [
    "## a) Python Packages Installation\n",
    "\n",
    "In order to complete all the activities for this workshop, you need to install the folllowing packages:"
   ]
  },
  {
   "cell_type": "code",
   "execution_count": null,
   "metadata": {},
   "outputs": [],
   "source": [
    "# Data manipulation\n",
    "!pip install pandas\n",
    "\n",
    "# Elasticsearch connector\n",
    "!pip install elasticsearch\n",
    "!pip install elasticsearch_dsl\n",
    "\n",
    "# Threat hunting data analysis operations\n",
    "!pip install huntlib\n",
    "\n",
    "# Generate HTTP requests\n",
    "!pip install requests\n",
    "\n",
    "# Zip file objects manipulation\n",
    "!pip install zipfile\n",
    "\n",
    "# Byte data manipulation\n",
    "!pip install io"
   ]
  }
 ],
 "metadata": {
  "interpreter": {
   "hash": "1f3badd15024c32157114ba2220d2563bd5c52546c58b5347587a8ed5081412b"
  },
  "kernelspec": {
   "display_name": "Python 3.9.6 64-bit",
   "name": "python3"
  },
  "language_info": {
   "codemirror_mode": {
    "name": "ipython",
    "version": 3
   },
   "file_extension": ".py",
   "mimetype": "text/x-python",
   "name": "python",
   "nbconvert_exporter": "python",
   "pygments_lexer": "ipython3",
   "version": "3.9.6"
  },
  "orig_nbformat": 4
 },
 "nbformat": 4,
 "nbformat_minor": 2
}