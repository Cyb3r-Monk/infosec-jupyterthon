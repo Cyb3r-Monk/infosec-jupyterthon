{
 "cells": [
  {
   "cell_type": "markdown",
   "metadata": {},
   "source": [
    "## InfoSec Jupyterthon Day 2\n",
    "\n",
    "---\n",
    "\n",
    "# MSTICPy - CyberSec Notebook Tools\n",
    "\n",
    "Contents\n",
    "- The basics [Pete] \n",
    "- MSTICPy Widgets [Pete]\n",
    "- Query providers revisited [Ian, Pete]\n",
    "- Threat intelligence [Ian, Ashwin] \n",
    "- Other enrichment\n",
    "- Pivot functions\n",
    "- Query customization\n",
    "- Notebooklets - notebook macros\n",
    "- VirusTotal Detonation browsing - Preview Feature\n",
    "- MSTICPy Hack month\n"
   ]
  },
  {
   "cell_type": "markdown",
   "metadata": {},
   "source": [
    "---\n",
    "# Basics - installing and configuring\n",
    "\n",
    "## Description\n",
    "\n",
    "## Examples of use\n"
   ]
  },
  {
   "cell_type": "markdown",
   "metadata": {},
   "source": [
    "## Installing\n",
    "\n",
    "| Extra      | Functionality \n",
    "|------------|-------------------------------------------------------------|\n",
    "| --none--   | Most functionality (approx 75%) Kqlmagic Jupyter basic\n",
    "| keyvault   | Key Vault and keyring storage of settings secrets\n",
    "| azure      | Azure API data retrieval, Azure storage APIs, Sentinel APIs \n",
    "| kql        | Kqlmagic Jupyter extended functionality\n",
    "| azsentinel | Combination of core install + \"azure\", \"keyvault\", \"kql\"\n",
    "| ml         | Timeseries analysis, Event clustering, Outlier analysis\n",
    "| splunk     | Splunk data queries\n",
    "| vt3        | VirusTotal V3 graph API\n",
    "| riskiq     | RiskIQ Illuminate threat intel provider & pivot functions\n",
    "| all        | Includes all of above packages\n",
    "| dev        | Development tools plus \"base\"\n",
    "| test       | \"dev\" plus \"all\"\n",
    "\n"
   ]
  },
  {
   "cell_type": "code",
   "execution_count": null,
   "metadata": {},
   "outputs": [],
   "source": [
    "%pip install msticpy"
   ]
  },
  {
   "cell_type": "markdown",
   "metadata": {},
   "source": [
    "\n",
    "## Configuration\n"
   ]
  },
  {
   "cell_type": "code",
   "execution_count": 1,
   "metadata": {},
   "outputs": [
    {
     "data": {
      "text/html": [
       "<hr><h4>Starting Notebook initialization...</h4> <br>"
      ],
      "text/plain": [
       "<IPython.core.display.HTML object>"
      ]
     },
     "metadata": {},
     "output_type": "display_data"
    },
    {
     "data": {
      "text/html": [
       "msticpy version installed: 1.4.5 latest published: 1.4.5<br>Latest version is installed.<br> <br>"
      ],
      "text/plain": [
       "<IPython.core.display.HTML object>"
      ]
     },
     "metadata": {},
     "output_type": "display_data"
    },
    {
     "data": {
      "text/html": [
       "Processing imports.... <br>"
      ],
      "text/plain": [
       "<IPython.core.display.HTML object>"
      ]
     },
     "metadata": {},
     "output_type": "display_data"
    },
    {
     "data": {
      "text/html": [
       "Imported: pd (pandas), IPython.get_ipython, IPython.display.display, IPython.display.HTML, IPython.display.Markdown, widgets (ipywidgets), pathlib.Path, plt (matplotlib.pyplot), matplotlib.MatplotlibDeprecationWarning, sns (seaborn), np (numpy), msticpy, msticpy.data.QueryProvider, msticpy.nbtools.foliummap.FoliumMap, msticpy.common.utility.md, msticpy.common.utility.md_warn, msticpy.common.wsconfig.WorkspaceConfig, msticpy.datamodel.pivot.Pivot, msticpy.datamodel.entities, msticpy.vis.mp_pandas_plot <br>"
      ],
      "text/plain": [
       "<IPython.core.display.HTML object>"
      ]
     },
     "metadata": {},
     "output_type": "display_data"
    },
    {
     "data": {
      "text/html": [
       "Checking configuration.... <br>"
      ],
      "text/plain": [
       "<IPython.core.display.HTML object>"
      ]
     },
     "metadata": {},
     "output_type": "display_data"
    },
    {
     "ename": "UnboundLocalError",
     "evalue": "local variable 'errs' referenced before assignment",
     "output_type": "error",
     "traceback": [
      "\u001b[1;31m---------------------------------------------------------------------------\u001b[0m",
      "\u001b[1;31mTypeError\u001b[0m                                 Traceback (most recent call last)",
      "\u001b[1;32me:\\src\\microsoft\\msticpy\\msticpy\\nbtools\\nbinit.py\u001b[0m in \u001b[0;36m_get_or_create_config\u001b[1;34m()\u001b[0m\n\u001b[0;32m    492\u001b[0m             \u001b[1;32mwith\u001b[0m \u001b[0mredirect_stdout\u001b[0m\u001b[1;33m(\u001b[0m\u001b[0mstd_out_cap\u001b[0m\u001b[1;33m)\u001b[0m\u001b[1;33m:\u001b[0m\u001b[1;33m\u001b[0m\u001b[1;33m\u001b[0m\u001b[0m\n\u001b[1;32m--> 493\u001b[1;33m                 \u001b[0merrs\u001b[0m\u001b[1;33m,\u001b[0m \u001b[0m_\u001b[0m \u001b[1;33m=\u001b[0m \u001b[0mvalidate_config\u001b[0m\u001b[1;33m(\u001b[0m\u001b[0mconfig_file\u001b[0m\u001b[1;33m=\u001b[0m\u001b[0mmp_path\u001b[0m\u001b[1;33m)\u001b[0m\u001b[1;33m\u001b[0m\u001b[1;33m\u001b[0m\u001b[0m\n\u001b[0m\u001b[0;32m    494\u001b[0m             \u001b[1;32mif\u001b[0m \u001b[0merrs\u001b[0m\u001b[1;33m:\u001b[0m\u001b[1;33m\u001b[0m\u001b[1;33m\u001b[0m\u001b[0m\n",
      "\u001b[1;32me:\\src\\microsoft\\msticpy\\msticpy\\common\\pkg_config.py\u001b[0m in \u001b[0;36mvalidate_config\u001b[1;34m(mp_config, config_file)\u001b[0m\n\u001b[0;32m    285\u001b[0m             \u001b[0msection\u001b[0m\u001b[1;33m=\u001b[0m\u001b[0mconf_section\u001b[0m\u001b[1;33m,\u001b[0m\u001b[1;33m\u001b[0m\u001b[1;33m\u001b[0m\u001b[0m\n\u001b[1;32m--> 286\u001b[1;33m             \u001b[0mkey_provs\u001b[0m\u001b[1;33m=\u001b[0m\u001b[0mauth_key_providers\u001b[0m\u001b[1;33m,\u001b[0m\u001b[1;33m\u001b[0m\u001b[1;33m\u001b[0m\u001b[0m\n\u001b[0m\u001b[0;32m    287\u001b[0m         )\n",
      "\u001b[1;32me:\\src\\microsoft\\msticpy\\msticpy\\common\\pkg_config.py\u001b[0m in \u001b[0;36m_check_provider_settings\u001b[1;34m(mp_config, section, key_provs)\u001b[0m\n\u001b[0;32m    365\u001b[0m         mp_errors.extend(\n\u001b[1;32m--> 366\u001b[1;33m             \u001b[0m_check_env_vars\u001b[0m\u001b[1;33m(\u001b[0m\u001b[0margs_key\u001b[0m\u001b[1;33m=\u001b[0m\u001b[0mp_setting\u001b[0m\u001b[1;33m.\u001b[0m\u001b[0mget\u001b[0m\u001b[1;33m(\u001b[0m\u001b[1;34m\"Args\"\u001b[0m\u001b[1;33m)\u001b[0m\u001b[1;33m,\u001b[0m \u001b[0msection\u001b[0m\u001b[1;33m=\u001b[0m\u001b[0msec_path\u001b[0m\u001b[1;33m)\u001b[0m\u001b[1;33m\u001b[0m\u001b[1;33m\u001b[0m\u001b[0m\n\u001b[0m\u001b[0;32m    367\u001b[0m         )\n",
      "\u001b[1;32me:\\src\\microsoft\\msticpy\\msticpy\\common\\pkg_config.py\u001b[0m in \u001b[0;36m_check_env_vars\u001b[1;34m(args_key, section)\u001b[0m\n\u001b[0;32m    418\u001b[0m             \u001b[1;32mcontinue\u001b[0m\u001b[1;33m\u001b[0m\u001b[1;33m\u001b[0m\u001b[0m\n\u001b[1;32m--> 419\u001b[1;33m         \u001b[1;32mif\u001b[0m \u001b[1;34m\"EnvironmentVar\"\u001b[0m \u001b[1;32min\u001b[0m \u001b[0mval\u001b[0m\u001b[1;33m:\u001b[0m\u001b[1;33m\u001b[0m\u001b[1;33m\u001b[0m\u001b[0m\n\u001b[0m\u001b[0;32m    420\u001b[0m             \u001b[0menv_name\u001b[0m \u001b[1;33m=\u001b[0m \u001b[0mval\u001b[0m\u001b[1;33m.\u001b[0m\u001b[0mget\u001b[0m\u001b[1;33m(\u001b[0m\u001b[1;34m\"EnvironmentVar\"\u001b[0m\u001b[1;33m)\u001b[0m\u001b[1;33m\u001b[0m\u001b[1;33m\u001b[0m\u001b[0m\n",
      "\u001b[1;31mTypeError\u001b[0m: argument of type 'bool' is not iterable",
      "\nDuring handling of the above exception, another exception occurred:\n",
      "\u001b[1;31mUnboundLocalError\u001b[0m                         Traceback (most recent call last)",
      "\u001b[1;32m~\\AppData\\Local\\Temp/ipykernel_37940/2002975706.py\u001b[0m in \u001b[0;36m<module>\u001b[1;34m\u001b[0m\n\u001b[0;32m      1\u001b[0m \u001b[1;32mimport\u001b[0m \u001b[0mmsticpy\u001b[0m\u001b[1;33m\u001b[0m\u001b[1;33m\u001b[0m\u001b[0m\n\u001b[1;32m----> 2\u001b[1;33m \u001b[0mmsticpy\u001b[0m\u001b[1;33m.\u001b[0m\u001b[0minit_notebook\u001b[0m\u001b[1;33m(\u001b[0m\u001b[0mglobals\u001b[0m\u001b[1;33m(\u001b[0m\u001b[1;33m)\u001b[0m\u001b[1;33m)\u001b[0m\u001b[1;33m\u001b[0m\u001b[1;33m\u001b[0m\u001b[0m\n\u001b[0m",
      "\u001b[1;32me:\\src\\microsoft\\msticpy\\msticpy\\nbtools\\nbinit.py\u001b[0m in \u001b[0;36minit_notebook\u001b[1;34m(namespace, def_imports, additional_packages, extra_imports, **kwargs)\u001b[0m\n\u001b[0;32m    315\u001b[0m     \u001b[1;32melse\u001b[0m\u001b[1;33m:\u001b[0m\u001b[1;33m\u001b[0m\u001b[1;33m\u001b[0m\u001b[0m\n\u001b[0;32m    316\u001b[0m         \u001b[0m_pr_output\u001b[0m\u001b[1;33m(\u001b[0m\u001b[1;34m\"Checking configuration....\"\u001b[0m\u001b[1;33m)\u001b[0m\u001b[1;33m\u001b[0m\u001b[1;33m\u001b[0m\u001b[0m\n\u001b[1;32m--> 317\u001b[1;33m         \u001b[0mconf_ok\u001b[0m \u001b[1;33m=\u001b[0m \u001b[0m_get_or_create_config\u001b[0m\u001b[1;33m(\u001b[0m\u001b[1;33m)\u001b[0m\u001b[1;33m\u001b[0m\u001b[1;33m\u001b[0m\u001b[0m\n\u001b[0m\u001b[0;32m    318\u001b[0m         \u001b[0m_check_azure_cli_status\u001b[0m\u001b[1;33m(\u001b[0m\u001b[1;33m)\u001b[0m\u001b[1;33m\u001b[0m\u001b[1;33m\u001b[0m\u001b[0m\n\u001b[0;32m    319\u001b[0m \u001b[1;33m\u001b[0m\u001b[0m\n",
      "\u001b[1;32me:\\src\\microsoft\\msticpy\\msticpy\\nbtools\\nbinit.py\u001b[0m in \u001b[0;36m_get_or_create_config\u001b[1;34m()\u001b[0m\n\u001b[0;32m    499\u001b[0m         \u001b[1;31m# pylint: disable=broad-except\u001b[0m\u001b[1;33m\u001b[0m\u001b[1;33m\u001b[0m\u001b[1;33m\u001b[0m\u001b[0m\n\u001b[0;32m    500\u001b[0m         \u001b[1;32mexcept\u001b[0m \u001b[0mException\u001b[0m \u001b[1;32mas\u001b[0m \u001b[0merr\u001b[0m\u001b[1;33m:\u001b[0m\u001b[1;33m\u001b[0m\u001b[1;33m\u001b[0m\u001b[0m\n\u001b[1;32m--> 501\u001b[1;33m             \u001b[0merrs\u001b[0m\u001b[1;33m.\u001b[0m\u001b[0mappend\u001b[0m\u001b[1;33m(\u001b[0m\u001b[1;34mf\"Exception while checking configuration:\\n{err}\"\u001b[0m\u001b[1;33m)\u001b[0m\u001b[1;33m\u001b[0m\u001b[1;33m\u001b[0m\u001b[0m\n\u001b[0m\u001b[0;32m    502\u001b[0m             \u001b[0m_pr_output\u001b[0m\u001b[1;33m(\u001b[0m\u001b[1;34mf\"Exception while checking configuration:\\n{type(err)} - {err}\"\u001b[0m\u001b[1;33m)\u001b[0m\u001b[1;33m\u001b[0m\u001b[1;33m\u001b[0m\u001b[0m\n\u001b[0;32m    503\u001b[0m             \u001b[0m_pr_output\u001b[0m\u001b[1;33m(\u001b[0m\u001b[1;34m\"\\n\"\u001b[0m\u001b[1;33m.\u001b[0m\u001b[0mjoin\u001b[0m\u001b[1;33m(\u001b[0m\u001b[0mtraceback\u001b[0m\u001b[1;33m.\u001b[0m\u001b[0mformat_tb\u001b[0m\u001b[1;33m(\u001b[0m\u001b[0merr\u001b[0m\u001b[1;33m.\u001b[0m\u001b[0m__traceback__\u001b[0m\u001b[1;33m)\u001b[0m\u001b[1;33m)\u001b[0m\u001b[1;33m)\u001b[0m\u001b[1;33m\u001b[0m\u001b[1;33m\u001b[0m\u001b[0m\n",
      "\u001b[1;31mUnboundLocalError\u001b[0m: local variable 'errs' referenced before assignment"
     ]
    }
   ],
   "source": [
    "import msticpy\n",
    "msticpy.init_notebook(globals())"
   ]
  },
  {
   "cell_type": "markdown",
   "metadata": {},
   "source": [
    "Passing `globals()` lets the init function import stuff into the notebook top-level namespace"
   ]
  },
  {
   "cell_type": "code",
   "execution_count": 2,
   "metadata": {},
   "outputs": [
    {
     "data": {
      "application/vnd.jupyter.widget-view+json": {
       "model_id": "a3978118ee8e4aa3a96e6bb34810e5af",
       "version_major": 2,
       "version_minor": 0
      },
      "text/plain": [
       "Label(value='Loading. Please wait.')"
      ]
     },
     "metadata": {},
     "output_type": "display_data"
    },
    {
     "data": {
      "application/vnd.jupyter.widget-view+json": {
       "model_id": "ceb9100b82364165a51a36a77fa69339",
       "version_major": 2,
       "version_minor": 0
      },
      "text/plain": [
       "VBox(children=(Tab(children=(VBox(children=(Label(value='Azure Sentinel workspace settings'), HBox(children=(V…"
      ]
     },
     "metadata": {},
     "output_type": "display_data"
    }
   ],
   "source": [
    "msticpy.MpConfigEdit()"
   ]
  },
  {
   "cell_type": "code",
   "execution_count": 5,
   "metadata": {},
   "outputs": [
    {
     "name": "stdout",
     "output_type": "stream",
     "text": [
      "Azure:\n",
      "  auth_methods:\n",
      "  - cli\n",
      "  - interactive\n",
      "  cloud: global\n",
      "AzureSentinel:\n",
      "  Workspaces:\n",
      "    ASIHuntOMSWorkspaceV4: &id001\n",
      "      ResourceGroup: asihuntomsworkspacerg\n",
      "      SubscriptionId: 40dcc8bf-0478-4f3b-b275-ed0a94f2c013\n",
      "      TenantId: 72f988bf-86f1-41af-91ab-2d7cd011db47\n",
      "      Workspace Name: ASIHuntOMSWorkspaceV4\n",
      "      WorkspaceId: 52b1ab41-869e-4138-9e40-2a4457f09bf0\n",
      "    CCIS: &id002\n",
      "      TenantId: 72f988bf-86f1-41af-91ab-2d7cd011db47\n",
      "      WorkspaceId: d2a20a39-c646-4783-a490-59899e\n"
     ]
    }
   ],
   "source": [
    "import yaml\n",
    "print(yaml.safe_dump(msticpy.settings.settings)[:500])"
   ]
  },
  {
   "cell_type": "markdown",
   "metadata": {},
   "source": [
    "---\n",
    "\n",
    "# MSTICPy Widgets [Pete] "
   ]
  },
  {
   "cell_type": "code",
   "execution_count": null,
   "metadata": {},
   "outputs": [],
   "source": []
  },
  {
   "cell_type": "markdown",
   "metadata": {},
   "source": [
    "---\n",
    "# Query providers revisited [Ian]\n",
    "\n",
    "## Supported providers\n",
    "- Microsoft Sentinel\n",
    "- Microsoft Defender/Defender for Endpoint\n",
    "- Splunk\n",
    "- Sumologic\n",
    "- Microsoft Graph\n",
    "- Local data\n",
    "- Mordor/Security Datasets\n",
    "- Kusto/Azure Data Explorer\n",
    "- Azure Resource Graph"
   ]
  },
  {
   "cell_type": "code",
   "execution_count": 6,
   "metadata": {},
   "outputs": [
    {
     "name": "stdout",
     "output_type": "stream",
     "text": [
      "Please wait. Loading Kqlmagic extension...done\n",
      "Warning: Custom query definitions path data not found\n"
     ]
    }
   ],
   "source": [
    "from msticpy.data import QueryProvider\n",
    "import pandas as pd\n",
    "\n",
    "# Load query providers (typically you'll be using just one)\n",
    "qry_prov_az = QueryProvider(\"AzureSentinel\")\n",
    "qry_prov_sp = QueryProvider(\"Splunk\")\n",
    "qry_prov_mde = QueryProvider(\"MDE\")\n",
    "# Special provider that uses local data files\n",
    "qry_prov_loc = QueryProvider(\"LocalData\", data_paths=[\"./data\"], query_paths=[\"./data\"])"
   ]
  },
  {
   "cell_type": "markdown",
   "metadata": {},
   "source": [
    "\n",
    "## list_queries and running a query\n"
   ]
  },
  {
   "cell_type": "code",
   "execution_count": 8,
   "metadata": {},
   "outputs": [
    {
     "data": {
      "text/plain": [
       "['Azure.get_vmcomputer_for_host',\n",
       " 'Azure.get_vmcomputer_for_ip',\n",
       " 'Azure.list_aad_signins_for_account',\n",
       " 'Azure.list_aad_signins_for_ip',\n",
       " 'Azure.list_all_signins_geo',\n",
       " 'Azure.list_azure_activity_for_account',\n",
       " 'Azure.list_azure_activity_for_ip',\n",
       " 'Azure.list_azure_activity_for_resource',\n",
       " 'Azure.list_storage_ops_for_hash',\n",
       " 'Azure.list_storage_ops_for_ip']"
      ]
     },
     "execution_count": 8,
     "metadata": {},
     "output_type": "execute_result"
    }
   ],
   "source": [
    "qry_prov_az.list_queries()[:10]"
   ]
  },
  {
   "cell_type": "code",
   "execution_count": 10,
   "metadata": {},
   "outputs": [
    {
     "name": "stdout",
     "output_type": "stream",
     "text": [
      "\u001b[1;31mSignature:\u001b[0m       \u001b[0mqry_prov_az\u001b[0m\u001b[1;33m.\u001b[0m\u001b[0mAzure\u001b[0m\u001b[1;33m.\u001b[0m\u001b[0mlist_aad_signins_for_account\u001b[0m\u001b[1;33m(\u001b[0m\u001b[1;33m*\u001b[0m\u001b[0margs\u001b[0m\u001b[1;33m,\u001b[0m \u001b[1;33m**\u001b[0m\u001b[0mkwargs\u001b[0m\u001b[1;33m)\u001b[0m \u001b[1;33m->\u001b[0m \u001b[0mUnion\u001b[0m\u001b[1;33m[\u001b[0m\u001b[0mpandas\u001b[0m\u001b[1;33m.\u001b[0m\u001b[0mcore\u001b[0m\u001b[1;33m.\u001b[0m\u001b[0mframe\u001b[0m\u001b[1;33m.\u001b[0m\u001b[0mDataFrame\u001b[0m\u001b[1;33m,\u001b[0m \u001b[0mAny\u001b[0m\u001b[1;33m]\u001b[0m\u001b[1;33m\u001b[0m\u001b[1;33m\u001b[0m\u001b[0m\n",
      "\u001b[1;31mCall signature:\u001b[0m  \u001b[0mqry_prov_az\u001b[0m\u001b[1;33m.\u001b[0m\u001b[0mAzure\u001b[0m\u001b[1;33m.\u001b[0m\u001b[0mlist_aad_signins_for_account\u001b[0m\u001b[1;33m(\u001b[0m\u001b[1;33m*\u001b[0m\u001b[0margs\u001b[0m\u001b[1;33m,\u001b[0m \u001b[1;33m**\u001b[0m\u001b[0mkwargs\u001b[0m\u001b[1;33m)\u001b[0m\u001b[1;33m\u001b[0m\u001b[1;33m\u001b[0m\u001b[0m\n",
      "\u001b[1;31mType:\u001b[0m            partial\n",
      "\u001b[1;31mString form:\u001b[0m     functools.partial(<bound method QueryProvider._execute_query of <msticpy.data.data_providers.Quer <...> er object at 0x000002768A308848>>, query_path='Azure', query_name='list_aad_signins_for_account')\n",
      "\u001b[1;31mFile:\u001b[0m            c:\\users\\ian\\anaconda3\\envs\\condadev\\lib\\functools.py\n",
      "\u001b[1;31mDocstring:\u001b[0m      \n",
      "Lists Azure AD Signins for Account\n",
      "\n",
      "Parameters\n",
      "----------\n",
      "account_name: str\n",
      "    The account name to find\n",
      "add_query_items: str (optional)\n",
      "    Additional query clauses\n",
      "end: datetime (optional)\n",
      "    Query end time\n",
      "start: datetime (optional)\n",
      "    Query start time\n",
      "    (default value is: -5)\n",
      "table: str (optional)\n",
      "    Table name\n",
      "    (default value is: SigninLogs)\n",
      "\u001b[1;31mClass docstring:\u001b[0m\n",
      "partial(func, *args, **keywords) - new function with partial application\n",
      "of the given arguments and keywords.\n"
     ]
    }
   ],
   "source": [
    "qry_prov_az.Azure.list_aad_signins_for_account?"
   ]
  },
  {
   "cell_type": "markdown",
   "metadata": {},
   "source": [
    "\n",
    "## Query time ranges\n"
   ]
  },
  {
   "cell_type": "code",
   "execution_count": 11,
   "metadata": {},
   "outputs": [
    {
     "data": {
      "application/vnd.jupyter.widget-view+json": {
       "model_id": "8bae600a071a43359e4afff7b9f8e142",
       "version_major": 2,
       "version_minor": 0
      },
      "text/plain": [
       "VBox(children=(HTML(value='<h4>Set query time boundaries</h4>'), HBox(children=(DatePicker(value=datetime.date…"
      ]
     },
     "metadata": {},
     "output_type": "display_data"
    }
   ],
   "source": [
    "qry_prov_az.query_time"
   ]
  },
  {
   "cell_type": "markdown",
   "metadata": {},
   "source": [
    "## Parameters\n"
   ]
  },
  {
   "cell_type": "code",
   "execution_count": null,
   "metadata": {},
   "outputs": [],
   "source": []
  },
  {
   "cell_type": "markdown",
   "metadata": {},
   "source": [
    "---\n",
    "# Enrichment - Threat intelligence\n",
    "\n",
    "## Generic providers [Ashwin] \n"
   ]
  },
  {
   "cell_type": "code",
   "execution_count": null,
   "metadata": {},
   "outputs": [],
   "source": [
    "pivot = Pivot(namespace=globals())\n",
    "f\n",
    "\n",
    "ti_results = destip.tilookup_ipv4()\n",
    "TILookup.browse_results(ti_results)"
   ]
  },
  {
   "cell_type": "markdown",
   "metadata": {},
   "source": [
    "---\n",
    "# Enrichment - Other enrichment [Pete] \n",
    "\n",
    "## GeoIP\n"
   ]
  },
  {
   "cell_type": "code",
   "execution_count": null,
   "metadata": {},
   "outputs": [],
   "source": [
    "pivot = Pivot(namespace=globals())"
   ]
  },
  {
   "cell_type": "markdown",
   "metadata": {},
   "source": [
    "## Whois \n"
   ]
  },
  {
   "cell_type": "markdown",
   "metadata": {},
   "source": [
    "\n",
    "## Azure/Azure Resource Graph  \n"
   ]
  },
  {
   "cell_type": "markdown",
   "metadata": {},
   "source": [
    "---\n",
    "# Pivot functions [Ian] \n",
    "\n",
    "Pivot functions are methods of entities that provide:\n",
    "- data queries related to an entity\n",
    "- enrichment functions relevant to that entity\n",
    "\n",
    "Pivot functions are dynamically attached to entities. We created this\n",
    "framework to make it easier to find which functions you can use for which entity type.\n",
    "\n",
    "### Motivation\n",
    "- We had built a lot of functionality in MSTICPy for querying and enrichment\n",
    "- A lot of the functions had inconsistent type/parameter signatures\n",
    "- There was no easy discovery mechanism for these functions - you had to know\n",
    "- Using entities as pivot points is a \"natural\" investigation pattern\n",
    "\n",
    "## Access functionality from entities\n"
   ]
  },
  {
   "cell_type": "code",
   "execution_count": 12,
   "metadata": {},
   "outputs": [
    {
     "name": "stdout",
     "output_type": "stream",
     "text": [
      "Using Open PageRank. See https://www.domcop.com/openpagerank/what-is-openpagerank\n"
     ]
    },
    {
     "name": "stderr",
     "output_type": "stream",
     "text": [
      "e:\\src\\microsoft\\msticpy\\msticpy\\sectools\\tilookup.py:334: UserWarning: Could not find provider class for RiskIQ in config section RiskIQ\n",
      "  f\"Could not find provider class for {provider_name} \"\n"
     ]
    },
    {
     "data": {
      "text/html": [
       "\n",
       "This product includes GeoLite2 data created by MaxMind, available from\n",
       "<a href=\"https://www.maxmind.com\">https://www.maxmind.com</a>.\n"
      ],
      "text/plain": [
       "<IPython.core.display.HTML object>"
      ]
     },
     "metadata": {},
     "output_type": "display_data"
    },
    {
     "data": {
      "text/html": [
       "\n",
       "This library uses services provided by ipstack.\n",
       "<a href=\"https://ipstack.com\">https://ipstack.com</a>"
      ],
      "text/plain": [
       "<IPython.core.display.HTML object>"
      ]
     },
     "metadata": {},
     "output_type": "display_data"
    }
   ],
   "source": [
    "pivot = Pivot(namespace=globals())"
   ]
  },
  {
   "cell_type": "code",
   "execution_count": 14,
   "metadata": {},
   "outputs": [
    {
     "data": {
      "text/html": [
       "<div>\n",
       "<style scoped>\n",
       "    .dataframe tbody tr th:only-of-type {\n",
       "        vertical-align: middle;\n",
       "    }\n",
       "\n",
       "    .dataframe tbody tr th {\n",
       "        vertical-align: top;\n",
       "    }\n",
       "\n",
       "    .dataframe thead th {\n",
       "        text-align: right;\n",
       "    }\n",
       "</style>\n",
       "<table border=\"1\" class=\"dataframe\">\n",
       "  <thead>\n",
       "    <tr style=\"text-align: right;\">\n",
       "      <th></th>\n",
       "      <th>asn</th>\n",
       "      <th>asn_cidr</th>\n",
       "      <th>asn_country_code</th>\n",
       "      <th>asn_date</th>\n",
       "      <th>asn_description</th>\n",
       "      <th>asn_registry</th>\n",
       "      <th>nets</th>\n",
       "      <th>nir</th>\n",
       "      <th>query</th>\n",
       "      <th>raw</th>\n",
       "      <th>raw_referral</th>\n",
       "      <th>referral</th>\n",
       "    </tr>\n",
       "  </thead>\n",
       "  <tbody>\n",
       "    <tr>\n",
       "      <th>0</th>\n",
       "      <td>63023</td>\n",
       "      <td>38.75.136.0/23</td>\n",
       "      <td>US</td>\n",
       "      <td>1991-04-16</td>\n",
       "      <td>AS-GLOBALTELEHOST, US</td>\n",
       "      <td>arin</td>\n",
       "      <td>[{'cidr': '38.0.0.0/8', 'name': 'COGENT-A', 'h...</td>\n",
       "      <td>None</td>\n",
       "      <td>38.75.137.9</td>\n",
       "      <td>None</td>\n",
       "      <td>None</td>\n",
       "      <td>None</td>\n",
       "    </tr>\n",
       "  </tbody>\n",
       "</table>\n",
       "</div>"
      ],
      "text/plain": [
       "     asn        asn_cidr asn_country_code    asn_date        asn_description  \\\n",
       "0  63023  38.75.136.0/23               US  1991-04-16  AS-GLOBALTELEHOST, US   \n",
       "\n",
       "  asn_registry                                               nets   nir  \\\n",
       "0         arin  [{'cidr': '38.0.0.0/8', 'name': 'COGENT-A', 'h...  None   \n",
       "\n",
       "         query   raw raw_referral referral  \n",
       "0  38.75.137.9  None         None     None  "
      ]
     },
     "metadata": {},
     "output_type": "display_data"
    },
    {
     "data": {
      "text/html": [
       "<div>\n",
       "<style scoped>\n",
       "    .dataframe tbody tr th:only-of-type {\n",
       "        vertical-align: middle;\n",
       "    }\n",
       "\n",
       "    .dataframe tbody tr th {\n",
       "        vertical-align: top;\n",
       "    }\n",
       "\n",
       "    .dataframe thead th {\n",
       "        text-align: right;\n",
       "    }\n",
       "</style>\n",
       "<table border=\"1\" class=\"dataframe\">\n",
       "  <thead>\n",
       "    <tr style=\"text-align: right;\">\n",
       "      <th></th>\n",
       "      <th>CountryCode</th>\n",
       "      <th>CountryName</th>\n",
       "      <th>State</th>\n",
       "      <th>City</th>\n",
       "      <th>Longitude</th>\n",
       "      <th>Latitude</th>\n",
       "      <th>Asn</th>\n",
       "      <th>TimeGenerated</th>\n",
       "      <th>Type</th>\n",
       "      <th>AdditionalData</th>\n",
       "      <th>IpAddress</th>\n",
       "    </tr>\n",
       "  </thead>\n",
       "  <tbody>\n",
       "    <tr>\n",
       "      <th>0</th>\n",
       "      <td>US</td>\n",
       "      <td>United States</td>\n",
       "      <td>California</td>\n",
       "      <td>Los Angeles</td>\n",
       "      <td>-118.2441</td>\n",
       "      <td>34.0544</td>\n",
       "      <td>None</td>\n",
       "      <td>None</td>\n",
       "      <td>geolocation</td>\n",
       "      <td>{}</td>\n",
       "      <td>38.75.137.9</td>\n",
       "    </tr>\n",
       "  </tbody>\n",
       "</table>\n",
       "</div>"
      ],
      "text/plain": [
       "  CountryCode    CountryName       State         City  Longitude  Latitude  \\\n",
       "0          US  United States  California  Los Angeles  -118.2441   34.0544   \n",
       "\n",
       "    Asn TimeGenerated         Type AdditionalData    IpAddress  \n",
       "0  None          None  geolocation             {}  38.75.137.9  "
      ]
     },
     "metadata": {},
     "output_type": "display_data"
    }
   ],
   "source": [
    "from msticpy.datamodel import entities\n",
    "\n",
    "display(entities.IpAddress.whois(\"38.75.137.9\"))\n",
    "display(entities.IpAddress.geoloc(\"38.75.137.9\"))"
   ]
  },
  {
   "cell_type": "code",
   "execution_count": 15,
   "metadata": {},
   "outputs": [
    {
     "data": {
      "application/vnd.jupyter.widget-view+json": {
       "model_id": "d4001d67eba84d938aef9c08f9041677",
       "version_major": 2,
       "version_minor": 0
      },
      "text/plain": [
       "VBox(children=(HBox(children=(VBox(children=(HTML(value='<b>Entities</b>'), Select(description='entity', layou…"
      ]
     },
     "metadata": {},
     "output_type": "display_data"
    }
   ],
   "source": [
    "pivot.browse()"
   ]
  },
  {
   "cell_type": "code",
   "execution_count": 19,
   "metadata": {},
   "outputs": [
    {
     "data": {
      "text/plain": [
       "[('ipv4',\n",
       "  ['65.55.44.109',\n",
       "   '38.75.137.9',\n",
       "   '10.0.3.5',\n",
       "   '20.185.182.48',\n",
       "   '104.43.212.12',\n",
       "   '10.90.78.71',\n",
       "   '10.90.78.142',\n",
       "   '10.4.5.12',\n",
       "   '10.4.5.16',\n",
       "   '10.16.12.1',\n",
       "   '40.124.45.19',\n",
       "   '13.71.172.130',\n",
       "   '40.77.232.95'])]"
      ]
     },
     "execution_count": 19,
     "metadata": {},
     "output_type": "execute_result"
    }
   ],
   "source": [
    "%%ioc --out ip_list\n",
    "\tSourceIP\tDestinationIP\tTotalBytesSent\tnir\tasn_registry\tasn\tasn_cidr\tasn_country_code\tasn_date\tasn_description\tquery\tnets\traw\treferral\traw_referral\n",
    "0\t10.0.3.5\t40.124.45.19\t621\tNaN\tNaN\tNaN\tNaN\tNaN\tNaN\tNaN\tNaN\tNaN\tNaN\tNaN\tNaN\n",
    "1\t10.16.12.1\t40.124.45.19\t1004\tNaN\tNaN\tNaN\tNaN\tNaN\tNaN\tNaN\tNaN\tNaN\tNaN\tNaN\tNaN\n",
    "2\t10.4.5.12\t13.71.172.130\t247\tNaN\tNaN\tNaN\tNaN\tNaN\tNaN\tNaN\tNaN\tNaN\tNaN\tNaN\tNaN\n",
    "3\t10.4.5.12\t40.77.232.95\t189\tNaN\tNaN\tNaN\tNaN\tNaN\tNaN\tNaN\tNaN\tNaN\tNaN\tNaN\tNaN\n",
    "4\t10.4.5.16\t13.71.172.130\t46\tNaN\tNaN\tNaN\tNaN\tNaN\tNaN\tNaN\tNaN\tNaN\tNaN\tNaN\tNaN\n",
    "5\t10.4.5.16\t65.55.44.109\t120\tNaN\tNaN\tNaN\tNaN\tNaN\tNaN\tNaN\tNaN\tNaN\tNaN\tNaN\tNaN\n",
    "6\t10.90.78.142\t104.43.212.12\t12\tNaN\tNaN\tNaN\tNaN\tNaN\tNaN\tNaN\tNaN\tNaN\tNaN\tNaN\tNaN\n",
    "7\t10.90.78.71\t104.43.212.12\t4\tNaN\tNaN\tNaN\tNaN\tNaN\tNaN\tNaN\tNaN\tNaN\tNaN\tNaN\tNaN\n",
    "8\t20.185.182.48\t38.75.137.9\t8328\tNaN\tarin\t8075"
   ]
  },
  {
   "cell_type": "code",
   "execution_count": 29,
   "metadata": {},
   "outputs": [
    {
     "data": {
      "text/html": [
       "<div>\n",
       "<style scoped>\n",
       "    .dataframe tbody tr th:only-of-type {\n",
       "        vertical-align: middle;\n",
       "    }\n",
       "\n",
       "    .dataframe tbody tr th {\n",
       "        vertical-align: top;\n",
       "    }\n",
       "\n",
       "    .dataframe thead th {\n",
       "        text-align: right;\n",
       "    }\n",
       "</style>\n",
       "<table border=\"1\" class=\"dataframe\">\n",
       "  <thead>\n",
       "    <tr style=\"text-align: right;\">\n",
       "      <th></th>\n",
       "      <th>ip_column</th>\n",
       "      <th>nir</th>\n",
       "      <th>asn_registry</th>\n",
       "      <th>asn</th>\n",
       "      <th>asn_cidr</th>\n",
       "      <th>asn_country_code</th>\n",
       "      <th>asn_date</th>\n",
       "      <th>asn_description</th>\n",
       "      <th>query</th>\n",
       "      <th>nets</th>\n",
       "      <th>raw</th>\n",
       "      <th>referral</th>\n",
       "      <th>raw_referral</th>\n",
       "    </tr>\n",
       "  </thead>\n",
       "  <tbody>\n",
       "    <tr>\n",
       "      <th>0</th>\n",
       "      <td>65.55.44.109</td>\n",
       "      <td>NaN</td>\n",
       "      <td>arin</td>\n",
       "      <td>8075</td>\n",
       "      <td>65.52.0.0/14</td>\n",
       "      <td>US</td>\n",
       "      <td>2001-02-14</td>\n",
       "      <td>MICROSOFT-CORP-MSN-AS-BLOCK, US</td>\n",
       "      <td>65.55.44.109</td>\n",
       "      <td>[{'cidr': '65.52.0.0/14', 'name': 'MICROSOFT-1...</td>\n",
       "      <td>NaN</td>\n",
       "      <td>NaN</td>\n",
       "      <td>NaN</td>\n",
       "    </tr>\n",
       "    <tr>\n",
       "      <th>1</th>\n",
       "      <td>38.75.137.9</td>\n",
       "      <td>NaN</td>\n",
       "      <td>arin</td>\n",
       "      <td>63023</td>\n",
       "      <td>38.75.136.0/23</td>\n",
       "      <td>US</td>\n",
       "      <td>1991-04-16</td>\n",
       "      <td>AS-GLOBALTELEHOST, US</td>\n",
       "      <td>38.75.137.9</td>\n",
       "      <td>[{'cidr': '38.0.0.0/8', 'name': 'COGENT-A', 'h...</td>\n",
       "      <td>NaN</td>\n",
       "      <td>NaN</td>\n",
       "      <td>NaN</td>\n",
       "    </tr>\n",
       "    <tr>\n",
       "      <th>2</th>\n",
       "      <td>10.0.3.5</td>\n",
       "      <td>NaN</td>\n",
       "      <td>NaN</td>\n",
       "      <td>NaN</td>\n",
       "      <td>NaN</td>\n",
       "      <td>NaN</td>\n",
       "      <td>NaN</td>\n",
       "      <td>NaN</td>\n",
       "      <td>NaN</td>\n",
       "      <td>NaN</td>\n",
       "      <td>NaN</td>\n",
       "      <td>NaN</td>\n",
       "      <td>NaN</td>\n",
       "    </tr>\n",
       "    <tr>\n",
       "      <th>3</th>\n",
       "      <td>20.185.182.48</td>\n",
       "      <td>NaN</td>\n",
       "      <td>arin</td>\n",
       "      <td>8075</td>\n",
       "      <td>20.184.0.0/13</td>\n",
       "      <td>US</td>\n",
       "      <td>2017-02-22</td>\n",
       "      <td>MICROSOFT-CORP-MSN-AS-BLOCK, US</td>\n",
       "      <td>20.185.182.48</td>\n",
       "      <td>[{'cidr': '20.180.0.0/14, 20.184.0.0/13', 'nam...</td>\n",
       "      <td>NaN</td>\n",
       "      <td>NaN</td>\n",
       "      <td>NaN</td>\n",
       "    </tr>\n",
       "    <tr>\n",
       "      <th>4</th>\n",
       "      <td>104.43.212.12</td>\n",
       "      <td>NaN</td>\n",
       "      <td>arin</td>\n",
       "      <td>8075</td>\n",
       "      <td>104.40.0.0/13</td>\n",
       "      <td>US</td>\n",
       "      <td>2014-05-07</td>\n",
       "      <td>MICROSOFT-CORP-MSN-AS-BLOCK, US</td>\n",
       "      <td>104.43.212.12</td>\n",
       "      <td>[{'cidr': '104.40.0.0/13', 'name': 'MSFT', 'ha...</td>\n",
       "      <td>NaN</td>\n",
       "      <td>NaN</td>\n",
       "      <td>NaN</td>\n",
       "    </tr>\n",
       "    <tr>\n",
       "      <th>5</th>\n",
       "      <td>10.90.78.71</td>\n",
       "      <td>NaN</td>\n",
       "      <td>NaN</td>\n",
       "      <td>NaN</td>\n",
       "      <td>NaN</td>\n",
       "      <td>NaN</td>\n",
       "      <td>NaN</td>\n",
       "      <td>NaN</td>\n",
       "      <td>NaN</td>\n",
       "      <td>NaN</td>\n",
       "      <td>NaN</td>\n",
       "      <td>NaN</td>\n",
       "      <td>NaN</td>\n",
       "    </tr>\n",
       "    <tr>\n",
       "      <th>6</th>\n",
       "      <td>10.90.78.142</td>\n",
       "      <td>NaN</td>\n",
       "      <td>NaN</td>\n",
       "      <td>NaN</td>\n",
       "      <td>NaN</td>\n",
       "      <td>NaN</td>\n",
       "      <td>NaN</td>\n",
       "      <td>NaN</td>\n",
       "      <td>NaN</td>\n",
       "      <td>NaN</td>\n",
       "      <td>NaN</td>\n",
       "      <td>NaN</td>\n",
       "      <td>NaN</td>\n",
       "    </tr>\n",
       "    <tr>\n",
       "      <th>7</th>\n",
       "      <td>10.4.5.12</td>\n",
       "      <td>NaN</td>\n",
       "      <td>NaN</td>\n",
       "      <td>NaN</td>\n",
       "      <td>NaN</td>\n",
       "      <td>NaN</td>\n",
       "      <td>NaN</td>\n",
       "      <td>NaN</td>\n",
       "      <td>NaN</td>\n",
       "      <td>NaN</td>\n",
       "      <td>NaN</td>\n",
       "      <td>NaN</td>\n",
       "      <td>NaN</td>\n",
       "    </tr>\n",
       "    <tr>\n",
       "      <th>8</th>\n",
       "      <td>10.4.5.16</td>\n",
       "      <td>NaN</td>\n",
       "      <td>NaN</td>\n",
       "      <td>NaN</td>\n",
       "      <td>NaN</td>\n",
       "      <td>NaN</td>\n",
       "      <td>NaN</td>\n",
       "      <td>NaN</td>\n",
       "      <td>NaN</td>\n",
       "      <td>NaN</td>\n",
       "      <td>NaN</td>\n",
       "      <td>NaN</td>\n",
       "      <td>NaN</td>\n",
       "    </tr>\n",
       "    <tr>\n",
       "      <th>9</th>\n",
       "      <td>10.16.12.1</td>\n",
       "      <td>NaN</td>\n",
       "      <td>NaN</td>\n",
       "      <td>NaN</td>\n",
       "      <td>NaN</td>\n",
       "      <td>NaN</td>\n",
       "      <td>NaN</td>\n",
       "      <td>NaN</td>\n",
       "      <td>NaN</td>\n",
       "      <td>NaN</td>\n",
       "      <td>NaN</td>\n",
       "      <td>NaN</td>\n",
       "      <td>NaN</td>\n",
       "    </tr>\n",
       "    <tr>\n",
       "      <th>10</th>\n",
       "      <td>40.124.45.19</td>\n",
       "      <td>NaN</td>\n",
       "      <td>arin</td>\n",
       "      <td>8075</td>\n",
       "      <td>40.124.0.0/16</td>\n",
       "      <td>US</td>\n",
       "      <td>2015-02-23</td>\n",
       "      <td>MICROSOFT-CORP-MSN-AS-BLOCK, US</td>\n",
       "      <td>40.124.45.19</td>\n",
       "      <td>[{'cidr': '40.124.0.0/16, 40.112.0.0/13, 40.76...</td>\n",
       "      <td>NaN</td>\n",
       "      <td>NaN</td>\n",
       "      <td>NaN</td>\n",
       "    </tr>\n",
       "    <tr>\n",
       "      <th>11</th>\n",
       "      <td>13.71.172.130</td>\n",
       "      <td>NaN</td>\n",
       "      <td>arin</td>\n",
       "      <td>8075</td>\n",
       "      <td>13.64.0.0/11</td>\n",
       "      <td>US</td>\n",
       "      <td>2015-03-26</td>\n",
       "      <td>MICROSOFT-CORP-MSN-AS-BLOCK, US</td>\n",
       "      <td>13.71.172.130</td>\n",
       "      <td>[{'cidr': '13.96.0.0/13, 13.104.0.0/14, 13.64....</td>\n",
       "      <td>NaN</td>\n",
       "      <td>NaN</td>\n",
       "      <td>NaN</td>\n",
       "    </tr>\n",
       "    <tr>\n",
       "      <th>12</th>\n",
       "      <td>40.77.232.95</td>\n",
       "      <td>NaN</td>\n",
       "      <td>arin</td>\n",
       "      <td>8075</td>\n",
       "      <td>40.76.0.0/14</td>\n",
       "      <td>US</td>\n",
       "      <td>2015-02-23</td>\n",
       "      <td>MICROSOFT-CORP-MSN-AS-BLOCK, US</td>\n",
       "      <td>40.77.232.95</td>\n",
       "      <td>[{'cidr': '40.74.0.0/15, 40.112.0.0/13, 40.76....</td>\n",
       "      <td>NaN</td>\n",
       "      <td>NaN</td>\n",
       "      <td>NaN</td>\n",
       "    </tr>\n",
       "  </tbody>\n",
       "</table>\n",
       "</div>"
      ],
      "text/plain": [
       "        ip_column  nir asn_registry    asn        asn_cidr asn_country_code  \\\n",
       "0    65.55.44.109  NaN         arin   8075    65.52.0.0/14               US   \n",
       "1     38.75.137.9  NaN         arin  63023  38.75.136.0/23               US   \n",
       "2        10.0.3.5  NaN          NaN    NaN             NaN              NaN   \n",
       "3   20.185.182.48  NaN         arin   8075   20.184.0.0/13               US   \n",
       "4   104.43.212.12  NaN         arin   8075   104.40.0.0/13               US   \n",
       "5     10.90.78.71  NaN          NaN    NaN             NaN              NaN   \n",
       "6    10.90.78.142  NaN          NaN    NaN             NaN              NaN   \n",
       "7       10.4.5.12  NaN          NaN    NaN             NaN              NaN   \n",
       "8       10.4.5.16  NaN          NaN    NaN             NaN              NaN   \n",
       "9      10.16.12.1  NaN          NaN    NaN             NaN              NaN   \n",
       "10   40.124.45.19  NaN         arin   8075   40.124.0.0/16               US   \n",
       "11  13.71.172.130  NaN         arin   8075    13.64.0.0/11               US   \n",
       "12   40.77.232.95  NaN         arin   8075    40.76.0.0/14               US   \n",
       "\n",
       "      asn_date                  asn_description          query  \\\n",
       "0   2001-02-14  MICROSOFT-CORP-MSN-AS-BLOCK, US   65.55.44.109   \n",
       "1   1991-04-16            AS-GLOBALTELEHOST, US    38.75.137.9   \n",
       "2          NaN                              NaN            NaN   \n",
       "3   2017-02-22  MICROSOFT-CORP-MSN-AS-BLOCK, US  20.185.182.48   \n",
       "4   2014-05-07  MICROSOFT-CORP-MSN-AS-BLOCK, US  104.43.212.12   \n",
       "5          NaN                              NaN            NaN   \n",
       "6          NaN                              NaN            NaN   \n",
       "7          NaN                              NaN            NaN   \n",
       "8          NaN                              NaN            NaN   \n",
       "9          NaN                              NaN            NaN   \n",
       "10  2015-02-23  MICROSOFT-CORP-MSN-AS-BLOCK, US   40.124.45.19   \n",
       "11  2015-03-26  MICROSOFT-CORP-MSN-AS-BLOCK, US  13.71.172.130   \n",
       "12  2015-02-23  MICROSOFT-CORP-MSN-AS-BLOCK, US   40.77.232.95   \n",
       "\n",
       "                                                 nets  raw  referral  \\\n",
       "0   [{'cidr': '65.52.0.0/14', 'name': 'MICROSOFT-1...  NaN       NaN   \n",
       "1   [{'cidr': '38.0.0.0/8', 'name': 'COGENT-A', 'h...  NaN       NaN   \n",
       "2                                                 NaN  NaN       NaN   \n",
       "3   [{'cidr': '20.180.0.0/14, 20.184.0.0/13', 'nam...  NaN       NaN   \n",
       "4   [{'cidr': '104.40.0.0/13', 'name': 'MSFT', 'ha...  NaN       NaN   \n",
       "5                                                 NaN  NaN       NaN   \n",
       "6                                                 NaN  NaN       NaN   \n",
       "7                                                 NaN  NaN       NaN   \n",
       "8                                                 NaN  NaN       NaN   \n",
       "9                                                 NaN  NaN       NaN   \n",
       "10  [{'cidr': '40.124.0.0/16, 40.112.0.0/13, 40.76...  NaN       NaN   \n",
       "11  [{'cidr': '13.96.0.0/13, 13.104.0.0/14, 13.64....  NaN       NaN   \n",
       "12  [{'cidr': '40.74.0.0/15, 40.112.0.0/13, 40.76....  NaN       NaN   \n",
       "\n",
       "    raw_referral  \n",
       "0            NaN  \n",
       "1            NaN  \n",
       "2            NaN  \n",
       "3            NaN  \n",
       "4            NaN  \n",
       "5            NaN  \n",
       "6            NaN  \n",
       "7            NaN  \n",
       "8            NaN  \n",
       "9            NaN  \n",
       "10           NaN  \n",
       "11           NaN  \n",
       "12           NaN  "
      ]
     },
     "execution_count": 29,
     "metadata": {},
     "output_type": "execute_result"
    }
   ],
   "source": [
    "entities.IpAddress.whois(ip_list[\"ipv4\"]) #, join=\"left\")\n"
   ]
  },
  {
   "cell_type": "markdown",
   "metadata": {},
   "source": [
    "# Creating pipelines\n",
    "\n"
   ]
  },
  {
   "cell_type": "code",
   "execution_count": 32,
   "metadata": {},
   "outputs": [
    {
     "data": {
      "text/plain": [
       "['65.55.44.109', '38.75.137.9', '10.0.3.5', '20.185.182.48']"
      ]
     },
     "execution_count": 32,
     "metadata": {},
     "output_type": "execute_result"
    }
   ],
   "source": [
    "list(ip_list[\"ipv4\"])[:4]"
   ]
  },
  {
   "cell_type": "code",
   "execution_count": 34,
   "metadata": {},
   "outputs": [
    {
     "data": {
      "text/html": [
       "<div>\n",
       "<style scoped>\n",
       "    .dataframe tbody tr th:only-of-type {\n",
       "        vertical-align: middle;\n",
       "    }\n",
       "\n",
       "    .dataframe tbody tr th {\n",
       "        vertical-align: top;\n",
       "    }\n",
       "\n",
       "    .dataframe thead th {\n",
       "        text-align: right;\n",
       "    }\n",
       "</style>\n",
       "<table border=\"1\" class=\"dataframe\">\n",
       "  <thead>\n",
       "    <tr style=\"text-align: right;\">\n",
       "      <th></th>\n",
       "      <th>ip_column</th>\n",
       "      <th>nir</th>\n",
       "      <th>asn_registry</th>\n",
       "      <th>asn</th>\n",
       "      <th>asn_cidr</th>\n",
       "      <th>asn_country_code</th>\n",
       "      <th>asn_date</th>\n",
       "      <th>asn_description</th>\n",
       "      <th>query</th>\n",
       "      <th>nets</th>\n",
       "      <th>...</th>\n",
       "      <th>IocType</th>\n",
       "      <th>SafeIoc</th>\n",
       "      <th>QuerySubtype</th>\n",
       "      <th>Provider</th>\n",
       "      <th>Result</th>\n",
       "      <th>Severity</th>\n",
       "      <th>Details</th>\n",
       "      <th>RawResult</th>\n",
       "      <th>Reference</th>\n",
       "      <th>Status</th>\n",
       "    </tr>\n",
       "  </thead>\n",
       "  <tbody>\n",
       "    <tr>\n",
       "      <th>0</th>\n",
       "      <td>65.55.44.109</td>\n",
       "      <td>NaN</td>\n",
       "      <td>arin</td>\n",
       "      <td>8075</td>\n",
       "      <td>65.52.0.0/14</td>\n",
       "      <td>US</td>\n",
       "      <td>2001-02-14</td>\n",
       "      <td>MICROSOFT-CORP-MSN-AS-BLOCK, US</td>\n",
       "      <td>65.55.44.109</td>\n",
       "      <td>[{'cidr': '65.52.0.0/14', 'name': 'MICROSOFT-1...</td>\n",
       "      <td>...</td>\n",
       "      <td>ipv4</td>\n",
       "      <td>65.55.44.109</td>\n",
       "      <td>None</td>\n",
       "      <td>OTX</td>\n",
       "      <td>True</td>\n",
       "      <td>high</td>\n",
       "      <td>{'pulse_count': 7, 'names': ['IOCs - 202192214...</td>\n",
       "      <td>{'whois': 'http://whois.domaintools.com/65.55....</td>\n",
       "      <td>https://otx.alienvault.com/api/v1/indicators/I...</td>\n",
       "      <td>0.0</td>\n",
       "    </tr>\n",
       "    <tr>\n",
       "      <th>1</th>\n",
       "      <td>38.75.137.9</td>\n",
       "      <td>NaN</td>\n",
       "      <td>arin</td>\n",
       "      <td>63023</td>\n",
       "      <td>38.75.136.0/23</td>\n",
       "      <td>US</td>\n",
       "      <td>1991-04-16</td>\n",
       "      <td>AS-GLOBALTELEHOST, US</td>\n",
       "      <td>38.75.137.9</td>\n",
       "      <td>[{'cidr': '38.0.0.0/8', 'name': 'COGENT-A', 'h...</td>\n",
       "      <td>...</td>\n",
       "      <td>ipv4</td>\n",
       "      <td>38.75.137.9</td>\n",
       "      <td>None</td>\n",
       "      <td>OTX</td>\n",
       "      <td>True</td>\n",
       "      <td>high</td>\n",
       "      <td>{'pulse_count': 4, 'names': ['Underminer.EK - ...</td>\n",
       "      <td>{'whois': 'http://whois.domaintools.com/38.75....</td>\n",
       "      <td>https://otx.alienvault.com/api/v1/indicators/I...</td>\n",
       "      <td>0.0</td>\n",
       "    </tr>\n",
       "    <tr>\n",
       "      <th>2</th>\n",
       "      <td>10.0.3.5</td>\n",
       "      <td>NaN</td>\n",
       "      <td>NaN</td>\n",
       "      <td>NaN</td>\n",
       "      <td>NaN</td>\n",
       "      <td>NaN</td>\n",
       "      <td>NaN</td>\n",
       "      <td>NaN</td>\n",
       "      <td>NaN</td>\n",
       "      <td>NaN</td>\n",
       "      <td>...</td>\n",
       "      <td>NaN</td>\n",
       "      <td>NaN</td>\n",
       "      <td>NaN</td>\n",
       "      <td>NaN</td>\n",
       "      <td>NaN</td>\n",
       "      <td>NaN</td>\n",
       "      <td>NaN</td>\n",
       "      <td>NaN</td>\n",
       "      <td>NaN</td>\n",
       "      <td>NaN</td>\n",
       "    </tr>\n",
       "    <tr>\n",
       "      <th>3</th>\n",
       "      <td>20.185.182.48</td>\n",
       "      <td>NaN</td>\n",
       "      <td>arin</td>\n",
       "      <td>8075</td>\n",
       "      <td>20.184.0.0/13</td>\n",
       "      <td>US</td>\n",
       "      <td>2017-02-22</td>\n",
       "      <td>MICROSOFT-CORP-MSN-AS-BLOCK, US</td>\n",
       "      <td>20.185.182.48</td>\n",
       "      <td>[{'cidr': '20.180.0.0/14, 20.184.0.0/13', 'nam...</td>\n",
       "      <td>...</td>\n",
       "      <td>ipv4</td>\n",
       "      <td>20.185.182.48</td>\n",
       "      <td>None</td>\n",
       "      <td>OTX</td>\n",
       "      <td>True</td>\n",
       "      <td>information</td>\n",
       "      <td>{'pulse_count': 0, 'sections_available': ['gen...</td>\n",
       "      <td>{'whois': 'http://whois.domaintools.com/20.185...</td>\n",
       "      <td>https://otx.alienvault.com/api/v1/indicators/I...</td>\n",
       "      <td>0.0</td>\n",
       "    </tr>\n",
       "  </tbody>\n",
       "</table>\n",
       "<p>4 rows × 35 columns</p>\n",
       "</div>"
      ],
      "text/plain": [
       "       ip_column  nir asn_registry    asn        asn_cidr asn_country_code  \\\n",
       "0   65.55.44.109  NaN         arin   8075    65.52.0.0/14               US   \n",
       "1    38.75.137.9  NaN         arin  63023  38.75.136.0/23               US   \n",
       "2       10.0.3.5  NaN          NaN    NaN             NaN              NaN   \n",
       "3  20.185.182.48  NaN         arin   8075   20.184.0.0/13               US   \n",
       "\n",
       "     asn_date                  asn_description          query  \\\n",
       "0  2001-02-14  MICROSOFT-CORP-MSN-AS-BLOCK, US   65.55.44.109   \n",
       "1  1991-04-16            AS-GLOBALTELEHOST, US    38.75.137.9   \n",
       "2         NaN                              NaN            NaN   \n",
       "3  2017-02-22  MICROSOFT-CORP-MSN-AS-BLOCK, US  20.185.182.48   \n",
       "\n",
       "                                                nets  ...  IocType  \\\n",
       "0  [{'cidr': '65.52.0.0/14', 'name': 'MICROSOFT-1...  ...     ipv4   \n",
       "1  [{'cidr': '38.0.0.0/8', 'name': 'COGENT-A', 'h...  ...     ipv4   \n",
       "2                                                NaN  ...      NaN   \n",
       "3  [{'cidr': '20.180.0.0/14, 20.184.0.0/13', 'nam...  ...     ipv4   \n",
       "\n",
       "         SafeIoc  QuerySubtype Provider Result     Severity  \\\n",
       "0   65.55.44.109          None      OTX   True         high   \n",
       "1    38.75.137.9          None      OTX   True         high   \n",
       "2            NaN           NaN      NaN    NaN          NaN   \n",
       "3  20.185.182.48          None      OTX   True  information   \n",
       "\n",
       "                                             Details  \\\n",
       "0  {'pulse_count': 7, 'names': ['IOCs - 202192214...   \n",
       "1  {'pulse_count': 4, 'names': ['Underminer.EK - ...   \n",
       "2                                                NaN   \n",
       "3  {'pulse_count': 0, 'sections_available': ['gen...   \n",
       "\n",
       "                                           RawResult  \\\n",
       "0  {'whois': 'http://whois.domaintools.com/65.55....   \n",
       "1  {'whois': 'http://whois.domaintools.com/38.75....   \n",
       "2                                                NaN   \n",
       "3  {'whois': 'http://whois.domaintools.com/20.185...   \n",
       "\n",
       "                                           Reference Status  \n",
       "0  https://otx.alienvault.com/api/v1/indicators/I...    0.0  \n",
       "1  https://otx.alienvault.com/api/v1/indicators/I...    0.0  \n",
       "2                                                NaN    NaN  \n",
       "3  https://otx.alienvault.com/api/v1/indicators/I...    0.0  \n",
       "\n",
       "[4 rows x 35 columns]"
      ]
     },
     "execution_count": 34,
     "metadata": {},
     "output_type": "execute_result"
    }
   ],
   "source": [
    "(\n",
    "    entities.IpAddress.whois(list(ip_list[\"ipv4\"])[:4], join=\"left\")\n",
    "    .mp_pivot.run(entities.IpAddress.geoloc, input_col=\"ip_column\", join=\"left\")\n",
    "    .mp_pivot.run(entities.IpAddress.tilookup_ipv4, input_col=\"ip_column\", join=\"left\")\n",
    ")"
   ]
  },
  {
   "cell_type": "markdown",
   "metadata": {},
   "source": [
    "# Advanced queries [Ian] \n",
    "\n",
    "## Creating Custom queries\n",
    "\n",
    "```yaml\n",
    "metadata:\n",
    "  version: 1\n",
    "  description: Linux Syslog Host Activity Queries\n",
    "  data_environments: [LogAnalytics]\n",
    "  data_families: [LinuxSyslog]\n",
    "  tags: ['linux', 'syslog']\n",
    "defaults:\n",
    "  metadata:\n",
    "    data_source: 'linux_syslog'\n",
    "    pivot:\n",
    "      direct_func_entities:\n",
    "        - Host\n",
    "  parameters:\n",
    "      table:\n",
    "        description: Table name\n",
    "        type: str\n",
    "        default: 'Syslog'\n",
    "      start:\n",
    "        description: Query start time\n",
    "        type: datetime\n",
    "      end:\n",
    "        description: Query end time\n",
    "        type: datetime\n",
    "      add_query_items:\n",
    "        description: Additional query clauses\n",
    "        type: str\n",
    "        default: ''\n",
    "      host_name:\n",
    "        description: Hostname to query for\n",
    "        type: str\n",
    "        default: ''\n",
    "sources:\n",
    "  user_group_activity:\n",
    "    description: All user/group additions, deletions, and modifications\n",
    "    args:\n",
    "      query: '\n",
    "        {table}\n",
    "        | where TimeGenerated >= datetime({start})\n",
    "        | where TimeGenerated <= datetime({end})\n",
    "        | where Computer has \"{host_name}\"\n",
    "        | where Facility == \"authpriv\"\n",
    "        | extend UserGroupAction = iif((ProcessName == \"groupadd\" or ProcessName == \"useradd\") and (SyslogMessage contains \"new group\" or SyslogMessage contains \"new user\"), \"Add\",\n",
    "                                    iif((ProcessName == \"groupdel\" or ProcessName == \"userdel\") and (SyslogMessage contains \"delete user\" or SyslogMessage matches regex \"(removed group|removed$)\"), \"Delete\",\n",
    "                                    iif(ProcessName == \"usermod\" or ProcessName == \"gpasswd\", \"Modify\", \"\")\n",
    "                                        )\n",
    "                                    )\n",
    "        | extend User=extract(\"(user: name=|user '')([[:alnum:]]+)\",2,SyslogMessage), Group=extract(\"(group: name=|group '')([[:alnum:]]+)\",2,SyslogMessage), UID=extract(\"UID=([0-9]+)\",1,SyslogMessage), GID=extract(\"GID=([0-9]+)\",1,SyslogMessage)\n",
    "        | where UserGroupAction != \"\"\n",
    "        {add_query_items}'\n",
    "    parameters:\n",
    "  all_syslog:\n",
    "    description: Returns all syslog activity for a host\n",
    "    args:\n",
    "      query: '\n",
    "         {table}\n",
    "        | where TimeGenerated >= datetime({start})\n",
    "        | where TimeGenerated <= datetime({end})\n",
    "        | where Computer has \"{host_name}\"\n",
    "        {add_query_items}'\n",
    "    parameters:\n",
    "```\n",
    "Splunk\n",
    "```yaml\n",
    "list_all_alerts:\n",
    "    description: Retrieves all configured alerts\n",
    "    metadata:\n",
    "      data_families: [Alerts]\n",
    "    args:\n",
    "      query: '\n",
    "      | rest/servicesNS/-/search/saved/searches\n",
    "      | search alert.track=1\n",
    "      | fields title description search disabled triggered_alert_count actions action.script.filename alert.severity cron_schedule'\n",
    "    parameters:\n",
    "```\n",
    "\n",
    "OData\n",
    "```yaml\n",
    "list_alerts_for_user:\n",
    "    description: Retrieves list of alerts for a user account\n",
    "    metadata:\n",
    "      data_source: 'graph_alert'\n",
    "    args:\n",
    "      query: '{path}?$filter=createdDateTime ge {start}\n",
    "        and createdDateTime le {end}\n",
    "        and (userStates/any(d:tolower(d/userPrincipalName) eq tolower(\"{user_principal_name}\")\n",
    "        or userStates/any(d:tolower(d/accountName) eq tolower(\"{account_name}\"))\n",
    "        {add_query_items}'\n",
    "      uri: None\n",
    "```"
   ]
  },
  {
   "cell_type": "markdown",
   "metadata": {},
   "source": [
    "---\n",
    "# Notebooklets - \"Macros\" for Notebooks [Ian] \n",
    "\n",
    "We built notebooklets because life is too short keep writing (copy/pasting) the same code over and over again.\n",
    "\n",
    "The Notebooklets (MSTICNB) package multiple notebook cells for common investigation routines into simple functions\n",
    "\n",
    "<a style=\"font-family: consolas; font-size:15pt\"\n",
    " href=\"https://github.com/microsoft/msticnb\">Repo: https://github.com/microsoft/msticnb</a>\n",
    "<br>\n",
    "<a style=\"font-family: consolas; font-size:15pt\"\n",
    " href=\"https://msticnb.readthedocs.io/en/latest/\">Docs: https://msticnb.readthedocs.io/</a>\n",
    "\n",
    "<p style=\"font-family: consolas; color:green; font-size:15pt\">$ pip install msticnb</p>\n"
   ]
  },
  {
   "cell_type": "code",
   "execution_count": 40,
   "metadata": {},
   "outputs": [
    {
     "name": "stdout",
     "output_type": "stream",
     "text": [
      "Connecting... "
     ]
    },
    {
     "data": {
      "text/html": [
       "<!DOCTYPE html>\n",
       "            <html><body>\n",
       "            <div style=''>\n",
       "            <a href='file:///e:/src/infosec-jupyterthon/docs/workshops/2021/notebooks_for_secutity_operations/day2/kqlmagic/temp_files/a706c8b6-beff-4e31-82fd-e7b660a3fe63/_8ecf8077-cf51-4820-aadd-14040956f35d_at_loganalytics_schema.html' style='padding: 2px 6px 2px 6px; color: #333333; background-color: #EEEEEE; border-top: 1px solid #CCCCCC; border-right: 1px solid #333333; border-bottom: 1px solid #333333; border-left: 1px solid #CCCCCC' target='_8ecf8077-cf51-4820-aadd-14040956f35d_at_loganalytics_schema'>popup schema 8ecf8077-cf51-4820-aadd-14040956f35d@loganalytics</a>\n",
       "            </div>\n",
       "            </body></html>"
      ],
      "text/plain": [
       "<IPython.core.display.HTML object>"
      ]
     },
     "metadata": {},
     "output_type": "display_data"
    },
    {
     "name": "stdout",
     "output_type": "stream",
     "text": [
      "connected\n",
      "Notebooklets: Loaded providers: AzureSentinel, geolitelookup, tilookup, azuredata\n"
     ]
    },
    {
     "data": {
      "application/vnd.jupyter.widget-view+json": {
       "model_id": "3cf881b4219d4a4aac9bc2207b04fa74",
       "version_major": 2,
       "version_minor": 0
      },
      "text/plain": [
       "VBox(children=(HBox(children=(VBox(children=(Select(options=(('AccountSummary', <class 'msticnb.nb.azsent.acco…"
      ]
     },
     "metadata": {},
     "output_type": "display_data"
    },
    {
     "data": {
      "text/plain": [
       "<msticnb.nb_browser.NBBrowser at 0x27695ade808>"
      ]
     },
     "execution_count": 40,
     "metadata": {},
     "output_type": "execute_result"
    }
   ],
   "source": [
    "# Import and initialize MSTIC Notebooklets - companion package\n",
    "# more later\n",
    "import msticnb as nb\n",
    "qry_prov_az.connect(WorkspaceConfig(workspace=\"CyberSecuritySoc\"))\n",
    "nb.init(query_provider=qry_prov_az)\n",
    "# qry_prov_az.connect(WorkspaceConfig(workspace=\"CyberSecuritySoc\"))\n",
    "\n",
    "nb.browse()"
   ]
  },
  {
   "cell_type": "code",
   "execution_count": 36,
   "metadata": {},
   "outputs": [
    {
     "data": {
      "application/vnd.jupyter.widget-view+json": {
       "model_id": "f25e5cf9b2d943ce9af708e307b4bf7a",
       "version_major": 2,
       "version_minor": 0
      },
      "text/plain": [
       "VBox(children=(HTML(value='<h4>Set query time boundaries</h4>'), HBox(children=(DatePicker(value=datetime.date…"
      ]
     },
     "metadata": {},
     "output_type": "display_data"
    }
   ],
   "source": [
    "host_time = nbwidgets.QueryTime()\n",
    "host_time"
   ]
  },
  {
   "cell_type": "code",
   "execution_count": 61,
   "metadata": {},
   "outputs": [
    {
     "data": {
      "text/html": [
       "<h1>Host Entity Summary</h1>"
      ],
      "text/plain": [
       "<IPython.core.display.HTML object>"
      ]
     },
     "metadata": {},
     "output_type": "display_data"
    },
    {
     "data": {
      "text/html": [
       "This shows a summary data for a host. It shows host properties obtained from OMS Heartbeat and Azure API.<br>It also lists Azure Sentinel alerts and bookmakrs related to to the host.<br>Data and plots are stored in the result class returned by this function."
      ],
      "text/plain": [
       "<IPython.core.display.HTML object>"
      ]
     },
     "metadata": {},
     "output_type": "display_data"
    },
    {
     "data": {
      "text/html": [
       "<p style=''>Getting data from SecurityEvent...</p>"
      ],
      "text/plain": [
       "<IPython.core.display.HTML object>"
      ]
     },
     "metadata": {},
     "output_type": "display_data"
    },
    {
     "data": {
      "text/html": [
       "<p style=''>Getting data from Syslog...</p>"
      ],
      "text/plain": [
       "<IPython.core.display.HTML object>"
      ]
     },
     "metadata": {},
     "output_type": "display_data"
    },
    {
     "name": "stdout",
     "output_type": "stream",
     "text": [
      "Unique host found: WORKSTATION6.seccxp.ninja\n"
     ]
    },
    {
     "data": {
      "text/html": [
       "<p style=''>Getting data from Heartbeat...</p>"
      ],
      "text/plain": [
       "<IPython.core.display.HTML object>"
      ]
     },
     "metadata": {},
     "output_type": "display_data"
    },
    {
     "data": {
      "text/html": [
       "<p style=''>Getting data from AzureNetworkAnalytics...</p>"
      ],
      "text/plain": [
       "<IPython.core.display.HTML object>"
      ]
     },
     "metadata": {},
     "output_type": "display_data"
    },
    {
     "data": {
      "text/html": [
       "<h2>Host Entity details</h2>"
      ],
      "text/plain": [
       "<IPython.core.display.HTML object>"
      ]
     },
     "metadata": {},
     "output_type": "display_data"
    },
    {
     "data": {
      "text/html": [
       "These are the host entity details gathered from Heartbeat and, if applicable, AzureNetworkAnalytics and Azure management API.<br>The data shows OS information, IP Addresses assigned the host and any Azure VM information available."
      ],
      "text/plain": [
       "<IPython.core.display.HTML object>"
      ]
     },
     "metadata": {},
     "output_type": "display_data"
    },
    {
     "name": "stdout",
     "output_type": "stream",
     "text": [
      "{ 'AdditionalData': {},\n",
      "  'AgentId': '8d523f9f-e3b9-4c11-9537-d0d018eb621c',\n",
      "  'AzureDetails': { 'ResourceDetails': { 'Admin User': 'ContosoAdmin',\n",
      "                                         'Azure Location': 'eastus',\n",
      "                                         'Disks': [],\n",
      "                                         'Image': 'Windows-10 19h2-pro',\n",
      "                                         'Network Interfaces': [ '/subscriptions/d1d8779d-38d7-4f06-91db-9cbc8de0176f/resourceGroups/Simuland/providers/Microsoft.Network/networkInterfaces/nic-WORKSTATION6'],\n",
      "                                         'Tags': 'None',\n",
      "                                         'VM Size': 'Standard_B2s'},\n",
      "                    'ResourceGroup': 'simuland',\n",
      "                    'ResourceId': '/subscriptions/d1d8779d-38d7-4f06-91db-9cbc8de0176f/resourceGroups/simuland/providers/Microsoft.Compute/virtualMachines/WORKSTATION6',\n",
      "                    'ResourceProvider': 'Microsoft.Compute',\n",
      "                    'ResourceType': 'virtualMachines',\n",
      "                    'SubscriptionDetails': { 'Display Name': 'CyberSecSOC',\n",
      "                                             'Spending Limit': 'Off',\n",
      "                                             'State': 'Enabled',\n",
      "                                             'Subscription ID': 'd1d8779d-38d7-4f06-91db-9cbc8de0176f',\n",
      "                                             'Subscription Location': 'Internal_2014-09-01',\n",
      "                                             'Subscription Quota': 'Internal_2014-09-01'},\n",
      "                    'SubscriptionId': 'd1d8779d-38d7-4f06-91db-9cbc8de0176f'},\n",
      "  'Environment': 'Azure',\n",
      "  'HostName': 'WORKSTATION6.seccxp.ninja',\n",
      "  'IpAddress': { 'AdditionalData': {},\n",
      "                 'Address': '20.124.213.107',\n",
      "                 'Location': { 'AdditionalData': {},\n",
      "                               'CountryName': 'United States',\n",
      "                               'Latitude': 47.68,\n",
      "                               'Longitude': -122.12,\n",
      "                               'Type': 'geolocation'},\n",
      "                 'ThreatIntelligence': [],\n",
      "                 'Type': 'ipaddress'},\n",
      "  'IpAddresses': [ IpAddress(Address=20.124.213.107, Location={ 'AdditionalData': {},\n",
      "  'CountryName': 'Unite...)],\n",
      "  'IsDomainJoined': False,\n",
      "  'OSFamily': <OSFamily.Windows: 1>,\n",
      "  'OSName': '',\n",
      "  'OSVMajorVersion': '10',\n",
      "  'OSVMinorVersion': '0',\n",
      "  'OmsSolutions': [ '\"behaviorAnalyticsInsights\"',\n",
      "                    '\"security\"',\n",
      "                    '\"changeTracking\"',\n",
      "                    '\"networkMonitoring\"',\n",
      "                    '\"dnsAnalytics\"',\n",
      "                    '\"securityCenterFree\"',\n",
      "                    '\"securityInsights\"',\n",
      "                    '\"windowsFirewall\"',\n",
      "                    '\"windowsEventForwarding\"',\n",
      "                    '\"sqlVulnerabilityAssessment\"',\n",
      "                    '\"sqlAdvancedThreatProtection\"',\n",
      "                    '\"vmInsights\"'],\n",
      "  'SourceComputerId': '8d523f9f-e3b9-4c11-9537-d0d018eb621c',\n",
      "  'Type': 'host',\n",
      "  'VMUUID': '87f0e74f-2ce2-42d3-a374-b00eee39b252'}\n"
     ]
    },
    {
     "data": {
      "text/html": [
       "<p style=''>Found 11 related alerts (6) types</p>"
      ],
      "text/plain": [
       "<IPython.core.display.HTML object>"
      ]
     },
     "metadata": {},
     "output_type": "display_data"
    },
    {
     "data": {
      "text/html": [
       "<h2>Timeline of related alerts</h2>"
      ],
      "text/plain": [
       "<IPython.core.display.HTML object>"
      ]
     },
     "metadata": {},
     "output_type": "display_data"
    },
    {
     "data": {
      "text/html": [
       "Each marker on the timeline indicates one or more alerts related to the host."
      ],
      "text/plain": [
       "<IPython.core.display.HTML object>"
      ]
     },
     "metadata": {},
     "output_type": "display_data"
    },
    {
     "data": {
      "text/html": [
       "\n",
       "    <div class=\"bk-root\">\n",
       "        <a href=\"https://bokeh.org\" target=\"_blank\" class=\"bk-logo bk-logo-small bk-logo-notebook\"></a>\n",
       "        <span id=\"1296\">Loading BokehJS ...</span>\n",
       "    </div>"
      ]
     },
     "metadata": {},
     "output_type": "display_data"
    },
    {
     "data": {
      "application/javascript": "\n(function(root) {\n  function now() {\n    return new Date();\n  }\n\n  var force = true;\n\n  if (typeof root._bokeh_onload_callbacks === \"undefined\" || force === true) {\n    root._bokeh_onload_callbacks = [];\n    root._bokeh_is_loading = undefined;\n  }\n\n  var JS_MIME_TYPE = 'application/javascript';\n  var HTML_MIME_TYPE = 'text/html';\n  var EXEC_MIME_TYPE = 'application/vnd.bokehjs_exec.v0+json';\n  var CLASS_NAME = 'output_bokeh rendered_html';\n\n  /**\n   * Render data to the DOM node\n   */\n  function render(props, node) {\n    var script = document.createElement(\"script\");\n    node.appendChild(script);\n  }\n\n  /**\n   * Handle when an output is cleared or removed\n   */\n  function handleClearOutput(event, handle) {\n    var cell = handle.cell;\n\n    var id = cell.output_area._bokeh_element_id;\n    var server_id = cell.output_area._bokeh_server_id;\n    // Clean up Bokeh references\n    if (id != null && id in Bokeh.index) {\n      Bokeh.index[id].model.document.clear();\n      delete Bokeh.index[id];\n    }\n\n    if (server_id !== undefined) {\n      // Clean up Bokeh references\n      var cmd = \"from bokeh.io.state import curstate; print(curstate().uuid_to_server['\" + server_id + \"'].get_sessions()[0].document.roots[0]._id)\";\n      cell.notebook.kernel.execute(cmd, {\n        iopub: {\n          output: function(msg) {\n            var id = msg.content.text.trim();\n            if (id in Bokeh.index) {\n              Bokeh.index[id].model.document.clear();\n              delete Bokeh.index[id];\n            }\n          }\n        }\n      });\n      // Destroy server and session\n      var cmd = \"import bokeh.io.notebook as ion; ion.destroy_server('\" + server_id + \"')\";\n      cell.notebook.kernel.execute(cmd);\n    }\n  }\n\n  /**\n   * Handle when a new output is added\n   */\n  function handleAddOutput(event, handle) {\n    var output_area = handle.output_area;\n    var output = handle.output;\n\n    // limit handleAddOutput to display_data with EXEC_MIME_TYPE content only\n    if ((output.output_type != \"display_data\") || (!Object.prototype.hasOwnProperty.call(output.data, EXEC_MIME_TYPE))) {\n      return\n    }\n\n    var toinsert = output_area.element.find(\".\" + CLASS_NAME.split(' ')[0]);\n\n    if (output.metadata[EXEC_MIME_TYPE][\"id\"] !== undefined) {\n      toinsert[toinsert.length - 1].firstChild.textContent = output.data[JS_MIME_TYPE];\n      // store reference to embed id on output_area\n      output_area._bokeh_element_id = output.metadata[EXEC_MIME_TYPE][\"id\"];\n    }\n    if (output.metadata[EXEC_MIME_TYPE][\"server_id\"] !== undefined) {\n      var bk_div = document.createElement(\"div\");\n      bk_div.innerHTML = output.data[HTML_MIME_TYPE];\n      var script_attrs = bk_div.children[0].attributes;\n      for (var i = 0; i < script_attrs.length; i++) {\n        toinsert[toinsert.length - 1].firstChild.setAttribute(script_attrs[i].name, script_attrs[i].value);\n        toinsert[toinsert.length - 1].firstChild.textContent = bk_div.children[0].textContent\n      }\n      // store reference to server id on output_area\n      output_area._bokeh_server_id = output.metadata[EXEC_MIME_TYPE][\"server_id\"];\n    }\n  }\n\n  function register_renderer(events, OutputArea) {\n\n    function append_mime(data, metadata, element) {\n      // create a DOM node to render to\n      var toinsert = this.create_output_subarea(\n        metadata,\n        CLASS_NAME,\n        EXEC_MIME_TYPE\n      );\n      this.keyboard_manager.register_events(toinsert);\n      // Render to node\n      var props = {data: data, metadata: metadata[EXEC_MIME_TYPE]};\n      render(props, toinsert[toinsert.length - 1]);\n      element.append(toinsert);\n      return toinsert\n    }\n\n    /* Handle when an output is cleared or removed */\n    events.on('clear_output.CodeCell', handleClearOutput);\n    events.on('delete.Cell', handleClearOutput);\n\n    /* Handle when a new output is added */\n    events.on('output_added.OutputArea', handleAddOutput);\n\n    /**\n     * Register the mime type and append_mime function with output_area\n     */\n    OutputArea.prototype.register_mime_type(EXEC_MIME_TYPE, append_mime, {\n      /* Is output safe? */\n      safe: true,\n      /* Index of renderer in `output_area.display_order` */\n      index: 0\n    });\n  }\n\n  // register the mime type if in Jupyter Notebook environment and previously unregistered\n  if (root.Jupyter !== undefined) {\n    var events = require('base/js/events');\n    var OutputArea = require('notebook/js/outputarea').OutputArea;\n\n    if (OutputArea.prototype.mime_types().indexOf(EXEC_MIME_TYPE) == -1) {\n      register_renderer(events, OutputArea);\n    }\n  }\n\n  \n  if (typeof (root._bokeh_timeout) === \"undefined\" || force === true) {\n    root._bokeh_timeout = Date.now() + 5000;\n    root._bokeh_failed_load = false;\n  }\n\n  var NB_LOAD_WARNING = {'data': {'text/html':\n     \"<div style='background-color: #fdd'>\\n\"+\n     \"<p>\\n\"+\n     \"BokehJS does not appear to have successfully loaded. If loading BokehJS from CDN, this \\n\"+\n     \"may be due to a slow or bad network connection. Possible fixes:\\n\"+\n     \"</p>\\n\"+\n     \"<ul>\\n\"+\n     \"<li>re-rerun `output_notebook()` to attempt to load from CDN again, or</li>\\n\"+\n     \"<li>use INLINE resources instead, as so:</li>\\n\"+\n     \"</ul>\\n\"+\n     \"<code>\\n\"+\n     \"from bokeh.resources import INLINE\\n\"+\n     \"output_notebook(resources=INLINE)\\n\"+\n     \"</code>\\n\"+\n     \"</div>\"}};\n\n  function display_loaded() {\n    var el = document.getElementById(\"1296\");\n    if (el != null) {\n      el.textContent = \"BokehJS is loading...\";\n    }\n    if (root.Bokeh !== undefined) {\n      if (el != null) {\n        el.textContent = \"BokehJS \" + root.Bokeh.version + \" successfully loaded.\";\n      }\n    } else if (Date.now() < root._bokeh_timeout) {\n      setTimeout(display_loaded, 100)\n    }\n  }\n\n\n  function run_callbacks() {\n    try {\n      root._bokeh_onload_callbacks.forEach(function(callback) {\n        if (callback != null)\n          callback();\n      });\n    } finally {\n      delete root._bokeh_onload_callbacks\n    }\n    console.debug(\"Bokeh: all callbacks have finished\");\n  }\n\n  function load_libs(css_urls, js_urls, callback) {\n    if (css_urls == null) css_urls = [];\n    if (js_urls == null) js_urls = [];\n\n    root._bokeh_onload_callbacks.push(callback);\n    if (root._bokeh_is_loading > 0) {\n      console.debug(\"Bokeh: BokehJS is being loaded, scheduling callback at\", now());\n      return null;\n    }\n    if (js_urls == null || js_urls.length === 0) {\n      run_callbacks();\n      return null;\n    }\n    console.debug(\"Bokeh: BokehJS not loaded, scheduling load and callback at\", now());\n    root._bokeh_is_loading = css_urls.length + js_urls.length;\n\n    function on_load() {\n      root._bokeh_is_loading--;\n      if (root._bokeh_is_loading === 0) {\n        console.debug(\"Bokeh: all BokehJS libraries/stylesheets loaded\");\n        run_callbacks()\n      }\n    }\n\n    function on_error(url) {\n      console.error(\"failed to load \" + url);\n    }\n\n    for (let i = 0; i < css_urls.length; i++) {\n      const url = css_urls[i];\n      const element = document.createElement(\"link\");\n      element.onload = on_load;\n      element.onerror = on_error.bind(null, url);\n      element.rel = \"stylesheet\";\n      element.type = \"text/css\";\n      element.href = url;\n      console.debug(\"Bokeh: injecting link tag for BokehJS stylesheet: \", url);\n      document.body.appendChild(element);\n    }\n\n    const hashes = {\"https://cdn.bokeh.org/bokeh/release/bokeh-2.3.2.min.js\": \"XypntL49z55iwGVUW4qsEu83zKL3XEcz0MjuGOQ9SlaaQ68X/g+k1FcioZi7oQAc\", \"https://cdn.bokeh.org/bokeh/release/bokeh-tables-2.3.2.min.js\": \"bEsM86IHGDTLCS0Zod8a8WM6Y4+lafAL/eSiyQcuPzinmWNgNO2/olUF0Z2Dkn5i\", \"https://cdn.bokeh.org/bokeh/release/bokeh-widgets-2.3.2.min.js\": \"TX0gSQTdXTTeScqxj6PVQxTiRW8DOoGVwinyi1D3kxv7wuxQ02XkOxv0xwiypcAH\"};\n\n    for (let i = 0; i < js_urls.length; i++) {\n      const url = js_urls[i];\n      const element = document.createElement('script');\n      element.onload = on_load;\n      element.onerror = on_error.bind(null, url);\n      element.async = false;\n      element.src = url;\n      if (url in hashes) {\n        element.crossOrigin = \"anonymous\";\n        element.integrity = \"sha384-\" + hashes[url];\n      }\n      console.debug(\"Bokeh: injecting script tag for BokehJS library: \", url);\n      document.head.appendChild(element);\n    }\n  };\n\n  function inject_raw_css(css) {\n    const element = document.createElement(\"style\");\n    element.appendChild(document.createTextNode(css));\n    document.body.appendChild(element);\n  }\n\n  \n  var js_urls = [\"https://cdn.bokeh.org/bokeh/release/bokeh-2.3.2.min.js\", \"https://cdn.bokeh.org/bokeh/release/bokeh-widgets-2.3.2.min.js\", \"https://cdn.bokeh.org/bokeh/release/bokeh-tables-2.3.2.min.js\"];\n  var css_urls = [];\n  \n\n  var inline_js = [\n    function(Bokeh) {\n      Bokeh.set_log_level(\"info\");\n    },\n    function(Bokeh) {\n    \n    \n    }\n  ];\n\n  function run_inline_js() {\n    \n    if (root.Bokeh !== undefined || force === true) {\n      \n    for (var i = 0; i < inline_js.length; i++) {\n      inline_js[i].call(root, root.Bokeh);\n    }\n    if (force === true) {\n        display_loaded();\n      }} else if (Date.now() < root._bokeh_timeout) {\n      setTimeout(run_inline_js, 100);\n    } else if (!root._bokeh_failed_load) {\n      console.log(\"Bokeh: BokehJS failed to load within specified timeout.\");\n      root._bokeh_failed_load = true;\n    } else if (force !== true) {\n      var cell = $(document.getElementById(\"1296\")).parents('.cell').data().cell;\n      cell.output_area.append_execute_result(NB_LOAD_WARNING)\n    }\n\n  }\n\n  if (root._bokeh_is_loading === 0) {\n    console.debug(\"Bokeh: BokehJS loaded, going straight to plotting\");\n    run_inline_js();\n  } else {\n    load_libs(css_urls, js_urls, function() {\n      console.debug(\"Bokeh: BokehJS plotting callback run at\", now());\n      run_inline_js();\n    });\n  }\n}(window));",
      "application/vnd.bokehjs_load.v0+json": ""
     },
     "metadata": {},
     "output_type": "display_data"
    },
    {
     "data": {
      "text/html": [
       "\n",
       "\n",
       "\n",
       "\n",
       "\n",
       "\n",
       "  <div class=\"bk-root\" id=\"b8b45f2f-2ade-47aa-9a0a-a04b18c58e08\" data-root-id=\"1367\"></div>\n"
      ]
     },
     "metadata": {},
     "output_type": "display_data"
    },
    {
     "data": {
      "application/javascript": "(function(root) {\n  function embed_document(root) {\n    \n  var docs_json = {\"1393dd05-66f9-4923-90f1-c1130b85bb35\":{\"defs\":[],\"roots\":{\"references\":[{\"attributes\":{\"children\":[{\"id\":\"1299\"},{\"id\":\"1331\"}]},\"id\":\"1367\",\"type\":\"Column\"},{\"attributes\":{\"source\":{\"id\":\"1297\"}},\"id\":\"1366\",\"type\":\"CDSView\"},{\"attributes\":{\"days\":[1,8,15,22]},\"id\":\"1397\",\"type\":\"DaysTicker\"},{\"attributes\":{\"days\":[\"%m-%d %H:%M\"],\"hours\":[\"%H:%M:%S\"],\"milliseconds\":[\"%H:%M:%S.%3N\"],\"minutes\":[\"%H:%M:%S\"],\"seconds\":[\"%H:%M:%S\"]},\"id\":\"1360\",\"type\":\"DatetimeTickFormatter\"},{\"attributes\":{\"months\":[0,1,2,3,4,5,6,7,8,9,10,11]},\"id\":\"1386\",\"type\":\"MonthsTicker\"},{\"attributes\":{\"dimensions\":\"width\"},\"id\":\"1318\",\"type\":\"WheelZoomTool\"},{\"attributes\":{\"mantissas\":[1,2,5],\"max_interval\":500.0,\"num_minor_ticks\":0},\"id\":\"1379\",\"type\":\"AdaptiveTicker\"},{\"attributes\":{\"fill_alpha\":0.2,\"fill_color\":\"navy\",\"level\":\"overlay\",\"line_alpha\":1.0,\"line_color\":\"black\",\"line_dash\":[2,2],\"line_width\":0.5,\"syncable\":false},\"id\":\"1356\",\"type\":\"BoxAnnotation\"},{\"attributes\":{},\"id\":\"1336\",\"type\":\"DataRange1d\"},{\"attributes\":{\"mantissas\":[1,2,5],\"max_interval\":500.0,\"num_minor_ticks\":0},\"id\":\"1392\",\"type\":\"AdaptiveTicker\"},{\"attributes\":{\"days\":[1,2,3,4,5,6,7,8,9,10,11,12,13,14,15,16,17,18,19,20,21,22,23,24,25,26,27,28,29,30,31]},\"id\":\"1395\",\"type\":\"DaysTicker\"},{\"attributes\":{},\"id\":\"1340\",\"type\":\"LinearScale\"},{\"attributes\":{},\"id\":\"1377\",\"type\":\"Selection\"},{\"attributes\":{\"months\":[0,6]},\"id\":\"1402\",\"type\":\"MonthsTicker\"},{\"attributes\":{\"align\":\"right\",\"text\":\"Drag the middle or edges of the selection box to change the range in the main chart\",\"text_font_size\":\"10px\"},\"id\":\"1347\",\"type\":\"Title\"},{\"attributes\":{},\"id\":\"1372\",\"type\":\"BasicTickFormatter\"},{\"attributes\":{\"days\":[1,15]},\"id\":\"1385\",\"type\":\"DaysTicker\"},{\"attributes\":{\"end\":1637222805380.7,\"start\":1637160828492.3},\"id\":\"1302\",\"type\":\"Range1d\"},{\"attributes\":{},\"id\":\"1321\",\"type\":\"SaveTool\"},{\"attributes\":{\"base\":60,\"mantissas\":[1,2,5,10,15,20,30],\"max_interval\":1800000.0,\"min_interval\":1000.0,\"num_minor_ticks\":0},\"id\":\"1380\",\"type\":\"AdaptiveTicker\"},{\"attributes\":{\"axis_label\":\"Event Time\",\"formatter\":{\"id\":\"1360\"},\"major_label_policy\":{\"id\":\"1370\"},\"ticker\":{\"id\":\"1311\"}},\"id\":\"1310\",\"type\":\"DatetimeAxis\"},{\"attributes\":{\"days\":[1,4,7,10,13,16,19,22,25,28]},\"id\":\"1383\",\"type\":\"DaysTicker\"},{\"attributes\":{},\"id\":\"1306\",\"type\":\"LinearScale\"},{\"attributes\":{\"active_multi\":{\"id\":\"1355\"},\"tools\":[{\"id\":\"1355\"}]},\"id\":\"1346\",\"type\":\"Toolbar\"},{\"attributes\":{\"fill_color\":{\"value\":\"navy\"},\"line_color\":{\"value\":\"navy\"},\"x\":{\"field\":\"TimeGenerated\"},\"y\":{\"field\":\"y_index\"}},\"id\":\"1351\",\"type\":\"Circle\"},{\"attributes\":{\"bottom_units\":\"screen\",\"fill_alpha\":0.5,\"fill_color\":\"lightgrey\",\"left_units\":\"screen\",\"level\":\"overlay\",\"line_alpha\":1.0,\"line_color\":\"black\",\"line_dash\":[4,4],\"line_width\":2,\"right_units\":\"screen\",\"syncable\":false,\"top_units\":\"screen\"},\"id\":\"1323\",\"type\":\"BoxAnnotation\"},{\"attributes\":{\"axis\":{\"id\":\"1314\"},\"dimension\":1,\"grid_line_color\":null,\"ticker\":null},\"id\":\"1317\",\"type\":\"Grid\"},{\"attributes\":{\"fill_alpha\":{\"value\":0.1},\"fill_color\":{\"value\":\"navy\"},\"line_alpha\":{\"value\":0.1},\"line_color\":{\"value\":\"navy\"},\"marker\":{\"value\":\"diamond\"},\"size\":{\"value\":10},\"x\":{\"field\":\"TimeGenerated\"},\"y\":{\"field\":\"y_index\"}},\"id\":\"1364\",\"type\":\"Scatter\"},{\"attributes\":{},\"id\":\"1375\",\"type\":\"AllLabels\"},{\"attributes\":{\"text\":\"Timeline: Related Alerts\"},\"id\":\"1300\",\"type\":\"Title\"},{\"attributes\":{\"overlay\":{\"id\":\"1323\"}},\"id\":\"1319\",\"type\":\"BoxZoomTool\"},{\"attributes\":{\"base\":24,\"mantissas\":[1,2,4,6,8,12],\"max_interval\":43200000.0,\"min_interval\":3600000.0,\"num_minor_ticks\":0},\"id\":\"1394\",\"type\":\"AdaptiveTicker\"},{\"attributes\":{\"data\":{\"AlertName\":[\"Suspicious System Owner/User Discovery\",\"Suspicious sequence of exploration activities\",\"A process was injected with potentially malicious\\ncode\",\"Possible attempt to steal credentials\",\"Suspicious User Account Discovery\",\"Possible attempt to steal credentials\",\"Suspicious sequence of exploration activities\",\"Possible attempt to steal credentials\",\"Suspicious System Owner/User Discovery\",\"Possible attempt to steal credentials\",\"Suspicious URL clicked\"],\"TimeGenerated\":{\"__ndarray__\":\"AMDTKOvSd0IA4NEo69J3QgAQ0Sjr0ndCAHDRKOvSd0IAcNMo69J3QgCAPeLs0ndCAOAPZRrTd0IAAAxqHNN3QgAQ17Ea03dCAIDXsRrTd0IAsHw7G9N3Qg==\",\"dtype\":\"float64\",\"order\":\"little\",\"shape\":[11]},\"index\":[0,1,2,3,4,5,6,7,8,9,10],\"y_index\":[0,0,0,0,0,0,0,0,0,0,0]},\"selected\":{\"id\":\"1377\"},\"selection_policy\":{\"id\":\"1378\"}},\"id\":\"1297\",\"type\":\"ColumnDataSource\"},{\"attributes\":{\"dimensions\":\"width\"},\"id\":\"1322\",\"type\":\"PanTool\"},{\"attributes\":{},\"id\":\"1390\",\"type\":\"YearsTicker\"},{\"attributes\":{\"days\":[1,8,15,22]},\"id\":\"1384\",\"type\":\"DaysTicker\"},{\"attributes\":{\"days\":[1,4,7,10,13,16,19,22,25,28]},\"id\":\"1396\",\"type\":\"DaysTicker\"},{\"attributes\":{},\"id\":\"1315\",\"type\":\"BasicTicker\"},{\"attributes\":{},\"id\":\"1320\",\"type\":\"ResetTool\"},{\"attributes\":{},\"id\":\"1378\",\"type\":\"UnionRenderers\"},{\"attributes\":{\"months\":[0,4,8]},\"id\":\"1401\",\"type\":\"MonthsTicker\"},{\"attributes\":{\"formatter\":{\"id\":\"1372\"},\"major_label_policy\":{\"id\":\"1373\"},\"ticker\":{\"id\":\"1315\"},\"visible\":false},\"id\":\"1314\",\"type\":\"LinearAxis\"},{\"attributes\":{\"text\":\"Range Selector\"},\"id\":\"1332\",\"type\":\"Title\"},{\"attributes\":{},\"id\":\"1373\",\"type\":\"AllLabels\"},{\"attributes\":{\"days\":[1,2,3,4,5,6,7,8,9,10,11,12,13,14,15,16,17,18,19,20,21,22,23,24,25,26,27,28,29,30,31]},\"id\":\"1382\",\"type\":\"DaysTicker\"},{\"attributes\":{},\"id\":\"1338\",\"type\":\"LinearScale\"},{\"attributes\":{\"months\":[0,4,8]},\"id\":\"1388\",\"type\":\"MonthsTicker\"},{\"attributes\":{\"months\":[0,1,2,3,4,5,6,7,8,9,10,11]},\"id\":\"1399\",\"type\":\"MonthsTicker\"},{\"attributes\":{},\"id\":\"1403\",\"type\":\"YearsTicker\"},{\"attributes\":{\"callback\":null,\"formatters\":{\"@TimeGenerated\":\"datetime\"},\"tooltips\":[[\"TimeGenerated\",\"@TimeGenerated{%F %T.%3N}\"],[\"AlertName\",\"@AlertName\"]]},\"id\":\"1298\",\"type\":\"HoverTool\"},{\"attributes\":{\"base\":60,\"mantissas\":[1,2,5,10,15,20,30],\"max_interval\":1800000.0,\"min_interval\":1000.0,\"num_minor_ticks\":0},\"id\":\"1393\",\"type\":\"AdaptiveTicker\"},{\"attributes\":{\"axis\":{\"id\":\"1310\"},\"minor_grid_line_alpha\":0.3,\"minor_grid_line_color\":\"navy\",\"ticker\":null},\"id\":\"1313\",\"type\":\"Grid\"},{\"attributes\":{\"data_source\":{\"id\":\"1297\"},\"glyph\":{\"id\":\"1351\"},\"hover_glyph\":null,\"muted_glyph\":null,\"nonselection_glyph\":{\"id\":\"1352\"},\"view\":{\"id\":\"1354\"}},\"id\":\"1353\",\"type\":\"GlyphRenderer\"},{\"attributes\":{\"axis\":{\"id\":\"1342\"},\"ticker\":null},\"id\":\"1345\",\"type\":\"Grid\"},{\"attributes\":{\"months\":[0,2,4,6,8,10]},\"id\":\"1400\",\"type\":\"MonthsTicker\"},{\"attributes\":{\"start\":-1.0},\"id\":\"1304\",\"type\":\"Range1d\"},{\"attributes\":{},\"id\":\"1308\",\"type\":\"LinearScale\"},{\"attributes\":{\"fill_alpha\":{\"value\":0.1},\"fill_color\":{\"value\":\"navy\"},\"line_alpha\":{\"value\":0.1},\"line_color\":{\"value\":\"navy\"},\"x\":{\"field\":\"TimeGenerated\"},\"y\":{\"field\":\"y_index\"}},\"id\":\"1352\",\"type\":\"Circle\"},{\"attributes\":{\"below\":[{\"id\":\"1342\"},{\"id\":\"1347\"}],\"center\":[{\"id\":\"1345\"}],\"height\":120,\"renderers\":[{\"id\":\"1353\"}],\"title\":{\"id\":\"1332\"},\"toolbar\":{\"id\":\"1346\"},\"toolbar_location\":null,\"width\":900,\"x_range\":{\"id\":\"1334\"},\"x_scale\":{\"id\":\"1338\"},\"y_range\":{\"id\":\"1336\"},\"y_scale\":{\"id\":\"1340\"}},\"id\":\"1331\",\"subtype\":\"Figure\",\"type\":\"Plot\"},{\"attributes\":{\"fill_alpha\":{\"value\":0.5},\"fill_color\":{\"value\":\"navy\"},\"line_alpha\":{\"value\":0.5},\"line_color\":{\"value\":\"navy\"},\"marker\":{\"value\":\"diamond\"},\"size\":{\"value\":10},\"x\":{\"field\":\"TimeGenerated\"},\"y\":{\"field\":\"y_index\"}},\"id\":\"1363\",\"type\":\"Scatter\"},{\"attributes\":{\"num_minor_ticks\":5,\"tickers\":[{\"id\":\"1392\"},{\"id\":\"1393\"},{\"id\":\"1394\"},{\"id\":\"1395\"},{\"id\":\"1396\"},{\"id\":\"1397\"},{\"id\":\"1398\"},{\"id\":\"1399\"},{\"id\":\"1400\"},{\"id\":\"1401\"},{\"id\":\"1402\"},{\"id\":\"1403\"}]},\"id\":\"1343\",\"type\":\"DatetimeTicker\"},{\"attributes\":{\"days\":[1,15]},\"id\":\"1398\",\"type\":\"DaysTicker\"},{\"attributes\":{\"formatter\":{\"id\":\"1348\"},\"major_label_policy\":{\"id\":\"1375\"},\"ticker\":{\"id\":\"1343\"}},\"id\":\"1342\",\"type\":\"DatetimeAxis\"},{\"attributes\":{\"overlay\":{\"id\":\"1356\"},\"x_range\":{\"id\":\"1302\"},\"y_range\":null},\"id\":\"1355\",\"type\":\"RangeTool\"},{\"attributes\":{\"months\":[0,2,4,6,8,10]},\"id\":\"1387\",\"type\":\"MonthsTicker\"},{\"attributes\":{},\"id\":\"1370\",\"type\":\"AllLabels\"},{\"attributes\":{\"num_minor_ticks\":10,\"tickers\":[{\"id\":\"1379\"},{\"id\":\"1380\"},{\"id\":\"1381\"},{\"id\":\"1382\"},{\"id\":\"1383\"},{\"id\":\"1384\"},{\"id\":\"1385\"},{\"id\":\"1386\"},{\"id\":\"1387\"},{\"id\":\"1388\"},{\"id\":\"1389\"},{\"id\":\"1390\"}]},\"id\":\"1311\",\"type\":\"DatetimeTicker\"},{\"attributes\":{\"base\":24,\"mantissas\":[1,2,4,6,8,12],\"max_interval\":43200000.0,\"min_interval\":3600000.0,\"num_minor_ticks\":0},\"id\":\"1381\",\"type\":\"AdaptiveTicker\"},{\"attributes\":{\"active_multi\":null,\"tools\":[{\"id\":\"1298\"},{\"id\":\"1318\"},{\"id\":\"1319\"},{\"id\":\"1320\"},{\"id\":\"1321\"},{\"id\":\"1322\"}]},\"id\":\"1324\",\"type\":\"Toolbar\"},{\"attributes\":{\"end\":1637225387751.05,\"start\":1637158246121.95},\"id\":\"1334\",\"type\":\"Range1d\"},{\"attributes\":{\"days\":[\"%m-%d %H:%M\"],\"hours\":[\"%H:%M:%S\"],\"milliseconds\":[\"%H:%M:%S.%3N\"],\"minutes\":[\"%H:%M:%S\"],\"seconds\":[\"%H:%M:%S\"]},\"id\":\"1348\",\"type\":\"DatetimeTickFormatter\"},{\"attributes\":{\"months\":[0,6]},\"id\":\"1389\",\"type\":\"MonthsTicker\"},{\"attributes\":{\"below\":[{\"id\":\"1310\"}],\"center\":[{\"id\":\"1313\"},{\"id\":\"1317\"}],\"height\":200,\"left\":[{\"id\":\"1314\"}],\"min_border_left\":50,\"renderers\":[{\"id\":\"1365\"}],\"title\":{\"id\":\"1300\"},\"toolbar\":{\"id\":\"1324\"},\"width\":900,\"x_range\":{\"id\":\"1302\"},\"x_scale\":{\"id\":\"1306\"},\"y_range\":{\"id\":\"1304\"},\"y_scale\":{\"id\":\"1308\"}},\"id\":\"1299\",\"subtype\":\"Figure\",\"type\":\"Plot\"},{\"attributes\":{\"source\":{\"id\":\"1297\"}},\"id\":\"1354\",\"type\":\"CDSView\"},{\"attributes\":{\"data_source\":{\"id\":\"1297\"},\"glyph\":{\"id\":\"1363\"},\"hover_glyph\":null,\"muted_glyph\":null,\"nonselection_glyph\":{\"id\":\"1364\"},\"view\":{\"id\":\"1366\"}},\"id\":\"1365\",\"type\":\"GlyphRenderer\"}],\"root_ids\":[\"1367\"]},\"title\":\"Bokeh Application\",\"version\":\"2.3.2\"}};\n  var render_items = [{\"docid\":\"1393dd05-66f9-4923-90f1-c1130b85bb35\",\"root_ids\":[\"1367\"],\"roots\":{\"1367\":\"b8b45f2f-2ade-47aa-9a0a-a04b18c58e08\"}}];\n  root.Bokeh.embed.embed_items_notebook(docs_json, render_items);\n\n  }\n  if (root.Bokeh !== undefined) {\n    embed_document(root);\n  } else {\n    var attempts = 0;\n    var timer = setInterval(function(root) {\n      if (root.Bokeh !== undefined) {\n        clearInterval(timer);\n        embed_document(root);\n      } else {\n        attempts++;\n        if (attempts > 100) {\n          clearInterval(timer);\n          console.log(\"Bokeh: ERROR: Unable to run BokehJS code because BokehJS library is missing\");\n        }\n      }\n    }, 10, root)\n  }\n})(window);",
      "application/vnd.bokehjs_exec.v0+json": ""
     },
     "metadata": {
      "application/vnd.bokehjs_exec.v0+json": {
       "id": "1367"
      }
     },
     "output_type": "display_data"
    },
    {
     "data": {
      "text/html": [
       "<p style=''>Getting data from Bookmarks...</p>"
      ],
      "text/plain": [
       "<IPython.core.display.HTML object>"
      ]
     },
     "metadata": {},
     "output_type": "display_data"
    },
    {
     "data": {
      "text/html": [
       "<p style=''>No bookmarks found.</p>"
      ],
      "text/plain": [
       "<IPython.core.display.HTML object>"
      ]
     },
     "metadata": {},
     "output_type": "display_data"
    }
   ],
   "source": [
    "host_summary = nb.nblts.azsent.host.HostSummary()\n",
    "\n",
    "host_summary_rslt = host_summary.run(value=\"WORKSTATION6\", timespan=host_time)#, options=[\"-bookmarks\", \"-azure_api\"])"
   ]
  },
  {
   "cell_type": "code",
   "execution_count": 62,
   "metadata": {},
   "outputs": [
    {
     "data": {
      "application/vnd.jupyter.widget-view+json": {
       "model_id": "3131b56cff5e44d58da610ed9afa9d37",
       "version_major": 2,
       "version_minor": 0
      },
      "text/plain": [
       "VBox(children=(Text(value='', description='Filter alerts by title:', style=DescriptionStyle(description_width=…"
      ]
     },
     "metadata": {},
     "output_type": "display_data"
    },
    {
     "data": {
      "text/html": [
       "<hr>"
      ],
      "text/plain": [
       "<IPython.core.display.HTML object>"
      ]
     },
     "metadata": {},
     "output_type": "display_data"
    },
    {
     "data": {
      "text/html": [
       "\n",
       "            <h3>Selected Alert: 'Suspicious sequence of exploration activities'</h3>\n",
       "            <b>Alert_time:</b> 2021-11-17 16:09:27.102000+00:00,&nbsp;\n",
       "            <b>Compr_entity:</b> workstation6.seccxp.ninja,&nbsp;\n",
       "            <b>Alert_id:</b> a5cbbb2b-eda3-bc4f-5d96-930ad6181242\n",
       "            <br/>\n",
       "            "
      ],
      "text/plain": [
       "<IPython.core.display.HTML object>"
      ]
     },
     "metadata": {},
     "output_type": "display_data"
    },
    {
     "data": {
      "text/html": [
       "<div>\n",
       "<style scoped>\n",
       "    .dataframe tbody tr th:only-of-type {\n",
       "        vertical-align: middle;\n",
       "    }\n",
       "\n",
       "    .dataframe tbody tr th {\n",
       "        vertical-align: top;\n",
       "    }\n",
       "\n",
       "    .dataframe thead th {\n",
       "        text-align: right;\n",
       "    }\n",
       "</style>\n",
       "<table border=\"1\" class=\"dataframe\">\n",
       "  <thead>\n",
       "    <tr style=\"text-align: right;\">\n",
       "      <th></th>\n",
       "      <th>1</th>\n",
       "    </tr>\n",
       "  </thead>\n",
       "  <tbody>\n",
       "    <tr>\n",
       "      <th>TenantId</th>\n",
       "      <td>8ecf8077-cf51-4820-aadd-14040956f35d</td>\n",
       "    </tr>\n",
       "    <tr>\n",
       "      <th>TimeGenerated</th>\n",
       "      <td>2021-11-17 16:19:53.246000+00:00</td>\n",
       "    </tr>\n",
       "    <tr>\n",
       "      <th>AlertDisplayName</th>\n",
       "      <td>Suspicious sequence of exploration activities</td>\n",
       "    </tr>\n",
       "    <tr>\n",
       "      <th>AlertName</th>\n",
       "      <td>Suspicious sequence of exploration activities</td>\n",
       "    </tr>\n",
       "    <tr>\n",
       "      <th>Severity</th>\n",
       "      <td>Low</td>\n",
       "    </tr>\n",
       "    <tr>\n",
       "      <th>Description</th>\n",
       "      <td>A process called a set of windows commands. Th...</td>\n",
       "    </tr>\n",
       "    <tr>\n",
       "      <th>ProviderName</th>\n",
       "      <td>MDATP</td>\n",
       "    </tr>\n",
       "    <tr>\n",
       "      <th>VendorName</th>\n",
       "      <td>Microsoft</td>\n",
       "    </tr>\n",
       "    <tr>\n",
       "      <th>VendorOriginalId</th>\n",
       "      <td>da637727623240555991_-1853951830</td>\n",
       "    </tr>\n",
       "    <tr>\n",
       "      <th>SystemAlertId</th>\n",
       "      <td>a5cbbb2b-eda3-bc4f-5d96-930ad6181242</td>\n",
       "    </tr>\n",
       "    <tr>\n",
       "      <th>ResourceId</th>\n",
       "      <td></td>\n",
       "    </tr>\n",
       "    <tr>\n",
       "      <th>SourceComputerId</th>\n",
       "      <td></td>\n",
       "    </tr>\n",
       "    <tr>\n",
       "      <th>AlertType</th>\n",
       "      <td>WindowsDefenderAtp</td>\n",
       "    </tr>\n",
       "    <tr>\n",
       "      <th>ConfidenceLevel</th>\n",
       "      <td></td>\n",
       "    </tr>\n",
       "    <tr>\n",
       "      <th>ConfidenceScore</th>\n",
       "      <td>NaN</td>\n",
       "    </tr>\n",
       "    <tr>\n",
       "      <th>IsIncident</th>\n",
       "      <td>False</td>\n",
       "    </tr>\n",
       "    <tr>\n",
       "      <th>StartTimeUtc</th>\n",
       "      <td>2021-11-17 16:09:27.102000+00:00</td>\n",
       "    </tr>\n",
       "    <tr>\n",
       "      <th>EndTimeUtc</th>\n",
       "      <td>2021-11-17 16:09:35.222000+00:00</td>\n",
       "    </tr>\n",
       "    <tr>\n",
       "      <th>ProcessingEndTime</th>\n",
       "      <td>2021-11-17 16:19:53.135000+00:00</td>\n",
       "    </tr>\n",
       "    <tr>\n",
       "      <th>RemediationSteps</th>\n",
       "      <td>[\\r\\n  \"1. Make sure the machine is completely...</td>\n",
       "    </tr>\n",
       "    <tr>\n",
       "      <th>ExtendedProperties</th>\n",
       "      <td>{'MicrosoftDefenderAtp.Category': 'Discovery',...</td>\n",
       "    </tr>\n",
       "    <tr>\n",
       "      <th>Entities</th>\n",
       "      <td>[{'$id': '4', 'DnsDomain': 'seccxp.ninja', 'Ho...</td>\n",
       "    </tr>\n",
       "    <tr>\n",
       "      <th>SourceSystem</th>\n",
       "      <td>Detection</td>\n",
       "    </tr>\n",
       "    <tr>\n",
       "      <th>WorkspaceSubscriptionId</th>\n",
       "      <td></td>\n",
       "    </tr>\n",
       "    <tr>\n",
       "      <th>WorkspaceResourceGroup</th>\n",
       "      <td></td>\n",
       "    </tr>\n",
       "    <tr>\n",
       "      <th>ExtendedLinks</th>\n",
       "      <td></td>\n",
       "    </tr>\n",
       "    <tr>\n",
       "      <th>ProductName</th>\n",
       "      <td>Microsoft Defender Advanced Threat Protection</td>\n",
       "    </tr>\n",
       "    <tr>\n",
       "      <th>ProductComponentName</th>\n",
       "      <td></td>\n",
       "    </tr>\n",
       "    <tr>\n",
       "      <th>AlertLink</th>\n",
       "      <td>https://security.microsoft.com/alerts/da637727...</td>\n",
       "    </tr>\n",
       "    <tr>\n",
       "      <th>Status</th>\n",
       "      <td>New</td>\n",
       "    </tr>\n",
       "    <tr>\n",
       "      <th>CompromisedEntity</th>\n",
       "      <td>workstation6.seccxp.ninja</td>\n",
       "    </tr>\n",
       "    <tr>\n",
       "      <th>Tactics</th>\n",
       "      <td>Discovery</td>\n",
       "    </tr>\n",
       "    <tr>\n",
       "      <th>Type</th>\n",
       "      <td>SecurityAlert</td>\n",
       "    </tr>\n",
       "    <tr>\n",
       "      <th>Computer</th>\n",
       "      <td>WORKSTATION6.seccxp.ninja</td>\n",
       "    </tr>\n",
       "    <tr>\n",
       "      <th>src_hostname</th>\n",
       "      <td>WORKSTATION6</td>\n",
       "    </tr>\n",
       "    <tr>\n",
       "      <th>src_accountname</th>\n",
       "      <td></td>\n",
       "    </tr>\n",
       "    <tr>\n",
       "      <th>src_procname</th>\n",
       "      <td></td>\n",
       "    </tr>\n",
       "    <tr>\n",
       "      <th>host_match</th>\n",
       "      <td>True</td>\n",
       "    </tr>\n",
       "    <tr>\n",
       "      <th>acct_match</th>\n",
       "      <td>False</td>\n",
       "    </tr>\n",
       "    <tr>\n",
       "      <th>proc_match</th>\n",
       "      <td>False</td>\n",
       "    </tr>\n",
       "  </tbody>\n",
       "</table>\n",
       "</div>"
      ],
      "text/plain": [
       "                                                                         1\n",
       "TenantId                              8ecf8077-cf51-4820-aadd-14040956f35d\n",
       "TimeGenerated                             2021-11-17 16:19:53.246000+00:00\n",
       "AlertDisplayName             Suspicious sequence of exploration activities\n",
       "AlertName                    Suspicious sequence of exploration activities\n",
       "Severity                                                               Low\n",
       "Description              A process called a set of windows commands. Th...\n",
       "ProviderName                                                         MDATP\n",
       "VendorName                                                       Microsoft\n",
       "VendorOriginalId                          da637727623240555991_-1853951830\n",
       "SystemAlertId                         a5cbbb2b-eda3-bc4f-5d96-930ad6181242\n",
       "ResourceId                                                                \n",
       "SourceComputerId                                                          \n",
       "AlertType                                               WindowsDefenderAtp\n",
       "ConfidenceLevel                                                           \n",
       "ConfidenceScore                                                        NaN\n",
       "IsIncident                                                           False\n",
       "StartTimeUtc                              2021-11-17 16:09:27.102000+00:00\n",
       "EndTimeUtc                                2021-11-17 16:09:35.222000+00:00\n",
       "ProcessingEndTime                         2021-11-17 16:19:53.135000+00:00\n",
       "RemediationSteps         [\\r\\n  \"1. Make sure the machine is completely...\n",
       "ExtendedProperties       {'MicrosoftDefenderAtp.Category': 'Discovery',...\n",
       "Entities                 [{'$id': '4', 'DnsDomain': 'seccxp.ninja', 'Ho...\n",
       "SourceSystem                                                     Detection\n",
       "WorkspaceSubscriptionId                                                   \n",
       "WorkspaceResourceGroup                                                    \n",
       "ExtendedLinks                                                             \n",
       "ProductName                  Microsoft Defender Advanced Threat Protection\n",
       "ProductComponentName                                                      \n",
       "AlertLink                https://security.microsoft.com/alerts/da637727...\n",
       "Status                                                                 New\n",
       "CompromisedEntity                                workstation6.seccxp.ninja\n",
       "Tactics                                                          Discovery\n",
       "Type                                                         SecurityAlert\n",
       "Computer                                         WORKSTATION6.seccxp.ninja\n",
       "src_hostname                                                  WORKSTATION6\n",
       "src_accountname                                                           \n",
       "src_procname                                                              \n",
       "host_match                                                            True\n",
       "acct_match                                                           False\n",
       "proc_match                                                           False"
      ]
     },
     "metadata": {},
     "output_type": "display_data"
    }
   ],
   "source": [
    "host_summary_rslt.browse_alerts()"
   ]
  },
  {
   "cell_type": "code",
   "execution_count": 72,
   "metadata": {},
   "outputs": [
    {
     "data": {
      "text/html": [
       "\n",
       "    <div class=\"bk-root\">\n",
       "        <a href=\"https://bokeh.org\" target=\"_blank\" class=\"bk-logo bk-logo-small bk-logo-notebook\"></a>\n",
       "        <span id=\"2682\">Loading BokehJS ...</span>\n",
       "    </div>"
      ]
     },
     "metadata": {},
     "output_type": "display_data"
    },
    {
     "data": {
      "application/javascript": "\n(function(root) {\n  function now() {\n    return new Date();\n  }\n\n  var force = true;\n\n  if (typeof root._bokeh_onload_callbacks === \"undefined\" || force === true) {\n    root._bokeh_onload_callbacks = [];\n    root._bokeh_is_loading = undefined;\n  }\n\n  var JS_MIME_TYPE = 'application/javascript';\n  var HTML_MIME_TYPE = 'text/html';\n  var EXEC_MIME_TYPE = 'application/vnd.bokehjs_exec.v0+json';\n  var CLASS_NAME = 'output_bokeh rendered_html';\n\n  /**\n   * Render data to the DOM node\n   */\n  function render(props, node) {\n    var script = document.createElement(\"script\");\n    node.appendChild(script);\n  }\n\n  /**\n   * Handle when an output is cleared or removed\n   */\n  function handleClearOutput(event, handle) {\n    var cell = handle.cell;\n\n    var id = cell.output_area._bokeh_element_id;\n    var server_id = cell.output_area._bokeh_server_id;\n    // Clean up Bokeh references\n    if (id != null && id in Bokeh.index) {\n      Bokeh.index[id].model.document.clear();\n      delete Bokeh.index[id];\n    }\n\n    if (server_id !== undefined) {\n      // Clean up Bokeh references\n      var cmd = \"from bokeh.io.state import curstate; print(curstate().uuid_to_server['\" + server_id + \"'].get_sessions()[0].document.roots[0]._id)\";\n      cell.notebook.kernel.execute(cmd, {\n        iopub: {\n          output: function(msg) {\n            var id = msg.content.text.trim();\n            if (id in Bokeh.index) {\n              Bokeh.index[id].model.document.clear();\n              delete Bokeh.index[id];\n            }\n          }\n        }\n      });\n      // Destroy server and session\n      var cmd = \"import bokeh.io.notebook as ion; ion.destroy_server('\" + server_id + \"')\";\n      cell.notebook.kernel.execute(cmd);\n    }\n  }\n\n  /**\n   * Handle when a new output is added\n   */\n  function handleAddOutput(event, handle) {\n    var output_area = handle.output_area;\n    var output = handle.output;\n\n    // limit handleAddOutput to display_data with EXEC_MIME_TYPE content only\n    if ((output.output_type != \"display_data\") || (!Object.prototype.hasOwnProperty.call(output.data, EXEC_MIME_TYPE))) {\n      return\n    }\n\n    var toinsert = output_area.element.find(\".\" + CLASS_NAME.split(' ')[0]);\n\n    if (output.metadata[EXEC_MIME_TYPE][\"id\"] !== undefined) {\n      toinsert[toinsert.length - 1].firstChild.textContent = output.data[JS_MIME_TYPE];\n      // store reference to embed id on output_area\n      output_area._bokeh_element_id = output.metadata[EXEC_MIME_TYPE][\"id\"];\n    }\n    if (output.metadata[EXEC_MIME_TYPE][\"server_id\"] !== undefined) {\n      var bk_div = document.createElement(\"div\");\n      bk_div.innerHTML = output.data[HTML_MIME_TYPE];\n      var script_attrs = bk_div.children[0].attributes;\n      for (var i = 0; i < script_attrs.length; i++) {\n        toinsert[toinsert.length - 1].firstChild.setAttribute(script_attrs[i].name, script_attrs[i].value);\n        toinsert[toinsert.length - 1].firstChild.textContent = bk_div.children[0].textContent\n      }\n      // store reference to server id on output_area\n      output_area._bokeh_server_id = output.metadata[EXEC_MIME_TYPE][\"server_id\"];\n    }\n  }\n\n  function register_renderer(events, OutputArea) {\n\n    function append_mime(data, metadata, element) {\n      // create a DOM node to render to\n      var toinsert = this.create_output_subarea(\n        metadata,\n        CLASS_NAME,\n        EXEC_MIME_TYPE\n      );\n      this.keyboard_manager.register_events(toinsert);\n      // Render to node\n      var props = {data: data, metadata: metadata[EXEC_MIME_TYPE]};\n      render(props, toinsert[toinsert.length - 1]);\n      element.append(toinsert);\n      return toinsert\n    }\n\n    /* Handle when an output is cleared or removed */\n    events.on('clear_output.CodeCell', handleClearOutput);\n    events.on('delete.Cell', handleClearOutput);\n\n    /* Handle when a new output is added */\n    events.on('output_added.OutputArea', handleAddOutput);\n\n    /**\n     * Register the mime type and append_mime function with output_area\n     */\n    OutputArea.prototype.register_mime_type(EXEC_MIME_TYPE, append_mime, {\n      /* Is output safe? */\n      safe: true,\n      /* Index of renderer in `output_area.display_order` */\n      index: 0\n    });\n  }\n\n  // register the mime type if in Jupyter Notebook environment and previously unregistered\n  if (root.Jupyter !== undefined) {\n    var events = require('base/js/events');\n    var OutputArea = require('notebook/js/outputarea').OutputArea;\n\n    if (OutputArea.prototype.mime_types().indexOf(EXEC_MIME_TYPE) == -1) {\n      register_renderer(events, OutputArea);\n    }\n  }\n\n  \n  if (typeof (root._bokeh_timeout) === \"undefined\" || force === true) {\n    root._bokeh_timeout = Date.now() + 5000;\n    root._bokeh_failed_load = false;\n  }\n\n  var NB_LOAD_WARNING = {'data': {'text/html':\n     \"<div style='background-color: #fdd'>\\n\"+\n     \"<p>\\n\"+\n     \"BokehJS does not appear to have successfully loaded. If loading BokehJS from CDN, this \\n\"+\n     \"may be due to a slow or bad network connection. Possible fixes:\\n\"+\n     \"</p>\\n\"+\n     \"<ul>\\n\"+\n     \"<li>re-rerun `output_notebook()` to attempt to load from CDN again, or</li>\\n\"+\n     \"<li>use INLINE resources instead, as so:</li>\\n\"+\n     \"</ul>\\n\"+\n     \"<code>\\n\"+\n     \"from bokeh.resources import INLINE\\n\"+\n     \"output_notebook(resources=INLINE)\\n\"+\n     \"</code>\\n\"+\n     \"</div>\"}};\n\n  function display_loaded() {\n    var el = document.getElementById(\"2682\");\n    if (el != null) {\n      el.textContent = \"BokehJS is loading...\";\n    }\n    if (root.Bokeh !== undefined) {\n      if (el != null) {\n        el.textContent = \"BokehJS \" + root.Bokeh.version + \" successfully loaded.\";\n      }\n    } else if (Date.now() < root._bokeh_timeout) {\n      setTimeout(display_loaded, 100)\n    }\n  }\n\n\n  function run_callbacks() {\n    try {\n      root._bokeh_onload_callbacks.forEach(function(callback) {\n        if (callback != null)\n          callback();\n      });\n    } finally {\n      delete root._bokeh_onload_callbacks\n    }\n    console.debug(\"Bokeh: all callbacks have finished\");\n  }\n\n  function load_libs(css_urls, js_urls, callback) {\n    if (css_urls == null) css_urls = [];\n    if (js_urls == null) js_urls = [];\n\n    root._bokeh_onload_callbacks.push(callback);\n    if (root._bokeh_is_loading > 0) {\n      console.debug(\"Bokeh: BokehJS is being loaded, scheduling callback at\", now());\n      return null;\n    }\n    if (js_urls == null || js_urls.length === 0) {\n      run_callbacks();\n      return null;\n    }\n    console.debug(\"Bokeh: BokehJS not loaded, scheduling load and callback at\", now());\n    root._bokeh_is_loading = css_urls.length + js_urls.length;\n\n    function on_load() {\n      root._bokeh_is_loading--;\n      if (root._bokeh_is_loading === 0) {\n        console.debug(\"Bokeh: all BokehJS libraries/stylesheets loaded\");\n        run_callbacks()\n      }\n    }\n\n    function on_error(url) {\n      console.error(\"failed to load \" + url);\n    }\n\n    for (let i = 0; i < css_urls.length; i++) {\n      const url = css_urls[i];\n      const element = document.createElement(\"link\");\n      element.onload = on_load;\n      element.onerror = on_error.bind(null, url);\n      element.rel = \"stylesheet\";\n      element.type = \"text/css\";\n      element.href = url;\n      console.debug(\"Bokeh: injecting link tag for BokehJS stylesheet: \", url);\n      document.body.appendChild(element);\n    }\n\n    const hashes = {\"https://cdn.bokeh.org/bokeh/release/bokeh-2.3.2.min.js\": \"XypntL49z55iwGVUW4qsEu83zKL3XEcz0MjuGOQ9SlaaQ68X/g+k1FcioZi7oQAc\", \"https://cdn.bokeh.org/bokeh/release/bokeh-tables-2.3.2.min.js\": \"bEsM86IHGDTLCS0Zod8a8WM6Y4+lafAL/eSiyQcuPzinmWNgNO2/olUF0Z2Dkn5i\", \"https://cdn.bokeh.org/bokeh/release/bokeh-widgets-2.3.2.min.js\": \"TX0gSQTdXTTeScqxj6PVQxTiRW8DOoGVwinyi1D3kxv7wuxQ02XkOxv0xwiypcAH\"};\n\n    for (let i = 0; i < js_urls.length; i++) {\n      const url = js_urls[i];\n      const element = document.createElement('script');\n      element.onload = on_load;\n      element.onerror = on_error.bind(null, url);\n      element.async = false;\n      element.src = url;\n      if (url in hashes) {\n        element.crossOrigin = \"anonymous\";\n        element.integrity = \"sha384-\" + hashes[url];\n      }\n      console.debug(\"Bokeh: injecting script tag for BokehJS library: \", url);\n      document.head.appendChild(element);\n    }\n  };\n\n  function inject_raw_css(css) {\n    const element = document.createElement(\"style\");\n    element.appendChild(document.createTextNode(css));\n    document.body.appendChild(element);\n  }\n\n  \n  var js_urls = [\"https://cdn.bokeh.org/bokeh/release/bokeh-2.3.2.min.js\", \"https://cdn.bokeh.org/bokeh/release/bokeh-widgets-2.3.2.min.js\", \"https://cdn.bokeh.org/bokeh/release/bokeh-tables-2.3.2.min.js\"];\n  var css_urls = [];\n  \n\n  var inline_js = [\n    function(Bokeh) {\n      Bokeh.set_log_level(\"info\");\n    },\n    function(Bokeh) {\n    \n    \n    }\n  ];\n\n  function run_inline_js() {\n    \n    if (root.Bokeh !== undefined || force === true) {\n      \n    for (var i = 0; i < inline_js.length; i++) {\n      inline_js[i].call(root, root.Bokeh);\n    }\n    if (force === true) {\n        display_loaded();\n      }} else if (Date.now() < root._bokeh_timeout) {\n      setTimeout(run_inline_js, 100);\n    } else if (!root._bokeh_failed_load) {\n      console.log(\"Bokeh: BokehJS failed to load within specified timeout.\");\n      root._bokeh_failed_load = true;\n    } else if (force !== true) {\n      var cell = $(document.getElementById(\"2682\")).parents('.cell').data().cell;\n      cell.output_area.append_execute_result(NB_LOAD_WARNING)\n    }\n\n  }\n\n  if (root._bokeh_is_loading === 0) {\n    console.debug(\"Bokeh: BokehJS loaded, going straight to plotting\");\n    run_inline_js();\n  } else {\n    load_libs(css_urls, js_urls, function() {\n      console.debug(\"Bokeh: BokehJS plotting callback run at\", now());\n      run_inline_js();\n    });\n  }\n}(window));",
      "application/vnd.bokehjs_load.v0+json": ""
     },
     "metadata": {},
     "output_type": "display_data"
    },
    {
     "data": {
      "text/html": [
       "\n",
       "\n",
       "\n",
       "\n",
       "\n",
       "\n",
       "  <div class=\"bk-root\" id=\"9ae0ff7e-a402-47fc-b771-63a3ce4c3e80\" data-root-id=\"2767\"></div>\n"
      ]
     },
     "metadata": {},
     "output_type": "display_data"
    },
    {
     "data": {
      "application/javascript": "(function(root) {\n  function embed_document(root) {\n    \n  var docs_json = {\"19d51d5d-caa1-4050-b97d-b8f24f54cea6\":{\"defs\":[],\"roots\":{\"references\":[{\"attributes\":{\"children\":[{\"id\":\"2686\"},{\"id\":\"2718\"}]},\"id\":\"2767\",\"type\":\"Column\"},{\"attributes\":{\"source\":{\"id\":\"2683\"}},\"id\":\"2758\",\"type\":\"CDSView\"},{\"attributes\":{\"months\":[0,6]},\"id\":\"2791\",\"type\":\"MonthsTicker\"},{\"attributes\":{\"click_policy\":\"hide\",\"items\":[{\"id\":\"2765\"},{\"id\":\"2759\"}],\"label_text_font_size\":\"8pt\",\"location\":\"center\"},\"id\":\"2766\",\"type\":\"Legend\"},{\"attributes\":{\"months\":[0,2,4,6,8,10]},\"id\":\"2802\",\"type\":\"MonthsTicker\"},{\"attributes\":{\"days\":[1,4,7,10,13,16,19,22,25,28]},\"id\":\"2798\",\"type\":\"DaysTicker\"},{\"attributes\":{\"months\":[0,1,2,3,4,5,6,7,8,9,10,11]},\"id\":\"2801\",\"type\":\"MonthsTicker\"},{\"attributes\":{},\"id\":\"2773\",\"type\":\"AllLabels\"},{\"attributes\":{},\"id\":\"2693\",\"type\":\"LinearScale\"},{\"attributes\":{\"base\":60,\"mantissas\":[1,2,5,10,15,20,30],\"max_interval\":1800000.0,\"min_interval\":1000.0,\"num_minor_ticks\":0},\"id\":\"2795\",\"type\":\"AdaptiveTicker\"},{\"attributes\":{},\"id\":\"2707\",\"type\":\"ResetTool\"},{\"attributes\":{\"months\":[0,1,2,3,4,5,6,7,8,9,10,11]},\"id\":\"2788\",\"type\":\"MonthsTicker\"},{\"attributes\":{\"months\":[0,2,4,6,8,10]},\"id\":\"2789\",\"type\":\"MonthsTicker\"},{\"attributes\":{\"source\":{\"id\":\"2684\"}},\"id\":\"2746\",\"type\":\"CDSView\"},{\"attributes\":{\"text\":\"Range Selector\"},\"id\":\"2719\",\"type\":\"Title\"},{\"attributes\":{\"days\":[1,2,3,4,5,6,7,8,9,10,11,12,13,14,15,16,17,18,19,20,21,22,23,24,25,26,27,28,29,30,31]},\"id\":\"2797\",\"type\":\"DaysTicker\"},{\"attributes\":{\"end\":1637165997764.3,\"start\":1637164701748.7},\"id\":\"2689\",\"type\":\"Range1d\"},{\"attributes\":{},\"id\":\"2778\",\"type\":\"UnionRenderers\"},{\"attributes\":{},\"id\":\"2695\",\"type\":\"LinearScale\"},{\"attributes\":{\"fill_color\":{\"value\":\"#FDE724\"},\"line_color\":{\"value\":\"#FDE724\"},\"x\":{\"field\":\"TimeGenerated\"},\"y\":{\"field\":\"y_index\"}},\"id\":\"2743\",\"type\":\"Circle\"},{\"attributes\":{\"dimensions\":\"width\"},\"id\":\"2709\",\"type\":\"PanTool\"},{\"attributes\":{\"data_source\":{\"id\":\"2683\"},\"glyph\":{\"id\":\"2755\"},\"hover_glyph\":null,\"muted_glyph\":null,\"nonselection_glyph\":{\"id\":\"2756\"},\"view\":{\"id\":\"2758\"}},\"id\":\"2757\",\"type\":\"GlyphRenderer\"},{\"attributes\":{\"data_source\":{\"id\":\"2684\"},\"glyph\":{\"id\":\"2761\"},\"hover_glyph\":null,\"muted_glyph\":null,\"nonselection_glyph\":{\"id\":\"2762\"},\"view\":{\"id\":\"2764\"}},\"id\":\"2763\",\"type\":\"GlyphRenderer\"},{\"attributes\":{\"formatter\":{\"id\":\"2735\"},\"major_label_policy\":{\"id\":\"2775\"},\"ticker\":{\"id\":\"2730\"}},\"id\":\"2729\",\"type\":\"DatetimeAxis\"},{\"attributes\":{\"mantissas\":[1,2,5],\"max_interval\":500.0,\"num_minor_ticks\":0},\"id\":\"2794\",\"type\":\"AdaptiveTicker\"},{\"attributes\":{},\"id\":\"2708\",\"type\":\"SaveTool\"},{\"attributes\":{\"callback\":null,\"formatters\":{\"@TimeGenerated\":\"datetime\"},\"tooltips\":[[\"CommandLine\",\"@CommandLine\"],[\"EventID\",\"@EventID\"],[\"TimeGenerated\",\"@TimeGenerated{%F %T.%3N}\"],[\"NewProcessName\",\"@NewProcessName\"]]},\"id\":\"2685\",\"type\":\"HoverTool\"},{\"attributes\":{\"axis_label\":\"Event Time\",\"formatter\":{\"id\":\"2752\"},\"major_label_policy\":{\"id\":\"2770\"},\"ticker\":{\"id\":\"2698\"}},\"id\":\"2697\",\"type\":\"DatetimeAxis\"},{\"attributes\":{\"dimensions\":\"width\"},\"id\":\"2705\",\"type\":\"WheelZoomTool\"},{\"attributes\":{\"days\":[1,8,15,22]},\"id\":\"2799\",\"type\":\"DaysTicker\"},{\"attributes\":{\"data\":{\"CommandLine\":[\"\\\"C:\\\\Users\\\\KDickens\\\\AppData\\\\Local\\\\Microsoft\\\\Teams\\\\c\\nurrent\\\\Teams.exe\\\" --type=renderer --autoplay-\\npolicy=no-user-gesture-required --disable-\\nbackground-timer-throttling --field-trial-handle=1\\n664,9823708666951880594,13564735927913618179,13107\\n2 --enable-features=ContextBridgeMutability,WebCom\\nponentsV0Enabled,WinUseBrowserSpellChecker,WinUseH\\nybridSpellChecker --disable-features=CookiesWithou\\ntSameSiteMustBeSecure,SameSiteByDefaultCookies,Spa\\nreRendererForSitePerProcess --disable-gpu-\\ncompositing --lang=en-US --enable-wer --ms-teams-\\nless-cors=522133263 --app-user-model-\\nid=com.squirrel.Teams.Teams --app-path=\\\"C:\\\\Users\\\\K\\nDickens\\\\AppData\\\\Local\\\\Microsoft\\\\Teams\\\\current\\\\reso\\nurces\\\\app.asar\\\" --device-scale-factor=1 --num-\\nraster-threads=1 --renderer-client-id=4754\\n--no-v8-untrusted-code-mitigations --mojo-\\nplatform-channel-handle=2120 /prefetch:1\",\"\\\"C:\\\\Users\\\\KDickens\\\\AppData\\\\Local\\\\Microsoft\\\\Teams\\\\c\\nurrent\\\\Teams.exe\\\" --type=renderer --autoplay-\\npolicy=no-user-gesture-required --disable-\\nbackground-timer-throttling --field-trial-handle=1\\n664,9823708666951880594,13564735927913618179,13107\\n2 --enable-features=ContextBridgeMutability,WebCom\\nponentsV0Enabled,WinUseBrowserSpellChecker,WinUseH\\nybridSpellChecker --disable-features=CookiesWithou\\ntSameSiteMustBeSecure,SameSiteByDefaultCookies,Spa\\nreRendererForSitePerProcess --disable-gpu-\\ncompositing --lang=en-US --enable-wer --ms-teams-\\nless-cors=522133263 --app-user-model-\\nid=com.squirrel.Teams.Teams --app-path=\\\"C:\\\\Users\\\\K\\nDickens\\\\AppData\\\\Local\\\\Microsoft\\\\Teams\\\\current\\\\reso\\nurces\\\\app.asar\\\" --device-scale-factor=1 --num-\\nraster-threads=1 --renderer-client-id=4751\\n--no-v8-untrusted-code-mitigations --mojo-\\nplatform-channel-handle=5012 /prefetch:1\",\"\\\"C:\\\\Users\\\\KDickens\\\\AppData\\\\Local\\\\Microsoft\\\\Teams\\\\c\\nurrent\\\\Teams.exe\\\" --type=renderer --autoplay-\\npolicy=no-user-gesture-required --disable-\\nbackground-timer-throttling --field-trial-handle=1\\n664,9823708666951880594,13564735927913618179,13107\\n2 --enable-features=ContextBridgeMutability,WebCom\\nponentsV0Enabled,WinUseBrowserSpellChecker,WinUseH\\nybridSpellChecker --disable-features=CookiesWithou\\ntSameSiteMustBeSecure,SameSiteByDefaultCookies,Spa\\nreRendererForSitePerProcess --disable-gpu-\\ncompositing --lang=en-US --enable-wer --ms-teams-\\nless-cors=522133263 --app-user-model-\\nid=com.squirrel.Teams.Teams --app-path=\\\"C:\\\\Users\\\\K\\nDickens\\\\AppData\\\\Local\\\\Microsoft\\\\Teams\\\\current\\\\reso\\nurces\\\\app.asar\\\" --device-scale-factor=1 --num-\\nraster-threads=1 --renderer-client-id=4755\\n--no-v8-untrusted-code-mitigations --mojo-\\nplatform-channel-handle=3992 /prefetch:1\",\"\\\"C:\\\\Users\\\\KDickens\\\\AppData\\\\Local\\\\Microsoft\\\\Teams\\\\c\\nurrent\\\\Teams.exe\\\" --type=renderer --autoplay-\\npolicy=no-user-gesture-required --disable-\\nbackground-timer-throttling --field-trial-handle=1\\n664,9823708666951880594,13564735927913618179,13107\\n2 --enable-features=ContextBridgeMutability,WebCom\\nponentsV0Enabled,WinUseBrowserSpellChecker,WinUseH\\nybridSpellChecker --disable-features=CookiesWithou\\ntSameSiteMustBeSecure,SameSiteByDefaultCookies,Spa\\nreRendererForSitePerProcess --disable-gpu-\\ncompositing --lang=en-US --enable-wer --ms-teams-\\nless-cors=522133263 --app-user-model-\\nid=com.squirrel.Teams.Teams --app-path=\\\"C:\\\\Users\\\\K\\nDickens\\\\AppData\\\\Local\\\\Microsoft\\\\Teams\\\\current\\\\reso\\nurces\\\\app.asar\\\" --device-scale-factor=1 --num-\\nraster-threads=1 --renderer-client-id=4752\\n--no-v8-untrusted-code-mitigations --mojo-\\nplatform-channel-handle=5028 /prefetch:1\",\"\\\"C:\\\\Users\\\\KDickens\\\\AppData\\\\Local\\\\Microsoft\\\\Teams\\\\c\\nurrent\\\\Teams.exe\\\" --type=renderer --autoplay-\\npolicy=no-user-gesture-required --disable-\\nbackground-timer-throttling --field-trial-handle=1\\n664,9823708666951880594,13564735927913618179,13107\\n2 --enable-features=ContextBridgeMutability,WebCom\\nponentsV0Enabled,WinUseBrowserSpellChecker,WinUseH\\nybridSpellChecker --disable-features=CookiesWithou\\ntSameSiteMustBeSecure,SameSiteByDefaultCookies,Spa\\nreRendererForSitePerProcess --disable-gpu-\\ncompositing --lang=en-US --enable-wer --ms-teams-\\nless-cors=522133263 --app-user-model-\\nid=com.squirrel.Teams.Teams --app-path=\\\"C:\\\\Users\\\\K\\nDickens\\\\AppData\\\\Local\\\\Microsoft\\\\Teams\\\\current\\\\reso\\nurces\\\\app.asar\\\" --device-scale-factor=1 --num-\\nraster-threads=1 --renderer-client-id=4753\\n--no-v8-untrusted-code-mitigations --mojo-\\nplatform-channel-handle=3996 /prefetch:1\",\"\\\"C:\\\\Users\\\\KDickens\\\\AppData\\\\Local\\\\Microsoft\\\\Teams\\\\c\\nurrent\\\\Teams.exe\\\" --type=renderer --autoplay-\\npolicy=no-user-gesture-required --disable-\\nbackground-timer-throttling --field-trial-handle=1\\n664,9823708666951880594,13564735927913618179,13107\\n2 --enable-features=ContextBridgeMutability,WebCom\\nponentsV0Enabled,WinUseBrowserSpellChecker,WinUseH\\nybridSpellChecker --disable-features=CookiesWithou\\ntSameSiteMustBeSecure,SameSiteByDefaultCookies,Spa\\nreRendererForSitePerProcess --disable-gpu-\\ncompositing --lang=en-US --enable-wer --ms-teams-\\nless-cors=522133263 --app-user-model-\\nid=com.squirrel.Teams.Teams --app-path=\\\"C:\\\\Users\\\\K\\nDickens\\\\AppData\\\\Local\\\\Microsoft\\\\Teams\\\\current\\\\reso\\nurces\\\\app.asar\\\" --device-scale-factor=1 --num-\\nraster-threads=1 --renderer-client-id=4756\\n--no-v8-untrusted-code-mitigations --mojo-\\nplatform-channel-handle=3076 /prefetch:1\",\"\\\"C:\\\\Users\\\\KDickens\\\\AppData\\\\Local\\\\Microsoft\\\\Teams\\\\c\\nurrent\\\\Teams.exe\\\" --type=renderer --autoplay-\\npolicy=no-user-gesture-required --disable-\\nbackground-timer-throttling --field-trial-handle=1\\n664,9823708666951880594,13564735927913618179,13107\\n2 --enable-features=ContextBridgeMutability,WebCom\\nponentsV0Enabled,WinUseBrowserSpellChecker,WinUseH\\nybridSpellChecker --disable-features=CookiesWithou\\ntSameSiteMustBeSecure,SameSiteByDefaultCookies,Spa\\nreRendererForSitePerProcess --disable-gpu-\\ncompositing --lang=en-US --enable-wer --ms-teams-\\nless-cors=522133263 --app-user-model-\\nid=com.squirrel.Teams.Teams --app-path=\\\"C:\\\\Users\\\\K\\nDickens\\\\AppData\\\\Local\\\\Microsoft\\\\Teams\\\\current\\\\reso\\nurces\\\\app.asar\\\" --device-scale-factor=1 --num-\\nraster-threads=1 --renderer-client-id=4747\\n--no-v8-untrusted-code-mitigations --mojo-\\nplatform-channel-handle=2168 /prefetch:1\",\"\\\"C:\\\\Users\\\\KDickens\\\\AppData\\\\Local\\\\Microsoft\\\\Teams\\\\c\\nurrent\\\\Teams.exe\\\" --type=renderer --autoplay-\\npolicy=no-user-gesture-required --disable-\\nbackground-timer-throttling --field-trial-handle=1\\n664,9823708666951880594,13564735927913618179,13107\\n2 --enable-features=ContextBridgeMutability,WebCom\\nponentsV0Enabled,WinUseBrowserSpellChecker,WinUseH\\nybridSpellChecker --disable-features=CookiesWithou\\ntSameSiteMustBeSecure,SameSiteByDefaultCookies,Spa\\nreRendererForSitePerProcess --disable-gpu-\\ncompositing --lang=en-US --enable-wer --ms-teams-\\nless-cors=522133263 --app-user-model-\\nid=com.squirrel.Teams.Teams --app-path=\\\"C:\\\\Users\\\\K\\nDickens\\\\AppData\\\\Local\\\\Microsoft\\\\Teams\\\\current\\\\reso\\nurces\\\\app.asar\\\" --device-scale-factor=1 --num-\\nraster-threads=1 --renderer-client-id=4748\\n--no-v8-untrusted-code-mitigations --mojo-\\nplatform-channel-handle=2168 /prefetch:1\",\"\\\"C:\\\\Users\\\\KDickens\\\\AppData\\\\Local\\\\Microsoft\\\\Teams\\\\c\\nurrent\\\\Teams.exe\\\" --type=renderer --autoplay-\\npolicy=no-user-gesture-required --disable-\\nbackground-timer-throttling --field-trial-handle=1\\n664,9823708666951880594,13564735927913618179,13107\\n2 --enable-features=ContextBridgeMutability,WebCom\\nponentsV0Enabled,WinUseBrowserSpellChecker,WinUseH\\nybridSpellChecker --disable-features=CookiesWithou\\ntSameSiteMustBeSecure,SameSiteByDefaultCookies,Spa\\nreRendererForSitePerProcess --disable-gpu-\\ncompositing --lang=en-US --enable-wer --ms-teams-\\nless-cors=522133263 --app-user-model-\\nid=com.squirrel.Teams.Teams --app-path=\\\"C:\\\\Users\\\\K\\nDickens\\\\AppData\\\\Local\\\\Microsoft\\\\Teams\\\\current\\\\reso\\nurces\\\\app.asar\\\" --device-scale-factor=1 --num-\\nraster-threads=1 --renderer-client-id=4749\\n--no-v8-untrusted-code-mitigations --mojo-\\nplatform-channel-handle=1536 /prefetch:1\",\"\\\"C:\\\\Users\\\\KDickens\\\\AppData\\\\Local\\\\Microsoft\\\\Teams\\\\c\\nurrent\\\\Teams.exe\\\" --type=renderer --autoplay-\\npolicy=no-user-gesture-required --disable-\\nbackground-timer-throttling --field-trial-handle=1\\n664,9823708666951880594,13564735927913618179,13107\\n2 --enable-features=ContextBridgeMutability,WebCom\\nponentsV0Enabled,WinUseBrowserSpellChecker,WinUseH\\nybridSpellChecker --disable-features=CookiesWithou\\ntSameSiteMustBeSecure,SameSiteByDefaultCookies,Spa\\nreRendererForSitePerProcess --disable-gpu-\\ncompositing --lang=en-US --enable-wer --ms-teams-\\nless-cors=522133263 --app-user-model-\\nid=com.squirrel.Teams.Teams --app-path=\\\"C:\\\\Users\\\\K\\nDickens\\\\AppData\\\\Local\\\\Microsoft\\\\Teams\\\\current\\\\reso\\nurces\\\\app.asar\\\" --device-scale-factor=1 --num-\\nraster-threads=1 --renderer-client-id=4750\\n--no-v8-untrusted-code-mitigations --mojo-\\nplatform-channel-handle=1600 /prefetch:1\",\"\\\"C:\\\\Windows\\\\System32\\\\WindowsPowerShell\\\\v1.0\\\\powers\\nhell.exe\\\" C:\\\\Script\\\\mimikatzattackscript.ps1\",\"\\\\??\\\\C:\\\\WINDOWS\\\\system32\\\\conhost.exe 0xffffffff\\n-ForceV1\",\"\\\"C:\\\\WINDOWS\\\\system32\\\\whoami.exe\\\"\",\"\\\"C:\\\\WINDOWS\\\\system32\\\\whoami.exe\\\"\",\"\\\"C:\\\\WINDOWS\\\\system32\\\\whoami.exe\\\" /user\"],\"EventID\":[4688,4688,4688,4688,4688,4688,4688,4688,4688,4688,4688,4688,4688,4688,4688],\"NewProcessName\":[\"C:\\\\Users\\\\KDickens\\\\AppData\\\\Local\\\\Microsoft\\\\Teams\\\\cu\\nrrent\\\\Teams.exe\",\"C:\\\\Users\\\\KDickens\\\\AppData\\\\Local\\\\Microsoft\\\\Teams\\\\cu\\nrrent\\\\Teams.exe\",\"C:\\\\Users\\\\KDickens\\\\AppData\\\\Local\\\\Microsoft\\\\Teams\\\\cu\\nrrent\\\\Teams.exe\",\"C:\\\\Users\\\\KDickens\\\\AppData\\\\Local\\\\Microsoft\\\\Teams\\\\cu\\nrrent\\\\Teams.exe\",\"C:\\\\Users\\\\KDickens\\\\AppData\\\\Local\\\\Microsoft\\\\Teams\\\\cu\\nrrent\\\\Teams.exe\",\"C:\\\\Users\\\\KDickens\\\\AppData\\\\Local\\\\Microsoft\\\\Teams\\\\cu\\nrrent\\\\Teams.exe\",\"C:\\\\Users\\\\KDickens\\\\AppData\\\\Local\\\\Microsoft\\\\Teams\\\\cu\\nrrent\\\\Teams.exe\",\"C:\\\\Users\\\\KDickens\\\\AppData\\\\Local\\\\Microsoft\\\\Teams\\\\cu\\nrrent\\\\Teams.exe\",\"C:\\\\Users\\\\KDickens\\\\AppData\\\\Local\\\\Microsoft\\\\Teams\\\\cu\\nrrent\\\\Teams.exe\",\"C:\\\\Users\\\\KDickens\\\\AppData\\\\Local\\\\Microsoft\\\\Teams\\\\cu\\nrrent\\\\Teams.exe\",\"C:\\\\Windows\\\\System32\\\\WindowsPowerShell\\\\v1.0\\\\powersh\\nell.exe\",\"C:\\\\Windows\\\\System32\\\\conhost.exe\",\"C:\\\\Windows\\\\System32\\\\whoami.exe\",\"C:\\\\Windows\\\\System32\\\\whoami.exe\",\"C:\\\\Windows\\\\System32\\\\whoami.exe\"],\"TimeGenerated\":{\"__ndarray__\":\"AKD21OrSd0IAABJ96tJ3QgBwQvLq0ndCADBemurSd0IA0Km36tJ3QgAwjg/r0ndCAGDhB+rSd0IA8Cwl6tJ3QgAweULq0ndCADDGX+rSd0IAAMiP6tJ3QgBAyY/q0ndCAPDtj+rSd0IA0O+P6tJ3QgCQEZDq0ndC\",\"dtype\":\"float64\",\"order\":\"little\",\"shape\":[15]},\"index\":[33,38,87,93,110,115,120,124,156,164,212,213,214,215,216],\"y_index\":[1,1,1,1,1,1,1,1,1,1,1,1,1,1,1]},\"selected\":{\"id\":\"2779\"},\"selection_policy\":{\"id\":\"2780\"}},\"id\":\"2684\",\"type\":\"ColumnDataSource\"},{\"attributes\":{},\"id\":\"2772\",\"type\":\"BasicTickFormatter\"},{\"attributes\":{\"end\":1.5,\"start\":-0.5},\"id\":\"2691\",\"type\":\"Range1d\"},{\"attributes\":{\"fill_alpha\":{\"value\":0.1},\"fill_color\":{\"value\":\"#440154\"},\"line_alpha\":{\"value\":0.1},\"line_color\":{\"value\":\"#440154\"},\"marker\":{\"value\":\"diamond\"},\"size\":{\"value\":10},\"x\":{\"field\":\"TimeGenerated\"},\"y\":{\"field\":\"y_index\"}},\"id\":\"2756\",\"type\":\"Scatter\"},{\"attributes\":{},\"id\":\"2780\",\"type\":\"UnionRenderers\"},{\"attributes\":{\"mantissas\":[1,2,5],\"max_interval\":500.0,\"num_minor_ticks\":0},\"id\":\"2781\",\"type\":\"AdaptiveTicker\"},{\"attributes\":{\"data_source\":{\"id\":\"2684\"},\"glyph\":{\"id\":\"2743\"},\"hover_glyph\":null,\"muted_glyph\":null,\"nonselection_glyph\":{\"id\":\"2744\"},\"view\":{\"id\":\"2746\"}},\"id\":\"2745\",\"type\":\"GlyphRenderer\"},{\"attributes\":{\"fill_alpha\":{\"value\":0.5},\"fill_color\":{\"value\":\"#440154\"},\"line_alpha\":{\"value\":0.5},\"line_color\":{\"value\":\"#440154\"},\"marker\":{\"value\":\"diamond\"},\"size\":{\"value\":10},\"x\":{\"field\":\"TimeGenerated\"},\"y\":{\"field\":\"y_index\"}},\"id\":\"2755\",\"type\":\"Scatter\"},{\"attributes\":{\"months\":[0,4,8]},\"id\":\"2790\",\"type\":\"MonthsTicker\"},{\"attributes\":{},\"id\":\"2779\",\"type\":\"Selection\"},{\"attributes\":{\"base\":60,\"mantissas\":[1,2,5,10,15,20,30],\"max_interval\":1800000.0,\"min_interval\":1000.0,\"num_minor_ticks\":0},\"id\":\"2782\",\"type\":\"AdaptiveTicker\"},{\"attributes\":{\"days\":[1,4,7,10,13,16,19,22,25,28]},\"id\":\"2785\",\"type\":\"DaysTicker\"},{\"attributes\":{},\"id\":\"2792\",\"type\":\"YearsTicker\"},{\"attributes\":{\"fill_alpha\":{\"value\":0.5},\"fill_color\":{\"value\":\"#FDE724\"},\"line_alpha\":{\"value\":0.5},\"line_color\":{\"value\":\"#FDE724\"},\"marker\":{\"value\":\"diamond\"},\"size\":{\"value\":10},\"x\":{\"field\":\"TimeGenerated\"},\"y\":{\"field\":\"y_index\"}},\"id\":\"2761\",\"type\":\"Scatter\"},{\"attributes\":{\"days\":[1,2,3,4,5,6,7,8,9,10,11,12,13,14,15,16,17,18,19,20,21,22,23,24,25,26,27,28,29,30,31]},\"id\":\"2784\",\"type\":\"DaysTicker\"},{\"attributes\":{\"below\":[{\"id\":\"2729\"},{\"id\":\"2734\"}],\"center\":[{\"id\":\"2732\"}],\"height\":120,\"renderers\":[{\"id\":\"2740\"},{\"id\":\"2745\"}],\"title\":{\"id\":\"2719\"},\"toolbar\":{\"id\":\"2733\"},\"toolbar_location\":null,\"width\":900,\"x_range\":{\"id\":\"2721\"},\"x_scale\":{\"id\":\"2725\"},\"y_range\":{\"id\":\"2723\"},\"y_scale\":{\"id\":\"2727\"}},\"id\":\"2718\",\"subtype\":\"Figure\",\"type\":\"Plot\"},{\"attributes\":{\"source\":{\"id\":\"2683\"}},\"id\":\"2741\",\"type\":\"CDSView\"},{\"attributes\":{\"months\":[0,4,8]},\"id\":\"2803\",\"type\":\"MonthsTicker\"},{\"attributes\":{\"base\":24,\"mantissas\":[1,2,4,6,8,12],\"max_interval\":43200000.0,\"min_interval\":3600000.0,\"num_minor_ticks\":0},\"id\":\"2796\",\"type\":\"AdaptiveTicker\"},{\"attributes\":{\"axis\":{\"id\":\"2701\"},\"dimension\":1,\"grid_line_color\":null,\"ticker\":null},\"id\":\"2704\",\"type\":\"Grid\"},{\"attributes\":{\"label\":{\"value\":\"SECCXP\\\\WORKSTATION6$\"},\"renderers\":[{\"id\":\"2757\"}]},\"id\":\"2759\",\"type\":\"LegendItem\"},{\"attributes\":{},\"id\":\"2777\",\"type\":\"Selection\"},{\"attributes\":{},\"id\":\"2805\",\"type\":\"YearsTicker\"},{\"attributes\":{\"days\":[1,8,15,22]},\"id\":\"2786\",\"type\":\"DaysTicker\"},{\"attributes\":{\"axis\":{\"id\":\"2697\"},\"minor_grid_line_alpha\":0.3,\"minor_grid_line_color\":\"navy\",\"ticker\":null},\"id\":\"2700\",\"type\":\"Grid\"},{\"attributes\":{\"overlay\":{\"id\":\"2748\"},\"x_range\":{\"id\":\"2689\"},\"y_range\":null},\"id\":\"2747\",\"type\":\"RangeTool\"},{\"attributes\":{\"active_multi\":{\"id\":\"2747\"},\"tools\":[{\"id\":\"2747\"}]},\"id\":\"2733\",\"type\":\"Toolbar\"},{\"attributes\":{\"align\":\"right\",\"text\":\"Drag the middle or edges of the selection box to change the range in the main chart\",\"text_font_size\":\"10px\"},\"id\":\"2734\",\"type\":\"Title\"},{\"attributes\":{\"fill_alpha\":0.2,\"fill_color\":\"navy\",\"level\":\"overlay\",\"line_alpha\":1.0,\"line_color\":\"black\",\"line_dash\":[2,2],\"line_width\":0.5,\"syncable\":false},\"id\":\"2748\",\"type\":\"BoxAnnotation\"},{\"attributes\":{},\"id\":\"2723\",\"type\":\"DataRange1d\"},{\"attributes\":{\"below\":[{\"id\":\"2697\"}],\"center\":[{\"id\":\"2700\"},{\"id\":\"2704\"}],\"height\":300,\"left\":[{\"id\":\"2701\"},{\"id\":\"2766\"}],\"min_border_left\":50,\"renderers\":[{\"id\":\"2757\"},{\"id\":\"2763\"}],\"title\":{\"id\":\"2687\"},\"toolbar\":{\"id\":\"2711\"},\"width\":900,\"x_range\":{\"id\":\"2689\"},\"x_scale\":{\"id\":\"2693\"},\"y_range\":{\"id\":\"2691\"},\"y_scale\":{\"id\":\"2695\"}},\"id\":\"2686\",\"subtype\":\"Figure\",\"type\":\"Plot\"},{\"attributes\":{\"active_multi\":null,\"tools\":[{\"id\":\"2685\"},{\"id\":\"2705\"},{\"id\":\"2706\"},{\"id\":\"2707\"},{\"id\":\"2708\"},{\"id\":\"2709\"}]},\"id\":\"2711\",\"type\":\"Toolbar\"},{\"attributes\":{},\"id\":\"2770\",\"type\":\"AllLabels\"},{\"attributes\":{\"num_minor_ticks\":5,\"tickers\":[{\"id\":\"2794\"},{\"id\":\"2795\"},{\"id\":\"2796\"},{\"id\":\"2797\"},{\"id\":\"2798\"},{\"id\":\"2799\"},{\"id\":\"2800\"},{\"id\":\"2801\"},{\"id\":\"2802\"},{\"id\":\"2803\"},{\"id\":\"2804\"},{\"id\":\"2805\"}]},\"id\":\"2730\",\"type\":\"DatetimeTicker\"},{\"attributes\":{\"fill_color\":{\"value\":\"#440154\"},\"line_color\":{\"value\":\"#440154\"},\"x\":{\"field\":\"TimeGenerated\"},\"y\":{\"field\":\"y_index\"}},\"id\":\"2738\",\"type\":\"Circle\"},{\"attributes\":{\"axis\":{\"id\":\"2729\"},\"ticker\":null},\"id\":\"2732\",\"type\":\"Grid\"},{\"attributes\":{\"fill_alpha\":{\"value\":0.1},\"fill_color\":{\"value\":\"#FDE724\"},\"line_alpha\":{\"value\":0.1},\"line_color\":{\"value\":\"#FDE724\"},\"x\":{\"field\":\"TimeGenerated\"},\"y\":{\"field\":\"y_index\"}},\"id\":\"2744\",\"type\":\"Circle\"},{\"attributes\":{\"text\":\"Event Timeline\"},\"id\":\"2687\",\"type\":\"Title\"},{\"attributes\":{\"data\":{\"CommandLine\":[\"\\\"C:\\\\WINDOWS\\\\system32\\\\WindowsPowerShell\\\\v1.0\\\\powers\\nhell.exe\\\" \\\"-ExecutionPolicy\\\" \\\"Unrestricted\\\"\\n\\\"-Noninteractive\\\" \\\"-NoProfile\\\" \\\"-NoLogo\\\" \\\"-File\\\"\\n\\\"C:\\\\Program Files\\\\Microsoft Dependency\\nAgent\\\\plugins\\\\AzureMetadata.ps1\\\"\",\"\\\\??\\\\C:\\\\WINDOWS\\\\system32\\\\conhost.exe 0xffffffff\\n-ForceV1\",\"\\\"C:\\\\ProgramData\\\\Microsoft\\\\Windows\\nDefender\\\\Platform\\\\4.18.2108.7-0\\\\MsMpEng.exe\\\"\",\"C:\\\\WINDOWS\\\\system32\\\\wevtutil.exe uninstall-\\nmanifest \\\"C:\\\\ProgramData\\\\Microsoft\\\\Windows\\nDefender\\\\Platform\\\\4.18.2108.7-0\\\\Microsoft-\\nAntimalware-AMFilter.man\\\"\",\"\\\\??\\\\C:\\\\WINDOWS\\\\system32\\\\conhost.exe 0xffffffff\\n-ForceV1\",\"C:\\\\WINDOWS\\\\system32\\\\wevtutil.exe install-manifest\\n\\\"C:\\\\ProgramData\\\\Microsoft\\\\Windows\\nDefender\\\\Platform\\\\4.18.2108.7-0\\\\Microsoft-\\nAntimalware-AMFilter.man\\\" \\\"/resourceFilePath:C:\\\\Pr\\nogramData\\\\Microsoft\\\\Windows Defender\\\\Platform\\\\4.18\\n.2108.7-0\\\\Drivers\\\\WdFilter.sys\\\"\\n\\\"/messageFilePath:C:\\\\ProgramData\\\\Microsoft\\\\Windows\\nDefender\\\\Platform\\\\4.18.2108.7-0\\\\Drivers\\\\WdFilter.s\\nys\\\" \\\"/parameterFilePath:C:\\\\ProgramData\\\\Microsoft\\\\W\\nindows Defender\\\\Platform\\\\4.18.2108.7-0\\\\Drivers\\\\WdF\\nilter.sys\\\"\",\"\\\\??\\\\C:\\\\WINDOWS\\\\system32\\\\conhost.exe 0xffffffff\\n-ForceV1\",\"C:\\\\WINDOWS\\\\system32\\\\wevtutil.exe uninstall-\\nmanifest \\\"C:\\\\ProgramData\\\\Microsoft\\\\Windows\\nDefender\\\\Platform\\\\4.18.2108.7-0\\\\Microsoft-Windows-\\nWindows Defender.man\\\"\",\"\\\\??\\\\C:\\\\WINDOWS\\\\system32\\\\conhost.exe 0xffffffff\\n-ForceV1\",\"C:\\\\WINDOWS\\\\system32\\\\wevtutil.exe install-manifest\\n\\\"C:\\\\ProgramData\\\\Microsoft\\\\Windows\\nDefender\\\\Platform\\\\4.18.2108.7-0\\\\Microsoft-Windows-\\nWindows Defender.man\\\" \\\"/resourceFilePath:C:\\\\Progra\\nmData\\\\Microsoft\\\\Windows\\nDefender\\\\Platform\\\\4.18.2108.7-0\\\\MpEvMsg.dll\\\"\\n\\\"/messageFilePath:C:\\\\ProgramData\\\\Microsoft\\\\Windows\\nDefender\\\\Platform\\\\4.18.2108.7-0\\\\MpEvMsg.dll\\\" \\\"/par\\nameterFilePath:C:\\\\ProgramData\\\\Microsoft\\\\Windows\\nDefender\\\\Platform\\\\4.18.2108.7-0\\\\MpEvMsg.dll\\\"\",\"\\\\??\\\\C:\\\\WINDOWS\\\\system32\\\\conhost.exe 0xffffffff\\n-ForceV1\",\"C:\\\\WINDOWS\\\\system32\\\\wevtutil.exe uninstall-\\nmanifest \\\"C:\\\\ProgramData\\\\Microsoft\\\\Windows\\nDefender\\\\Platform\\\\4.18.2108.7-0\\\\Microsoft-\\nAntimalware-Service.man\\\"\",\"\\\\??\\\\C:\\\\WINDOWS\\\\system32\\\\conhost.exe 0xffffffff\\n-ForceV1\",\"C:\\\\WINDOWS\\\\system32\\\\wevtutil.exe install-manifest\\n\\\"C:\\\\ProgramData\\\\Microsoft\\\\Windows\\nDefender\\\\Platform\\\\4.18.2108.7-0\\\\Microsoft-\\nAntimalware-Service.man\\\" \\\"/resourceFilePath:C:\\\\Pro\\ngramData\\\\Microsoft\\\\Windows\\nDefender\\\\Platform\\\\4.18.2108.7-0\\\\MpSvc.dll\\\"\\n\\\"/messageFilePath:C:\\\\ProgramData\\\\Microsoft\\\\Windows\\nDefender\\\\Platform\\\\4.18.2108.7-0\\\\MpSvc.dll\\\" \\\"/param\\neterFilePath:C:\\\\ProgramData\\\\Microsoft\\\\Windows\\nDefender\\\\Platform\\\\4.18.2108.7-0\\\\MpSvc.dll\\\"\",\"\\\\??\\\\C:\\\\WINDOWS\\\\system32\\\\conhost.exe 0xffffffff\\n-ForceV1\",\"C:\\\\WINDOWS\\\\system32\\\\wevtutil.exe uninstall-\\nmanifest \\\"C:\\\\ProgramData\\\\Microsoft\\\\Windows\\nDefender\\\\Platform\\\\4.18.2108.7-0\\\\Microsoft-\\nAntimalware-NIS.man\\\"\",\"\\\\??\\\\C:\\\\WINDOWS\\\\system32\\\\conhost.exe 0xffffffff\\n-ForceV1\",\"C:\\\\WINDOWS\\\\system32\\\\wevtutil.exe install-manifest\\n\\\"C:\\\\ProgramData\\\\Microsoft\\\\Windows\\nDefender\\\\Platform\\\\4.18.2108.7-0\\\\Microsoft-\\nAntimalware-NIS.man\\\" \\\"/resourceFilePath:C:\\\\Program\\nData\\\\Microsoft\\\\Windows\\nDefender\\\\Platform\\\\4.18.2108.7-0\\\\NisSrv.exe\\\"\\n\\\"/messageFilePath:C:\\\\ProgramData\\\\Microsoft\\\\Windows\\nDefender\\\\Platform\\\\4.18.2108.7-0\\\\NisSrv.exe\\\" \\\"/para\\nmeterFilePath:C:\\\\ProgramData\\\\Microsoft\\\\Windows\\nDefender\\\\Platform\\\\4.18.2108.7-0\\\\NisSrv.exe\\\"\",\"\\\\??\\\\C:\\\\WINDOWS\\\\system32\\\\conhost.exe 0xffffffff\\n-ForceV1\",\"C:\\\\WINDOWS\\\\system32\\\\wevtutil.exe uninstall-\\nmanifest \\\"C:\\\\ProgramData\\\\Microsoft\\\\Windows\\nDefender\\\\Platform\\\\4.18.2108.7-0\\\\Microsoft-\\nAntimalware-RTP.man\\\"\",\"\\\\??\\\\C:\\\\WINDOWS\\\\system32\\\\conhost.exe 0xffffffff\\n-ForceV1\",\"C:\\\\WINDOWS\\\\system32\\\\wevtutil.exe install-manifest\\n\\\"C:\\\\ProgramData\\\\Microsoft\\\\Windows\\nDefender\\\\Platform\\\\4.18.2108.7-0\\\\Microsoft-\\nAntimalware-RTP.man\\\" \\\"/resourceFilePath:C:\\\\Program\\nData\\\\Microsoft\\\\Windows\\nDefender\\\\Platform\\\\4.18.2108.7-0\\\\MpRtp.dll\\\"\\n\\\"/messageFilePath:C:\\\\ProgramData\\\\Microsoft\\\\Windows\\nDefender\\\\Platform\\\\4.18.2108.7-0\\\\MpRtp.dll\\\" \\\"/param\\neterFilePath:C:\\\\ProgramData\\\\Microsoft\\\\Windows\\nDefender\\\\Platform\\\\4.18.2108.7-0\\\\MpRtp.dll\\\"\",\"\\\\??\\\\C:\\\\WINDOWS\\\\system32\\\\conhost.exe 0xffffffff\\n-ForceV1\",\"C:\\\\WINDOWS\\\\system32\\\\wevtutil.exe uninstall-\\nmanifest \\\"C:\\\\ProgramData\\\\Microsoft\\\\Windows\\nDefender\\\\Platform\\\\4.18.2108.7-0\\\\Microsoft-\\nAntimalware-Protection.man\\\"\",\"\\\\??\\\\C:\\\\WINDOWS\\\\system32\\\\conhost.exe 0xffffffff\\n-ForceV1\",\"C:\\\\WINDOWS\\\\system32\\\\wevtutil.exe install-manifest\\n\\\"C:\\\\ProgramData\\\\Microsoft\\\\Windows\\nDefender\\\\Platform\\\\4.18.2108.7-0\\\\Microsoft-\\nAntimalware-Protection.man\\\" \\\"/resourceFilePath:C:\\\\\\nProgramData\\\\Microsoft\\\\Windows\\nDefender\\\\Platform\\\\4.18.2108.7-0\\\\MpClient.dll\\\"\\n\\\"/messageFilePath:C:\\\\ProgramData\\\\Microsoft\\\\Windows\\nDefender\\\\Platform\\\\4.18.2108.7-0\\\\MpClient.dll\\\" \\\"/pa\\nrameterFilePath:C:\\\\ProgramData\\\\Microsoft\\\\Windows\\nDefender\\\\Platform\\\\4.18.2108.7-0\\\\MpClient.dll\\\"\",\"\\\\??\\\\C:\\\\WINDOWS\\\\system32\\\\conhost.exe 0xffffffff\\n-ForceV1\",\"\\\"C:\\\\ProgramData\\\\Microsoft\\\\Windows\\nDefender\\\\Platform\\\\4.18.2108.7-0\\\\MpCmdRun.exe\\\"\\n-DisableService\",\"\\\\??\\\\C:\\\\WINDOWS\\\\system32\\\\conhost.exe 0xffffffff\\n-ForceV1\",\"\\\"C:\\\\WINDOWS\\\\system32\\\\WindowsPowerShell\\\\v1.0\\\\powers\\nhell.exe\\\" \\\"-ExecutionPolicy\\\" \\\"Unrestricted\\\"\\n\\\"-Noninteractive\\\" \\\"-NoProfile\\\" \\\"-NoLogo\\\" \\\"-File\\\"\\n\\\"C:\\\\Program Files\\\\Microsoft Dependency\\nAgent\\\\plugins\\\\AzureMetadata.ps1\\\"\",\"\\\\??\\\\C:\\\\WINDOWS\\\\system32\\\\conhost.exe 0xffffffff\\n-ForceV1\",\"\\\"C:\\\\WINDOWS\\\\system32\\\\SearchProtocolHost.exe\\\" Globa\\nl\\\\UsGthrFltPipeMssGthrPipe_S-1-5-21-2769934187-243\\n3420870-601450644-1124121_ Global\\\\UsGthrCtrlFltPip\\neMssGthrPipe_S-1-5-21-2769934187-2433420870-601450\\n644-1124121 1 -2147483646\\n\\\"Software\\\\Microsoft\\\\Windows Search\\\" \\\"Mozilla/4.0\\n(compatible; MSIE 6.0; Windows NT; MS Search 4.0\\nRobot)\\\" \\\"C:\\\\ProgramData\\\\Microsoft\\\\Search\\\\Data\\\\Temp\\n\\\\usgthrsvc\\\" \\\"DownLevelDaemon\\\"  \\\"1\\\"\",\"\\\"C:\\\\WINDOWS\\\\system32\\\\SearchFilterHost.exe\\\" 0 812\\n816 824 8192 820 796\",\"\\\"C:\\\\WINDOWS\\\\system32\\\\SearchProtocolHost.exe\\\" Globa\\nl\\\\UsGthrFltPipeMssGthrPipe_S-1-5-21-2769934187-243\\n3420870-601450644-1124122_ Global\\\\UsGthrCtrlFltPip\\neMssGthrPipe_S-1-5-21-2769934187-2433420870-601450\\n644-1124122 1 -2147483646\\n\\\"Software\\\\Microsoft\\\\Windows Search\\\" \\\"Mozilla/4.0\\n(compatible; MSIE 6.0; Windows NT; MS Search 4.0\\nRobot)\\\" \\\"C:\\\\ProgramData\\\\Microsoft\\\\Search\\\\Data\\\\Temp\\n\\\\usgthrsvc\\\" \\\"DownLevelDaemon\\\"  \\\"1\\\"\",\"\\\"C:\\\\WINDOWS\\\\system32\\\\SearchFilterHost.exe\\\" 0 812\\n816 824 8192 820 796\",\"\\\"C:\\\\WINDOWS\\\\system32\\\\WindowsPowerShell\\\\v1.0\\\\powers\\nhell.exe\\\" \\\"-ExecutionPolicy\\\" \\\"Unrestricted\\\"\\n\\\"-Noninteractive\\\" \\\"-NoProfile\\\" \\\"-NoLogo\\\" \\\"-File\\\"\\n\\\"C:\\\\Program Files\\\\Microsoft Dependency\\nAgent\\\\plugins\\\\AzureMetadata.ps1\\\"\",\"\\\\??\\\\C:\\\\WINDOWS\\\\system32\\\\conhost.exe 0xffffffff\\n-ForceV1\",\"C:\\\\Packages\\\\Plugins\\\\Microsoft.GuestConfiguration.C\\nonfigurationforWindows\\\\1.29.33.0\\\\dsc\\\\GC\\\\..\\\\GC\\\\gc_w\\norker.exe -a MaximumPasswordAge -c NonCompliant -s\\ninguest -g https://eastus2-gas.guestconfiguration.\\nazure.com/virtualMachines/87f0e74f-2ce2-42d3-a374-\\nb00eee39b252\",\"\\\\??\\\\C:\\\\WINDOWS\\\\system32\\\\conhost.exe 0xffffffff\\n-ForceV1\",\"\\\"C:\\\\WINDOWS\\\\system32\\\\SecEdit.exe\\\" /export /cfg C:\\\\\\nPackages\\\\Plugins\\\\Microsoft.GuestConfiguration.Conf\\nigurationforWindows\\\\1.29.33.0\\\\dsc\\\\GC\\\\..\\\\GC\\\\..\\\\Secu\\nrityPolicy.inf /areas SECURITYPOLICY\",\"\\\"C:\\\\WINDOWS\\\\system32\\\\SecEdit.exe\\\" /export /cfg C:\\\\\\nPackages\\\\Plugins\\\\Microsoft.GuestConfiguration.Conf\\nigurationforWindows\\\\1.29.33.0\\\\dsc\\\\GC\\\\..\\\\GC\\\\..\\\\Secu\\nrityPolicy.inf /areas SECURITYPOLICY\",\"C:\\\\Packages\\\\Plugins\\\\Microsoft.GuestConfiguration.C\\nonfigurationforWindows\\\\1.29.33.0\\\\dsc\\\\GC\\\\..\\\\GC\\\\gc_w\\norker.exe -a\\nAzureBaseline_SecurityOptionsNetworkSecurity -c\\nCompliant -s inguest -g https://eastus2-gas.guestc\\nonfiguration.azure.com/virtualMachines/87f0e74f-2c\\ne2-42d3-a374-b00eee39b252\",\"\\\\??\\\\C:\\\\WINDOWS\\\\system32\\\\conhost.exe 0xffffffff\\n-ForceV1\",\"C:\\\\Packages\\\\Plugins\\\\Microsoft.GuestConfiguration.C\\nonfigurationforWindows\\\\1.29.33.0\\\\dsc\\\\GC\\\\..\\\\GC\\\\gc_w\\norker.exe -a AdministratorsGroupMembersToInclude\\n-c NonCompliant -s inguest -g https://eastus2-gas.\\nguestconfiguration.azure.com/virtualMachines/87f0e\\n74f-2ce2-42d3-a374-b00eee39b252\",\"\\\\??\\\\C:\\\\WINDOWS\\\\system32\\\\conhost.exe 0xffffffff\\n-ForceV1\",\"2524\",\"\\\"C:\\\\Program Files\\\\Windows Defender Advanced Threat\\nProtection\\\\SenseIR.exe\\\" \\\"OnlineSenseIR\\\" \\\"4556\\\" \\\"ey\\nJBaXJzU2VydmljZVVybCI6Imh0dHBzOi8vd2luYXRwLWd3LXdl\\ndS5taWNyb3NvZnQuY29tL3NlbnNlaXIvdjEiLCJDb21tYW5kSW\\nQiOiI0NTI1NjMyNTg6OjE3ZDM5MmFkLTg0YzAtNDg4OS04ZTNl\\nLWZmMDgyODllMTNhNiIsIkRvd25sb2FkRmlsZUFjdGlvbkNvbm\\nZpZyI6eyJlbmFibGUiOnRydWUsImZpbGVTaXplTGltaXRLYiI6\\nLTF9LCJEb3dubG9hZFRydXN0ZWRDZXJ0aWZpY2F0ZXNDaGFpbn\\nMiOltbWyIqLmJsb2IuY29yZS53aW5kb3dzLm5ldCIsIk1pY3Jv\\nc29mdCBJVCBTU0wgU0hBMiIsIkJhbHRpbW9yZSBDeWJlclRydX\\nN0IFJvb3QiXV0sW1siKi5ibG9iLmNvcmUud2luZG93cy5uZXQi\\nLCJNaWNyb3NvZnQgSVQgVExTIENBIDEiLCJCYWx0aW1vcmUgQ3\\nliZXJUcnVzdCBSb290Il1dLFtbIiouYmxvYi5jb3JlLndpbmRv\\nd3MubmV0IiwiTWljcm9zb2Z0IElUIFRMUyBDQSAyIiwiQmFsdG\\nltb3JlIEN5YmVyVHJ1c3QgUm9vdCJdXSxbWyIqLmJsb2IuY29y\\nZS53aW5kb3dzLm5ldCIsIk1pY3Jvc29mdCBJVCBUTFMgQ0EgNC\\nIsIkJhbHRpbW9yZSBDeWJlclRydXN0IFJvb3QiXV0sW1siKi5i\\nbG9iLmNvcmUud2luZG93cy5uZXQiLCJNaWNyb3NvZnQgSVQgVE\\nxTIENBIDUiLCJCYWx0aW1vcmUgQ3liZXJUcnVzdCBSb290Il1d\\nLFtbIiouYmxvYi5jb3JlLndpbmRvd3MubmV0IiwiTWljcm9zb2\\nZ0IFJTQSBUTFMgQ0EgMDEiLCJCYWx0aW1vcmUgQ3liZXJUcnVz\\ndCBSb290Il1dLFtbIiouYmxvYi5jb3JlLndpbmRvd3MubmV0Ii\\nwiTWljcm9zb2Z0IFJTQSBUTFMgQ0EgMDIiLCJCYWx0aW1vcmUg\\nQ3liZXJUcnVzdCBSb290Il1dLFtbIiouYmxvYi5jb3JlLnVzZ2\\n92Y2xvdWRhcGkubmV0IiwiTWljcm9zb2Z0IFJTQSBUTFMgQ0Eg\\nMDEiLCJCYWx0aW1vcmUgQ3liZXJUcnVzdCBSb290Il1dLFtbIi\\nouYmxvYi5jb3JlLnVzZ292Y2xvdWRhcGkubmV0IiwiTWljcm9z\\nb2Z0IFJTQSBUTFMgQ0EgMDIiLCJCYWx0aW1vcmUgQ3liZXJUcn\\nVzdCBSb290Il1dXSwiRW5hYmxlU2xlZXBTdXNwZW5zaW9uIjox\\nLCJPcmdJZCI6ImI5YmZiMjUwLWFkMDEtNGE4Yi04ZTgxLWJkOG\\nZhMzBiMDU0NCIsIlJ1blBzU2NyaXB0QWN0aW9uQ29uZmlnIjp7\\nImVuYWJsZSI6dHJ1ZX0sIlRydXN0ZWRDZXJ0aWZpY2F0ZXNDaG\\nFpbnMiOltbWyIqLmJsb2IuY29yZS53aW5kb3dzLm5ldCIsIk1p\\nY3Jvc29mdCBJVCBTU0wgU0hBMiIsIkJhbHRpbW9yZSBDeWJlcl\\nRydXN0IFJvb3QiXV0sW1siKi5ibG9iLmNvcmUud2luZG93cy5u\\nZXQiLCJNaWNyb3NvZnQgSVQgVExTIENBIDEiLCJCYWx0aW1vcm\\nUgQ3liZXJUcnVzdCBSb290Il1dLFtbIiouYmxvYi5jb3JlLndp\\nbmRvd3MubmV0IiwiTWljcm9zb2Z0IElUIFRMUyBDQSAyIiwiQm\\nFsdGltb3JlIEN5YmVyVHJ1c3QgUm9vdCJdXSxbWyIqLmJsb2Iu\\nY29yZS53aW5kb3dzLm5ldCIsIk1pY3Jvc29mdCBJVCBUTFMgQ0\\nEgNCIsIkJhbHRpbW9yZSBDeWJlclRydXN0IFJvb3QiXV0sW1si\\nKi5ibG9iLmNvcmUud2luZG93cy5uZXQiLCJNaWNyb3NvZnQgSV\\nQgVExTIENBIDUiLCJCYWx0aW1vcmUgQ3liZXJUcnVzdCBSb290\\nIl1dLFtbIiouYmxvYi5jb3JlLndpbmRvd3MubmV0IiwiTWljcm\\n9zb2Z0IFJTQSBUTFMgQ0EgMDEiLCJCYWx0aW1vcmUgQ3liZXJU\\ncnVzdCBSb290Il1dLFtbIiouYmxvYi5jb3JlLndpbmRvd3Mubm\\nV0IiwiTWljcm9zb2Z0IFJTQSBUTFMgQ0EgMDIiLCJCYWx0aW1v\\ncmUgQ3liZXJUcnVzdCBSb290Il1dLFtbIiouYmxvYi5jb3JlLn\\nVzZ292Y2xvdWRhcGkubmV0IiwiTWljcm9zb2Z0IFJTQSBUTFMg\\nQ0EgMDEiLCJCYWx0aW1vcmUgQ3liZXJUcnVzdCBSb290Il1dLF\\ntbIiouYmxvYi5jb3JlLnVzZ292Y2xvdWRhcGkubmV0IiwiTWlj\\ncm9zb2Z0IFJTQSBUTFMgQ0EgMDIiLCJCYWx0aW1vcmUgQ3liZX\\nJUcnVzdCBSb290Il1dXSwiYWNjZXB0U2ltdWxhdG9yU2lnbmlu\\nZyI6MH0=\\\"\",\"C:\\\\WINDOWS\\\\system32\\\\wbem\\\\wmiprvse.exe -secured\\n-Embedding\",\"\\\"C:\\\\WINDOWS\\\\system32\\\\net.exe\\\" localgroup\\nAdministrators\",\"C:\\\\WINDOWS\\\\system32\\\\net1 localgroup Administrators\",\"\\\"C:\\\\WINDOWS\\\\system32\\\\net.exe\\\" localgroup\\nAdministrators\",\"C:\\\\WINDOWS\\\\system32\\\\net1 localgroup Administrators\",\"\\\"C:\\\\WINDOWS\\\\system32\\\\net.exe\\\" localgroup\\nAdministrators\",\"C:\\\\WINDOWS\\\\system32\\\\net1 localgroup Administrators\",\"C:\\\\Packages\\\\Plugins\\\\Microsoft.GuestConfiguration.C\\nonfigurationforWindows\\\\1.29.33.0\\\\dsc\\\\GC\\\\..\\\\GC\\\\gc_w\\norker.exe -a\\nPasswordMustMeetComplexityRequirements -c\\nCompliant -s inguest -g https://eastus2-gas.guestc\\nonfiguration.azure.com/virtualMachines/87f0e74f-2c\\ne2-42d3-a374-b00eee39b252\",\"\\\\??\\\\C:\\\\WINDOWS\\\\system32\\\\conhost.exe 0xffffffff\\n-ForceV1\",\"\\\"C:\\\\WINDOWS\\\\system32\\\\SecEdit.exe\\\" /export /cfg C:\\\\\\nPackages\\\\Plugins\\\\Microsoft.GuestConfiguration.Conf\\nigurationforWindows\\\\1.29.33.0\\\\dsc\\\\GC\\\\..\\\\GC\\\\..\\\\Secu\\nrityPolicy.inf /areas SECURITYPOLICY\",\"\\\"C:\\\\ProgramData\\\\Microsoft\\\\Windows\\nDefender\\\\Platform\\\\4.18.2108.7-0\\\\MsMpEng.exe\\\"\",\"C:\\\\WINDOWS\\\\system32\\\\wevtutil.exe uninstall-\\nmanifest \\\"C:\\\\ProgramData\\\\Microsoft\\\\Windows\\nDefender\\\\Platform\\\\4.18.2108.7-0\\\\Microsoft-\\nAntimalware-AMFilter.man\\\"\",\"\\\\??\\\\C:\\\\WINDOWS\\\\system32\\\\conhost.exe 0xffffffff\\n-ForceV1\",\"C:\\\\WINDOWS\\\\system32\\\\wevtutil.exe install-manifest\\n\\\"C:\\\\ProgramData\\\\Microsoft\\\\Windows\\nDefender\\\\Platform\\\\4.18.2108.7-0\\\\Microsoft-\\nAntimalware-AMFilter.man\\\" \\\"/resourceFilePath:C:\\\\Pr\\nogramData\\\\Microsoft\\\\Windows Defender\\\\Platform\\\\4.18\\n.2108.7-0\\\\Drivers\\\\WdFilter.sys\\\"\\n\\\"/messageFilePath:C:\\\\ProgramData\\\\Microsoft\\\\Windows\\nDefender\\\\Platform\\\\4.18.2108.7-0\\\\Drivers\\\\WdFilter.s\\nys\\\" \\\"/parameterFilePath:C:\\\\ProgramData\\\\Microsoft\\\\W\\nindows Defender\\\\Platform\\\\4.18.2108.7-0\\\\Drivers\\\\WdF\\nilter.sys\\\"\",\"\\\\??\\\\C:\\\\WINDOWS\\\\system32\\\\conhost.exe 0xffffffff\\n-ForceV1\",\"C:\\\\WINDOWS\\\\system32\\\\wevtutil.exe uninstall-\\nmanifest \\\"C:\\\\ProgramData\\\\Microsoft\\\\Windows\\nDefender\\\\Platform\\\\4.18.2108.7-0\\\\Microsoft-Windows-\\nWindows Defender.man\\\"\",\"\\\\??\\\\C:\\\\WINDOWS\\\\system32\\\\conhost.exe 0xffffffff\\n-ForceV1\",\"C:\\\\WINDOWS\\\\system32\\\\wevtutil.exe install-manifest\\n\\\"C:\\\\ProgramData\\\\Microsoft\\\\Windows\\nDefender\\\\Platform\\\\4.18.2108.7-0\\\\Microsoft-Windows-\\nWindows Defender.man\\\" \\\"/resourceFilePath:C:\\\\Progra\\nmData\\\\Microsoft\\\\Windows\\nDefender\\\\Platform\\\\4.18.2108.7-0\\\\MpEvMsg.dll\\\"\\n\\\"/messageFilePath:C:\\\\ProgramData\\\\Microsoft\\\\Windows\\nDefender\\\\Platform\\\\4.18.2108.7-0\\\\MpEvMsg.dll\\\" \\\"/par\\nameterFilePath:C:\\\\ProgramData\\\\Microsoft\\\\Windows\\nDefender\\\\Platform\\\\4.18.2108.7-0\\\\MpEvMsg.dll\\\"\",\"\\\\??\\\\C:\\\\WINDOWS\\\\system32\\\\conhost.exe 0xffffffff\\n-ForceV1\",\"C:\\\\WINDOWS\\\\system32\\\\wevtutil.exe uninstall-\\nmanifest \\\"C:\\\\ProgramData\\\\Microsoft\\\\Windows\\nDefender\\\\Platform\\\\4.18.2108.7-0\\\\Microsoft-\\nAntimalware-Service.man\\\"\",\"\\\\??\\\\C:\\\\WINDOWS\\\\system32\\\\conhost.exe 0xffffffff\\n-ForceV1\",\"C:\\\\WINDOWS\\\\system32\\\\wevtutil.exe install-manifest\\n\\\"C:\\\\ProgramData\\\\Microsoft\\\\Windows\\nDefender\\\\Platform\\\\4.18.2108.7-0\\\\Microsoft-\\nAntimalware-Service.man\\\" \\\"/resourceFilePath:C:\\\\Pro\\ngramData\\\\Microsoft\\\\Windows\\nDefender\\\\Platform\\\\4.18.2108.7-0\\\\MpSvc.dll\\\"\\n\\\"/messageFilePath:C:\\\\ProgramData\\\\Microsoft\\\\Windows\\nDefender\\\\Platform\\\\4.18.2108.7-0\\\\MpSvc.dll\\\" \\\"/param\\neterFilePath:C:\\\\ProgramData\\\\Microsoft\\\\Windows\\nDefender\\\\Platform\\\\4.18.2108.7-0\\\\MpSvc.dll\\\"\",\"\\\\??\\\\C:\\\\WINDOWS\\\\system32\\\\conhost.exe 0xffffffff\\n-ForceV1\",\"C:\\\\WINDOWS\\\\system32\\\\wevtutil.exe uninstall-\\nmanifest \\\"C:\\\\ProgramData\\\\Microsoft\\\\Windows\\nDefender\\\\Platform\\\\4.18.2108.7-0\\\\Microsoft-\\nAntimalware-NIS.man\\\"\",\"\\\\??\\\\C:\\\\WINDOWS\\\\system32\\\\conhost.exe 0xffffffff\\n-ForceV1\",\"C:\\\\WINDOWS\\\\system32\\\\wevtutil.exe install-manifest\\n\\\"C:\\\\ProgramData\\\\Microsoft\\\\Windows\\nDefender\\\\Platform\\\\4.18.2108.7-0\\\\Microsoft-\\nAntimalware-NIS.man\\\" \\\"/resourceFilePath:C:\\\\Program\\nData\\\\Microsoft\\\\Windows\\nDefender\\\\Platform\\\\4.18.2108.7-0\\\\NisSrv.exe\\\"\\n\\\"/messageFilePath:C:\\\\ProgramData\\\\Microsoft\\\\Windows\\nDefender\\\\Platform\\\\4.18.2108.7-0\\\\NisSrv.exe\\\" \\\"/para\\nmeterFilePath:C:\\\\ProgramData\\\\Microsoft\\\\Windows\\nDefender\\\\Platform\\\\4.18.2108.7-0\\\\NisSrv.exe\\\"\",\"\\\\??\\\\C:\\\\WINDOWS\\\\system32\\\\conhost.exe 0xffffffff\\n-ForceV1\",\"C:\\\\WINDOWS\\\\system32\\\\wevtutil.exe uninstall-\\nmanifest \\\"C:\\\\ProgramData\\\\Microsoft\\\\Windows\\nDefender\\\\Platform\\\\4.18.2108.7-0\\\\Microsoft-\\nAntimalware-RTP.man\\\"\",\"\\\\??\\\\C:\\\\WINDOWS\\\\system32\\\\conhost.exe 0xffffffff\\n-ForceV1\",\"C:\\\\WINDOWS\\\\system32\\\\wevtutil.exe install-manifest\\n\\\"C:\\\\ProgramData\\\\Microsoft\\\\Windows\\nDefender\\\\Platform\\\\4.18.2108.7-0\\\\Microsoft-\\nAntimalware-RTP.man\\\" \\\"/resourceFilePath:C:\\\\Program\\nData\\\\Microsoft\\\\Windows\\nDefender\\\\Platform\\\\4.18.2108.7-0\\\\MpRtp.dll\\\"\\n\\\"/messageFilePath:C:\\\\ProgramData\\\\Microsoft\\\\Windows\\nDefender\\\\Platform\\\\4.18.2108.7-0\\\\MpRtp.dll\\\" \\\"/param\\neterFilePath:C:\\\\ProgramData\\\\Microsoft\\\\Windows\\nDefender\\\\Platform\\\\4.18.2108.7-0\\\\MpRtp.dll\\\"\",\"\\\\??\\\\C:\\\\WINDOWS\\\\system32\\\\conhost.exe 0xffffffff\\n-ForceV1\",\"C:\\\\WINDOWS\\\\system32\\\\wevtutil.exe uninstall-\\nmanifest \\\"C:\\\\ProgramData\\\\Microsoft\\\\Windows\\nDefender\\\\Platform\\\\4.18.2108.7-0\\\\Microsoft-\\nAntimalware-Protection.man\\\"\",\"\\\\??\\\\C:\\\\WINDOWS\\\\system32\\\\conhost.exe 0xffffffff\\n-ForceV1\",\"C:\\\\WINDOWS\\\\system32\\\\wevtutil.exe install-manifest\\n\\\"C:\\\\ProgramData\\\\Microsoft\\\\Windows\\nDefender\\\\Platform\\\\4.18.2108.7-0\\\\Microsoft-\\nAntimalware-Protection.man\\\" \\\"/resourceFilePath:C:\\\\\\nProgramData\\\\Microsoft\\\\Windows\\nDefender\\\\Platform\\\\4.18.2108.7-0\\\\MpClient.dll\\\"\\n\\\"/messageFilePath:C:\\\\ProgramData\\\\Microsoft\\\\Windows\\nDefender\\\\Platform\\\\4.18.2108.7-0\\\\MpClient.dll\\\" \\\"/pa\\nrameterFilePath:C:\\\\ProgramData\\\\Microsoft\\\\Windows\\nDefender\\\\Platform\\\\4.18.2108.7-0\\\\MpClient.dll\\\"\",\"\\\\??\\\\C:\\\\WINDOWS\\\\system32\\\\conhost.exe 0xffffffff\\n-ForceV1\",\"\\\"C:\\\\ProgramData\\\\Microsoft\\\\Windows\\nDefender\\\\Platform\\\\4.18.2108.7-0\\\\MpCmdRun.exe\\\"\\n-DisableService\",\"\\\\??\\\\C:\\\\WINDOWS\\\\system32\\\\conhost.exe 0xffffffff\\n-ForceV1\",\"C:\\\\WINDOWS\\\\system32\\\\wermgr.exe -upload\",\"C:\\\\WINDOWS\\\\system32\\\\svchost.exe -k wsappx -p -s\\nAppXSvc\",\"\\\"C:\\\\WINDOWS\\\\system32\\\\BackgroundTaskHost.exe\\\"\\n-ServerName:BackgroundTaskHost.WebAccountProvider\",\"C:\\\\Windows\\\\System32\\\\RuntimeBroker.exe -Embedding\",\"\\\"C:\\\\WINDOWS\\\\system32\\\\SecEdit.exe\\\" /export /cfg C:\\\\\\nPackages\\\\Plugins\\\\Microsoft.GuestConfiguration.Conf\\nigurationforWindows\\\\1.29.33.0\\\\dsc\\\\GC\\\\..\\\\GC\\\\..\\\\Secu\\nrityPolicy.inf /areas SECURITYPOLICY\",\"\\\"C:\\\\WINDOWS\\\\system32\\\\SecEdit.exe\\\" /export /cfg C:\\\\\\nPackages\\\\Plugins\\\\Microsoft.GuestConfiguration.Conf\\nigurationforWindows\\\\1.29.33.0\\\\dsc\\\\GC\\\\..\\\\GC\\\\..\\\\Secu\\nrityPolicy.inf /areas SECURITYPOLICY\",\"C:\\\\Packages\\\\Plugins\\\\Microsoft.GuestConfiguration.C\\nonfigurationforWindows\\\\1.29.33.0\\\\dsc\\\\GC\\\\..\\\\GC\\\\gc_w\\norker.exe -a\\nAzureBaseline_SecurityOptionsUserAccountControl -c\\nCompliant -s inguest -g https://eastus2-gas.guestc\\nonfiguration.azure.com/virtualMachines/87f0e74f-2c\\ne2-42d3-a374-b00eee39b252\",\"\\\\??\\\\C:\\\\WINDOWS\\\\system32\\\\conhost.exe 0xffffffff\\n-ForceV1\",\"C:\\\\Packages\\\\Plugins\\\\Microsoft.GuestConfiguration.C\\nonfigurationforWindows\\\\1.29.33.0\\\\dsc\\\\GC\\\\..\\\\GC\\\\gc_w\\norker.exe -a AzureBaseline_UserRightsAssignment -c\\nCompliant -s inguest -g https://eastus2-gas.guestc\\nonfiguration.azure.com/virtualMachines/87f0e74f-2c\\ne2-42d3-a374-b00eee39b252\",\"\\\\??\\\\C:\\\\WINDOWS\\\\system32\\\\conhost.exe 0xffffffff\\n-ForceV1\",\"C:\\\\WINDOWS\\\\system32\\\\secedit.exe /export /cfg \\\"C:\\\\P\\nrogramData\\\\GuestConfig\\\\Configuration\\\\AzureBaseline\\n_UserRightsAssignment\\\\AzureSecurityPack\\\\secedit.in\\nf\\\"\",\"C:\\\\WINDOWS\\\\system32\\\\secedit.exe /export\\n/mergedpolicy /cfg \\\"C:\\\\ProgramData\\\\GuestConfig\\\\Con\\nfiguration\\\\AzureBaseline_UserRightsAssignment\\\\Azur\\neSecurityPack\\\\secedit.inf\\\"\",\"C:\\\\WINDOWS\\\\system32\\\\secedit.exe /export /cfg \\\"C:\\\\P\\nrogramData\\\\GuestConfig\\\\Configuration\\\\AzureBaseline\\n_UserRightsAssignment\\\\AzureSecurityPack\\\\secedit.in\\nf\\\"\",\"C:\\\\WINDOWS\\\\system32\\\\secedit.exe /export\\n/mergedpolicy /cfg \\\"C:\\\\ProgramData\\\\GuestConfig\\\\Con\\nfiguration\\\\AzureBaseline_UserRightsAssignment\\\\Azur\\neSecurityPack\\\\secedit.inf\\\"\",\"C:\\\\Packages\\\\Plugins\\\\Microsoft.GuestConfiguration.C\\nonfigurationforWindows\\\\1.29.33.0\\\\dsc\\\\GC\\\\..\\\\GC\\\\gc_w\\norker.exe -a\\nAzureBaseline_SystemAuditPoliciesPrivilegeUse -c\\nCompliant -s inguest -g https://eastus2-gas.guestc\\nonfiguration.azure.com/virtualMachines/87f0e74f-2c\\ne2-42d3-a374-b00eee39b252\",\"\\\\??\\\\C:\\\\WINDOWS\\\\system32\\\\conhost.exe 0xffffffff\\n-ForceV1\",\"C:\\\\Packages\\\\Plugins\\\\Microsoft.GuestConfiguration.C\\nonfigurationforWindows\\\\1.29.33.0\\\\dsc\\\\GC\\\\..\\\\GC\\\\gc_w\\norker.exe -a\\nAzureBaseline_SystemAuditPoliciesPolicyChange -c\\nCompliant -s inguest -g https://eastus2-gas.guestc\\nonfiguration.azure.com/virtualMachines/87f0e74f-2c\\ne2-42d3-a374-b00eee39b252\",\"\\\\??\\\\C:\\\\WINDOWS\\\\system32\\\\conhost.exe 0xffffffff\\n-ForceV1\",\"C:\\\\WINDOWS\\\\system32\\\\svchost.exe -k\\nLocalServiceNetworkRestricted -p -s SmsRouter\",\"4556\",\"\\\"C:\\\\Program Files\\\\Microsoft\\nOffice\\\\root\\\\Office16\\\\sdxhelper.exe\\\"\",\"\\\"C:\\\\Program Files\\\\Microsoft\\nOffice\\\\Root\\\\Office16\\\\SDXHelper.exe\\\" -Embedding\",\"C:\\\\WINDOWS\\\\system32\\\\svchost.exe -k netsvcs -p -s\\ndmwappushservice\",\"C:\\\\WINDOWS\\\\system32\\\\svchost.exe -k\\nLocalServiceNetworkRestricted -p -s SmsRouter\",\"\\\"C:\\\\WINDOWS\\\\system32\\\\WindowsPowerShell\\\\v1.0\\\\powers\\nhell.exe\\\" \\\"-ExecutionPolicy\\\" \\\"Unrestricted\\\"\\n\\\"-Noninteractive\\\" \\\"-NoProfile\\\" \\\"-NoLogo\\\" \\\"-File\\\"\\n\\\"C:\\\\Program Files\\\\Microsoft Dependency\\nAgent\\\\plugins\\\\AzureMetadata.ps1\\\"\",\"\\\\??\\\\C:\\\\WINDOWS\\\\system32\\\\conhost.exe 0xffffffff\\n-ForceV1\",\"C:\\\\WINDOWS\\\\servicing\\\\TrustedInstaller.exe\",\"C:\\\\WINDOWS\\\\winsxs\\\\amd64_microsoft-windows-servicin\\ngstack_31bf3856ad364e35_10.0.19041.1310_none_7e15e\\nc207c87d405\\\\TiWorker.exe -Embedding\",\"\\\"C:\\\\WINDOWS\\\\system32\\\\SearchProtocolHost.exe\\\" Globa\\nl\\\\UsGthrFltPipeMssGthrPipe_S-1-5-21-2769934187-243\\n3420870-601450644-1124123_ Global\\\\UsGthrCtrlFltPip\\neMssGthrPipe_S-1-5-21-2769934187-2433420870-601450\\n644-1124123 1 -2147483646\\n\\\"Software\\\\Microsoft\\\\Windows Search\\\" \\\"Mozilla/4.0\\n(compatible; MSIE 6.0; Windows NT; MS Search 4.0\\nRobot)\\\" \\\"C:\\\\ProgramData\\\\Microsoft\\\\Search\\\\Data\\\\Temp\\n\\\\usgthrsvc\\\" \\\"DownLevelDaemon\\\"  \\\"1\\\"\",\"\\\"C:\\\\WINDOWS\\\\system32\\\\SearchFilterHost.exe\\\" 0 812\\n816 824 8192 820 796\",\"4112\",\"C:\\\\WINDOWS\\\\system32\\\\svchost.exe -k\\nLocalServiceNetworkRestricted -p -s SmsRouter\",\"C:\\\\WINDOWS\\\\system32\\\\wbem\\\\wmiprvse.exe -secured\\n-Embedding\",\"\\\"C:\\\\ProgramData\\\\Microsoft\\\\Windows\\nDefender\\\\Platform\\\\4.18.2108.7-0\\\\MsMpEng.exe\\\"\",\"C:\\\\WINDOWS\\\\system32\\\\wevtutil.exe uninstall-\\nmanifest \\\"C:\\\\ProgramData\\\\Microsoft\\\\Windows\\nDefender\\\\Platform\\\\4.18.2108.7-0\\\\Microsoft-\\nAntimalware-AMFilter.man\\\"\",\"\\\\??\\\\C:\\\\WINDOWS\\\\system32\\\\conhost.exe 0xffffffff\\n-ForceV1\",\"C:\\\\WINDOWS\\\\system32\\\\wevtutil.exe install-manifest\\n\\\"C:\\\\ProgramData\\\\Microsoft\\\\Windows\\nDefender\\\\Platform\\\\4.18.2108.7-0\\\\Microsoft-\\nAntimalware-AMFilter.man\\\" \\\"/resourceFilePath:C:\\\\Pr\\nogramData\\\\Microsoft\\\\Windows Defender\\\\Platform\\\\4.18\\n.2108.7-0\\\\Drivers\\\\WdFilter.sys\\\"\\n\\\"/messageFilePath:C:\\\\ProgramData\\\\Microsoft\\\\Windows\\nDefender\\\\Platform\\\\4.18.2108.7-0\\\\Drivers\\\\WdFilter.s\\nys\\\" \\\"/parameterFilePath:C:\\\\ProgramData\\\\Microsoft\\\\W\\nindows Defender\\\\Platform\\\\4.18.2108.7-0\\\\Drivers\\\\WdF\\nilter.sys\\\"\",\"\\\\??\\\\C:\\\\WINDOWS\\\\system32\\\\conhost.exe 0xffffffff\\n-ForceV1\",\"C:\\\\WINDOWS\\\\system32\\\\wevtutil.exe uninstall-\\nmanifest \\\"C:\\\\ProgramData\\\\Microsoft\\\\Windows\\nDefender\\\\Platform\\\\4.18.2108.7-0\\\\Microsoft-Windows-\\nWindows Defender.man\\\"\",\"\\\\??\\\\C:\\\\WINDOWS\\\\system32\\\\conhost.exe 0xffffffff\\n-ForceV1\",\"C:\\\\WINDOWS\\\\system32\\\\wevtutil.exe install-manifest\\n\\\"C:\\\\ProgramData\\\\Microsoft\\\\Windows\\nDefender\\\\Platform\\\\4.18.2108.7-0\\\\Microsoft-Windows-\\nWindows Defender.man\\\" \\\"/resourceFilePath:C:\\\\Progra\\nmData\\\\Microsoft\\\\Windows\\nDefender\\\\Platform\\\\4.18.2108.7-0\\\\MpEvMsg.dll\\\"\\n\\\"/messageFilePath:C:\\\\ProgramData\\\\Microsoft\\\\Windows\\nDefender\\\\Platform\\\\4.18.2108.7-0\\\\MpEvMsg.dll\\\" \\\"/par\\nameterFilePath:C:\\\\ProgramData\\\\Microsoft\\\\Windows\\nDefender\\\\Platform\\\\4.18.2108.7-0\\\\MpEvMsg.dll\\\"\",\"\\\\??\\\\C:\\\\WINDOWS\\\\system32\\\\conhost.exe 0xffffffff\\n-ForceV1\",\"C:\\\\WINDOWS\\\\system32\\\\wevtutil.exe uninstall-\\nmanifest \\\"C:\\\\ProgramData\\\\Microsoft\\\\Windows\\nDefender\\\\Platform\\\\4.18.2108.7-0\\\\Microsoft-\\nAntimalware-Service.man\\\"\",\"\\\\??\\\\C:\\\\WINDOWS\\\\system32\\\\conhost.exe 0xffffffff\\n-ForceV1\",\"C:\\\\WINDOWS\\\\system32\\\\wevtutil.exe install-manifest\\n\\\"C:\\\\ProgramData\\\\Microsoft\\\\Windows\\nDefender\\\\Platform\\\\4.18.2108.7-0\\\\Microsoft-\\nAntimalware-Service.man\\\" \\\"/resourceFilePath:C:\\\\Pro\\ngramData\\\\Microsoft\\\\Windows\\nDefender\\\\Platform\\\\4.18.2108.7-0\\\\MpSvc.dll\\\"\\n\\\"/messageFilePath:C:\\\\ProgramData\\\\Microsoft\\\\Windows\\nDefender\\\\Platform\\\\4.18.2108.7-0\\\\MpSvc.dll\\\" \\\"/param\\neterFilePath:C:\\\\ProgramData\\\\Microsoft\\\\Windows\\nDefender\\\\Platform\\\\4.18.2108.7-0\\\\MpSvc.dll\\\"\",\"\\\\??\\\\C:\\\\WINDOWS\\\\system32\\\\conhost.exe 0xffffffff\\n-ForceV1\",\"C:\\\\WINDOWS\\\\system32\\\\wevtutil.exe uninstall-\\nmanifest \\\"C:\\\\ProgramData\\\\Microsoft\\\\Windows\\nDefender\\\\Platform\\\\4.18.2108.7-0\\\\Microsoft-\\nAntimalware-NIS.man\\\"\",\"\\\\??\\\\C:\\\\WINDOWS\\\\system32\\\\conhost.exe 0xffffffff\\n-ForceV1\",\"C:\\\\WINDOWS\\\\system32\\\\wevtutil.exe install-manifest\\n\\\"C:\\\\ProgramData\\\\Microsoft\\\\Windows\\nDefender\\\\Platform\\\\4.18.2108.7-0\\\\Microsoft-\\nAntimalware-NIS.man\\\" \\\"/resourceFilePath:C:\\\\Program\\nData\\\\Microsoft\\\\Windows\\nDefender\\\\Platform\\\\4.18.2108.7-0\\\\NisSrv.exe\\\"\\n\\\"/messageFilePath:C:\\\\ProgramData\\\\Microsoft\\\\Windows\\nDefender\\\\Platform\\\\4.18.2108.7-0\\\\NisSrv.exe\\\" \\\"/para\\nmeterFilePath:C:\\\\ProgramData\\\\Microsoft\\\\Windows\\nDefender\\\\Platform\\\\4.18.2108.7-0\\\\NisSrv.exe\\\"\",\"\\\\??\\\\C:\\\\WINDOWS\\\\system32\\\\conhost.exe 0xffffffff\\n-ForceV1\",\"C:\\\\WINDOWS\\\\system32\\\\wevtutil.exe uninstall-\\nmanifest \\\"C:\\\\ProgramData\\\\Microsoft\\\\Windows\\nDefender\\\\Platform\\\\4.18.2108.7-0\\\\Microsoft-\\nAntimalware-RTP.man\\\"\",\"\\\\??\\\\C:\\\\WINDOWS\\\\system32\\\\conhost.exe 0xffffffff\\n-ForceV1\",\"C:\\\\WINDOWS\\\\system32\\\\wevtutil.exe install-manifest\\n\\\"C:\\\\ProgramData\\\\Microsoft\\\\Windows\\nDefender\\\\Platform\\\\4.18.2108.7-0\\\\Microsoft-\\nAntimalware-RTP.man\\\" \\\"/resourceFilePath:C:\\\\Program\\nData\\\\Microsoft\\\\Windows\\nDefender\\\\Platform\\\\4.18.2108.7-0\\\\MpRtp.dll\\\"\\n\\\"/messageFilePath:C:\\\\ProgramData\\\\Microsoft\\\\Windows\\nDefender\\\\Platform\\\\4.18.2108.7-0\\\\MpRtp.dll\\\" \\\"/param\\neterFilePath:C:\\\\ProgramData\\\\Microsoft\\\\Windows\\nDefender\\\\Platform\\\\4.18.2108.7-0\\\\MpRtp.dll\\\"\",\"\\\\??\\\\C:\\\\WINDOWS\\\\system32\\\\conhost.exe 0xffffffff\\n-ForceV1\",\"C:\\\\WINDOWS\\\\system32\\\\wevtutil.exe uninstall-\\nmanifest \\\"C:\\\\ProgramData\\\\Microsoft\\\\Windows\\nDefender\\\\Platform\\\\4.18.2108.7-0\\\\Microsoft-\\nAntimalware-Protection.man\\\"\",\"\\\\??\\\\C:\\\\WINDOWS\\\\system32\\\\conhost.exe 0xffffffff\\n-ForceV1\",\"C:\\\\WINDOWS\\\\system32\\\\wevtutil.exe install-manifest\\n\\\"C:\\\\ProgramData\\\\Microsoft\\\\Windows\\nDefender\\\\Platform\\\\4.18.2108.7-0\\\\Microsoft-\\nAntimalware-Protection.man\\\" \\\"/resourceFilePath:C:\\\\\\nProgramData\\\\Microsoft\\\\Windows\\nDefender\\\\Platform\\\\4.18.2108.7-0\\\\MpClient.dll\\\"\\n\\\"/messageFilePath:C:\\\\ProgramData\\\\Microsoft\\\\Windows\\nDefender\\\\Platform\\\\4.18.2108.7-0\\\\MpClient.dll\\\" \\\"/pa\\nrameterFilePath:C:\\\\ProgramData\\\\Microsoft\\\\Windows\\nDefender\\\\Platform\\\\4.18.2108.7-0\\\\MpClient.dll\\\"\",\"\\\\??\\\\C:\\\\WINDOWS\\\\system32\\\\conhost.exe 0xffffffff\\n-ForceV1\",\"\\\"C:\\\\ProgramData\\\\Microsoft\\\\Windows\\nDefender\\\\Platform\\\\4.18.2108.7-0\\\\MpCmdRun.exe\\\"\\n-DisableService\",\"\\\\??\\\\C:\\\\WINDOWS\\\\system32\\\\conhost.exe 0xffffffff\\n-ForceV1\",\"gpupdate.exe /target:user\",\"\\\\??\\\\C:\\\\WINDOWS\\\\system32\\\\conhost.exe 0xffffffff\\n-ForceV1\",\"C:\\\\WINDOWS\\\\system32\\\\svchost.exe -k netsvcs -p -s\\ngpsvc\",\"C:\\\\WINDOWS\\\\system32\\\\svchost.exe -k netsvcs -p -s\\ndmwappushservice\",\"\\\"C:\\\\WindowsAzure\\\\GuestAgent_2.7.41491.1024_2021-08\\n-16_165911\\\\GuestAgent\\\\FindVolume\\\\FindVolume.exe\\\"\\n/label \\\"Temporary Storage\\\"\",\"\\\\??\\\\C:\\\\WINDOWS\\\\system32\\\\conhost.exe 0xffffffff\\n-ForceV1\",\"\\\"CollectGuestLogs.exe\\\" -Mode:ga -FileName:D:\\\\Colle\\nctGuestLogsTemp\\\\6eec3c88-b606-479d-b165-724a4845e4\\n06.zip\",\"\\\\??\\\\C:\\\\WINDOWS\\\\system32\\\\conhost.exe 0xffffffff\\n-ForceV1\",\"\\\"cmd\\\"\",\"\\\\??\\\\C:\\\\WINDOWS\\\\system32\\\\conhost.exe 0xffffffff\\n-ForceV1\",\"4276\",\"C:\\\\Packages\\\\Plugins\\\\Microsoft.GuestConfiguration.C\\nonfigurationforWindows\\\\1.29.33.0\\\\dsc\\\\GC\\\\..\\\\GC\\\\gc_w\\norker.exe -a\\nStorePasswordsUsingReversibleEncryption -c\\nCompliant -s inguest -g https://eastus2-gas.guestc\\nonfiguration.azure.com/virtualMachines/87f0e74f-2c\\ne2-42d3-a374-b00eee39b252\",\"\\\\??\\\\C:\\\\WINDOWS\\\\system32\\\\conhost.exe 0xffffffff\\n-ForceV1\",\"\\\"C:\\\\WINDOWS\\\\system32\\\\SecEdit.exe\\\" /export /cfg C:\\\\\\nPackages\\\\Plugins\\\\Microsoft.GuestConfiguration.Conf\\nigurationforWindows\\\\1.29.33.0\\\\dsc\\\\GC\\\\..\\\\GC\\\\..\\\\Secu\\nrityPolicy.inf /areas SECURITYPOLICY\",\"\\\"C:\\\\WINDOWS\\\\system32\\\\SecEdit.exe\\\" /export /cfg C:\\\\\\nPackages\\\\Plugins\\\\Microsoft.GuestConfiguration.Conf\\nigurationforWindows\\\\1.29.33.0\\\\dsc\\\\GC\\\\..\\\\GC\\\\..\\\\Secu\\nrityPolicy.inf /areas SECURITYPOLICY\",\"C:\\\\WINDOWS\\\\system32\\\\svchost.exe -k wsappx -p -s\\nAppXSvc\",\"\\\"C:\\\\WINDOWS\\\\system32\\\\BackgroundTaskHost.exe\\\"\\n-ServerName:BackgroundTaskHost.WebAccountProvider\",\"C:\\\\Windows\\\\System32\\\\RuntimeBroker.exe -Embedding\",\"C:\\\\Packages\\\\Plugins\\\\Microsoft.GuestConfiguration.C\\nonfigurationforWindows\\\\1.29.33.0\\\\dsc\\\\GC\\\\..\\\\GC\\\\gc_w\\norker.exe -a EnforcePasswordHistory -c Compliant\\n-s inguest -g https://eastus2-gas.guestconfigurati\\non.azure.com/virtualMachines/87f0e74f-2ce2-42d3-a3\\n74-b00eee39b252\",\"\\\\??\\\\C:\\\\WINDOWS\\\\system32\\\\conhost.exe 0xffffffff\\n-ForceV1\",\"\\\"C:\\\\WINDOWS\\\\system32\\\\SecEdit.exe\\\" /export /cfg C:\\\\\\nPackages\\\\Plugins\\\\Microsoft.GuestConfiguration.Conf\\nigurationforWindows\\\\1.29.33.0\\\\dsc\\\\GC\\\\..\\\\GC\\\\..\\\\Secu\\nrityPolicy.inf /areas SECURITYPOLICY\",\"\\\"C:\\\\WINDOWS\\\\system32\\\\SecEdit.exe\\\" /export /cfg C:\\\\\\nPackages\\\\Plugins\\\\Microsoft.GuestConfiguration.Conf\\nigurationforWindows\\\\1.29.33.0\\\\dsc\\\\GC\\\\..\\\\GC\\\\..\\\\Secu\\nrityPolicy.inf /areas SECURITYPOLICY\",\"C:\\\\Packages\\\\Plugins\\\\Microsoft.GuestConfiguration.C\\nonfigurationforWindows\\\\1.29.33.0\\\\dsc\\\\GC\\\\..\\\\GC\\\\gc_w\\norker.exe -a MinimumPasswordAge -c Compliant -s\\ninguest -g https://eastus2-gas.guestconfiguration.\\nazure.com/virtualMachines/87f0e74f-2ce2-42d3-a374-\\nb00eee39b252\",\"\\\\??\\\\C:\\\\WINDOWS\\\\system32\\\\conhost.exe 0xffffffff\\n-ForceV1\",\"C:\\\\WINDOWS\\\\system32\\\\svchost.exe -k\\nLocalServiceNetworkRestricted -p -s SmsRouter\",\"\\\"C:\\\\WINDOWS\\\\system32\\\\SecEdit.exe\\\" /export /cfg C:\\\\\\nPackages\\\\Plugins\\\\Microsoft.GuestConfiguration.Conf\\nigurationforWindows\\\\1.29.33.0\\\\dsc\\\\GC\\\\..\\\\GC\\\\..\\\\Secu\\nrityPolicy.inf /areas SECURITYPOLICY\",\"\\\"C:\\\\WINDOWS\\\\system32\\\\SecEdit.exe\\\" /export /cfg C:\\\\\\nPackages\\\\Plugins\\\\Microsoft.GuestConfiguration.Conf\\nigurationforWindows\\\\1.29.33.0\\\\dsc\\\\GC\\\\..\\\\GC\\\\..\\\\Secu\\nrityPolicy.inf /areas SECURITYPOLICY\",\"\\\"C:\\\\ProgramData\\\\Microsoft\\\\Windows\\nDefender\\\\Platform\\\\4.18.2108.7-0\\\\MsMpEng.exe\\\"\",\"C:\\\\WINDOWS\\\\system32\\\\wevtutil.exe uninstall-\\nmanifest \\\"C:\\\\ProgramData\\\\Microsoft\\\\Windows\\nDefender\\\\Platform\\\\4.18.2108.7-0\\\\Microsoft-\\nAntimalware-AMFilter.man\\\"\",\"\\\\??\\\\C:\\\\WINDOWS\\\\system32\\\\conhost.exe 0xffffffff\\n-ForceV1\",\"C:\\\\WINDOWS\\\\system32\\\\wevtutil.exe install-manifest\\n\\\"C:\\\\ProgramData\\\\Microsoft\\\\Windows\\nDefender\\\\Platform\\\\4.18.2108.7-0\\\\Microsoft-\\nAntimalware-AMFilter.man\\\" \\\"/resourceFilePath:C:\\\\Pr\\nogramData\\\\Microsoft\\\\Windows Defender\\\\Platform\\\\4.18\\n.2108.7-0\\\\Drivers\\\\WdFilter.sys\\\"\\n\\\"/messageFilePath:C:\\\\ProgramData\\\\Microsoft\\\\Windows\\nDefender\\\\Platform\\\\4.18.2108.7-0\\\\Drivers\\\\WdFilter.s\\nys\\\" \\\"/parameterFilePath:C:\\\\ProgramData\\\\Microsoft\\\\W\\nindows Defender\\\\Platform\\\\4.18.2108.7-0\\\\Drivers\\\\WdF\\nilter.sys\\\"\",\"\\\\??\\\\C:\\\\WINDOWS\\\\system32\\\\conhost.exe 0xffffffff\\n-ForceV1\",\"C:\\\\WINDOWS\\\\system32\\\\wevtutil.exe uninstall-\\nmanifest \\\"C:\\\\ProgramData\\\\Microsoft\\\\Windows\\nDefender\\\\Platform\\\\4.18.2108.7-0\\\\Microsoft-Windows-\\nWindows Defender.man\\\"\",\"\\\\??\\\\C:\\\\WINDOWS\\\\system32\\\\conhost.exe 0xffffffff\\n-ForceV1\",\"C:\\\\WINDOWS\\\\system32\\\\wevtutil.exe install-manifest\\n\\\"C:\\\\ProgramData\\\\Microsoft\\\\Windows\\nDefender\\\\Platform\\\\4.18.2108.7-0\\\\Microsoft-Windows-\\nWindows Defender.man\\\" \\\"/resourceFilePath:C:\\\\Progra\\nmData\\\\Microsoft\\\\Windows\\nDefender\\\\Platform\\\\4.18.2108.7-0\\\\MpEvMsg.dll\\\"\\n\\\"/messageFilePath:C:\\\\ProgramData\\\\Microsoft\\\\Windows\\nDefender\\\\Platform\\\\4.18.2108.7-0\\\\MpEvMsg.dll\\\" \\\"/par\\nameterFilePath:C:\\\\ProgramData\\\\Microsoft\\\\Windows\\nDefender\\\\Platform\\\\4.18.2108.7-0\\\\MpEvMsg.dll\\\"\",\"\\\\??\\\\C:\\\\WINDOWS\\\\system32\\\\conhost.exe 0xffffffff\\n-ForceV1\",\"C:\\\\WINDOWS\\\\system32\\\\wevtutil.exe uninstall-\\nmanifest \\\"C:\\\\ProgramData\\\\Microsoft\\\\Windows\\nDefender\\\\Platform\\\\4.18.2108.7-0\\\\Microsoft-\\nAntimalware-Service.man\\\"\",\"\\\\??\\\\C:\\\\WINDOWS\\\\system32\\\\conhost.exe 0xffffffff\\n-ForceV1\",\"C:\\\\WINDOWS\\\\system32\\\\wevtutil.exe install-manifest\\n\\\"C:\\\\ProgramData\\\\Microsoft\\\\Windows\\nDefender\\\\Platform\\\\4.18.2108.7-0\\\\Microsoft-\\nAntimalware-Service.man\\\" \\\"/resourceFilePath:C:\\\\Pro\\ngramData\\\\Microsoft\\\\Windows\\nDefender\\\\Platform\\\\4.18.2108.7-0\\\\MpSvc.dll\\\"\\n\\\"/messageFilePath:C:\\\\ProgramData\\\\Microsoft\\\\Windows\\nDefender\\\\Platform\\\\4.18.2108.7-0\\\\MpSvc.dll\\\" \\\"/param\\neterFilePath:C:\\\\ProgramData\\\\Microsoft\\\\Windows\\nDefender\\\\Platform\\\\4.18.2108.7-0\\\\MpSvc.dll\\\"\",\"\\\\??\\\\C:\\\\WINDOWS\\\\system32\\\\conhost.exe 0xffffffff\\n-ForceV1\",\"C:\\\\WINDOWS\\\\system32\\\\wevtutil.exe uninstall-\\nmanifest \\\"C:\\\\ProgramData\\\\Microsoft\\\\Windows\\nDefender\\\\Platform\\\\4.18.2108.7-0\\\\Microsoft-\\nAntimalware-NIS.man\\\"\",\"\\\\??\\\\C:\\\\WINDOWS\\\\system32\\\\conhost.exe 0xffffffff\\n-ForceV1\",\"C:\\\\WINDOWS\\\\system32\\\\wevtutil.exe install-manifest\\n\\\"C:\\\\ProgramData\\\\Microsoft\\\\Windows\\nDefender\\\\Platform\\\\4.18.2108.7-0\\\\Microsoft-\\nAntimalware-NIS.man\\\" \\\"/resourceFilePath:C:\\\\Program\\nData\\\\Microsoft\\\\Windows\\nDefender\\\\Platform\\\\4.18.2108.7-0\\\\NisSrv.exe\\\"\\n\\\"/messageFilePath:C:\\\\ProgramData\\\\Microsoft\\\\Windows\\nDefender\\\\Platform\\\\4.18.2108.7-0\\\\NisSrv.exe\\\" \\\"/para\\nmeterFilePath:C:\\\\ProgramData\\\\Microsoft\\\\Windows\\nDefender\\\\Platform\\\\4.18.2108.7-0\\\\NisSrv.exe\\\"\",\"\\\\??\\\\C:\\\\WINDOWS\\\\system32\\\\conhost.exe 0xffffffff\\n-ForceV1\",\"C:\\\\WINDOWS\\\\system32\\\\wevtutil.exe uninstall-\\nmanifest \\\"C:\\\\ProgramData\\\\Microsoft\\\\Windows\\nDefender\\\\Platform\\\\4.18.2108.7-0\\\\Microsoft-\\nAntimalware-RTP.man\\\"\",\"\\\\??\\\\C:\\\\WINDOWS\\\\system32\\\\conhost.exe 0xffffffff\\n-ForceV1\",\"C:\\\\WINDOWS\\\\system32\\\\wevtutil.exe install-manifest\\n\\\"C:\\\\ProgramData\\\\Microsoft\\\\Windows\\nDefender\\\\Platform\\\\4.18.2108.7-0\\\\Microsoft-\\nAntimalware-RTP.man\\\" \\\"/resourceFilePath:C:\\\\Program\\nData\\\\Microsoft\\\\Windows\\nDefender\\\\Platform\\\\4.18.2108.7-0\\\\MpRtp.dll\\\"\\n\\\"/messageFilePath:C:\\\\ProgramData\\\\Microsoft\\\\Windows\\nDefender\\\\Platform\\\\4.18.2108.7-0\\\\MpRtp.dll\\\" \\\"/param\\neterFilePath:C:\\\\ProgramData\\\\Microsoft\\\\Windows\\nDefender\\\\Platform\\\\4.18.2108.7-0\\\\MpRtp.dll\\\"\",\"\\\\??\\\\C:\\\\WINDOWS\\\\system32\\\\conhost.exe 0xffffffff\\n-ForceV1\",\"C:\\\\WINDOWS\\\\system32\\\\wevtutil.exe uninstall-\\nmanifest \\\"C:\\\\ProgramData\\\\Microsoft\\\\Windows\\nDefender\\\\Platform\\\\4.18.2108.7-0\\\\Microsoft-\\nAntimalware-Protection.man\\\"\",\"\\\\??\\\\C:\\\\WINDOWS\\\\system32\\\\conhost.exe 0xffffffff\\n-ForceV1\",\"C:\\\\WINDOWS\\\\system32\\\\wevtutil.exe install-manifest\\n\\\"C:\\\\ProgramData\\\\Microsoft\\\\Windows\\nDefender\\\\Platform\\\\4.18.2108.7-0\\\\Microsoft-\\nAntimalware-Protection.man\\\" \\\"/resourceFilePath:C:\\\\\\nProgramData\\\\Microsoft\\\\Windows\\nDefender\\\\Platform\\\\4.18.2108.7-0\\\\MpClient.dll\\\"\\n\\\"/messageFilePath:C:\\\\ProgramData\\\\Microsoft\\\\Windows\\nDefender\\\\Platform\\\\4.18.2108.7-0\\\\MpClient.dll\\\" \\\"/pa\\nrameterFilePath:C:\\\\ProgramData\\\\Microsoft\\\\Windows\\nDefender\\\\Platform\\\\4.18.2108.7-0\\\\MpClient.dll\\\"\",\"\\\\??\\\\C:\\\\WINDOWS\\\\system32\\\\conhost.exe 0xffffffff\\n-ForceV1\",\"\\\"C:\\\\ProgramData\\\\Microsoft\\\\Windows\\nDefender\\\\Platform\\\\4.18.2108.7-0\\\\MpCmdRun.exe\\\"\\n-DisableService\",\"\\\\??\\\\C:\\\\WINDOWS\\\\system32\\\\conhost.exe 0xffffffff\\n-ForceV1\",\"C:\\\\WINDOWS\\\\system32\\\\wbem\\\\wmiprvse.exe -secured\\n-Embedding\",\"\\\"C:\\\\WINDOWS\\\\system32\\\\SecEdit.exe\\\" /export /cfg C:\\\\\\nPackages\\\\Plugins\\\\Microsoft.GuestConfiguration.Conf\\nigurationforWindows\\\\1.29.33.0\\\\dsc\\\\GC\\\\..\\\\GC\\\\..\\\\Secu\\nrityPolicy.inf /areas SECURITYPOLICY\",\"C:\\\\Packages\\\\Plugins\\\\Microsoft.GuestConfiguration.C\\nonfigurationforWindows\\\\1.29.33.0\\\\dsc\\\\GC\\\\..\\\\GC\\\\gc_w\\norker.exe -a AdministratorsGroupMembersToExclude\\n-c Compliant -s inguest -g https://eastus2-gas.gue\\nstconfiguration.azure.com/virtualMachines/87f0e74f\\n-2ce2-42d3-a374-b00eee39b252\",\"\\\\??\\\\C:\\\\WINDOWS\\\\system32\\\\conhost.exe 0xffffffff\\n-ForceV1\",\"C:\\\\WINDOWS\\\\system32\\\\svchost.exe -k netsvcs -p -s\\nseclogon\",\"\\\"C:\\\\WINDOWS\\\\system32\\\\net.exe\\\" localgroup\\nAdministrators\",\"C:\\\\WINDOWS\\\\system32\\\\net1 localgroup Administrators\",\"\\\"C:\\\\WINDOWS\\\\system32\\\\net.exe\\\" localgroup\\nAdministrators\",\"C:\\\\WINDOWS\\\\system32\\\\net1 localgroup Administrators\",\"\\\"C:\\\\WINDOWS\\\\system32\\\\net.exe\\\" localgroup\\nAdministrators\",\"C:\\\\WINDOWS\\\\system32\\\\net1 localgroup Administrators\",\"C:\\\\Packages\\\\Plugins\\\\Microsoft.GuestConfiguration.C\\nonfigurationforWindows\\\\1.29.33.0\\\\dsc\\\\GC\\\\..\\\\GC\\\\gc_w\\norker.exe -a\\nAzureBaseline_SecurityOptionsNetworkAccess -c\\nCompliant -s inguest -g https://eastus2-gas.guestc\\nonfiguration.azure.com/virtualMachines/87f0e74f-2c\\ne2-42d3-a374-b00eee39b252\",\"\\\\??\\\\C:\\\\WINDOWS\\\\system32\\\\conhost.exe 0xffffffff\\n-ForceV1\",\"C:\\\\Packages\\\\Plugins\\\\Microsoft.GuestConfiguration.C\\nonfigurationforWindows\\\\1.29.33.0\\\\dsc\\\\GC\\\\..\\\\GC\\\\gc_w\\norker.exe -a MinimumPasswordLength -c NonCompliant\\n-s inguest -g https://eastus2-gas.guestconfigurati\\non.azure.com/virtualMachines/87f0e74f-2ce2-42d3-a3\\n74-b00eee39b252\",\"\\\\??\\\\C:\\\\WINDOWS\\\\system32\\\\conhost.exe 0xffffffff\\n-ForceV1\"],\"EventID\":[4688,4688,4688,4688,4688,4688,4688,4688,4688,4688,4688,4688,4688,4688,4688,4688,4688,4688,4688,4688,4688,4688,4688,4688,4688,4688,4688,4688,4688,4688,4688,4688,4688,4688,4688,4688,4688,4688,4688,4688,4688,4688,4688,4688,4688,4688,4688,4688,4688,4688,4688,4688,4688,4688,4688,4688,4688,4688,4688,4688,4688,4688,4688,4688,4688,4688,4688,4688,4688,4688,4688,4688,4688,4688,4688,4688,4688,4688,4688,4688,4688,4688,4688,4688,4688,4688,4688,4688,4688,4688,4688,4688,4688,4688,4688,4688,4688,4688,4688,4688,4688,4688,4688,4688,4688,4688,4688,4688,4688,4688,4688,4688,4688,4688,4688,4688,4688,4688,4688,4688,4688,4688,4688,4688,4688,4688,4688,4688,4688,4688,4688,4688,4688,4688,4688,4688,4688,4688,4688,4688,4688,4688,4688,4688,4688,4688,4688,4688,4688,4688,4688,4688,4688,4688,4688,4688,4688,4688,4688,4688,4688,4688,4688,4688,4688,4688,4688,4688,4688,4688,4688,4688,4688,4688,4688,4688,4688,4688,4688,4688,4688,4688,4688,4688,4688,4688,4688,4688,4688,4688,4688,4688,4688,4688,4688,4688,4688,4688,4688,4688,4688,4688,4688,4688,4688,4688,4688,4688,4688,4688,4688,4688,4688],\"NewProcessName\":[\"C:\\\\Windows\\\\System32\\\\WindowsPowerShell\\\\v1.0\\\\powersh\\nell.exe\",\"C:\\\\Windows\\\\System32\\\\conhost.exe\",\"C:\\\\ProgramData\\\\Microsoft\\\\Windows\\nDefender\\\\Platform\\\\4.18.2108.7-0\\\\MsMpEng.exe\",\"C:\\\\Windows\\\\System32\\\\wevtutil.exe\",\"C:\\\\Windows\\\\System32\\\\conhost.exe\",\"C:\\\\Windows\\\\System32\\\\wevtutil.exe\",\"C:\\\\Windows\\\\System32\\\\conhost.exe\",\"C:\\\\Windows\\\\System32\\\\wevtutil.exe\",\"C:\\\\Windows\\\\System32\\\\conhost.exe\",\"C:\\\\Windows\\\\System32\\\\wevtutil.exe\",\"C:\\\\Windows\\\\System32\\\\conhost.exe\",\"C:\\\\Windows\\\\System32\\\\wevtutil.exe\",\"C:\\\\Windows\\\\System32\\\\conhost.exe\",\"C:\\\\Windows\\\\System32\\\\wevtutil.exe\",\"C:\\\\Windows\\\\System32\\\\conhost.exe\",\"C:\\\\Windows\\\\System32\\\\wevtutil.exe\",\"C:\\\\Windows\\\\System32\\\\conhost.exe\",\"C:\\\\Windows\\\\System32\\\\wevtutil.exe\",\"C:\\\\Windows\\\\System32\\\\conhost.exe\",\"C:\\\\Windows\\\\System32\\\\wevtutil.exe\",\"C:\\\\Windows\\\\System32\\\\conhost.exe\",\"C:\\\\Windows\\\\System32\\\\wevtutil.exe\",\"C:\\\\Windows\\\\System32\\\\conhost.exe\",\"C:\\\\Windows\\\\System32\\\\wevtutil.exe\",\"C:\\\\Windows\\\\System32\\\\conhost.exe\",\"C:\\\\Windows\\\\System32\\\\wevtutil.exe\",\"C:\\\\Windows\\\\System32\\\\conhost.exe\",\"C:\\\\ProgramData\\\\Microsoft\\\\Windows\\nDefender\\\\Platform\\\\4.18.2108.7-0\\\\MpCmdRun.exe\",\"C:\\\\Windows\\\\System32\\\\conhost.exe\",\"C:\\\\Windows\\\\System32\\\\WindowsPowerShell\\\\v1.0\\\\powersh\\nell.exe\",\"C:\\\\Windows\\\\System32\\\\conhost.exe\",\"C:\\\\Windows\\\\System32\\\\SearchProtocolHost.exe\",\"C:\\\\Windows\\\\System32\\\\SearchFilterHost.exe\",\"C:\\\\Windows\\\\System32\\\\SearchProtocolHost.exe\",\"C:\\\\Windows\\\\System32\\\\SearchFilterHost.exe\",\"C:\\\\Windows\\\\System32\\\\WindowsPowerShell\\\\v1.0\\\\powersh\\nell.exe\",\"C:\\\\Windows\\\\System32\\\\conhost.exe\",\"C:\\\\Packages\\\\Plugins\\\\Microsoft.GuestConfiguration.C\\nonfigurationforWindows\\\\1.29.33.0\\\\dsc\\\\GC\\\\gc_worker.\\nexe\",\"C:\\\\Windows\\\\System32\\\\conhost.exe\",\"C:\\\\Windows\\\\System32\\\\SecEdit.exe\",\"C:\\\\Windows\\\\System32\\\\SecEdit.exe\",\"C:\\\\Packages\\\\Plugins\\\\Microsoft.GuestConfiguration.C\\nonfigurationforWindows\\\\1.29.33.0\\\\dsc\\\\GC\\\\gc_worker.\\nexe\",\"C:\\\\Windows\\\\System32\\\\conhost.exe\",\"C:\\\\Packages\\\\Plugins\\\\Microsoft.GuestConfiguration.C\\nonfigurationforWindows\\\\1.29.33.0\\\\dsc\\\\GC\\\\gc_worker.\\nexe\",\"C:\\\\Windows\\\\System32\\\\conhost.exe\",\"C:\\\\Program Files\\\\Windows Defender Advanced Threat\\nProtection\\\\SenseCncProxy.exe\",\"C:\\\\Program Files\\\\Windows Defender Advanced Threat\\nProtection\\\\SenseIR.exe\",\"C:\\\\Windows\\\\System32\\\\wbem\\\\WmiPrvSE.exe\",\"C:\\\\Windows\\\\System32\\\\net.exe\",\"C:\\\\Windows\\\\System32\\\\net1.exe\",\"C:\\\\Windows\\\\System32\\\\net.exe\",\"C:\\\\Windows\\\\System32\\\\net1.exe\",\"C:\\\\Windows\\\\System32\\\\net.exe\",\"C:\\\\Windows\\\\System32\\\\net1.exe\",\"C:\\\\Packages\\\\Plugins\\\\Microsoft.GuestConfiguration.C\\nonfigurationforWindows\\\\1.29.33.0\\\\dsc\\\\GC\\\\gc_worker.\\nexe\",\"C:\\\\Windows\\\\System32\\\\conhost.exe\",\"C:\\\\Windows\\\\System32\\\\SecEdit.exe\",\"C:\\\\ProgramData\\\\Microsoft\\\\Windows\\nDefender\\\\Platform\\\\4.18.2108.7-0\\\\MsMpEng.exe\",\"C:\\\\Windows\\\\System32\\\\wevtutil.exe\",\"C:\\\\Windows\\\\System32\\\\conhost.exe\",\"C:\\\\Windows\\\\System32\\\\wevtutil.exe\",\"C:\\\\Windows\\\\System32\\\\conhost.exe\",\"C:\\\\Windows\\\\System32\\\\wevtutil.exe\",\"C:\\\\Windows\\\\System32\\\\conhost.exe\",\"C:\\\\Windows\\\\System32\\\\wevtutil.exe\",\"C:\\\\Windows\\\\System32\\\\conhost.exe\",\"C:\\\\Windows\\\\System32\\\\wevtutil.exe\",\"C:\\\\Windows\\\\System32\\\\conhost.exe\",\"C:\\\\Windows\\\\System32\\\\wevtutil.exe\",\"C:\\\\Windows\\\\System32\\\\conhost.exe\",\"C:\\\\Windows\\\\System32\\\\wevtutil.exe\",\"C:\\\\Windows\\\\System32\\\\conhost.exe\",\"C:\\\\Windows\\\\System32\\\\wevtutil.exe\",\"C:\\\\Windows\\\\System32\\\\conhost.exe\",\"C:\\\\Windows\\\\System32\\\\wevtutil.exe\",\"C:\\\\Windows\\\\System32\\\\conhost.exe\",\"C:\\\\Windows\\\\System32\\\\wevtutil.exe\",\"C:\\\\Windows\\\\System32\\\\conhost.exe\",\"C:\\\\Windows\\\\System32\\\\wevtutil.exe\",\"C:\\\\Windows\\\\System32\\\\conhost.exe\",\"C:\\\\Windows\\\\System32\\\\wevtutil.exe\",\"C:\\\\Windows\\\\System32\\\\conhost.exe\",\"C:\\\\ProgramData\\\\Microsoft\\\\Windows\\nDefender\\\\Platform\\\\4.18.2108.7-0\\\\MpCmdRun.exe\",\"C:\\\\Windows\\\\System32\\\\conhost.exe\",\"C:\\\\Windows\\\\System32\\\\wermgr.exe\",\"C:\\\\Windows\\\\System32\\\\svchost.exe\",\"C:\\\\Windows\\\\System32\\\\backgroundTaskHost.exe\",\"C:\\\\Windows\\\\System32\\\\RuntimeBroker.exe\",\"C:\\\\Windows\\\\System32\\\\SecEdit.exe\",\"C:\\\\Windows\\\\System32\\\\SecEdit.exe\",\"C:\\\\Packages\\\\Plugins\\\\Microsoft.GuestConfiguration.C\\nonfigurationforWindows\\\\1.29.33.0\\\\dsc\\\\GC\\\\gc_worker.\\nexe\",\"C:\\\\Windows\\\\System32\\\\conhost.exe\",\"C:\\\\Packages\\\\Plugins\\\\Microsoft.GuestConfiguration.C\\nonfigurationforWindows\\\\1.29.33.0\\\\dsc\\\\GC\\\\gc_worker.\\nexe\",\"C:\\\\Windows\\\\System32\\\\conhost.exe\",\"C:\\\\Windows\\\\System32\\\\SecEdit.exe\",\"C:\\\\Windows\\\\System32\\\\SecEdit.exe\",\"C:\\\\Windows\\\\System32\\\\SecEdit.exe\",\"C:\\\\Windows\\\\System32\\\\SecEdit.exe\",\"C:\\\\Packages\\\\Plugins\\\\Microsoft.GuestConfiguration.C\\nonfigurationforWindows\\\\1.29.33.0\\\\dsc\\\\GC\\\\gc_worker.\\nexe\",\"C:\\\\Windows\\\\System32\\\\conhost.exe\",\"C:\\\\Packages\\\\Plugins\\\\Microsoft.GuestConfiguration.C\\nonfigurationforWindows\\\\1.29.33.0\\\\dsc\\\\GC\\\\gc_worker.\\nexe\",\"C:\\\\Windows\\\\System32\\\\conhost.exe\",\"C:\\\\Windows\\\\System32\\\\svchost.exe\",\"C:\\\\Program Files\\\\Windows Defender Advanced Threat\\nProtection\\\\SenseCncProxy.exe\",\"C:\\\\Program Files\\\\Microsoft\\nOffice\\\\root\\\\Office16\\\\SDXHelper.exe\",\"C:\\\\Program Files\\\\Microsoft\\nOffice\\\\root\\\\Office16\\\\SDXHelper.exe\",\"C:\\\\Windows\\\\System32\\\\svchost.exe\",\"C:\\\\Windows\\\\System32\\\\svchost.exe\",\"C:\\\\Windows\\\\System32\\\\WindowsPowerShell\\\\v1.0\\\\powersh\\nell.exe\",\"C:\\\\Windows\\\\System32\\\\conhost.exe\",\"C:\\\\Windows\\\\servicing\\\\TrustedInstaller.exe\",\"C:\\\\Windows\\\\WinSxS\\\\amd64_microsoft-windows-servicin\\ngstack_31bf3856ad364e35_10.0.19041.1310_none_7e15e\\nc207c87d405\\\\TiWorker.exe\",\"C:\\\\Windows\\\\System32\\\\SearchProtocolHost.exe\",\"C:\\\\Windows\\\\System32\\\\SearchFilterHost.exe\",\"C:\\\\Program Files\\\\Windows Defender Advanced Threat\\nProtection\\\\SenseCncProxy.exe\",\"C:\\\\Windows\\\\System32\\\\svchost.exe\",\"C:\\\\Windows\\\\System32\\\\wbem\\\\WmiPrvSE.exe\",\"C:\\\\ProgramData\\\\Microsoft\\\\Windows\\nDefender\\\\Platform\\\\4.18.2108.7-0\\\\MsMpEng.exe\",\"C:\\\\Windows\\\\System32\\\\wevtutil.exe\",\"C:\\\\Windows\\\\System32\\\\conhost.exe\",\"C:\\\\Windows\\\\System32\\\\wevtutil.exe\",\"C:\\\\Windows\\\\System32\\\\conhost.exe\",\"C:\\\\Windows\\\\System32\\\\wevtutil.exe\",\"C:\\\\Windows\\\\System32\\\\conhost.exe\",\"C:\\\\Windows\\\\System32\\\\wevtutil.exe\",\"C:\\\\Windows\\\\System32\\\\conhost.exe\",\"C:\\\\Windows\\\\System32\\\\wevtutil.exe\",\"C:\\\\Windows\\\\System32\\\\conhost.exe\",\"C:\\\\Windows\\\\System32\\\\wevtutil.exe\",\"C:\\\\Windows\\\\System32\\\\conhost.exe\",\"C:\\\\Windows\\\\System32\\\\wevtutil.exe\",\"C:\\\\Windows\\\\System32\\\\conhost.exe\",\"C:\\\\Windows\\\\System32\\\\wevtutil.exe\",\"C:\\\\Windows\\\\System32\\\\conhost.exe\",\"C:\\\\Windows\\\\System32\\\\wevtutil.exe\",\"C:\\\\Windows\\\\System32\\\\conhost.exe\",\"C:\\\\Windows\\\\System32\\\\wevtutil.exe\",\"C:\\\\Windows\\\\System32\\\\conhost.exe\",\"C:\\\\Windows\\\\System32\\\\wevtutil.exe\",\"C:\\\\Windows\\\\System32\\\\conhost.exe\",\"C:\\\\Windows\\\\System32\\\\wevtutil.exe\",\"C:\\\\Windows\\\\System32\\\\conhost.exe\",\"C:\\\\ProgramData\\\\Microsoft\\\\Windows\\nDefender\\\\Platform\\\\4.18.2108.7-0\\\\MpCmdRun.exe\",\"C:\\\\Windows\\\\System32\\\\conhost.exe\",\"C:\\\\Windows\\\\System32\\\\gpupdate.exe\",\"C:\\\\Windows\\\\System32\\\\conhost.exe\",\"C:\\\\Windows\\\\System32\\\\svchost.exe\",\"C:\\\\Windows\\\\System32\\\\svchost.exe\",\"C:\\\\WindowsAzure\\\\GuestAgent_2.7.41491.1024_2021-08-\\n16_165911\\\\GuestAgent\\\\FindVolume\\\\FindVolume.exe\",\"C:\\\\Windows\\\\System32\\\\conhost.exe\",\"C:\\\\WindowsAzure\\\\GuestAgent_2.7.41491.1024_2021-08-\\n16_165911\\\\CollectGuestLogs.exe\",\"C:\\\\Windows\\\\System32\\\\conhost.exe\",\"C:\\\\Windows\\\\System32\\\\cmd.exe\",\"C:\\\\Windows\\\\System32\\\\conhost.exe\",\"C:\\\\Program Files\\\\Windows Defender Advanced Threat\\nProtection\\\\SenseCncProxy.exe\",\"C:\\\\Packages\\\\Plugins\\\\Microsoft.GuestConfiguration.C\\nonfigurationforWindows\\\\1.29.33.0\\\\dsc\\\\GC\\\\gc_worker.\\nexe\",\"C:\\\\Windows\\\\System32\\\\conhost.exe\",\"C:\\\\Windows\\\\System32\\\\SecEdit.exe\",\"C:\\\\Windows\\\\System32\\\\SecEdit.exe\",\"C:\\\\Windows\\\\System32\\\\svchost.exe\",\"C:\\\\Windows\\\\System32\\\\backgroundTaskHost.exe\",\"C:\\\\Windows\\\\System32\\\\RuntimeBroker.exe\",\"C:\\\\Packages\\\\Plugins\\\\Microsoft.GuestConfiguration.C\\nonfigurationforWindows\\\\1.29.33.0\\\\dsc\\\\GC\\\\gc_worker.\\nexe\",\"C:\\\\Windows\\\\System32\\\\conhost.exe\",\"C:\\\\Windows\\\\System32\\\\SecEdit.exe\",\"C:\\\\Windows\\\\System32\\\\SecEdit.exe\",\"C:\\\\Packages\\\\Plugins\\\\Microsoft.GuestConfiguration.C\\nonfigurationforWindows\\\\1.29.33.0\\\\dsc\\\\GC\\\\gc_worker.\\nexe\",\"C:\\\\Windows\\\\System32\\\\conhost.exe\",\"C:\\\\Windows\\\\System32\\\\svchost.exe\",\"C:\\\\Windows\\\\System32\\\\SecEdit.exe\",\"C:\\\\Windows\\\\System32\\\\SecEdit.exe\",\"C:\\\\ProgramData\\\\Microsoft\\\\Windows\\nDefender\\\\Platform\\\\4.18.2108.7-0\\\\MsMpEng.exe\",\"C:\\\\Windows\\\\System32\\\\wevtutil.exe\",\"C:\\\\Windows\\\\System32\\\\conhost.exe\",\"C:\\\\Windows\\\\System32\\\\wevtutil.exe\",\"C:\\\\Windows\\\\System32\\\\conhost.exe\",\"C:\\\\Windows\\\\System32\\\\wevtutil.exe\",\"C:\\\\Windows\\\\System32\\\\conhost.exe\",\"C:\\\\Windows\\\\System32\\\\wevtutil.exe\",\"C:\\\\Windows\\\\System32\\\\conhost.exe\",\"C:\\\\Windows\\\\System32\\\\wevtutil.exe\",\"C:\\\\Windows\\\\System32\\\\conhost.exe\",\"C:\\\\Windows\\\\System32\\\\wevtutil.exe\",\"C:\\\\Windows\\\\System32\\\\conhost.exe\",\"C:\\\\Windows\\\\System32\\\\wevtutil.exe\",\"C:\\\\Windows\\\\System32\\\\conhost.exe\",\"C:\\\\Windows\\\\System32\\\\wevtutil.exe\",\"C:\\\\Windows\\\\System32\\\\conhost.exe\",\"C:\\\\Windows\\\\System32\\\\wevtutil.exe\",\"C:\\\\Windows\\\\System32\\\\conhost.exe\",\"C:\\\\Windows\\\\System32\\\\wevtutil.exe\",\"C:\\\\Windows\\\\System32\\\\conhost.exe\",\"C:\\\\Windows\\\\System32\\\\wevtutil.exe\",\"C:\\\\Windows\\\\System32\\\\conhost.exe\",\"C:\\\\Windows\\\\System32\\\\wevtutil.exe\",\"C:\\\\Windows\\\\System32\\\\conhost.exe\",\"C:\\\\ProgramData\\\\Microsoft\\\\Windows\\nDefender\\\\Platform\\\\4.18.2108.7-0\\\\MpCmdRun.exe\",\"C:\\\\Windows\\\\System32\\\\conhost.exe\",\"C:\\\\Windows\\\\System32\\\\wbem\\\\WmiPrvSE.exe\",\"C:\\\\Windows\\\\System32\\\\SecEdit.exe\",\"C:\\\\Packages\\\\Plugins\\\\Microsoft.GuestConfiguration.C\\nonfigurationforWindows\\\\1.29.33.0\\\\dsc\\\\GC\\\\gc_worker.\\nexe\",\"C:\\\\Windows\\\\System32\\\\conhost.exe\",\"C:\\\\Windows\\\\System32\\\\svchost.exe\",\"C:\\\\Windows\\\\System32\\\\net.exe\",\"C:\\\\Windows\\\\System32\\\\net1.exe\",\"C:\\\\Windows\\\\System32\\\\net.exe\",\"C:\\\\Windows\\\\System32\\\\net1.exe\",\"C:\\\\Windows\\\\System32\\\\net.exe\",\"C:\\\\Windows\\\\System32\\\\net1.exe\",\"C:\\\\Packages\\\\Plugins\\\\Microsoft.GuestConfiguration.C\\nonfigurationforWindows\\\\1.29.33.0\\\\dsc\\\\GC\\\\gc_worker.\\nexe\",\"C:\\\\Windows\\\\System32\\\\conhost.exe\",\"C:\\\\Packages\\\\Plugins\\\\Microsoft.GuestConfiguration.C\\nonfigurationforWindows\\\\1.29.33.0\\\\dsc\\\\GC\\\\gc_worker.\\nexe\",\"C:\\\\Windows\\\\System32\\\\conhost.exe\"],\"TimeGenerated\":{\"__ndarray__\":\"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\",\"dtype\":\"float64\",\"order\":\"little\",\"shape\":[213]},\"index\":[0,1,2,3,4,5,6,7,8,9,10,11,12,13,14,15,16,17,18,19,20,21,22,23,24,25,26,27,28,29,30,31,32,34,35,36,37,39,40,41,42,43,44,45,46,47,48,49,50,51,52,53,54,55,56,57,58,59,60,61,62,63,64,65,66,67,68,69,70,71,72,73,74,75,76,77,78,79,80,81,82,83,84,85,86,88,89,90,91,92,94,95,96,97,98,99,100,101,102,103,104,105,106,107,108,109,111,112,113,114,116,117,118,119,121,122,123,125,126,127,128,129,130,131,132,133,134,135,136,137,138,139,140,141,142,143,144,145,146,147,148,149,150,151,152,153,154,155,157,158,159,160,161,162,163,165,166,167,168,169,170,171,172,173,174,175,176,177,178,179,180,181,182,183,184,185,186,187,188,189,190,191,192,193,194,195,196,197,198,199,200,201,202,203,204,205,206,207,208,209,210,211,217,218,219,220,221,222,223,224,225,226,227],\"y_index\":[0,0,0,0,0,0,0,0,0,0,0,0,0,0,0,0,0,0,0,0,0,0,0,0,0,0,0,0,0,0,0,0,0,0,0,0,0,0,0,0,0,0,0,0,0,0,0,0,0,0,0,0,0,0,0,0,0,0,0,0,0,0,0,0,0,0,0,0,0,0,0,0,0,0,0,0,0,0,0,0,0,0,0,0,0,0,0,0,0,0,0,0,0,0,0,0,0,0,0,0,0,0,0,0,0,0,0,0,0,0,0,0,0,0,0,0,0,0,0,0,0,0,0,0,0,0,0,0,0,0,0,0,0,0,0,0,0,0,0,0,0,0,0,0,0,0,0,0,0,0,0,0,0,0,0,0,0,0,0,0,0,0,0,0,0,0,0,0,0,0,0,0,0,0,0,0,0,0,0,0,0,0,0,0,0,0,0,0,0,0,0,0,0,0,0,0,0,0,0,0,0,0,0,0,0,0,0,0,0,0,0,0,0]},\"selected\":{\"id\":\"2777\"},\"selection_policy\":{\"id\":\"2778\"}},\"id\":\"2683\",\"type\":\"ColumnDataSource\"},{\"attributes\":{},\"id\":\"2727\",\"type\":\"LinearScale\"},{\"attributes\":{\"num_minor_ticks\":10,\"tickers\":[{\"id\":\"2781\"},{\"id\":\"2782\"},{\"id\":\"2783\"},{\"id\":\"2784\"},{\"id\":\"2785\"},{\"id\":\"2786\"},{\"id\":\"2787\"},{\"id\":\"2788\"},{\"id\":\"2789\"},{\"id\":\"2790\"},{\"id\":\"2791\"},{\"id\":\"2792\"}]},\"id\":\"2698\",\"type\":\"DatetimeTicker\"},{\"attributes\":{\"fill_alpha\":{\"value\":0.1},\"fill_color\":{\"value\":\"#440154\"},\"line_alpha\":{\"value\":0.1},\"line_color\":{\"value\":\"#440154\"},\"x\":{\"field\":\"TimeGenerated\"},\"y\":{\"field\":\"y_index\"}},\"id\":\"2739\",\"type\":\"Circle\"},{\"attributes\":{\"formatter\":{\"id\":\"2772\"},\"major_label_policy\":{\"id\":\"2773\"},\"ticker\":{\"id\":\"2702\"},\"visible\":false},\"id\":\"2701\",\"type\":\"LinearAxis\"},{\"attributes\":{\"label\":{\"value\":\"SECCXP\\\\kdickens\"},\"renderers\":[{\"id\":\"2763\"}]},\"id\":\"2765\",\"type\":\"LegendItem\"},{\"attributes\":{},\"id\":\"2702\",\"type\":\"BasicTicker\"},{\"attributes\":{\"days\":[1,15]},\"id\":\"2787\",\"type\":\"DaysTicker\"},{\"attributes\":{\"end\":1637166051764.95,\"start\":1637164647748.0498},\"id\":\"2721\",\"type\":\"Range1d\"},{\"attributes\":{\"bottom_units\":\"screen\",\"fill_alpha\":0.5,\"fill_color\":\"lightgrey\",\"left_units\":\"screen\",\"level\":\"overlay\",\"line_alpha\":1.0,\"line_color\":\"black\",\"line_dash\":[4,4],\"line_width\":2,\"right_units\":\"screen\",\"syncable\":false,\"top_units\":\"screen\"},\"id\":\"2710\",\"type\":\"BoxAnnotation\"},{\"attributes\":{\"data_source\":{\"id\":\"2683\"},\"glyph\":{\"id\":\"2738\"},\"hover_glyph\":null,\"muted_glyph\":null,\"nonselection_glyph\":{\"id\":\"2739\"},\"view\":{\"id\":\"2741\"}},\"id\":\"2740\",\"type\":\"GlyphRenderer\"},{\"attributes\":{\"fill_alpha\":{\"value\":0.1},\"fill_color\":{\"value\":\"#FDE724\"},\"line_alpha\":{\"value\":0.1},\"line_color\":{\"value\":\"#FDE724\"},\"marker\":{\"value\":\"diamond\"},\"size\":{\"value\":10},\"x\":{\"field\":\"TimeGenerated\"},\"y\":{\"field\":\"y_index\"}},\"id\":\"2762\",\"type\":\"Scatter\"},{\"attributes\":{\"source\":{\"id\":\"2684\"}},\"id\":\"2764\",\"type\":\"CDSView\"},{\"attributes\":{\"days\":[\"%m-%d %H:%M\"],\"hours\":[\"%H:%M:%S\"],\"milliseconds\":[\"%H:%M:%S.%3N\"],\"minutes\":[\"%H:%M:%S\"],\"seconds\":[\"%H:%M:%S\"]},\"id\":\"2735\",\"type\":\"DatetimeTickFormatter\"},{\"attributes\":{\"overlay\":{\"id\":\"2710\"}},\"id\":\"2706\",\"type\":\"BoxZoomTool\"},{\"attributes\":{},\"id\":\"2725\",\"type\":\"LinearScale\"},{\"attributes\":{},\"id\":\"2775\",\"type\":\"AllLabels\"},{\"attributes\":{\"days\":[1,15]},\"id\":\"2800\",\"type\":\"DaysTicker\"},{\"attributes\":{\"months\":[0,6]},\"id\":\"2804\",\"type\":\"MonthsTicker\"},{\"attributes\":{\"base\":24,\"mantissas\":[1,2,4,6,8,12],\"max_interval\":43200000.0,\"min_interval\":3600000.0,\"num_minor_ticks\":0},\"id\":\"2783\",\"type\":\"AdaptiveTicker\"},{\"attributes\":{\"days\":[\"%m-%d %H:%M\"],\"hours\":[\"%H:%M:%S\"],\"milliseconds\":[\"%H:%M:%S.%3N\"],\"minutes\":[\"%H:%M:%S\"],\"seconds\":[\"%H:%M:%S\"]},\"id\":\"2752\",\"type\":\"DatetimeTickFormatter\"}],\"root_ids\":[\"2767\"]},\"title\":\"Bokeh Application\",\"version\":\"2.3.2\"}};\n  var render_items = [{\"docid\":\"19d51d5d-caa1-4050-b97d-b8f24f54cea6\",\"root_ids\":[\"2767\"],\"roots\":{\"2767\":\"9ae0ff7e-a402-47fc-b771-63a3ce4c3e80\"}}];\n  root.Bokeh.embed.embed_items_notebook(docs_json, render_items);\n\n  }\n  if (root.Bokeh !== undefined) {\n    embed_document(root);\n  } else {\n    var attempts = 0;\n    var timer = setInterval(function(root) {\n      if (root.Bokeh !== undefined) {\n        clearInterval(timer);\n        embed_document(root);\n      } else {\n        attempts++;\n        if (attempts > 100) {\n          clearInterval(timer);\n          console.log(\"Bokeh: ERROR: Unable to run BokehJS code because BokehJS library is missing\");\n        }\n      }\n    }, 10, root)\n  }\n})(window);",
      "application/vnd.bokehjs_exec.v0+json": ""
     },
     "metadata": {
      "application/vnd.bokehjs_exec.v0+json": {
       "id": "2767"
      }
     },
     "output_type": "display_data"
    },
    {
     "data": {
      "text/html": [
       "<div style=\"display: table;\"><div style=\"display: table-row;\"><div style=\"display: table-cell;\"><b title=\"bokeh.models.layouts.Column\">Column</b>(</div><div style=\"display: table-cell;\">id&nbsp;=&nbsp;'2767', <span id=\"3003\" style=\"cursor: pointer;\">&hellip;)</span></div></div><div class=\"3002\" style=\"display: none;\"><div style=\"display: table-cell;\"></div><div style=\"display: table-cell;\">align&nbsp;=&nbsp;'start',</div></div><div class=\"3002\" style=\"display: none;\"><div style=\"display: table-cell;\"></div><div style=\"display: table-cell;\">aspect_ratio&nbsp;=&nbsp;None,</div></div><div class=\"3002\" style=\"display: none;\"><div style=\"display: table-cell;\"></div><div style=\"display: table-cell;\">background&nbsp;=&nbsp;None,</div></div><div class=\"3002\" style=\"display: none;\"><div style=\"display: table-cell;\"></div><div style=\"display: table-cell;\">children&nbsp;=&nbsp;[Figure(id='2686', ...), Figure(id='2718', ...)],</div></div><div class=\"3002\" style=\"display: none;\"><div style=\"display: table-cell;\"></div><div style=\"display: table-cell;\">css_classes&nbsp;=&nbsp;[],</div></div><div class=\"3002\" style=\"display: none;\"><div style=\"display: table-cell;\"></div><div style=\"display: table-cell;\">disabled&nbsp;=&nbsp;False,</div></div><div class=\"3002\" style=\"display: none;\"><div style=\"display: table-cell;\"></div><div style=\"display: table-cell;\">height&nbsp;=&nbsp;None,</div></div><div class=\"3002\" style=\"display: none;\"><div style=\"display: table-cell;\"></div><div style=\"display: table-cell;\">height_policy&nbsp;=&nbsp;'auto',</div></div><div class=\"3002\" style=\"display: none;\"><div style=\"display: table-cell;\"></div><div style=\"display: table-cell;\">js_event_callbacks&nbsp;=&nbsp;{},</div></div><div class=\"3002\" style=\"display: none;\"><div style=\"display: table-cell;\"></div><div style=\"display: table-cell;\">js_property_callbacks&nbsp;=&nbsp;{},</div></div><div class=\"3002\" style=\"display: none;\"><div style=\"display: table-cell;\"></div><div style=\"display: table-cell;\">margin&nbsp;=&nbsp;(0, 0, 0, 0),</div></div><div class=\"3002\" style=\"display: none;\"><div style=\"display: table-cell;\"></div><div style=\"display: table-cell;\">max_height&nbsp;=&nbsp;None,</div></div><div class=\"3002\" style=\"display: none;\"><div style=\"display: table-cell;\"></div><div style=\"display: table-cell;\">max_width&nbsp;=&nbsp;None,</div></div><div class=\"3002\" style=\"display: none;\"><div style=\"display: table-cell;\"></div><div style=\"display: table-cell;\">min_height&nbsp;=&nbsp;None,</div></div><div class=\"3002\" style=\"display: none;\"><div style=\"display: table-cell;\"></div><div style=\"display: table-cell;\">min_width&nbsp;=&nbsp;None,</div></div><div class=\"3002\" style=\"display: none;\"><div style=\"display: table-cell;\"></div><div style=\"display: table-cell;\">name&nbsp;=&nbsp;None,</div></div><div class=\"3002\" style=\"display: none;\"><div style=\"display: table-cell;\"></div><div style=\"display: table-cell;\">rows&nbsp;=&nbsp;'auto',</div></div><div class=\"3002\" style=\"display: none;\"><div style=\"display: table-cell;\"></div><div style=\"display: table-cell;\">sizing_mode&nbsp;=&nbsp;None,</div></div><div class=\"3002\" style=\"display: none;\"><div style=\"display: table-cell;\"></div><div style=\"display: table-cell;\">spacing&nbsp;=&nbsp;0,</div></div><div class=\"3002\" style=\"display: none;\"><div style=\"display: table-cell;\"></div><div style=\"display: table-cell;\">subscribed_events&nbsp;=&nbsp;[],</div></div><div class=\"3002\" style=\"display: none;\"><div style=\"display: table-cell;\"></div><div style=\"display: table-cell;\">syncable&nbsp;=&nbsp;True,</div></div><div class=\"3002\" style=\"display: none;\"><div style=\"display: table-cell;\"></div><div style=\"display: table-cell;\">tags&nbsp;=&nbsp;[],</div></div><div class=\"3002\" style=\"display: none;\"><div style=\"display: table-cell;\"></div><div style=\"display: table-cell;\">visible&nbsp;=&nbsp;True,</div></div><div class=\"3002\" style=\"display: none;\"><div style=\"display: table-cell;\"></div><div style=\"display: table-cell;\">width&nbsp;=&nbsp;None,</div></div><div class=\"3002\" style=\"display: none;\"><div style=\"display: table-cell;\"></div><div style=\"display: table-cell;\">width_policy&nbsp;=&nbsp;'auto')</div></div></div>\n",
       "<script>\n",
       "(function() {\n",
       "  var expanded = false;\n",
       "  var ellipsis = document.getElementById(\"3003\");\n",
       "  ellipsis.addEventListener(\"click\", function() {\n",
       "    var rows = document.getElementsByClassName(\"3002\");\n",
       "    for (var i = 0; i < rows.length; i++) {\n",
       "      var el = rows[i];\n",
       "      el.style.display = expanded ? \"none\" : \"table-row\";\n",
       "    }\n",
       "    ellipsis.innerHTML = expanded ? \"&hellip;)\" : \"&lsaquo;&lsaquo;&lsaquo;\";\n",
       "    expanded = !expanded;\n",
       "  });\n",
       "})();\n",
       "</script>\n"
      ],
      "text/plain": [
       "Column(id='2767', ...)"
      ]
     },
     "execution_count": 72,
     "metadata": {},
     "output_type": "execute_result"
    }
   ],
   "source": [
    "host_summary_rslt.host_entity.qry_wevt_processes(start=\"2021-11-17 16:00\", end=\"2021-11-17 16:20\").mp_plot.timeline(group_by=\"Account\")"
   ]
  },
  {
   "cell_type": "code",
   "execution_count": 74,
   "metadata": {},
   "outputs": [
    {
     "data": {
      "text/html": [
       "\n",
       "    <div class=\"bk-root\">\n",
       "        <a href=\"https://bokeh.org\" target=\"_blank\" class=\"bk-logo bk-logo-small bk-logo-notebook\"></a>\n",
       "        <span id=\"3230\">Loading BokehJS ...</span>\n",
       "    </div>"
      ]
     },
     "metadata": {},
     "output_type": "display_data"
    },
    {
     "data": {
      "application/javascript": "\n(function(root) {\n  function now() {\n    return new Date();\n  }\n\n  var force = true;\n\n  if (typeof root._bokeh_onload_callbacks === \"undefined\" || force === true) {\n    root._bokeh_onload_callbacks = [];\n    root._bokeh_is_loading = undefined;\n  }\n\n  var JS_MIME_TYPE = 'application/javascript';\n  var HTML_MIME_TYPE = 'text/html';\n  var EXEC_MIME_TYPE = 'application/vnd.bokehjs_exec.v0+json';\n  var CLASS_NAME = 'output_bokeh rendered_html';\n\n  /**\n   * Render data to the DOM node\n   */\n  function render(props, node) {\n    var script = document.createElement(\"script\");\n    node.appendChild(script);\n  }\n\n  /**\n   * Handle when an output is cleared or removed\n   */\n  function handleClearOutput(event, handle) {\n    var cell = handle.cell;\n\n    var id = cell.output_area._bokeh_element_id;\n    var server_id = cell.output_area._bokeh_server_id;\n    // Clean up Bokeh references\n    if (id != null && id in Bokeh.index) {\n      Bokeh.index[id].model.document.clear();\n      delete Bokeh.index[id];\n    }\n\n    if (server_id !== undefined) {\n      // Clean up Bokeh references\n      var cmd = \"from bokeh.io.state import curstate; print(curstate().uuid_to_server['\" + server_id + \"'].get_sessions()[0].document.roots[0]._id)\";\n      cell.notebook.kernel.execute(cmd, {\n        iopub: {\n          output: function(msg) {\n            var id = msg.content.text.trim();\n            if (id in Bokeh.index) {\n              Bokeh.index[id].model.document.clear();\n              delete Bokeh.index[id];\n            }\n          }\n        }\n      });\n      // Destroy server and session\n      var cmd = \"import bokeh.io.notebook as ion; ion.destroy_server('\" + server_id + \"')\";\n      cell.notebook.kernel.execute(cmd);\n    }\n  }\n\n  /**\n   * Handle when a new output is added\n   */\n  function handleAddOutput(event, handle) {\n    var output_area = handle.output_area;\n    var output = handle.output;\n\n    // limit handleAddOutput to display_data with EXEC_MIME_TYPE content only\n    if ((output.output_type != \"display_data\") || (!Object.prototype.hasOwnProperty.call(output.data, EXEC_MIME_TYPE))) {\n      return\n    }\n\n    var toinsert = output_area.element.find(\".\" + CLASS_NAME.split(' ')[0]);\n\n    if (output.metadata[EXEC_MIME_TYPE][\"id\"] !== undefined) {\n      toinsert[toinsert.length - 1].firstChild.textContent = output.data[JS_MIME_TYPE];\n      // store reference to embed id on output_area\n      output_area._bokeh_element_id = output.metadata[EXEC_MIME_TYPE][\"id\"];\n    }\n    if (output.metadata[EXEC_MIME_TYPE][\"server_id\"] !== undefined) {\n      var bk_div = document.createElement(\"div\");\n      bk_div.innerHTML = output.data[HTML_MIME_TYPE];\n      var script_attrs = bk_div.children[0].attributes;\n      for (var i = 0; i < script_attrs.length; i++) {\n        toinsert[toinsert.length - 1].firstChild.setAttribute(script_attrs[i].name, script_attrs[i].value);\n        toinsert[toinsert.length - 1].firstChild.textContent = bk_div.children[0].textContent\n      }\n      // store reference to server id on output_area\n      output_area._bokeh_server_id = output.metadata[EXEC_MIME_TYPE][\"server_id\"];\n    }\n  }\n\n  function register_renderer(events, OutputArea) {\n\n    function append_mime(data, metadata, element) {\n      // create a DOM node to render to\n      var toinsert = this.create_output_subarea(\n        metadata,\n        CLASS_NAME,\n        EXEC_MIME_TYPE\n      );\n      this.keyboard_manager.register_events(toinsert);\n      // Render to node\n      var props = {data: data, metadata: metadata[EXEC_MIME_TYPE]};\n      render(props, toinsert[toinsert.length - 1]);\n      element.append(toinsert);\n      return toinsert\n    }\n\n    /* Handle when an output is cleared or removed */\n    events.on('clear_output.CodeCell', handleClearOutput);\n    events.on('delete.Cell', handleClearOutput);\n\n    /* Handle when a new output is added */\n    events.on('output_added.OutputArea', handleAddOutput);\n\n    /**\n     * Register the mime type and append_mime function with output_area\n     */\n    OutputArea.prototype.register_mime_type(EXEC_MIME_TYPE, append_mime, {\n      /* Is output safe? */\n      safe: true,\n      /* Index of renderer in `output_area.display_order` */\n      index: 0\n    });\n  }\n\n  // register the mime type if in Jupyter Notebook environment and previously unregistered\n  if (root.Jupyter !== undefined) {\n    var events = require('base/js/events');\n    var OutputArea = require('notebook/js/outputarea').OutputArea;\n\n    if (OutputArea.prototype.mime_types().indexOf(EXEC_MIME_TYPE) == -1) {\n      register_renderer(events, OutputArea);\n    }\n  }\n\n  \n  if (typeof (root._bokeh_timeout) === \"undefined\" || force === true) {\n    root._bokeh_timeout = Date.now() + 5000;\n    root._bokeh_failed_load = false;\n  }\n\n  var NB_LOAD_WARNING = {'data': {'text/html':\n     \"<div style='background-color: #fdd'>\\n\"+\n     \"<p>\\n\"+\n     \"BokehJS does not appear to have successfully loaded. If loading BokehJS from CDN, this \\n\"+\n     \"may be due to a slow or bad network connection. Possible fixes:\\n\"+\n     \"</p>\\n\"+\n     \"<ul>\\n\"+\n     \"<li>re-rerun `output_notebook()` to attempt to load from CDN again, or</li>\\n\"+\n     \"<li>use INLINE resources instead, as so:</li>\\n\"+\n     \"</ul>\\n\"+\n     \"<code>\\n\"+\n     \"from bokeh.resources import INLINE\\n\"+\n     \"output_notebook(resources=INLINE)\\n\"+\n     \"</code>\\n\"+\n     \"</div>\"}};\n\n  function display_loaded() {\n    var el = document.getElementById(\"3230\");\n    if (el != null) {\n      el.textContent = \"BokehJS is loading...\";\n    }\n    if (root.Bokeh !== undefined) {\n      if (el != null) {\n        el.textContent = \"BokehJS \" + root.Bokeh.version + \" successfully loaded.\";\n      }\n    } else if (Date.now() < root._bokeh_timeout) {\n      setTimeout(display_loaded, 100)\n    }\n  }\n\n\n  function run_callbacks() {\n    try {\n      root._bokeh_onload_callbacks.forEach(function(callback) {\n        if (callback != null)\n          callback();\n      });\n    } finally {\n      delete root._bokeh_onload_callbacks\n    }\n    console.debug(\"Bokeh: all callbacks have finished\");\n  }\n\n  function load_libs(css_urls, js_urls, callback) {\n    if (css_urls == null) css_urls = [];\n    if (js_urls == null) js_urls = [];\n\n    root._bokeh_onload_callbacks.push(callback);\n    if (root._bokeh_is_loading > 0) {\n      console.debug(\"Bokeh: BokehJS is being loaded, scheduling callback at\", now());\n      return null;\n    }\n    if (js_urls == null || js_urls.length === 0) {\n      run_callbacks();\n      return null;\n    }\n    console.debug(\"Bokeh: BokehJS not loaded, scheduling load and callback at\", now());\n    root._bokeh_is_loading = css_urls.length + js_urls.length;\n\n    function on_load() {\n      root._bokeh_is_loading--;\n      if (root._bokeh_is_loading === 0) {\n        console.debug(\"Bokeh: all BokehJS libraries/stylesheets loaded\");\n        run_callbacks()\n      }\n    }\n\n    function on_error(url) {\n      console.error(\"failed to load \" + url);\n    }\n\n    for (let i = 0; i < css_urls.length; i++) {\n      const url = css_urls[i];\n      const element = document.createElement(\"link\");\n      element.onload = on_load;\n      element.onerror = on_error.bind(null, url);\n      element.rel = \"stylesheet\";\n      element.type = \"text/css\";\n      element.href = url;\n      console.debug(\"Bokeh: injecting link tag for BokehJS stylesheet: \", url);\n      document.body.appendChild(element);\n    }\n\n    const hashes = {\"https://cdn.bokeh.org/bokeh/release/bokeh-2.3.2.min.js\": \"XypntL49z55iwGVUW4qsEu83zKL3XEcz0MjuGOQ9SlaaQ68X/g+k1FcioZi7oQAc\", \"https://cdn.bokeh.org/bokeh/release/bokeh-tables-2.3.2.min.js\": \"bEsM86IHGDTLCS0Zod8a8WM6Y4+lafAL/eSiyQcuPzinmWNgNO2/olUF0Z2Dkn5i\", \"https://cdn.bokeh.org/bokeh/release/bokeh-widgets-2.3.2.min.js\": \"TX0gSQTdXTTeScqxj6PVQxTiRW8DOoGVwinyi1D3kxv7wuxQ02XkOxv0xwiypcAH\"};\n\n    for (let i = 0; i < js_urls.length; i++) {\n      const url = js_urls[i];\n      const element = document.createElement('script');\n      element.onload = on_load;\n      element.onerror = on_error.bind(null, url);\n      element.async = false;\n      element.src = url;\n      if (url in hashes) {\n        element.crossOrigin = \"anonymous\";\n        element.integrity = \"sha384-\" + hashes[url];\n      }\n      console.debug(\"Bokeh: injecting script tag for BokehJS library: \", url);\n      document.head.appendChild(element);\n    }\n  };\n\n  function inject_raw_css(css) {\n    const element = document.createElement(\"style\");\n    element.appendChild(document.createTextNode(css));\n    document.body.appendChild(element);\n  }\n\n  \n  var js_urls = [\"https://cdn.bokeh.org/bokeh/release/bokeh-2.3.2.min.js\", \"https://cdn.bokeh.org/bokeh/release/bokeh-widgets-2.3.2.min.js\", \"https://cdn.bokeh.org/bokeh/release/bokeh-tables-2.3.2.min.js\"];\n  var css_urls = [];\n  \n\n  var inline_js = [\n    function(Bokeh) {\n      Bokeh.set_log_level(\"info\");\n    },\n    function(Bokeh) {\n    \n    \n    }\n  ];\n\n  function run_inline_js() {\n    \n    if (root.Bokeh !== undefined || force === true) {\n      \n    for (var i = 0; i < inline_js.length; i++) {\n      inline_js[i].call(root, root.Bokeh);\n    }\n    if (force === true) {\n        display_loaded();\n      }} else if (Date.now() < root._bokeh_timeout) {\n      setTimeout(run_inline_js, 100);\n    } else if (!root._bokeh_failed_load) {\n      console.log(\"Bokeh: BokehJS failed to load within specified timeout.\");\n      root._bokeh_failed_load = true;\n    } else if (force !== true) {\n      var cell = $(document.getElementById(\"3230\")).parents('.cell').data().cell;\n      cell.output_area.append_execute_result(NB_LOAD_WARNING)\n    }\n\n  }\n\n  if (root._bokeh_is_loading === 0) {\n    console.debug(\"Bokeh: BokehJS loaded, going straight to plotting\");\n    run_inline_js();\n  } else {\n    load_libs(css_urls, js_urls, function() {\n      console.debug(\"Bokeh: BokehJS plotting callback run at\", now());\n      run_inline_js();\n    });\n  }\n}(window));",
      "application/vnd.bokehjs_load.v0+json": ""
     },
     "metadata": {},
     "output_type": "display_data"
    },
    {
     "data": {
      "text/html": [
       "\n",
       "\n",
       "\n",
       "\n",
       "\n",
       "\n",
       "  <div class=\"bk-root\" id=\"583fd63e-4b90-485b-87a9-b0195e8100a5\" data-root-id=\"3347\"></div>\n"
      ]
     },
     "metadata": {},
     "output_type": "display_data"
    },
    {
     "data": {
      "application/javascript": "(function(root) {\n  function embed_document(root) {\n    \n  var docs_json = {\"a5d35cb3-fe2f-46d0-86cc-ddf0c9d2b3ef\":{\"defs\":[],\"roots\":{\"references\":[{\"attributes\":{\"children\":[{\"id\":\"3233\"},{\"id\":\"3305\"}]},\"id\":\"3347\",\"type\":\"Row\"},{\"attributes\":{\"formatter\":{\"id\":\"3359\"},\"major_label_policy\":{\"id\":\"3360\"},\"ticker\":{\"id\":\"3319\"},\"visible\":false},\"id\":\"3318\",\"type\":\"LinearAxis\"},{\"attributes\":{\"factors\":[\"SECCXP\\\\kdickens\",\"SECCXP\\\\WORKSTATION6$\"],\"palette\":[\"#440154\",\"#208F8C\",\"#FDE724\"]},\"id\":\"3232\",\"type\":\"CategoricalColorMapper\"},{\"attributes\":{\"label\":{\"field\":\"Account\"},\"renderers\":[{\"id\":\"3267\"}]},\"id\":\"3279\",\"type\":\"LegendItem\"},{\"attributes\":{\"formatter\":{\"id\":\"3356\"},\"major_label_policy\":{\"id\":\"3357\"},\"ticker\":{\"id\":\"3315\"},\"visible\":false},\"id\":\"3314\",\"type\":\"LinearAxis\"},{\"attributes\":{\"overlay\":{\"id\":\"3328\"}},\"id\":\"3324\",\"type\":\"BoxZoomTool\"},{\"attributes\":{\"end\":26,\"start\":5},\"id\":\"3238\",\"type\":\"Range1d\"},{\"attributes\":{\"ticks\":[1,2,3,4]},\"id\":\"3301\",\"type\":\"FixedTicker\"},{\"attributes\":{\"text\":{\"field\":\"__cmd_line$$\"},\"text_alpha\":{\"value\":0.1},\"text_baseline\":{\"value\":\"middle\"},\"text_color\":{\"value\":\"black\"},\"text_font_size\":{\"value\":\"7pt\"},\"x\":{\"field\":\"Level\",\"transform\":{\"id\":\"3280\"}},\"y\":{\"field\":\"Row\",\"transform\":{\"id\":\"3281\"}}},\"id\":\"3284\",\"type\":\"Text\"},{\"attributes\":{\"bottom_units\":\"screen\",\"fill_alpha\":0.5,\"fill_color\":\"lightgrey\",\"left_units\":\"screen\",\"level\":\"overlay\",\"line_alpha\":1.0,\"line_color\":\"black\",\"line_dash\":[4,4],\"line_width\":2,\"right_units\":\"screen\",\"syncable\":false,\"top_units\":\"screen\"},\"id\":\"3328\",\"type\":\"BoxAnnotation\"},{\"attributes\":{\"end\":26,\"start\":-1},\"id\":\"3308\",\"type\":\"Range1d\"},{\"attributes\":{\"axis\":{\"id\":\"3314\"},\"grid_line_color\":null,\"ticker\":null},\"id\":\"3317\",\"type\":\"Grid\"},{\"attributes\":{\"axis\":{\"id\":\"3244\"},\"grid_line_alpha\":0.1,\"grid_line_color\":\"navy\",\"minor_grid_line_alpha\":0.1,\"minor_grid_line_color\":\"navy\",\"ticker\":{\"id\":\"3303\"}},\"id\":\"3247\",\"type\":\"Grid\"},{\"attributes\":{\"below\":[{\"id\":\"3244\"}],\"center\":[{\"id\":\"3247\"},{\"id\":\"3251\"},{\"id\":\"3278\"}],\"height\":700,\"left\":[{\"id\":\"3248\"}],\"outline_line_color\":null,\"renderers\":[{\"id\":\"3267\"},{\"id\":\"3285\"},{\"id\":\"3292\"},{\"id\":\"3299\"}],\"title\":{\"id\":\"3234\"},\"toolbar\":{\"id\":\"3256\"},\"toolbar_location\":\"above\",\"width\":900,\"x_range\":{\"id\":\"3236\"},\"x_scale\":{\"id\":\"3240\"},\"y_range\":{\"id\":\"3238\"},\"y_scale\":{\"id\":\"3242\"}},\"id\":\"3233\",\"subtype\":\"Figure\",\"type\":\"Plot\"},{\"attributes\":{\"text\":{\"field\":\"__proc_name$$\"},\"text_alpha\":{\"value\":0.1},\"text_baseline\":{\"value\":\"middle\"},\"text_color\":{\"value\":\"black\"},\"text_font_size\":{\"value\":\"8pt\"},\"x\":{\"field\":\"Level\",\"transform\":{\"id\":\"3287\"}},\"y\":{\"field\":\"Row\",\"transform\":{\"id\":\"3288\"}}},\"id\":\"3291\",\"type\":\"Text\"},{\"attributes\":{\"text\":\"ProcessTree\"},\"id\":\"3234\",\"type\":\"Title\"},{\"attributes\":{},\"id\":\"3349\",\"type\":\"Title\"},{\"attributes\":{\"text\":{\"field\":\"__cmd_line$$\"},\"text_baseline\":{\"value\":\"middle\"},\"text_color\":{\"value\":\"black\"},\"text_font_size\":{\"value\":\"7pt\"},\"x\":{\"field\":\"Level\",\"transform\":{\"id\":\"3280\"}},\"y\":{\"field\":\"Row\",\"transform\":{\"id\":\"3281\"}}},\"id\":\"3283\",\"type\":\"Text\"},{\"attributes\":{},\"id\":\"3249\",\"type\":\"BasicTicker\"},{\"attributes\":{\"data_source\":{\"id\":\"3231\"},\"glyph\":{\"id\":\"3297\"},\"hover_glyph\":null,\"muted_glyph\":null,\"nonselection_glyph\":{\"id\":\"3298\"},\"view\":{\"id\":\"3300\"}},\"id\":\"3299\",\"type\":\"GlyphRenderer\"},{\"attributes\":{\"fill_alpha\":{\"value\":0.6},\"fill_color\":{\"field\":\"Account\",\"transform\":{\"id\":\"3232\"}},\"height\":{\"value\":0.8},\"line_color\":{\"value\":\"#1f77b4\"},\"width\":{\"value\":1.2},\"x\":{\"field\":\"Level\",\"transform\":{\"id\":\"3336\"}},\"y\":{\"field\":\"Row\"}},\"id\":\"3338\",\"type\":\"Rect\"},{\"attributes\":{\"data_source\":{\"id\":\"3231\"},\"glyph\":{\"id\":\"3338\"},\"hover_glyph\":null,\"muted_glyph\":null,\"nonselection_glyph\":{\"id\":\"3339\"},\"view\":{\"id\":\"3341\"}},\"id\":\"3340\",\"type\":\"GlyphRenderer\"},{\"attributes\":{\"range\":{\"id\":\"3236\"},\"value\":0.1},\"id\":\"3280\",\"type\":\"Dodge\"},{\"attributes\":{\"active_multi\":null,\"active_scroll\":{\"id\":\"3255\"},\"tools\":[{\"id\":\"3252\"},{\"id\":\"3253\"},{\"id\":\"3254\"},{\"id\":\"3255\"},{\"id\":\"3261\"}]},\"id\":\"3256\",\"type\":\"Toolbar\"},{\"attributes\":{\"range\":{\"id\":\"3236\"},\"value\":0.1},\"id\":\"3287\",\"type\":\"Dodge\"},{\"attributes\":{},\"id\":\"3356\",\"type\":\"BasicTickFormatter\"},{\"attributes\":{\"ticks\":[1,2,3,4]},\"id\":\"3303\",\"type\":\"FixedTicker\"},{\"attributes\":{\"range\":{\"id\":\"3238\"},\"value\":-0.2},\"id\":\"3281\",\"type\":\"Dodge\"},{\"attributes\":{},\"id\":\"3359\",\"type\":\"BasicTickFormatter\"},{\"attributes\":{\"overlay\":{\"id\":\"3343\"},\"x_range\":null,\"y_range\":{\"id\":\"3238\"}},\"id\":\"3342\",\"type\":\"RangeTool\"},{\"attributes\":{},\"id\":\"3323\",\"type\":\"WheelZoomTool\"},{\"attributes\":{},\"id\":\"3252\",\"type\":\"ResetTool\"},{\"attributes\":{\"range\":{\"id\":\"3238\"},\"value\":0.25},\"id\":\"3295\",\"type\":\"Dodge\"},{\"attributes\":{\"active_multi\":{\"id\":\"3342\"},\"tools\":[{\"id\":\"3322\"},{\"id\":\"3323\"},{\"id\":\"3324\"},{\"id\":\"3325\"},{\"id\":\"3326\"},{\"id\":\"3327\"},{\"id\":\"3342\"}]},\"id\":\"3329\",\"type\":\"Toolbar\"},{\"attributes\":{},\"id\":\"3357\",\"type\":\"AllLabels\"},{\"attributes\":{},\"id\":\"3322\",\"type\":\"PanTool\"},{\"attributes\":{\"end\":7,\"start\":1},\"id\":\"3236\",\"type\":\"Range1d\"},{\"attributes\":{\"data\":{\"Account\":[\"NaN\",\"SECCXP\\\\WORKSTATION6$\",\"SECCXP\\\\WORKSTATION6$\",\"SECCXP\\\\WORKSTATION6$\",\"SECCXP\\\\WORKSTATION6$\",\"SECCXP\\\\WORKSTATION6$\",\"SECCXP\\\\WORKSTATION6$\",\"SECCXP\\\\WORKSTATION6$\",\"SECCXP\\\\WORKSTATION6$\",\"SECCXP\\\\WORKSTATION6$\",\"SECCXP\\\\WORKSTATION6$\",\"SECCXP\\\\WORKSTATION6$\",\"SECCXP\\\\WORKSTATION6$\",\"SECCXP\\\\WORKSTATION6$\",\"SECCXP\\\\WORKSTATION6$\",\"SECCXP\\\\WORKSTATION6$\",\"SECCXP\\\\WORKSTATION6$\",\"NaN\",\"SECCXP\\\\kdickens\",\"SECCXP\\\\kdickens\",\"SECCXP\\\\kdickens\",\"SECCXP\\\\kdickens\",\"SECCXP\\\\kdickens\",\"NaN\",\"SECCXP\\\\WORKSTATION6$\"],\"CommandLine\":[\"NaN\",\"C:\\\\Packages\\\\Plugins\\\\Microsoft.GuestConfiguration.ConfigurationforWindows\\\\1.29.33.0\\\\dsc\\\\GC\\\\..\\\\GC\\\\gc_worker.exe -a PasswordMustMeetComplexityRequirements -c Compliant -s inguest -g https://eastus2-gas.guestconfiguration.azure.com/virtualMachines/87f0e74f-2ce2-42d3-a374-b00eee39b252\",\"\\\\??\\\\C:\\\\WINDOWS\\\\system32\\\\conhost.exe 0xffffffff -ForceV1\",\"\\\"C:\\\\WINDOWS\\\\system32\\\\SecEdit.exe\\\" /export /cfg C:\\\\Packages\\\\Plugins\\\\Microsoft.GuestConfiguration.ConfigurationforWindows\\\\1.29.33.0\\\\dsc\\\\GC\\\\..\\\\GC\\\\..\\\\SecurityPolicy.inf /areas SECURITYPOLICY\",\"\\\"C:\\\\WINDOWS\\\\system32\\\\SecEdit.exe\\\" /export /cfg C:\\\\Packages\\\\Plugins\\\\Microsoft.GuestConfiguration.ConfigurationforWindows\\\\1.29.33.0\\\\dsc\\\\GC\\\\..\\\\GC\\\\..\\\\SecurityPolicy.inf /areas SECURITYPOLICY\",\"C:\\\\Packages\\\\Plugins\\\\Microsoft.GuestConfiguration.ConfigurationforWindows\\\\1.29.33.0\\\\dsc\\\\GC\\\\..\\\\GC\\\\gc_worker.exe -a AzureBaseline_SecurityOptionsNetworkAccess -c Compliant -s inguest -g https://eastus2-gas.guestconfiguration.azure.com/virtualMachines/87f0e74f-2ce2-42d3-a374-b00eee39b252\",\"\\\\??\\\\C:\\\\WINDOWS\\\\system32\\\\conhost.exe 0xffffffff -ForceV1\",\"C:\\\\Packages\\\\Plugins\\\\Microsoft.GuestConfiguration.ConfigurationforWindows\\\\1.29.33.0\\\\dsc\\\\GC\\\\..\\\\GC\\\\gc_worker.exe -a MinimumPasswordLength -c NonCompliant -s inguest -g https://eastus2-gas.guestconfiguration.azure.com/virtualMachines/87f0e74f-2ce2-42d3-a374-b00eee39b252\",\"\\\\??\\\\C:\\\\WINDOWS\\\\system32\\\\conhost.exe 0xffffffff -ForceV1\",\"C:\\\\Packages\\\\Plugins\\\\Microsoft.GuestConfiguration.ConfigurationforWindows\\\\1.29.33.0\\\\dsc\\\\GC\\\\..\\\\GC\\\\gc_worker.exe -a AdministratorsGroupMembersToExclude -c Compliant -s inguest -g https://eastus2-gas.guestconfiguration.azure.com/virtualMachines/87f0e74f-2ce2-42d3-a374-b00eee39b252\",\"\\\"C:\\\\WINDOWS\\\\system32\\\\net.exe\\\" localgroup Administrators\",\"C:\\\\WINDOWS\\\\system32\\\\net1 localgroup Administrators\",\"\\\"C:\\\\WINDOWS\\\\system32\\\\net.exe\\\" localgroup Administrators\",\"C:\\\\WINDOWS\\\\system32\\\\net1 localgroup Administrators\",\"\\\"C:\\\\WINDOWS\\\\system32\\\\net.exe\\\" localgroup Administrators\",\"C:\\\\WINDOWS\\\\system32\\\\net1 localgroup Administrators\",\"\\\\??\\\\C:\\\\WINDOWS\\\\system32\\\\conhost.exe 0xffffffff -ForceV1\",\"NaN\",\"\\\"C:\\\\Windows\\\\System32\\\\WindowsPowerShell\\\\v1.0\\\\powershell.exe\\\" C:\\\\Script\\\\mimikatzattackscript.ps1\",\"\\\"C:\\\\WINDOWS\\\\system32\\\\whoami.exe\\\" /user\",\"\\\\??\\\\C:\\\\WINDOWS\\\\system32\\\\conhost.exe 0xffffffff -ForceV1\",\"\\\"C:\\\\WINDOWS\\\\system32\\\\whoami.exe\\\"\",\"\\\"C:\\\\WINDOWS\\\\system32\\\\whoami.exe\\\"\",\"NaN\",\"C:\\\\WINDOWS\\\\system32\\\\svchost.exe -k netsvcs -p -s seclogon\"],\"Computer\":[\"WORKSTATION6.seccxp.ninja\",\"WORKSTATION6.seccxp.ninja\",\"WORKSTATION6.seccxp.ninja\",\"WORKSTATION6.seccxp.ninja\",\"WORKSTATION6.seccxp.ninja\",\"WORKSTATION6.seccxp.ninja\",\"WORKSTATION6.seccxp.ninja\",\"WORKSTATION6.seccxp.ninja\",\"WORKSTATION6.seccxp.ninja\",\"WORKSTATION6.seccxp.ninja\",\"WORKSTATION6.seccxp.ninja\",\"WORKSTATION6.seccxp.ninja\",\"WORKSTATION6.seccxp.ninja\",\"WORKSTATION6.seccxp.ninja\",\"WORKSTATION6.seccxp.ninja\",\"WORKSTATION6.seccxp.ninja\",\"WORKSTATION6.seccxp.ninja\",\"WORKSTATION6.seccxp.ninja\",\"WORKSTATION6.seccxp.ninja\",\"WORKSTATION6.seccxp.ninja\",\"WORKSTATION6.seccxp.ninja\",\"WORKSTATION6.seccxp.ninja\",\"WORKSTATION6.seccxp.ninja\",\"WORKSTATION6.seccxp.ninja\",\"WORKSTATION6.seccxp.ninja\"],\"EffectiveLogonId\":[\"0x3e7\",\"0x3e7\",\"0x3e7\",\"0x3e7\",\"0x3e7\",\"0x3e7\",\"0x3e7\",\"0x3e7\",\"0x3e7\",\"0x3e7\",\"0x3e7\",\"0x3e7\",\"0x3e7\",\"0x3e7\",\"0x3e7\",\"0x3e7\",\"0x3e7\",\"0xa66078\",\"0xa66078\",\"0xa66078\",\"0xa66078\",\"0xa66078\",\"0xa66078\",\"0x3e7\",\"0x3e7\"],\"EffectiveLogonId_par\":[\"NaN\",\"0x3e7\",\"0x3e7\",\"0x3e7\",\"0x3e7\",\"0x3e7\",\"0x3e7\",\"0x3e7\",\"0x3e7\",\"0x3e7\",\"0x3e7\",\"0x3e7\",\"0x3e7\",\"0x3e7\",\"0x3e7\",\"0x3e7\",\"0x3e7\",\"NaN\",\"0xa66078\",\"0xa66078\",\"0xa66078\",\"0xa66078\",\"0xa66078\",\"NaN\",\"0x3e7\"],\"EventID\":[\"4688\",\"4688\",\"4688\",\"4688\",\"4688\",\"4688\",\"4688\",\"4688\",\"4688\",\"4688\",\"4688\",\"4688\",\"4688\",\"4688\",\"4688\",\"4688\",\"4688\",\"4688\",\"4688\",\"4688\",\"4688\",\"4688\",\"4688\",\"4688\",\"4688\"],\"IsBranch\":[false,true,false,false,false,true,false,true,false,true,true,false,true,false,true,false,false,false,true,false,false,false,false,false,false],\"IsLeaf\":[false,false,true,true,true,false,true,false,true,false,false,true,false,true,false,true,true,false,false,true,true,true,true,false,true],\"IsRoot\":[true,false,false,false,false,false,false,false,false,false,false,false,false,false,false,false,false,true,false,false,false,false,false,true,false],\"Level\":[1,2,3,3,3,2,3,2,3,2,3,4,3,4,3,4,3,1,2,3,3,3,3,1,2],\"NewProcessId\":[\"0x2fbc\",\"0x33c4\",\"0x32c4\",\"0x3024\",\"0x3194\",\"0x32d4\",\"0x31e8\",\"0x2348\",\"0x32c0\",\"0x2e24\",\"0x2544\",\"0xaf0\",\"0xa30\",\"0x1768\",\"0x282c\",\"0x1b48\",\"0x2998\",\"0x1a28\",\"0x3030\",\"0x2488\",\"0x18e4\",\"0x25b8\",\"0x3048\",\"0x2f0\",\"0x3370\"],\"NewProcessId_par\":[\"NaN\",\"0x2fbc\",\"0x33c4\",\"0x33c4\",\"0x33c4\",\"0x2fbc\",\"0x32d4\",\"0x2fbc\",\"0x2348\",\"0x2fbc\",\"0x2e24\",\"0x2544\",\"0x2e24\",\"0xa30\",\"0x2e24\",\"0x282c\",\"0x2e24\",\"NaN\",\"0x1a28\",\"0x3030\",\"0x3030\",\"0x3030\",\"0x3030\",\"NaN\",\"0x2f0\"],\"NewProcessName\":[\"C:\\\\Packages\\\\Plugins\\\\Microsoft.GuestConfiguration.ConfigurationforWindows\\\\1.29.33.0\\\\dsc\\\\GC\\\\gc_service.exe\",\"C:\\\\Packages\\\\Plugins\\\\Microsoft.GuestConfiguration.ConfigurationforWindows\\\\1.29.33.0\\\\dsc\\\\GC\\\\gc_worker.exe\",\"C:\\\\Windows\\\\System32\\\\conhost.exe\",\"C:\\\\Windows\\\\System32\\\\SecEdit.exe\",\"C:\\\\Windows\\\\System32\\\\SecEdit.exe\",\"C:\\\\Packages\\\\Plugins\\\\Microsoft.GuestConfiguration.ConfigurationforWindows\\\\1.29.33.0\\\\dsc\\\\GC\\\\gc_worker.exe\",\"C:\\\\Windows\\\\System32\\\\conhost.exe\",\"C:\\\\Packages\\\\Plugins\\\\Microsoft.GuestConfiguration.ConfigurationforWindows\\\\1.29.33.0\\\\dsc\\\\GC\\\\gc_worker.exe\",\"C:\\\\Windows\\\\System32\\\\conhost.exe\",\"C:\\\\Packages\\\\Plugins\\\\Microsoft.GuestConfiguration.ConfigurationforWindows\\\\1.29.33.0\\\\dsc\\\\GC\\\\gc_worker.exe\",\"C:\\\\Windows\\\\System32\\\\net.exe\",\"C:\\\\Windows\\\\System32\\\\net1.exe\",\"C:\\\\Windows\\\\System32\\\\net.exe\",\"C:\\\\Windows\\\\System32\\\\net1.exe\",\"C:\\\\Windows\\\\System32\\\\net.exe\",\"C:\\\\Windows\\\\System32\\\\net1.exe\",\"C:\\\\Windows\\\\System32\\\\conhost.exe\",\"C:\\\\Users\\\\KDickens\\\\Documents\\\\cattack\\\\labsim.exe\",\"C:\\\\Windows\\\\System32\\\\WindowsPowerShell\\\\v1.0\\\\powershell.exe\",\"C:\\\\Windows\\\\System32\\\\whoami.exe\",\"C:\\\\Windows\\\\System32\\\\conhost.exe\",\"C:\\\\Windows\\\\System32\\\\whoami.exe\",\"C:\\\\Windows\\\\System32\\\\whoami.exe\",\"C:\\\\Windows\\\\System32\\\\services.exe\",\"C:\\\\Windows\\\\System32\\\\svchost.exe\"],\"NewProcessName_par\":[\"NaN\",\"NaN\",\"C:\\\\Packages\\\\Plugins\\\\Microsoft.GuestConfiguration.ConfigurationforWindows\\\\1.29.33.0\\\\dsc\\\\GC\\\\gc_worker.exe\",\"C:\\\\Packages\\\\Plugins\\\\Microsoft.GuestConfiguration.ConfigurationforWindows\\\\1.29.33.0\\\\dsc\\\\GC\\\\gc_worker.exe\",\"C:\\\\Packages\\\\Plugins\\\\Microsoft.GuestConfiguration.ConfigurationforWindows\\\\1.29.33.0\\\\dsc\\\\GC\\\\gc_worker.exe\",\"NaN\",\"C:\\\\Packages\\\\Plugins\\\\Microsoft.GuestConfiguration.ConfigurationforWindows\\\\1.29.33.0\\\\dsc\\\\GC\\\\gc_worker.exe\",\"NaN\",\"C:\\\\Packages\\\\Plugins\\\\Microsoft.GuestConfiguration.ConfigurationforWindows\\\\1.29.33.0\\\\dsc\\\\GC\\\\gc_worker.exe\",\"NaN\",\"C:\\\\Packages\\\\Plugins\\\\Microsoft.GuestConfiguration.ConfigurationforWindows\\\\1.29.33.0\\\\dsc\\\\GC\\\\gc_worker.exe\",\"C:\\\\Windows\\\\System32\\\\net.exe\",\"C:\\\\Packages\\\\Plugins\\\\Microsoft.GuestConfiguration.ConfigurationforWindows\\\\1.29.33.0\\\\dsc\\\\GC\\\\gc_worker.exe\",\"C:\\\\Windows\\\\System32\\\\net.exe\",\"C:\\\\Packages\\\\Plugins\\\\Microsoft.GuestConfiguration.ConfigurationforWindows\\\\1.29.33.0\\\\dsc\\\\GC\\\\gc_worker.exe\",\"C:\\\\Windows\\\\System32\\\\net.exe\",\"C:\\\\Packages\\\\Plugins\\\\Microsoft.GuestConfiguration.ConfigurationforWindows\\\\1.29.33.0\\\\dsc\\\\GC\\\\gc_worker.exe\",\"NaN\",\"NaN\",\"C:\\\\Windows\\\\System32\\\\WindowsPowerShell\\\\v1.0\\\\powershell.exe\",\"C:\\\\Windows\\\\System32\\\\WindowsPowerShell\\\\v1.0\\\\powershell.exe\",\"C:\\\\Windows\\\\System32\\\\WindowsPowerShell\\\\v1.0\\\\powershell.exe\",\"C:\\\\Windows\\\\System32\\\\WindowsPowerShell\\\\v1.0\\\\powershell.exe\",\"NaN\",\"NaN\"],\"ParentProcessName\":[\"NaN\",\"C:\\\\Packages\\\\Plugins\\\\Microsoft.GuestConfiguration.ConfigurationforWindows\\\\1.29.33.0\\\\dsc\\\\GC\\\\gc_service.exe\",\"C:\\\\Packages\\\\Plugins\\\\Microsoft.GuestConfiguration.ConfigurationforWindows\\\\1.29.33.0\\\\dsc\\\\GC\\\\gc_worker.exe\",\"C:\\\\Packages\\\\Plugins\\\\Microsoft.GuestConfiguration.ConfigurationforWindows\\\\1.29.33.0\\\\dsc\\\\GC\\\\gc_worker.exe\",\"C:\\\\Packages\\\\Plugins\\\\Microsoft.GuestConfiguration.ConfigurationforWindows\\\\1.29.33.0\\\\dsc\\\\GC\\\\gc_worker.exe\",\"C:\\\\Packages\\\\Plugins\\\\Microsoft.GuestConfiguration.ConfigurationforWindows\\\\1.29.33.0\\\\dsc\\\\GC\\\\gc_service.exe\",\"C:\\\\Packages\\\\Plugins\\\\Microsoft.GuestConfiguration.ConfigurationforWindows\\\\1.29.33.0\\\\dsc\\\\GC\\\\gc_worker.exe\",\"C:\\\\Packages\\\\Plugins\\\\Microsoft.GuestConfiguration.ConfigurationforWindows\\\\1.29.33.0\\\\dsc\\\\GC\\\\gc_service.exe\",\"C:\\\\Packages\\\\Plugins\\\\Microsoft.GuestConfiguration.ConfigurationforWindows\\\\1.29.33.0\\\\dsc\\\\GC\\\\gc_worker.exe\",\"C:\\\\Packages\\\\Plugins\\\\Microsoft.GuestConfiguration.ConfigurationforWindows\\\\1.29.33.0\\\\dsc\\\\GC\\\\gc_service.exe\",\"C:\\\\Packages\\\\Plugins\\\\Microsoft.GuestConfiguration.ConfigurationforWindows\\\\1.29.33.0\\\\dsc\\\\GC\\\\gc_worker.exe\",\"C:\\\\Windows\\\\System32\\\\net.exe\",\"C:\\\\Packages\\\\Plugins\\\\Microsoft.GuestConfiguration.ConfigurationforWindows\\\\1.29.33.0\\\\dsc\\\\GC\\\\gc_worker.exe\",\"C:\\\\Windows\\\\System32\\\\net.exe\",\"C:\\\\Packages\\\\Plugins\\\\Microsoft.GuestConfiguration.ConfigurationforWindows\\\\1.29.33.0\\\\dsc\\\\GC\\\\gc_worker.exe\",\"C:\\\\Windows\\\\System32\\\\net.exe\",\"C:\\\\Packages\\\\Plugins\\\\Microsoft.GuestConfiguration.ConfigurationforWindows\\\\1.29.33.0\\\\dsc\\\\GC\\\\gc_worker.exe\",\"NaN\",\"C:\\\\Users\\\\KDickens\\\\Documents\\\\cattack\\\\labsim.exe\",\"C:\\\\Windows\\\\System32\\\\WindowsPowerShell\\\\v1.0\\\\powershell.exe\",\"C:\\\\Windows\\\\System32\\\\WindowsPowerShell\\\\v1.0\\\\powershell.exe\",\"C:\\\\Windows\\\\System32\\\\WindowsPowerShell\\\\v1.0\\\\powershell.exe\",\"C:\\\\Windows\\\\System32\\\\WindowsPowerShell\\\\v1.0\\\\powershell.exe\",\"NaN\",\"C:\\\\Windows\\\\System32\\\\services.exe\"],\"ProcessId\":[\"NaN\",\"0x2fbc\",\"0x33c4\",\"0x33c4\",\"0x33c4\",\"0x2fbc\",\"0x32d4\",\"0x2fbc\",\"0x2348\",\"0x2fbc\",\"0x2e24\",\"0x2544\",\"0x2e24\",\"0xa30\",\"0x2e24\",\"0x282c\",\"0x2e24\",\"NaN\",\"0x1a28\",\"0x3030\",\"0x3030\",\"0x3030\",\"0x3030\",\"NaN\",\"0x2f0\"],\"ProcessId_par\":[\"NaN\",\"NaN\",\"0x2fbc\",\"0x2fbc\",\"0x2fbc\",\"NaN\",\"0x2fbc\",\"NaN\",\"0x2fbc\",\"NaN\",\"0x2fbc\",\"0x2e24\",\"0x2fbc\",\"0x2e24\",\"0x2fbc\",\"0x2e24\",\"0x2fbc\",\"NaN\",\"NaN\",\"0x1a28\",\"0x1a28\",\"0x1a28\",\"0x1a28\",\"NaN\",\"NaN\"],\"Row\":[25,24,23,22,21,20,19,18,17,16,15,14,13,12,11,10,9,8,7,6,5,4,3,2,1],\"SourceComputerId\":[\"NaN\",\"87f0e74f-2ce2-42d3-a374-b00eee39b253\",\"87f0e74f-2ce2-42d3-a374-b00eee39b253\",\"87f0e74f-2ce2-42d3-a374-b00eee39b253\",\"87f0e74f-2ce2-42d3-a374-b00eee39b253\",\"87f0e74f-2ce2-42d3-a374-b00eee39b253\",\"87f0e74f-2ce2-42d3-a374-b00eee39b253\",\"87f0e74f-2ce2-42d3-a374-b00eee39b253\",\"87f0e74f-2ce2-42d3-a374-b00eee39b253\",\"87f0e74f-2ce2-42d3-a374-b00eee39b253\",\"87f0e74f-2ce2-42d3-a374-b00eee39b253\",\"87f0e74f-2ce2-42d3-a374-b00eee39b253\",\"87f0e74f-2ce2-42d3-a374-b00eee39b253\",\"87f0e74f-2ce2-42d3-a374-b00eee39b253\",\"87f0e74f-2ce2-42d3-a374-b00eee39b253\",\"87f0e74f-2ce2-42d3-a374-b00eee39b253\",\"87f0e74f-2ce2-42d3-a374-b00eee39b253\",\"NaN\",\"87f0e74f-2ce2-42d3-a374-b00eee39b253\",\"87f0e74f-2ce2-42d3-a374-b00eee39b253\",\"87f0e74f-2ce2-42d3-a374-b00eee39b253\",\"87f0e74f-2ce2-42d3-a374-b00eee39b253\",\"87f0e74f-2ce2-42d3-a374-b00eee39b253\",\"NaN\",\"87f0e74f-2ce2-42d3-a374-b00eee39b253\"],\"SubjectDomainName\":[\"NaN\",\"SECCXP\",\"SECCXP\",\"SECCXP\",\"SECCXP\",\"SECCXP\",\"SECCXP\",\"SECCXP\",\"SECCXP\",\"SECCXP\",\"SECCXP\",\"SECCXP\",\"SECCXP\",\"SECCXP\",\"SECCXP\",\"SECCXP\",\"SECCXP\",\"NaN\",\"SECCXP\",\"SECCXP\",\"SECCXP\",\"SECCXP\",\"SECCXP\",\"NaN\",\"SECCXP\"],\"SubjectLogonId\":[\"0x3e7\",\"0x3e7\",\"0x3e7\",\"0x3e7\",\"0x3e7\",\"0x3e7\",\"0x3e7\",\"0x3e7\",\"0x3e7\",\"0x3e7\",\"0x3e7\",\"0x3e7\",\"0x3e7\",\"0x3e7\",\"0x3e7\",\"0x3e7\",\"0x3e7\",\"0xa66078\",\"0xa66078\",\"0xa66078\",\"0xa66078\",\"0xa66078\",\"0xa66078\",\"0x3e7\",\"0x3e7\"],\"SubjectUserName\":[\"NaN\",\"WORKSTATION6$\",\"WORKSTATION6$\",\"WORKSTATION6$\",\"WORKSTATION6$\",\"WORKSTATION6$\",\"WORKSTATION6$\",\"WORKSTATION6$\",\"WORKSTATION6$\",\"WORKSTATION6$\",\"WORKSTATION6$\",\"WORKSTATION6$\",\"WORKSTATION6$\",\"WORKSTATION6$\",\"WORKSTATION6$\",\"WORKSTATION6$\",\"WORKSTATION6$\",\"NaN\",\"kdickens\",\"kdickens\",\"kdickens\",\"kdickens\",\"kdickens\",\"NaN\",\"WORKSTATION6$\"],\"SubjectUserSid\":[\"NaN\",\"S-1-5-18\",\"S-1-5-18\",\"S-1-5-18\",\"S-1-5-18\",\"S-1-5-18\",\"S-1-5-18\",\"S-1-5-18\",\"S-1-5-18\",\"S-1-5-18\",\"S-1-5-18\",\"S-1-5-18\",\"S-1-5-18\",\"S-1-5-18\",\"S-1-5-18\",\"S-1-5-18\",\"S-1-5-18\",\"NaN\",\"S-1-5-21-2769934187-2433420870-601450644-1124\",\"S-1-5-21-2769934187-2433420870-601450644-1124\",\"S-1-5-21-2769934187-2433420870-601450644-1124\",\"S-1-5-21-2769934187-2433420870-601450644-1124\",\"S-1-5-21-2769934187-2433420870-601450644-1124\",\"NaN\",\"S-1-5-18\"],\"TargetLogonId\":[\"NaN\",\"0x0\",\"0x0\",\"0x0\",\"0x0\",\"0x0\",\"0x0\",\"0x0\",\"0x0\",\"0x0\",\"0x0\",\"0x0\",\"0x0\",\"0x0\",\"0x0\",\"0x0\",\"0x0\",\"NaN\",\"0x0\",\"0x0\",\"0x0\",\"0x0\",\"0x0\",\"NaN\",\"0x0\"],\"TenantId\":[\"NaN\",\"8ecf8077-cf51-4820-aadd-14040956f35d\",\"8ecf8077-cf51-4820-aadd-14040956f35d\",\"8ecf8077-cf51-4820-aadd-14040956f35d\",\"8ecf8077-cf51-4820-aadd-14040956f35d\",\"8ecf8077-cf51-4820-aadd-14040956f35d\",\"8ecf8077-cf51-4820-aadd-14040956f35d\",\"8ecf8077-cf51-4820-aadd-14040956f35d\",\"8ecf8077-cf51-4820-aadd-14040956f35d\",\"8ecf8077-cf51-4820-aadd-14040956f35d\",\"8ecf8077-cf51-4820-aadd-14040956f35d\",\"8ecf8077-cf51-4820-aadd-14040956f35d\",\"8ecf8077-cf51-4820-aadd-14040956f35d\",\"8ecf8077-cf51-4820-aadd-14040956f35d\",\"8ecf8077-cf51-4820-aadd-14040956f35d\",\"8ecf8077-cf51-4820-aadd-14040956f35d\",\"8ecf8077-cf51-4820-aadd-14040956f35d\",\"NaN\",\"8ecf8077-cf51-4820-aadd-14040956f35d\",\"8ecf8077-cf51-4820-aadd-14040956f35d\",\"8ecf8077-cf51-4820-aadd-14040956f35d\",\"8ecf8077-cf51-4820-aadd-14040956f35d\",\"8ecf8077-cf51-4820-aadd-14040956f35d\",\"NaN\",\"8ecf8077-cf51-4820-aadd-14040956f35d\"],\"TimeCreatedUtc\":{\"__ndarray__\":\"/Knx0k1iQMMAwFiK6tJ3QgAwWYrq0ndCANAfjurSd0IAULOO6tJ3QgCwj5Pq0ndCAHChk+rSd0IAkLeV6tJ3QgAAuJXq0ndCALAQj+rSd0IAkOaS6tJ3QgAg65Lq0ndCAJAyk+rSd0IA4FeT6tJ3QgDgV5Pq0ndCAOBXk+rSd0IAEBGP6tJ3Qvyp8dJNYkDDAADIj+rSd0IAkBGQ6tJ3QgBAyY/q0ndCAPDtj+rSd0IA0O+P6tJ3Qvyp8dJNYkDDABAOkurSd0I=\",\"dtype\":\"float64\",\"order\":\"little\",\"shape\":[25]},\"TimeGenerated\":{\"__ndarray__\":\"AAAAAAAAAAAAwFiK6tJ3QgAwWYrq0ndCANAfjurSd0IAULOO6tJ3QgCwj5Pq0ndCAHChk+rSd0IAkLeV6tJ3QgAAuJXq0ndCALAQj+rSd0IAkOaS6tJ3QgAg65Lq0ndCAJAyk+rSd0IA4FeT6tJ3QgDgV5Pq0ndCAOBXk+rSd0IAEBGP6tJ3QgAAAAAAAAAAAADIj+rSd0IAkBGQ6tJ3QgBAyY/q0ndCAPDtj+rSd0IA0O+P6tJ3QgAAAAAAAAAAABAOkurSd0I=\",\"dtype\":\"float64\",\"order\":\"little\",\"shape\":[25]},\"TimeGenerated_orig_par\":{\"__ndarray__\":\"/Knx0k1iQMMAAAAAAAAAAADAWIrq0ndCAMBYiurSd0IAwFiK6tJ3QgAAAAAAAAAAALCPk+rSd0IAAAAAAAAAAACQt5Xq0ndCAAAAAAAAAAAAsBCP6tJ3QgCQ5pLq0ndCALAQj+rSd0IAkDKT6tJ3QgCwEI/q0ndCAOBXk+rSd0IAsBCP6tJ3Qvyp8dJNYkDDAAAAAAAAAAAAAMiP6tJ3QgAAyI/q0ndCAADIj+rSd0IAAMiP6tJ3Qvyp8dJNYkDDAAAAAAAAAAA=\",\"dtype\":\"float64\",\"order\":\"little\",\"shape\":[25]},\"TokenElevationType\":[\"NaN\",\"%%1936\",\"%%1936\",\"%%1936\",\"%%1936\",\"%%1936\",\"%%1936\",\"%%1936\",\"%%1936\",\"%%1936\",\"%%1936\",\"%%1936\",\"%%1936\",\"%%1936\",\"%%1936\",\"%%1936\",\"%%1936\",\"NaN\",\"%%1937\",\"%%1937\",\"%%1937\",\"%%1937\",\"%%1937\",\"NaN\",\"%%1936\"],\"__cmd_line$$\":[\"cmdline unknown\",\"C:\\\\Packages\\\\Plugins\\\\Microsoft.GuestConfiguration.ConfigurationforWindows\\\\1.29.33.0\\\\dsc\\\\GC\\\\..\\\\GC\\\\gc_worker.exe -a PasswordMust...\",\"\\\\??\\\\C:\\\\WINDOWS\\\\system32\\\\conhost.exe 0xffffffff -ForceV1\",\"\\\"C:\\\\WINDOWS\\\\system32\\\\SecEdit.exe\\\" /export /cfg C:\\\\Packages\\\\Plugins\\\\Microsoft.GuestConfiguration.ConfigurationforWindows\\\\1.29....\",\"\\\"C:\\\\WINDOWS\\\\system32\\\\SecEdit.exe\\\" /export /cfg C:\\\\Packages\\\\Plugins\\\\Microsoft.GuestConfiguration.ConfigurationforWindows\\\\1.29....\",\"C:\\\\Packages\\\\Plugins\\\\Microsoft.GuestConfiguration.ConfigurationforWindows\\\\1.29.33.0\\\\dsc\\\\GC\\\\..\\\\GC\\\\gc_worker.exe -a AzureBaselin...\",\"\\\\??\\\\C:\\\\WINDOWS\\\\system32\\\\conhost.exe 0xffffffff -ForceV1\",\"C:\\\\Packages\\\\Plugins\\\\Microsoft.GuestConfiguration.ConfigurationforWindows\\\\1.29.33.0\\\\dsc\\\\GC\\\\..\\\\GC\\\\gc_worker.exe -a MinimumPassw...\",\"\\\\??\\\\C:\\\\WINDOWS\\\\system32\\\\conhost.exe 0xffffffff -ForceV1\",\"C:\\\\Packages\\\\Plugins\\\\Microsoft.GuestConfiguration.ConfigurationforWindows\\\\1.29.33.0\\\\dsc\\\\GC\\\\..\\\\GC\\\\gc_worker.exe -a Administrato...\",\"\\\"C:\\\\WINDOWS\\\\system32\\\\net.exe\\\" localgroup Administrators\",\"C:\\\\WINDOWS\\\\system32\\\\net1 localgroup Administrators\",\"\\\"C:\\\\WINDOWS\\\\system32\\\\net.exe\\\" localgroup Administrators\",\"C:\\\\WINDOWS\\\\system32\\\\net1 localgroup Administrators\",\"\\\"C:\\\\WINDOWS\\\\system32\\\\net.exe\\\" localgroup Administrators\",\"C:\\\\WINDOWS\\\\system32\\\\net1 localgroup Administrators\",\"\\\\??\\\\C:\\\\WINDOWS\\\\system32\\\\conhost.exe 0xffffffff -ForceV1\",\"cmdline unknown\",\"\\\"C:\\\\Windows\\\\System32\\\\WindowsPowerShell\\\\v1.0\\\\powershell.exe\\\" C:\\\\Script\\\\mimikatzattackscript.ps1\",\"\\\"C:\\\\WINDOWS\\\\system32\\\\whoami.exe\\\" /user\",\"\\\\??\\\\C:\\\\WINDOWS\\\\system32\\\\conhost.exe 0xffffffff -ForceV1\",\"\\\"C:\\\\WINDOWS\\\\system32\\\\whoami.exe\\\"\",\"\\\"C:\\\\WINDOWS\\\\system32\\\\whoami.exe\\\"\",\"cmdline unknown\",\"C:\\\\WINDOWS\\\\system32\\\\svchost.exe -k netsvcs -p -s seclogon\"],\"__proc_id$$\":[\"PID: 0x2fbc\",\"PID: 0x33c4\",\"PID: 0x32c4\",\"PID: 0x3024\",\"PID: 0x3194\",\"PID: 0x32d4\",\"PID: 0x31e8\",\"PID: 0x2348\",\"PID: 0x32c0\",\"PID: 0x2e24\",\"PID: 0x2544\",\"PID: 0xaf0\",\"PID: 0xa30\",\"PID: 0x1768\",\"PID: 0x282c\",\"PID: 0x1b48\",\"PID: 0x2998\",\"PID: 0x1a28\",\"PID: 0x3030\",\"PID: 0x2488\",\"PID: 0x18e4\",\"PID: 0x25b8\",\"PID: 0x3048\",\"PID: 0x2f0\",\"PID: 0x3370\"],\"__proc_name$$\":[\"gc_service.exe\",\"gc_worker.exe\",\"conhost.exe\",\"SecEdit.exe\",\"SecEdit.exe\",\"gc_worker.exe\",\"conhost.exe\",\"gc_worker.exe\",\"conhost.exe\",\"gc_worker.exe\",\"net.exe\",\"net1.exe\",\"net.exe\",\"net1.exe\",\"net.exe\",\"net1.exe\",\"conhost.exe\",\"labsim.exe\",\"powershell.exe\",\"whoami.exe\",\"conhost.exe\",\"whoami.exe\",\"whoami.exe\",\"services.exe\",\"svchost.exe\"],\"index\":[25,24,23,22,21,20,19,18,17,16,15,14,13,12,11,10,9,8,7,6,5,4,3,2,1],\"new_process_lc\":[\"c:\\\\packages\\\\plugins\\\\microsoft.guestconfiguration.configurationforwindows\\\\1.29.33.0\\\\dsc\\\\gc\\\\gc_service.exe\",\"c:\\\\packages\\\\plugins\\\\microsoft.guestconfiguration.configurationforwindows\\\\1.29.33.0\\\\dsc\\\\gc\\\\gc_worker.exe\",\"c:\\\\windows\\\\system32\\\\conhost.exe\",\"c:\\\\windows\\\\system32\\\\secedit.exe\",\"c:\\\\windows\\\\system32\\\\secedit.exe\",\"c:\\\\packages\\\\plugins\\\\microsoft.guestconfiguration.configurationforwindows\\\\1.29.33.0\\\\dsc\\\\gc\\\\gc_worker.exe\",\"c:\\\\windows\\\\system32\\\\conhost.exe\",\"c:\\\\packages\\\\plugins\\\\microsoft.guestconfiguration.configurationforwindows\\\\1.29.33.0\\\\dsc\\\\gc\\\\gc_worker.exe\",\"c:\\\\windows\\\\system32\\\\conhost.exe\",\"c:\\\\packages\\\\plugins\\\\microsoft.guestconfiguration.configurationforwindows\\\\1.29.33.0\\\\dsc\\\\gc\\\\gc_worker.exe\",\"c:\\\\windows\\\\system32\\\\net.exe\",\"c:\\\\windows\\\\system32\\\\net1.exe\",\"c:\\\\windows\\\\system32\\\\net.exe\",\"c:\\\\windows\\\\system32\\\\net1.exe\",\"c:\\\\windows\\\\system32\\\\net.exe\",\"c:\\\\windows\\\\system32\\\\net1.exe\",\"c:\\\\windows\\\\system32\\\\conhost.exe\",\"c:\\\\users\\\\kdickens\\\\documents\\\\cattack\\\\labsim.exe\",\"c:\\\\windows\\\\system32\\\\windowspowershell\\\\v1.0\\\\powershell.exe\",\"c:\\\\windows\\\\system32\\\\whoami.exe\",\"c:\\\\windows\\\\system32\\\\conhost.exe\",\"c:\\\\windows\\\\system32\\\\whoami.exe\",\"c:\\\\windows\\\\system32\\\\whoami.exe\",\"c:\\\\windows\\\\system32\\\\services.exe\",\"c:\\\\windows\\\\system32\\\\svchost.exe\"],\"new_process_lc_par\":[\"NaN\",\"c:\\\\packages\\\\plugins\\\\microsoft.guestconfiguration.configurationforwindows\\\\1.29.33.0\\\\dsc\\\\gc\\\\gc_service.exe\",\"c:\\\\packages\\\\plugins\\\\microsoft.guestconfiguration.configurationforwindows\\\\1.29.33.0\\\\dsc\\\\gc\\\\gc_worker.exe\",\"c:\\\\packages\\\\plugins\\\\microsoft.guestconfiguration.configurationforwindows\\\\1.29.33.0\\\\dsc\\\\gc\\\\gc_worker.exe\",\"c:\\\\packages\\\\plugins\\\\microsoft.guestconfiguration.configurationforwindows\\\\1.29.33.0\\\\dsc\\\\gc\\\\gc_worker.exe\",\"c:\\\\packages\\\\plugins\\\\microsoft.guestconfiguration.configurationforwindows\\\\1.29.33.0\\\\dsc\\\\gc\\\\gc_service.exe\",\"c:\\\\packages\\\\plugins\\\\microsoft.guestconfiguration.configurationforwindows\\\\1.29.33.0\\\\dsc\\\\gc\\\\gc_worker.exe\",\"c:\\\\packages\\\\plugins\\\\microsoft.guestconfiguration.configurationforwindows\\\\1.29.33.0\\\\dsc\\\\gc\\\\gc_service.exe\",\"c:\\\\packages\\\\plugins\\\\microsoft.guestconfiguration.configurationforwindows\\\\1.29.33.0\\\\dsc\\\\gc\\\\gc_worker.exe\",\"c:\\\\packages\\\\plugins\\\\microsoft.guestconfiguration.configurationforwindows\\\\1.29.33.0\\\\dsc\\\\gc\\\\gc_service.exe\",\"c:\\\\packages\\\\plugins\\\\microsoft.guestconfiguration.configurationforwindows\\\\1.29.33.0\\\\dsc\\\\gc\\\\gc_worker.exe\",\"c:\\\\windows\\\\system32\\\\net.exe\",\"c:\\\\packages\\\\plugins\\\\microsoft.guestconfiguration.configurationforwindows\\\\1.29.33.0\\\\dsc\\\\gc\\\\gc_worker.exe\",\"c:\\\\windows\\\\system32\\\\net.exe\",\"c:\\\\packages\\\\plugins\\\\microsoft.guestconfiguration.configurationforwindows\\\\1.29.33.0\\\\dsc\\\\gc\\\\gc_worker.exe\",\"c:\\\\windows\\\\system32\\\\net.exe\",\"c:\\\\packages\\\\plugins\\\\microsoft.guestconfiguration.configurationforwindows\\\\1.29.33.0\\\\dsc\\\\gc\\\\gc_worker.exe\",\"NaN\",\"c:\\\\users\\\\kdickens\\\\documents\\\\cattack\\\\labsim.exe\",\"c:\\\\windows\\\\system32\\\\windowspowershell\\\\v1.0\\\\powershell.exe\",\"c:\\\\windows\\\\system32\\\\windowspowershell\\\\v1.0\\\\powershell.exe\",\"c:\\\\windows\\\\system32\\\\windowspowershell\\\\v1.0\\\\powershell.exe\",\"c:\\\\windows\\\\system32\\\\windowspowershell\\\\v1.0\\\\powershell.exe\",\"NaN\",\"c:\\\\windows\\\\system32\\\\services.exe\"],\"parent_index\":[\"NaN\",\"22\",\"0\",\"0\",\"0\",\"22\",\"18\",\"22\",\"20\",\"22\",\"4\",\"12\",\"4\",\"14\",\"4\",\"16\",\"4\",\"NaN\",\"23\",\"6\",\"6\",\"6\",\"6\",\"NaN\",\"24\"],\"parent_key\":[\"NaN\",\"c:\\\\packages\\\\plugins\\\\microsoft.guestconfiguration.configurationforwindows\\\\1.29.33.0\\\\dsc\\\\gc\\\\gc_service.exe|0x2fbc|1970-01-01 00:00:00.000000\",\"c:\\\\packages\\\\plugins\\\\microsoft.guestconfiguration.configurationforwindows\\\\1.29.33.0\\\\dsc\\\\gc\\\\gc_worker.exe|0x33c4|2021-11-17 16:09:04.140000\",\"c:\\\\packages\\\\plugins\\\\microsoft.guestconfiguration.configurationforwindows\\\\1.29.33.0\\\\dsc\\\\gc\\\\gc_worker.exe|0x33c4|2021-11-17 16:09:04.140000\",\"c:\\\\packages\\\\plugins\\\\microsoft.guestconfiguration.configurationforwindows\\\\1.29.33.0\\\\dsc\\\\gc\\\\gc_worker.exe|0x33c4|2021-11-17 16:09:04.140000\",\"c:\\\\packages\\\\plugins\\\\microsoft.guestconfiguration.configurationforwindows\\\\1.29.33.0\\\\dsc\\\\gc\\\\gc_service.exe|0x2fbc|1970-01-01 00:00:00.000000\",\"c:\\\\packages\\\\plugins\\\\microsoft.guestconfiguration.configurationforwindows\\\\1.29.33.0\\\\dsc\\\\gc\\\\gc_worker.exe|0x32d4|2021-11-17 16:09:41.883000\",\"c:\\\\packages\\\\plugins\\\\microsoft.guestconfiguration.configurationforwindows\\\\1.29.33.0\\\\dsc\\\\gc\\\\gc_service.exe|0x2fbc|1970-01-01 00:00:00.000000\",\"c:\\\\packages\\\\plugins\\\\microsoft.guestconfiguration.configurationforwindows\\\\1.29.33.0\\\\dsc\\\\gc\\\\gc_worker.exe|0x2348|2021-11-17 16:09:50.713000\",\"c:\\\\packages\\\\plugins\\\\microsoft.guestconfiguration.configurationforwindows\\\\1.29.33.0\\\\dsc\\\\gc\\\\gc_service.exe|0x2fbc|1970-01-01 00:00:00.000000\",\"c:\\\\packages\\\\plugins\\\\microsoft.guestconfiguration.configurationforwindows\\\\1.29.33.0\\\\dsc\\\\gc\\\\gc_worker.exe|0x2e24|2021-11-17 16:09:23.467000\",\"c:\\\\windows\\\\system32\\\\net.exe|0x2544|2021-11-17 16:09:39.177000\",\"c:\\\\packages\\\\plugins\\\\microsoft.guestconfiguration.configurationforwindows\\\\1.29.33.0\\\\dsc\\\\gc\\\\gc_worker.exe|0x2e24|2021-11-17 16:09:23.467000\",\"c:\\\\windows\\\\system32\\\\net.exe|0xa30|2021-11-17 16:09:40.393000\",\"c:\\\\packages\\\\plugins\\\\microsoft.guestconfiguration.configurationforwindows\\\\1.29.33.0\\\\dsc\\\\gc\\\\gc_worker.exe|0x2e24|2021-11-17 16:09:23.467000\",\"c:\\\\windows\\\\system32\\\\net.exe|0x282c|2021-11-17 16:09:40.990000\",\"c:\\\\packages\\\\plugins\\\\microsoft.guestconfiguration.configurationforwindows\\\\1.29.33.0\\\\dsc\\\\gc\\\\gc_worker.exe|0x2e24|2021-11-17 16:09:23.467000\",\"NaN\",\"c:\\\\users\\\\kdickens\\\\documents\\\\cattack\\\\labsim.exe|0x1a28|1970-01-01 00:00:00.000000\",\"c:\\\\windows\\\\system32\\\\windowspowershell\\\\v1.0\\\\powershell.exe|0x3030|2021-11-17 16:09:26.400000\",\"c:\\\\windows\\\\system32\\\\windowspowershell\\\\v1.0\\\\powershell.exe|0x3030|2021-11-17 16:09:26.400000\",\"c:\\\\windows\\\\system32\\\\windowspowershell\\\\v1.0\\\\powershell.exe|0x3030|2021-11-17 16:09:26.400000\",\"c:\\\\windows\\\\system32\\\\windowspowershell\\\\v1.0\\\\powershell.exe|0x3030|2021-11-17 16:09:26.400000\",\"NaN\",\"c:\\\\windows\\\\system32\\\\services.exe|0x2f0|1970-01-01 00:00:00.000000\"],\"parent_proc_lc\":[\"NaN\",\"c:\\\\packages\\\\plugins\\\\microsoft.guestconfiguration.configurationforwindows\\\\1.29.33.0\\\\dsc\\\\gc\\\\gc_service.exe\",\"c:\\\\packages\\\\plugins\\\\microsoft.guestconfiguration.configurationforwindows\\\\1.29.33.0\\\\dsc\\\\gc\\\\gc_worker.exe\",\"c:\\\\packages\\\\plugins\\\\microsoft.guestconfiguration.configurationforwindows\\\\1.29.33.0\\\\dsc\\\\gc\\\\gc_worker.exe\",\"c:\\\\packages\\\\plugins\\\\microsoft.guestconfiguration.configurationforwindows\\\\1.29.33.0\\\\dsc\\\\gc\\\\gc_worker.exe\",\"c:\\\\packages\\\\plugins\\\\microsoft.guestconfiguration.configurationforwindows\\\\1.29.33.0\\\\dsc\\\\gc\\\\gc_service.exe\",\"c:\\\\packages\\\\plugins\\\\microsoft.guestconfiguration.configurationforwindows\\\\1.29.33.0\\\\dsc\\\\gc\\\\gc_worker.exe\",\"c:\\\\packages\\\\plugins\\\\microsoft.guestconfiguration.configurationforwindows\\\\1.29.33.0\\\\dsc\\\\gc\\\\gc_service.exe\",\"c:\\\\packages\\\\plugins\\\\microsoft.guestconfiguration.configurationforwindows\\\\1.29.33.0\\\\dsc\\\\gc\\\\gc_worker.exe\",\"c:\\\\packages\\\\plugins\\\\microsoft.guestconfiguration.configurationforwindows\\\\1.29.33.0\\\\dsc\\\\gc\\\\gc_service.exe\",\"c:\\\\packages\\\\plugins\\\\microsoft.guestconfiguration.configurationforwindows\\\\1.29.33.0\\\\dsc\\\\gc\\\\gc_worker.exe\",\"c:\\\\windows\\\\system32\\\\net.exe\",\"c:\\\\packages\\\\plugins\\\\microsoft.guestconfiguration.configurationforwindows\\\\1.29.33.0\\\\dsc\\\\gc\\\\gc_worker.exe\",\"c:\\\\windows\\\\system32\\\\net.exe\",\"c:\\\\packages\\\\plugins\\\\microsoft.guestconfiguration.configurationforwindows\\\\1.29.33.0\\\\dsc\\\\gc\\\\gc_worker.exe\",\"c:\\\\windows\\\\system32\\\\net.exe\",\"c:\\\\packages\\\\plugins\\\\microsoft.guestconfiguration.configurationforwindows\\\\1.29.33.0\\\\dsc\\\\gc\\\\gc_worker.exe\",\"NaN\",\"c:\\\\users\\\\kdickens\\\\documents\\\\cattack\\\\labsim.exe\",\"c:\\\\windows\\\\system32\\\\windowspowershell\\\\v1.0\\\\powershell.exe\",\"c:\\\\windows\\\\system32\\\\windowspowershell\\\\v1.0\\\\powershell.exe\",\"c:\\\\windows\\\\system32\\\\windowspowershell\\\\v1.0\\\\powershell.exe\",\"c:\\\\windows\\\\system32\\\\windowspowershell\\\\v1.0\\\\powershell.exe\",\"NaN\",\"c:\\\\windows\\\\system32\\\\services.exe\"],\"path\":[\"22\",\"22/0\",\"22/0/1\",\"22/0/2\",\"22/0/3\",\"22/18\",\"22/18/19\",\"22/20\",\"22/20/21\",\"22/4\",\"22/4/12\",\"22/4/12/13\",\"22/4/14\",\"22/4/14/15\",\"22/4/16\",\"22/4/16/17\",\"22/4/5\",\"23\",\"23/6\",\"23/6/10\",\"23/6/7\",\"23/6/8\",\"23/6/9\",\"24\",\"24/11\"],\"proc_key\":[\"c:\\\\packages\\\\plugins\\\\microsoft.guestconfiguration.configurationforwindows\\\\1.29.33.0\\\\dsc\\\\gc\\\\gc_service.exe|0x2fbc|1970-01-01 00:00:00.000000\",\"c:\\\\packages\\\\plugins\\\\microsoft.guestconfiguration.configurationforwindows\\\\1.29.33.0\\\\dsc\\\\gc\\\\gc_worker.exe|0x33c4|2021-11-17 16:09:04.140000\",\"c:\\\\windows\\\\system32\\\\conhost.exe|0x32c4|2021-11-17 16:09:04.147000\",\"c:\\\\windows\\\\system32\\\\secedit.exe|0x3024|2021-11-17 16:09:19.613000\",\"c:\\\\windows\\\\system32\\\\secedit.exe|0x3194|2021-11-17 16:09:21.973000\",\"c:\\\\packages\\\\plugins\\\\microsoft.guestconfiguration.configurationforwindows\\\\1.29.33.0\\\\dsc\\\\gc\\\\gc_worker.exe|0x32d4|2021-11-17 16:09:41.883000\",\"c:\\\\windows\\\\system32\\\\conhost.exe|0x31e8|2021-11-17 16:09:42.167000\",\"c:\\\\packages\\\\plugins\\\\microsoft.guestconfiguration.configurationforwindows\\\\1.29.33.0\\\\dsc\\\\gc\\\\gc_worker.exe|0x2348|2021-11-17 16:09:50.713000\",\"c:\\\\windows\\\\system32\\\\conhost.exe|0x32c0|2021-11-17 16:09:50.720000\",\"c:\\\\packages\\\\plugins\\\\microsoft.guestconfiguration.configurationforwindows\\\\1.29.33.0\\\\dsc\\\\gc\\\\gc_worker.exe|0x2e24|2021-11-17 16:09:23.467000\",\"c:\\\\windows\\\\system32\\\\net.exe|0x2544|2021-11-17 16:09:39.177000\",\"c:\\\\windows\\\\system32\\\\net1.exe|0xaf0|2021-11-17 16:09:39.250000\",\"c:\\\\windows\\\\system32\\\\net.exe|0xa30|2021-11-17 16:09:40.393000\",\"c:\\\\windows\\\\system32\\\\net1.exe|0x1768|2021-11-17 16:09:40.990000\",\"c:\\\\windows\\\\system32\\\\net.exe|0x282c|2021-11-17 16:09:40.990000\",\"c:\\\\windows\\\\system32\\\\net1.exe|0x1b48|2021-11-17 16:09:40.990000\",\"c:\\\\windows\\\\system32\\\\conhost.exe|0x2998|2021-11-17 16:09:23.473000\",\"c:\\\\users\\\\kdickens\\\\documents\\\\cattack\\\\labsim.exe|0x1a28|1970-01-01 00:00:00.000000\",\"c:\\\\windows\\\\system32\\\\windowspowershell\\\\v1.0\\\\powershell.exe|0x3030|2021-11-17 16:09:26.400000\",\"c:\\\\windows\\\\system32\\\\whoami.exe|0x2488|2021-11-17 16:09:27.577000\",\"c:\\\\windows\\\\system32\\\\conhost.exe|0x18e4|2021-11-17 16:09:26.420000\",\"c:\\\\windows\\\\system32\\\\whoami.exe|0x25b8|2021-11-17 16:09:27.007000\",\"c:\\\\windows\\\\system32\\\\whoami.exe|0x3048|2021-11-17 16:09:27.037000\",\"c:\\\\windows\\\\system32\\\\services.exe|0x2f0|1970-01-01 00:00:00.000000\",\"c:\\\\windows\\\\system32\\\\svchost.exe|0x3370|2021-11-17 16:09:35.713000\"],\"source_index\":[\"22\",\"0\",\"1\",\"2\",\"3\",\"18\",\"19\",\"20\",\"21\",\"4\",\"12\",\"13\",\"14\",\"15\",\"16\",\"17\",\"5\",\"23\",\"6\",\"10\",\"7\",\"8\",\"9\",\"24\",\"11\"],\"source_index_par\":{\"__ndarray__\":\"AAAAAAAA+H8AAAAAAAD4fwAAAAAAAAAAAAAAAAAAAAAAAAAAAAAAAAAAAAAAAPh/AAAAAAAAMkAAAAAAAAD4fwAAAAAAADRAAAAAAAAA+H8AAAAAAAAQQAAAAAAAAChAAAAAAAAAEEAAAAAAAAAsQAAAAAAAABBAAAAAAAAAMEAAAAAAAAAQQAAAAAAAAPh/AAAAAAAA+H8AAAAAAAAYQAAAAAAAABhAAAAAAAAAGEAAAAAAAAAYQAAAAAAAAPh/AAAAAAAA+H8=\",\"dtype\":\"float64\",\"order\":\"little\",\"shape\":[25]}},\"selected\":{\"id\":\"3276\"},\"selection_policy\":{\"id\":\"3277\"}},\"id\":\"3231\",\"type\":\"ColumnDataSource\"},{\"attributes\":{},\"id\":\"3315\",\"type\":\"BasicTicker\"},{\"attributes\":{\"data_source\":{\"id\":\"3231\"},\"glyph\":{\"id\":\"3283\"},\"hover_glyph\":null,\"muted_glyph\":null,\"nonselection_glyph\":{\"id\":\"3284\"},\"view\":{\"id\":\"3286\"}},\"id\":\"3285\",\"type\":\"GlyphRenderer\"},{\"attributes\":{\"source\":{\"id\":\"3231\"}},\"id\":\"3293\",\"type\":\"CDSView\"},{\"attributes\":{},\"id\":\"3319\",\"type\":\"BasicTicker\"},{\"attributes\":{\"range\":{\"id\":\"3238\"},\"value\":0.25},\"id\":\"3288\",\"type\":\"Dodge\"},{\"attributes\":{\"range\":{\"id\":\"3236\"},\"value\":1.75},\"id\":\"3263\",\"type\":\"Dodge\"},{\"attributes\":{\"source\":{\"id\":\"3231\"}},\"id\":\"3286\",\"type\":\"CDSView\"},{\"attributes\":{\"callback\":null,\"formatters\":{\"@TimeGenerated\":\"datetime\"},\"renderers\":[{\"id\":\"3267\"}],\"tooltips\":[[\"Process\",\"@NewProcessName\"],[\"PID\",\"@NewProcessId\"],[\"CmdLine\",\"@CommandLine\"],[\"SubjUser\",\"@SubjectUserName\"],[\"SubjLgnId\",\"@SubjectLogonId\"],[\"TgtLgnId\",\"@TargetLogonId\"],[\"Time\",\"@TimeGenerated{%F %T.%3N}\"]]},\"id\":\"3261\",\"type\":\"HoverTool\"},{\"attributes\":{\"fill_alpha\":{\"value\":0.1},\"fill_color\":{\"field\":\"Account\",\"transform\":{\"id\":\"3232\"}},\"height\":{\"value\":0.8},\"line_alpha\":{\"value\":0.1},\"line_color\":{\"value\":\"#1f77b4\"},\"width\":{\"value\":1.2},\"x\":{\"field\":\"Level\",\"transform\":{\"id\":\"3336\"}},\"y\":{\"field\":\"Row\"}},\"id\":\"3339\",\"type\":\"Rect\"},{\"attributes\":{},\"id\":\"3306\",\"type\":\"DataRange1d\"},{\"attributes\":{\"text\":{\"field\":\"__proc_id$$\"},\"text_alpha\":{\"value\":0.1},\"text_baseline\":{\"value\":\"middle\"},\"text_color\":{\"value\":\"black\"},\"text_font_size\":{\"value\":\"8pt\"},\"x\":{\"field\":\"Level\",\"transform\":{\"id\":\"3294\"}},\"y\":{\"field\":\"Row\",\"transform\":{\"id\":\"3295\"}}},\"id\":\"3298\",\"type\":\"Text\"},{\"attributes\":{\"text\":{\"field\":\"__proc_id$$\"},\"text_baseline\":{\"value\":\"middle\"},\"text_color\":{\"value\":\"black\"},\"text_font_size\":{\"value\":\"8pt\"},\"x\":{\"field\":\"Level\",\"transform\":{\"id\":\"3294\"}},\"y\":{\"field\":\"Row\",\"transform\":{\"id\":\"3295\"}}},\"id\":\"3297\",\"type\":\"Text\"},{\"attributes\":{\"axis\":{\"id\":\"3318\"},\"dimension\":1,\"grid_line_color\":null,\"ticker\":null},\"id\":\"3321\",\"type\":\"Grid\"},{\"attributes\":{},\"id\":\"3360\",\"type\":\"AllLabels\"},{\"attributes\":{},\"id\":\"3326\",\"type\":\"ResetTool\"},{\"attributes\":{},\"id\":\"3327\",\"type\":\"HelpTool\"},{\"attributes\":{},\"id\":\"3274\",\"type\":\"AllLabels\"},{\"attributes\":{},\"id\":\"3277\",\"type\":\"UnionRenderers\"},{\"attributes\":{\"fill_alpha\":0.2,\"fill_color\":\"navy\",\"level\":\"overlay\",\"line_alpha\":1.0,\"line_color\":\"black\",\"line_dash\":[2,2],\"line_width\":0.5,\"syncable\":false},\"id\":\"3343\",\"type\":\"BoxAnnotation\"},{\"attributes\":{\"source\":{\"id\":\"3231\"}},\"id\":\"3300\",\"type\":\"CDSView\"},{\"attributes\":{},\"id\":\"3312\",\"type\":\"LinearScale\"},{\"attributes\":{\"axis_line_color\":null,\"formatter\":{\"id\":\"3270\"},\"major_label_policy\":{\"id\":\"3271\"},\"major_label_standoff\":0,\"major_tick_line_color\":\"navy\",\"ticker\":{\"id\":\"3301\"},\"visible\":false},\"id\":\"3244\",\"type\":\"LinearAxis\"},{\"attributes\":{},\"id\":\"3242\",\"type\":\"LinearScale\"},{\"attributes\":{\"range\":{\"id\":\"3236\"},\"value\":2.2},\"id\":\"3294\",\"type\":\"Dodge\"},{\"attributes\":{\"axis_line_color\":null,\"formatter\":{\"id\":\"3273\"},\"major_label_policy\":{\"id\":\"3274\"},\"major_label_standoff\":0,\"major_tick_line_color\":\"navy\",\"ticker\":{\"id\":\"3249\"},\"visible\":false},\"id\":\"3248\",\"type\":\"LinearAxis\"},{\"attributes\":{\"axis\":{\"id\":\"3248\"},\"dimension\":1,\"grid_line_color\":\"navy\",\"ticker\":null,\"visible\":false},\"id\":\"3251\",\"type\":\"Grid\"},{\"attributes\":{\"range\":null,\"value\":-0.5},\"id\":\"3336\",\"type\":\"Dodge\"},{\"attributes\":{\"fill_alpha\":{\"value\":0.4},\"fill_color\":{\"field\":\"Account\",\"transform\":{\"id\":\"3232\"}},\"height\":{\"value\":0.95},\"line_color\":{\"value\":\"#1f77b4\"},\"width\":{\"value\":3.5},\"x\":{\"field\":\"Level\",\"transform\":{\"id\":\"3263\"}},\"y\":{\"field\":\"Row\"}},\"id\":\"3265\",\"type\":\"Rect\"},{\"attributes\":{},\"id\":\"3271\",\"type\":\"AllLabels\"},{\"attributes\":{\"items\":[{\"id\":\"3279\"}],\"label_text_font_size\":\"7pt\",\"title\":\"Account\"},\"id\":\"3278\",\"type\":\"Legend\"},{\"attributes\":{\"dimension\":\"height\"},\"id\":\"3255\",\"type\":\"WheelPanTool\"},{\"attributes\":{},\"id\":\"3240\",\"type\":\"LinearScale\"},{\"attributes\":{\"text\":{\"field\":\"__proc_name$$\"},\"text_baseline\":{\"value\":\"middle\"},\"text_color\":{\"value\":\"black\"},\"text_font_size\":{\"value\":\"8pt\"},\"x\":{\"field\":\"Level\",\"transform\":{\"id\":\"3287\"}},\"y\":{\"field\":\"Row\",\"transform\":{\"id\":\"3288\"}}},\"id\":\"3290\",\"type\":\"Text\"},{\"attributes\":{\"below\":[{\"id\":\"3314\"}],\"center\":[{\"id\":\"3317\"},{\"id\":\"3321\"}],\"height\":700,\"left\":[{\"id\":\"3318\"}],\"renderers\":[{\"id\":\"3340\"}],\"title\":{\"id\":\"3349\"},\"toolbar\":{\"id\":\"3329\"},\"toolbar_location\":null,\"width\":90,\"x_range\":{\"id\":\"3306\"},\"x_scale\":{\"id\":\"3310\"},\"y_range\":{\"id\":\"3308\"},\"y_scale\":{\"id\":\"3312\"}},\"id\":\"3305\",\"subtype\":\"Figure\",\"type\":\"Plot\"},{\"attributes\":{\"fill_alpha\":{\"value\":0.1},\"fill_color\":{\"field\":\"Account\",\"transform\":{\"id\":\"3232\"}},\"height\":{\"value\":0.95},\"line_alpha\":{\"value\":0.1},\"line_color\":{\"value\":\"#1f77b4\"},\"width\":{\"value\":3.5},\"x\":{\"field\":\"Level\",\"transform\":{\"id\":\"3263\"}},\"y\":{\"field\":\"Row\"}},\"id\":\"3266\",\"type\":\"Rect\"},{\"attributes\":{\"callback\":null},\"id\":\"3254\",\"type\":\"TapTool\"},{\"attributes\":{},\"id\":\"3273\",\"type\":\"BasicTickFormatter\"},{\"attributes\":{\"source\":{\"id\":\"3231\"}},\"id\":\"3341\",\"type\":\"CDSView\"},{\"attributes\":{\"source\":{\"id\":\"3231\"}},\"id\":\"3268\",\"type\":\"CDSView\"},{\"attributes\":{},\"id\":\"3325\",\"type\":\"SaveTool\"},{\"attributes\":{},\"id\":\"3310\",\"type\":\"LinearScale\"},{\"attributes\":{},\"id\":\"3276\",\"type\":\"Selection\"},{\"attributes\":{},\"id\":\"3270\",\"type\":\"BasicTickFormatter\"},{\"attributes\":{},\"id\":\"3253\",\"type\":\"SaveTool\"},{\"attributes\":{\"data_source\":{\"id\":\"3231\"},\"glyph\":{\"id\":\"3290\"},\"hover_glyph\":null,\"muted_glyph\":null,\"nonselection_glyph\":{\"id\":\"3291\"},\"view\":{\"id\":\"3293\"}},\"id\":\"3292\",\"type\":\"GlyphRenderer\"},{\"attributes\":{\"data_source\":{\"id\":\"3231\"},\"glyph\":{\"id\":\"3265\"},\"hover_glyph\":null,\"muted_glyph\":null,\"nonselection_glyph\":{\"id\":\"3266\"},\"view\":{\"id\":\"3268\"}},\"id\":\"3267\",\"type\":\"GlyphRenderer\"}],\"root_ids\":[\"3347\"]},\"title\":\"Bokeh Application\",\"version\":\"2.3.2\"}};\n  var render_items = [{\"docid\":\"a5d35cb3-fe2f-46d0-86cc-ddf0c9d2b3ef\",\"root_ids\":[\"3347\"],\"roots\":{\"3347\":\"583fd63e-4b90-485b-87a9-b0195e8100a5\"}}];\n  root.Bokeh.embed.embed_items_notebook(docs_json, render_items);\n\n  }\n  if (root.Bokeh !== undefined) {\n    embed_document(root);\n  } else {\n    var attempts = 0;\n    var timer = setInterval(function(root) {\n      if (root.Bokeh !== undefined) {\n        clearInterval(timer);\n        embed_document(root);\n      } else {\n        attempts++;\n        if (attempts > 100) {\n          clearInterval(timer);\n          console.log(\"Bokeh: ERROR: Unable to run BokehJS code because BokehJS library is missing\");\n        }\n      }\n    }, 10, root)\n  }\n})(window);",
      "application/vnd.bokehjs_exec.v0+json": ""
     },
     "metadata": {
      "application/vnd.bokehjs_exec.v0+json": {
       "id": "3347"
      }
     },
     "output_type": "display_data"
    },
    {
     "data": {
      "text/plain": [
       "(Figure(id='3233', ...), Row(id='3347', ...))"
      ]
     },
     "execution_count": 74,
     "metadata": {},
     "output_type": "execute_result"
    }
   ],
   "source": [
    "(\n",
    "    host_summary_rslt\n",
    "    .host_entity\n",
    "    .qry_wevt_processes(start=\"2021-11-17 16:09\", end=\"2021-11-17 16:10\")\n",
    "    .mp_plot.process_tree(legend_col=\"Account\")\n",
    ")"
   ]
  },
  {
   "cell_type": "markdown",
   "metadata": {},
   "source": [
    "---\n",
    "# Preview feature - Virus Total and MP Preview [ian]\n",
    "\n"
   ]
  },
  {
   "cell_type": "code",
   "execution_count": null,
   "metadata": {},
   "outputs": [],
   "source": []
  },
  {
   "cell_type": "markdown",
   "metadata": {},
   "source": [
    "\n",
    "---\n",
    "# MSTICPy Contributor month/Hackathon/Sprint - Jan 2022 [Pete] "
   ]
  }
 ],
 "metadata": {
  "interpreter": {
   "hash": "f1a957ba120dd441fca5345565e323085d222a237914b966f18f2f288f750033"
  },
  "kernelspec": {
   "display_name": "Python 3.7.11 64-bit (conda)",
   "language": "python",
   "name": "python3"
  },
  "language_info": {
   "codemirror_mode": {
    "name": "ipython",
    "version": 3
   },
   "file_extension": ".py",
   "mimetype": "text/x-python",
   "name": "python",
   "nbconvert_exporter": "python",
   "pygments_lexer": "ipython3",
   "version": "3.7.11"
  },
  "orig_nbformat": 4
 },
 "nbformat": 4,
 "nbformat_minor": 2
}
