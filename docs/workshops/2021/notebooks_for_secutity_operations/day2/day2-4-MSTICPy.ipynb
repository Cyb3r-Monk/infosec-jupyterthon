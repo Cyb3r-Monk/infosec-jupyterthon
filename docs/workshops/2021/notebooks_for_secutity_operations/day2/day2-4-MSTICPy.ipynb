{
 "cells": [
  {
   "cell_type": "markdown",
   "metadata": {},
   "source": [
    "## InfoSec Jupyterthon Day 2\n",
    "\n",
    "---\n",
    "\n"
   ]
  },
  {
   "cell_type": "markdown",
   "metadata": {},
   "source": [
    "# MSTICPy - Microsoft Threat Intelligence Center Jupyter & Python Security Tools\n",
    "\n",
    "msticpy is a library for InfoSec investigation and hunting in Jupyter Notebooks. It includes functionality to:\n",
    "- query log data from multiple sources\n",
    "- enrich the data with Threat Intelligence, geolocations and Azure resource data\n",
    "- extract Indicators of Activity (IoA) from logs and unpack encoded data\n",
    "- perform sophisticated analysis such as anomalous session detection and time series decomposition\n",
    "- visualize data using interactive timelines, process trees and multi-dimensional Morph Charts\n",
    "\n",
    "It also includes some time-saving notebook tools such as widgets to set query time boundaries, select and display items from lists, and configure the notebook environment.\n",
    "\n",
    "Source Code: https://github.com/microsoft/msticpy\n",
    "Python Package: https://pypi.org/project/msticpy/#:~:text=Microsoft%20Threat%20Intelligence%20Python%20Security%20Tools.%20msticpy%20is,functionality%20to%3A%20query%20log%20data%20from%20multiple%20sources\n",
    "Docs: https://msticpy.readthedocs.io/en/latest/\n",
    "\n",
    "Contents\n",
    "- The basics \n",
    "- MSTICPy Widgets [Pete]\n",
    "- Query providers revisited [Ian, Pete]\n",
    "- Threat intelligence [Ian, Ashwin] \n",
    "- Other enrichment\n",
    "- Pivot functions\n",
    "- Query customization\n",
    "- Notebooklets - notebook macros|\n",
    "- VirusTotal Detonation browsing - Preview Feature\n",
    "- MSTICPy Hack month\n"
   ]
  },
  {
   "cell_type": "markdown",
   "metadata": {},
   "source": [
    "---\n",
    "## Basics - installing and configuring\n",
    "To use any library in Python you first need to install the pacakge and import it.\n",
    "There are several ways to do this depending on how you want to access the library, however the simplest and easiest is using pip. [Pip](https://pypi.org/project/pip/) is the pacakge installer for Python and makes finding and installing Python pacakges simple.\n",
    "You can use pip to install packages via the command line, or if you are using a notebook, directly in a notebook cell. Azure ML compute come with Pip installed already but if you are running your notebook elsewhere you may need to install pip first.\n",
    "\n",
    "To do this we need to use `%pip` followed by install and the pacakge name. e.g.:\n",
    "`%pip install msticpy`\n"
   ]
  },
  {
   "cell_type": "markdown",
   "metadata": {},
   "source": [
    "MSTICPy is a library with a broad range of functionality. As such installing the whole library can be more than required for a lot of uses. As such MSTICPy has implemented a series of  Extras that allow for the installation of certain part of the library. These Extras are grouped around core technologies that you might want to use with MSTICPy.\n",
    "\n",
    "| Extra      | Functionality \n",
    "|------------|-------------------------------------------------------------|\n",
    "| --none--   | Most functionality (approx 75%) Kqlmagic Jupyter basic\n",
    "| keyvault   | Key Vault and keyring storage of settings secrets\n",
    "| azure      | Azure API data retrieval, Azure storage APIs, Sentinel APIs \n",
    "| kql        | Kqlmagic Jupyter extended functionality\n",
    "| azsentinel | Combination of core install + \"azure\", \"keyvault\", \"kql\"\n",
    "| ml         | Timeseries analysis, Event clustering, Outlier analysis\n",
    "| splunk     | Splunk data queries\n",
    "| vt3        | VirusTotal V3 graph API\n",
    "| riskiq     | RiskIQ Illuminate threat intel provider & pivot functions\n",
    "| all        | Includes all of above packages\n",
    "| dev        | Development tools plus \"base\"\n",
    "| test       | \"dev\" plus \"all\"\n",
    "\n",
    "To install a specific Extra, use the following syntax:\n",
    "`%pip install msticpy[extra]`\n",
    "\n",
    "You can also install multiple extras at once:\n",
    "`%pip install msticpy[extra1,extra2,...]`"
   ]
  },
  {
   "cell_type": "code",
   "execution_count": null,
   "metadata": {},
   "outputs": [],
   "source": [
    "%pip install msticpy[all]"
   ]
  },
  {
   "cell_type": "markdown",
   "metadata": {},
   "source": [
    "## Configuration\n",
    "\n",
    "Once installed MSTICPy can be imported in the same way as any other Python library, however to make things a bit easier we have created the `init_notebook` function that will automatically import the library and configure it for use in a Jupyter Notebook.\n",
    "\n",
    "\n",
    "<p style=\"border: solid; padding: 5pt; color: white; background-color: DarkOliveGreen\"><b>Note:</b>\n",
    "Passing `globals()` lets the init function import stuff into the notebook top-level namespace\n",
    "</p>"
   ]
  },
  {
   "cell_type": "code",
   "execution_count": 7,
   "metadata": {},
   "outputs": [
    {
     "data": {
      "text/html": [
       "<hr><h4>Starting Notebook initialization...</h4>"
      ],
      "text/plain": [
       "<IPython.core.display.HTML object>"
      ]
     },
     "metadata": {},
     "output_type": "display_data"
    },
    {
     "data": {
      "text/html": [
       "msticpy version installed: 1.5.0rc3 latest published: 1.4.5<br>Latest version is installed.<br> <br>"
      ],
      "text/plain": [
       "<IPython.core.display.HTML object>"
      ]
     },
     "metadata": {},
     "output_type": "display_data"
    },
    {
     "data": {
      "text/html": [
       "Processing imports.... <br>"
      ],
      "text/plain": [
       "<IPython.core.display.HTML object>"
      ]
     },
     "metadata": {},
     "output_type": "display_data"
    },
    {
     "data": {
      "text/html": [
       "Imported: pd (pandas), IPython.get_ipython, IPython.display.display, IPython.display.HTML, IPython.display.Markdown, widgets (ipywidgets), pathlib.Path, plt (matplotlib.pyplot), matplotlib.MatplotlibDeprecationWarning, sns (seaborn), np (numpy), msticpy, msticpy.data.QueryProvider, msticpy.nbtools.foliummap.FoliumMap, msticpy.common.utility.md, msticpy.common.utility.md_warn, msticpy.common.wsconfig.WorkspaceConfig, msticpy.datamodel.pivot.Pivot, msticpy.datamodel.entities, msticpy.vis.mp_pandas_plot <br>"
      ],
      "text/plain": [
       "<IPython.core.display.HTML object>"
      ]
     },
     "metadata": {},
     "output_type": "display_data"
    },
    {
     "data": {
      "text/html": [
       "Checking configuration.... <br>"
      ],
      "text/plain": [
       "<IPython.core.display.HTML object>"
      ]
     },
     "metadata": {},
     "output_type": "display_data"
    },
    {
     "data": {
      "text/html": [
       "No valid configuration for Azure Sentinel found. <br>"
      ],
      "text/plain": [
       "<IPython.core.display.HTML object>"
      ]
     },
     "metadata": {},
     "output_type": "display_data"
    },
    {
     "data": {
      "text/html": [
       "Azure CLI not detected. AzCLI single sign-on disabled ({_CLI_WIKI_MSSG_SHORT}) <br>"
      ],
      "text/plain": [
       "<IPython.core.display.HTML object>"
      ]
     },
     "metadata": {},
     "output_type": "display_data"
    },
    {
     "data": {
      "text/html": [
       "Setting notebook options.... <br>"
      ],
      "text/plain": [
       "<IPython.core.display.HTML object>"
      ]
     },
     "metadata": {},
     "output_type": "display_data"
    },
    {
     "data": {
      "text/html": [
       " <br>"
      ],
      "text/plain": [
       "<IPython.core.display.HTML object>"
      ]
     },
     "metadata": {},
     "output_type": "display_data"
    },
    {
     "data": {
      "text/html": [
       "<p style=''><font color='orange'><h3>Notebook setup completed with some warnings.</h3></p>"
      ],
      "text/plain": [
       "<IPython.core.display.HTML object>"
      ]
     },
     "metadata": {},
     "output_type": "display_data"
    },
    {
     "data": {
      "text/html": [
       "<p style=''>One or more configuration items were missing or set incorrectly.</p>"
      ],
      "text/plain": [
       "<IPython.core.display.HTML object>"
      ]
     },
     "metadata": {},
     "output_type": "display_data"
    },
    {
     "data": {
      "text/html": [
       "<p style=''>Please run the <i>Getting Started Guide for Azure Sentinel ML Notebooks</i> notebook. and the <a href='https://msticpy.readthedocs.io/en/latest/getting_started/msticpyconfig.html'>msticpy configuration guide</a>.</p>"
      ],
      "text/plain": [
       "<IPython.core.display.HTML object>"
      ]
     },
     "metadata": {},
     "output_type": "display_data"
    },
    {
     "data": {
      "text/html": [
       "<p style=''>This notebook may still run but with reduced functionality.</p>"
      ],
      "text/plain": [
       "<IPython.core.display.HTML object>"
      ]
     },
     "metadata": {},
     "output_type": "display_data"
    },
    {
     "data": {
      "text/html": [
       "<h4>Notebook initialization complete</h4>"
      ],
      "text/plain": [
       "<IPython.core.display.HTML object>"
      ]
     },
     "metadata": {},
     "output_type": "display_data"
    },
    {
     "data": {
      "text/plain": [
       "False"
      ]
     },
     "execution_count": 7,
     "metadata": {},
     "output_type": "execute_result"
    }
   ],
   "source": [
    "import msticpy\n",
    "msticpy.init_notebook(globals())"
   ]
  },
  {
   "cell_type": "markdown",
   "metadata": {},
   "source": [
    "### MSTICPy's config file\n",
    "\n",
    "MSTICPy can handle connections to a variety of data sources and services, including Azure Sentinel.\n",
    "\n",
    "To make it easier to manage and re-use the configuration and credentials fo these things MSTICPy has its own config file that holds these items - `msticpyconfig.yaml`\n",
    "\n",
    "If you didn't have a `msticpyconfig.yaml` file in your workspace folder (which is likely if this is your first use of MSTICPY), the `init_notebook` function should have created one for you and populated it file structure you are in.\n",
    "\n",
    "You can populate msticpyconfig manually or you can used MSTICPy's settings editor to view and edit the settings stored there.\n"
   ]
  },
  {
   "cell_type": "code",
   "execution_count": 4,
   "metadata": {},
   "outputs": [
    {
     "data": {
      "application/vnd.jupyter.widget-view+json": {
       "model_id": "1132201a60194dbcbb88c1275239ad02",
       "version_major": 2,
       "version_minor": 0
      },
      "text/plain": [
       "Label(value='Loading. Please wait.')"
      ]
     },
     "metadata": {},
     "output_type": "display_data"
    },
    {
     "data": {
      "application/vnd.jupyter.widget-view+json": {
       "model_id": "d2ae34f6966440bfad0beb40ca6e43a9",
       "version_major": 2,
       "version_minor": 0
      },
      "text/plain": [
       "VBox(children=(Tab(children=(VBox(children=(Label(value='Azure Sentinel workspace settings'), HBox(children=(V…"
      ]
     },
     "metadata": {},
     "output_type": "display_data"
    }
   ],
   "source": [
    "msticpy.MpConfigEdit()"
   ]
  },
  {
   "cell_type": "markdown",
   "metadata": {},
   "source": [
    "There are different settings depending on what feature of MSTICPy you are setting configuration for. This includes config settings for connecting to Security data sources such as Microsoft Sentinel, Threat Intelligence providers such as VirusTotal, or for connecting to KeyVault if you want to use that service for securly storing your MSTICPy settings.\n",
    "\n",
    "Once you have compelted a these sections you can cehck wyou have the correct settings by using the `msticpy.settings.show_settings()` function."
   ]
  },
  {
   "cell_type": "code",
   "execution_count": 6,
   "metadata": {},
   "outputs": [
    {
     "name": "stdout",
     "output_type": "stream",
     "text": [
      "DataProviders: {}\n",
      "QueryDefinitions:\n",
      "  Default:\n",
      "  - queries\n",
      "msticpy:\n",
      "  FriendlyExceptions: true\n",
      "\n"
     ]
    }
   ],
   "source": [
    "import yaml\n",
    "print(yaml.safe_dump(msticpy.settings.settings)[:500])"
   ]
  },
  {
   "cell_type": "markdown",
   "metadata": {},
   "source": [
    "More details on populating the config file can be found in the [MSTICPy Settings Editor Documentation](https://msticpy.readthedocs.io/en/latest/settings.html)"
   ]
  },
  {
   "cell_type": "markdown",
   "metadata": {},
   "source": [
    "---\n",
    "\n",
    "# MSTICPy Widgets \n",
    "\n",
    "MSTICPy include a series of Notebook widgets to make interacting with data easier, especially for users without a programming background.\n",
    "\n",
    "The widgets are designed to fulfil a number of common tasks that a user might need to interact with a notebook such as select items from returned data, or set a timeframe for a query.\n",
    "\n",
    "The widgets themselves are build in ipywidgets and are available in the `msticpy.nbtools.nbwidgets` module.\n",
    "\n",
    "<p style=\"border: solid; padding: 5pt; color: white; background-color: DarkOliveGreen\"><b>Note:</b>\n",
    "Widgets are automatically imported by init_notebook</p>\n",
    "\n",
    "The below code creates our Time Range widget that can be used to allow a user to set a time range. We are telling it to use days as its unit of measurements and set a max range to select from."
   ]
  },
  {
   "cell_type": "code",
   "execution_count": 5,
   "metadata": {},
   "outputs": [
    {
     "data": {
      "application/vnd.jupyter.widget-view+json": {
       "model_id": "5d0dd1cc2b914ddb9d6afdea436f0218",
       "version_major": 2,
       "version_minor": 0
      },
      "text/plain": [
       "VBox(children=(HTML(value='<h4>Set query time boundaries</h4>'), HBox(children=(DatePicker(value=datetime.date…"
      ]
     },
     "metadata": {},
     "output_type": "display_data"
    }
   ],
   "source": [
    "from msticpy.nbtools.nbwidgets import *\n",
    "\n",
    "time_select = QueryTime(units=\"day\", max_before=20, before=5, max_after=1)\n",
    "time_select.display()"
   ]
  },
  {
   "cell_type": "markdown",
   "metadata": {},
   "source": [
    "We can then call  the start end end properties and get datetime objects based on the user selection."
   ]
  },
  {
   "cell_type": "code",
   "execution_count": 8,
   "metadata": {},
   "outputs": [
    {
     "data": {
      "text/plain": [
       "datetime.datetime(2021, 11, 13, 21, 9, 12, 1636)"
      ]
     },
     "execution_count": 8,
     "metadata": {},
     "output_type": "execute_result"
    }
   ],
   "source": [
    "time_select.start"
   ]
  },
  {
   "cell_type": "markdown",
   "metadata": {},
   "source": [
    "Other widgets allow for the selection of items from list, along with a text filter option to help users find items:"
   ]
  },
  {
   "cell_type": "code",
   "execution_count": 15,
   "metadata": {},
   "outputs": [
    {
     "data": {
      "application/vnd.jupyter.widget-view+json": {
       "model_id": "9c03131be0194ad4a71354ce1e07e2a2",
       "version_major": 2,
       "version_minor": 0
      },
      "text/plain": [
       "VBox(children=(Text(value='', description='Filter:', style=DescriptionStyle(description_width='initial')), Sel…"
      ]
     },
     "metadata": {},
     "output_type": "display_data"
    },
    {
     "data": {
      "text/html": [
       "<hr>"
      ],
      "text/plain": [
       "<IPython.core.display.HTML object>"
      ]
     },
     "metadata": {},
     "output_type": "display_data"
    }
   ],
   "source": [
    "items = [\"item 1\", \"item 2\", \"item 3\"]\n",
    "selection = SelectItem(item_list=items, description=\"Select item\", auto_display=True)"
   ]
  },
  {
   "cell_type": "markdown",
   "metadata": {},
   "source": [
    "There are also security specific widgets such as SelectAlert which allows a user to select a specific alert from a list of alerts.\n",
    "With this widget and others you can also specify an action, this is a follow on funciton that is executed with the value of the value selected in the widget.\n",
    "\n",
    "In the cell below we are using the action method to display the selected alert."
   ]
  },
  {
   "cell_type": "code",
   "execution_count": 19,
   "metadata": {},
   "outputs": [
    {
     "data": {
      "application/vnd.jupyter.widget-view+json": {
       "model_id": "58a1f4e6161d456384ba0bd0ff7fd653",
       "version_major": 2,
       "version_minor": 0
      },
      "text/plain": [
       "VBox(children=(Text(value='', description='Filter alerts by title:', style=DescriptionStyle(description_width=…"
      ]
     },
     "metadata": {},
     "output_type": "display_data"
    },
    {
     "data": {
      "text/html": [
       "<hr>"
      ],
      "text/plain": [
       "<IPython.core.display.HTML object>"
      ]
     },
     "metadata": {},
     "output_type": "display_data"
    },
    {
     "data": {
      "text/html": [
       "\n",
       "            <h3>Selected Alert: 'SSH Anomalous Login ML'</h3>\n",
       "            <b>Alert_time:</b> 2019-02-18 01:49:02,&nbsp;\n",
       "            <b>Compr_entity:</b> ,&nbsp;\n",
       "            <b>Alert_id:</b> f1ce87ca-8863-4a66-a0bd-a4d3776a7c64\n",
       "            <br/>\n",
       "            "
      ],
      "text/plain": [
       "<IPython.core.display.HTML object>"
      ]
     },
     "metadata": {},
     "output_type": "display_data"
    },
    {
     "data": {
      "text/html": [
       "<div>\n",
       "<style scoped>\n",
       "    .dataframe tbody tr th:only-of-type {\n",
       "        vertical-align: middle;\n",
       "    }\n",
       "\n",
       "    .dataframe tbody tr th {\n",
       "        vertical-align: top;\n",
       "    }\n",
       "\n",
       "    .dataframe thead th {\n",
       "        text-align: right;\n",
       "    }\n",
       "</style>\n",
       "<table border=\"1\" class=\"dataframe\">\n",
       "  <thead>\n",
       "    <tr style=\"text-align: right;\">\n",
       "      <th></th>\n",
       "      <th>0</th>\n",
       "    </tr>\n",
       "  </thead>\n",
       "  <tbody>\n",
       "    <tr>\n",
       "      <th>TenantId</th>\n",
       "      <td>52b1ab41-869e-4138-9e40-2a4457f09bf0</td>\n",
       "    </tr>\n",
       "    <tr>\n",
       "      <th>TimeGenerated</th>\n",
       "      <td>2019-02-18 02:29:07</td>\n",
       "    </tr>\n",
       "    <tr>\n",
       "      <th>AlertDisplayName</th>\n",
       "      <td>SSH Anomalous Login ML</td>\n",
       "    </tr>\n",
       "    <tr>\n",
       "      <th>AlertName</th>\n",
       "      <td>SSH Anomalous Login ML</td>\n",
       "    </tr>\n",
       "    <tr>\n",
       "      <th>Severity</th>\n",
       "      <td>Low</td>\n",
       "    </tr>\n",
       "    <tr>\n",
       "      <th>Description</th>\n",
       "      <td>Anomalous login detected for SSH account</td>\n",
       "    </tr>\n",
       "    <tr>\n",
       "      <th>ProviderName</th>\n",
       "      <td>CustomAlertRule</td>\n",
       "    </tr>\n",
       "    <tr>\n",
       "      <th>VendorName</th>\n",
       "      <td>Alert Rule</td>\n",
       "    </tr>\n",
       "    <tr>\n",
       "      <th>VendorOriginalId</th>\n",
       "      <td>b0e143b8-4fa8-47bc-8bc1-9780c8b75541</td>\n",
       "    </tr>\n",
       "    <tr>\n",
       "      <th>SystemAlertId</th>\n",
       "      <td>f1ce87ca-8863-4a66-a0bd-a4d3776a7c64</td>\n",
       "    </tr>\n",
       "    <tr>\n",
       "      <th>ResourceId</th>\n",
       "      <td></td>\n",
       "    </tr>\n",
       "    <tr>\n",
       "      <th>SourceComputerId</th>\n",
       "      <td></td>\n",
       "    </tr>\n",
       "    <tr>\n",
       "      <th>AlertType</th>\n",
       "      <td>CustomAlertRule_0a4e5f7c-9756-45f8-83c4-94c756...</td>\n",
       "    </tr>\n",
       "    <tr>\n",
       "      <th>ConfidenceLevel</th>\n",
       "      <td>Unknown</td>\n",
       "    </tr>\n",
       "    <tr>\n",
       "      <th>ConfidenceScore</th>\n",
       "      <td>NaN</td>\n",
       "    </tr>\n",
       "    <tr>\n",
       "      <th>IsIncident</th>\n",
       "      <td>False</td>\n",
       "    </tr>\n",
       "    <tr>\n",
       "      <th>StartTimeUtc</th>\n",
       "      <td>2019-02-18 01:49:02</td>\n",
       "    </tr>\n",
       "    <tr>\n",
       "      <th>EndTimeUtc</th>\n",
       "      <td>2019-02-18 02:19:02</td>\n",
       "    </tr>\n",
       "    <tr>\n",
       "      <th>ProcessingEndTime</th>\n",
       "      <td>2019-02-18 02:29:07</td>\n",
       "    </tr>\n",
       "    <tr>\n",
       "      <th>RemediationSteps</th>\n",
       "      <td></td>\n",
       "    </tr>\n",
       "    <tr>\n",
       "      <th>ExtendedProperties</th>\n",
       "      <td>{'Alert Mode': 'Aggregated', 'Search Query': '...</td>\n",
       "    </tr>\n",
       "    <tr>\n",
       "      <th>Entities</th>\n",
       "      <td>[{'$id': '3', 'Address': '23.97.60.214', 'Type...</td>\n",
       "    </tr>\n",
       "    <tr>\n",
       "      <th>SourceSystem</th>\n",
       "      <td>Detection</td>\n",
       "    </tr>\n",
       "    <tr>\n",
       "      <th>WorkspaceSubscriptionId</th>\n",
       "      <td>40dcc8bf-0478-4f3b-b275-ed0a94f2c013</td>\n",
       "    </tr>\n",
       "    <tr>\n",
       "      <th>WorkspaceResourceGroup</th>\n",
       "      <td>asihuntomsworkspacerg</td>\n",
       "    </tr>\n",
       "    <tr>\n",
       "      <th>ExtendedLinks</th>\n",
       "      <td></td>\n",
       "    </tr>\n",
       "    <tr>\n",
       "      <th>ProductName</th>\n",
       "      <td></td>\n",
       "    </tr>\n",
       "    <tr>\n",
       "      <th>ProductComponentName</th>\n",
       "      <td></td>\n",
       "    </tr>\n",
       "    <tr>\n",
       "      <th>AlertLink</th>\n",
       "      <td></td>\n",
       "    </tr>\n",
       "    <tr>\n",
       "      <th>Type</th>\n",
       "      <td>SecurityAlert</td>\n",
       "    </tr>\n",
       "    <tr>\n",
       "      <th>CompromisedEntity</th>\n",
       "      <td></td>\n",
       "    </tr>\n",
       "  </tbody>\n",
       "</table>\n",
       "</div>"
      ],
      "text/plain": [
       "                                                                         0\n",
       "TenantId                              52b1ab41-869e-4138-9e40-2a4457f09bf0\n",
       "TimeGenerated                                          2019-02-18 02:29:07\n",
       "AlertDisplayName                                    SSH Anomalous Login ML\n",
       "AlertName                                           SSH Anomalous Login ML\n",
       "Severity                                                               Low\n",
       "Description                       Anomalous login detected for SSH account\n",
       "ProviderName                                               CustomAlertRule\n",
       "VendorName                                                      Alert Rule\n",
       "VendorOriginalId                      b0e143b8-4fa8-47bc-8bc1-9780c8b75541\n",
       "SystemAlertId                         f1ce87ca-8863-4a66-a0bd-a4d3776a7c64\n",
       "ResourceId                                                                \n",
       "SourceComputerId                                                          \n",
       "AlertType                CustomAlertRule_0a4e5f7c-9756-45f8-83c4-94c756...\n",
       "ConfidenceLevel                                                    Unknown\n",
       "ConfidenceScore                                                        NaN\n",
       "IsIncident                                                           False\n",
       "StartTimeUtc                                           2019-02-18 01:49:02\n",
       "EndTimeUtc                                             2019-02-18 02:19:02\n",
       "ProcessingEndTime                                      2019-02-18 02:29:07\n",
       "RemediationSteps                                                          \n",
       "ExtendedProperties       {'Alert Mode': 'Aggregated', 'Search Query': '...\n",
       "Entities                 [{'$id': '3', 'Address': '23.97.60.214', 'Type...\n",
       "SourceSystem                                                     Detection\n",
       "WorkspaceSubscriptionId               40dcc8bf-0478-4f3b-b275-ed0a94f2c013\n",
       "WorkspaceResourceGroup                               asihuntomsworkspacerg\n",
       "ExtendedLinks                                                             \n",
       "ProductName                                                               \n",
       "ProductComponentName                                                      \n",
       "AlertLink                                                                 \n",
       "Type                                                         SecurityAlert\n",
       "CompromisedEntity                                                         "
      ]
     },
     "metadata": {},
     "output_type": "display_data"
    }
   ],
   "source": [
    "import pandas as pd\n",
    "from msticpy.nbtools.nbdisplay import display_alert\n",
    "\n",
    "# As discussed earlier pands read_* functions can call remote files as well as local ones.\n",
    "alerts = pd.read_pickle(\"https://github.com/microsoft/msticpy/raw/main/tests/testdata/localdata/alerts_list.pkl\")\n",
    "alert_select = SelectAlert(alerts=alerts, action=display_alert)\n",
    "alert_select.display()"
   ]
  },
  {
   "cell_type": "markdown",
   "metadata": {},
   "source": [
    "Some widgets are registered, meaning that they can be re-used later and will rememeber previous values entered.<br>\n",
    "This can be done by simply creating a widget with the same parameters as previously."
   ]
  },
  {
   "cell_type": "code",
   "execution_count": 30,
   "metadata": {},
   "outputs": [
    {
     "data": {
      "application/vnd.jupyter.widget-view+json": {
       "model_id": "854c4cb6621944eca84775f2fc25bb74",
       "version_major": 2,
       "version_minor": 0
      },
      "text/plain": [
       "Text(value='', description='Enter your name', layout=Layout(width='50%'), style=DescriptionStyle(description_w…"
      ]
     },
     "metadata": {},
     "output_type": "display_data"
    }
   ],
   "source": [
    "mem_text = GetText(prompt=\"Enter your name\")\n",
    "mem_text"
   ]
  },
  {
   "cell_type": "code",
   "execution_count": 32,
   "metadata": {},
   "outputs": [
    {
     "data": {
      "application/vnd.jupyter.widget-view+json": {
       "model_id": "655188d55f74468e9fc4b1f544ce6bba",
       "version_major": 2,
       "version_minor": 0
      },
      "text/plain": [
       "Text(value='Pete', description='Enter your name', layout=Layout(width='50%'), style=DescriptionStyle(descripti…"
      ]
     },
     "metadata": {},
     "output_type": "display_data"
    }
   ],
   "source": [
    "mem_text = GetText(prompt=\"Enter your name\")\n",
    "mem_text"
   ]
  },
  {
   "cell_type": "markdown",
   "metadata": {},
   "source": [
    "Other MSTICPy widgets include:\n",
    "- A simple datetime based lookback slider `Lookback`\n",
    "- A text box to capture user input `GetText`\n",
    "- A widget to capture and return an Environemnt Variable `GetEnvrionmentKey`\n",
    "- A widget to select a subset of items from a list `SelectSubset`\n",
    "- A widget to show progress of a task `Progress`\n",
    "- Multi option buttons with a wait function that pauses cell execution until a user selects an option `OptionButtons`\n",
    "\n",
    "\n",
    "More details on MSTICPy's widgets can be found here: https://msticpy.readthedocs.io/en/latest/visualization/NotebookWidgets.html"
   ]
  },
  {
   "cell_type": "markdown",
   "metadata": {},
   "source": [
    "---\n",
    "# Query providers revisited [Ian]\n",
    "\n",
    "## Supported providers\n",
    "- Microsoft Sentinel\n",
    "- Microsoft Defender/Defender for Endpoint\n",
    "- Splunk\n",
    "- Sumologic\n",
    "- Microsoft Graph\n",
    "- Local data\n",
    "- Mordor/Security Datasets\n",
    "- Kusto/Azure Data Explorer\n",
    "- Azure Resource Graph"
   ]
  },
  {
   "cell_type": "code",
   "execution_count": null,
   "metadata": {},
   "outputs": [],
   "source": [
    "from msticpy.data import QueryProvider\n",
    "import pandas as pd\n",
    "\n",
    "# Load query providers (typically you'll be using just one)\n",
    "qry_prov_az = QueryProvider(\"AzureSentinel\")\n",
    "qry_prov_sp = QueryProvider(\"Splunk\")\n",
    "qry_prov_mde = QueryProvider(\"MDE\")\n",
    "# Special provider that uses local data files\n",
    "qry_prov_loc = QueryProvider(\"LocalData\", data_paths=[\"./data\"], query_paths=[\"./data\"])"
   ]
  },
  {
   "cell_type": "markdown",
   "metadata": {},
   "source": [
    "\n",
    "## list_queries and running a query\n"
   ]
  },
  {
   "cell_type": "code",
   "execution_count": null,
   "metadata": {},
   "outputs": [],
   "source": [
    "qry_prov_az.list_queries()[:10]"
   ]
  },
  {
   "cell_type": "code",
   "execution_count": null,
   "metadata": {},
   "outputs": [],
   "source": [
    "qry_prov_az.Azure.list_aad_signins_for_account?"
   ]
  },
  {
   "cell_type": "markdown",
   "metadata": {},
   "source": [
    "\n",
    "## Query time ranges\n"
   ]
  },
  {
   "cell_type": "code",
   "execution_count": null,
   "metadata": {},
   "outputs": [],
   "source": [
    "qry_prov_az.query_time"
   ]
  },
  {
   "cell_type": "markdown",
   "metadata": {},
   "source": [
    "## Parameters\n"
   ]
  },
  {
   "cell_type": "code",
   "execution_count": null,
   "metadata": {},
   "outputs": [],
   "source": []
  },
  {
   "cell_type": "markdown",
   "metadata": {},
   "source": [
    "---\n",
    "# Enrichment - Threat intelligence\n",
    "\n",
    "## Generic providers [Ashwin] \n"
   ]
  },
  {
   "cell_type": "code",
   "execution_count": null,
   "metadata": {},
   "outputs": [],
   "source": [
    "pivot = Pivot(namespace=globals())\n",
    "f\n",
    "\n",
    "ti_results = destip.tilookup_ipv4()\n",
    "TILookup.browse_results(ti_results)"
   ]
  },
  {
   "cell_type": "markdown",
   "metadata": {},
   "source": [
    "---\n",
    "# Enrichment - Other enrichment [Pete] \n",
    "\n",
    "## GeoIP\n"
   ]
  },
  {
   "cell_type": "code",
   "execution_count": null,
   "metadata": {},
   "outputs": [],
   "source": [
    "pivot = Pivot(namespace=globals())"
   ]
  },
  {
   "cell_type": "markdown",
   "metadata": {},
   "source": [
    "## Whois \n"
   ]
  },
  {
   "cell_type": "markdown",
   "metadata": {},
   "source": [
    "\n",
    "## Azure/Azure Resource Graph  \n"
   ]
  },
  {
   "cell_type": "markdown",
   "metadata": {},
   "source": [
    "---\n",
    "# Pivot functions [Ian] \n",
    "\n",
    "Pivot functions are methods of entities that provide:\n",
    "- data queries related to an entity\n",
    "- enrichment functions relevant to that entity\n",
    "\n",
    "Pivot functions are dynamically attached to entities. We created this\n",
    "framework to make it easier to find which functions you can use for which entity type.\n",
    "\n",
    "### Motivation\n",
    "- We had built a lot of functionality in MSTICPy for querying and enrichment\n",
    "- A lot of the functions had inconsistent type/parameter signatures\n",
    "- There was no easy discovery mechanism for these functions - you had to know\n",
    "- Using entities as pivot points is a \"natural\" investigation pattern\n",
    "\n",
    "## Access functionality from entities\n"
   ]
  },
  {
   "cell_type": "code",
   "execution_count": null,
   "metadata": {},
   "outputs": [],
   "source": [
    "pivot = Pivot(namespace=globals())"
   ]
  },
  {
   "cell_type": "code",
   "execution_count": null,
   "metadata": {},
   "outputs": [],
   "source": [
    "from msticpy.datamodel import entities\n",
    "\n",
    "display(entities.IpAddress.whois(\"38.75.137.9\"))\n",
    "display(entities.IpAddress.geoloc(\"38.75.137.9\"))"
   ]
  },
  {
   "cell_type": "code",
   "execution_count": null,
   "metadata": {},
   "outputs": [],
   "source": [
    "pivot.browse()"
   ]
  },
  {
   "cell_type": "code",
   "execution_count": null,
   "metadata": {},
   "outputs": [],
   "source": [
    "%%ioc --out ip_list\n",
    "\tSourceIP\tDestinationIP\tTotalBytesSent\tnir\tasn_registry\tasn\tasn_cidr\tasn_country_code\tasn_date\tasn_description\tquery\tnets\traw\treferral\traw_referral\n",
    "0\t10.0.3.5\t40.124.45.19\t621\tNaN\tNaN\tNaN\tNaN\tNaN\tNaN\tNaN\tNaN\tNaN\tNaN\tNaN\tNaN\n",
    "1\t10.16.12.1\t40.124.45.19\t1004\tNaN\tNaN\tNaN\tNaN\tNaN\tNaN\tNaN\tNaN\tNaN\tNaN\tNaN\tNaN\n",
    "2\t10.4.5.12\t13.71.172.130\t247\tNaN\tNaN\tNaN\tNaN\tNaN\tNaN\tNaN\tNaN\tNaN\tNaN\tNaN\tNaN\n",
    "3\t10.4.5.12\t40.77.232.95\t189\tNaN\tNaN\tNaN\tNaN\tNaN\tNaN\tNaN\tNaN\tNaN\tNaN\tNaN\tNaN\n",
    "4\t10.4.5.16\t13.71.172.130\t46\tNaN\tNaN\tNaN\tNaN\tNaN\tNaN\tNaN\tNaN\tNaN\tNaN\tNaN\tNaN\n",
    "5\t10.4.5.16\t65.55.44.109\t120\tNaN\tNaN\tNaN\tNaN\tNaN\tNaN\tNaN\tNaN\tNaN\tNaN\tNaN\tNaN\n",
    "6\t10.90.78.142\t104.43.212.12\t12\tNaN\tNaN\tNaN\tNaN\tNaN\tNaN\tNaN\tNaN\tNaN\tNaN\tNaN\tNaN\n",
    "7\t10.90.78.71\t104.43.212.12\t4\tNaN\tNaN\tNaN\tNaN\tNaN\tNaN\tNaN\tNaN\tNaN\tNaN\tNaN\tNaN\n",
    "8\t20.185.182.48\t38.75.137.9\t8328\tNaN\tarin\t8075"
   ]
  },
  {
   "cell_type": "code",
   "execution_count": null,
   "metadata": {},
   "outputs": [],
   "source": [
    "entities.IpAddress.whois(ip_list[\"ipv4\"]) #, join=\"left\")\n"
   ]
  },
  {
   "cell_type": "markdown",
   "metadata": {},
   "source": [
    "# Creating pipelines\n",
    "\n"
   ]
  },
  {
   "cell_type": "code",
   "execution_count": null,
   "metadata": {},
   "outputs": [],
   "source": [
    "list(ip_list[\"ipv4\"])[:4]"
   ]
  },
  {
   "cell_type": "code",
   "execution_count": null,
   "metadata": {},
   "outputs": [],
   "source": [
    "(\n",
    "    entities.IpAddress.whois(list(ip_list[\"ipv4\"])[:4], join=\"left\")\n",
    "    .mp_pivot.run(entities.IpAddress.geoloc, input_col=\"ip_column\", join=\"left\")\n",
    "    .mp_pivot.run(entities.IpAddress.tilookup_ipv4, input_col=\"ip_column\", join=\"left\")\n",
    ")"
   ]
  },
  {
   "cell_type": "markdown",
   "metadata": {},
   "source": [
    "# Advanced queries [Ian] \n",
    "\n",
    "## Creating Custom queries\n",
    "\n",
    "```yaml\n",
    "metadata:\n",
    "  version: 1\n",
    "  description: Linux Syslog Host Activity Queries\n",
    "  data_environments: [LogAnalytics]\n",
    "  data_families: [LinuxSyslog]\n",
    "  tags: ['linux', 'syslog']\n",
    "defaults:\n",
    "  metadata:\n",
    "    data_source: 'linux_syslog'\n",
    "    pivot:\n",
    "      direct_func_entities:\n",
    "        - Host\n",
    "  parameters:\n",
    "      table:\n",
    "        description: Table name\n",
    "        type: str\n",
    "        default: 'Syslog'\n",
    "      start:\n",
    "        description: Query start time\n",
    "        type: datetime\n",
    "      end:\n",
    "        description: Query end time\n",
    "        type: datetime\n",
    "      add_query_items:\n",
    "        description: Additional query clauses\n",
    "        type: str\n",
    "        default: ''\n",
    "      host_name:\n",
    "        description: Hostname to query for\n",
    "        type: str\n",
    "        default: ''\n",
    "sources:\n",
    "  user_group_activity:\n",
    "    description: All user/group additions, deletions, and modifications\n",
    "    args:\n",
    "      query: '\n",
    "        {table}\n",
    "        | where TimeGenerated >= datetime({start})\n",
    "        | where TimeGenerated <= datetime({end})\n",
    "        | where Computer has \"{host_name}\"\n",
    "        | where Facility == \"authpriv\"\n",
    "        | extend UserGroupAction = iif((ProcessName == \"groupadd\" or ProcessName == \"useradd\") and (SyslogMessage contains \"new group\" or SyslogMessage contains \"new user\"), \"Add\",\n",
    "                                    iif((ProcessName == \"groupdel\" or ProcessName == \"userdel\") and (SyslogMessage contains \"delete user\" or SyslogMessage matches regex \"(removed group|removed$)\"), \"Delete\",\n",
    "                                    iif(ProcessName == \"usermod\" or ProcessName == \"gpasswd\", \"Modify\", \"\")\n",
    "                                        )\n",
    "                                    )\n",
    "        | extend User=extract(\"(user: name=|user '')([[:alnum:]]+)\",2,SyslogMessage), Group=extract(\"(group: name=|group '')([[:alnum:]]+)\",2,SyslogMessage), UID=extract(\"UID=([0-9]+)\",1,SyslogMessage), GID=extract(\"GID=([0-9]+)\",1,SyslogMessage)\n",
    "        | where UserGroupAction != \"\"\n",
    "        {add_query_items}'\n",
    "    parameters:\n",
    "  all_syslog:\n",
    "    description: Returns all syslog activity for a host\n",
    "    args:\n",
    "      query: '\n",
    "         {table}\n",
    "        | where TimeGenerated >= datetime({start})\n",
    "        | where TimeGenerated <= datetime({end})\n",
    "        | where Computer has \"{host_name}\"\n",
    "        {add_query_items}'\n",
    "    parameters:\n",
    "```\n",
    "Splunk\n",
    "```yaml\n",
    "list_all_alerts:\n",
    "    description: Retrieves all configured alerts\n",
    "    metadata:\n",
    "      data_families: [Alerts]\n",
    "    args:\n",
    "      query: '\n",
    "      | rest/servicesNS/-/search/saved/searches\n",
    "      | search alert.track=1\n",
    "      | fields title description search disabled triggered_alert_count actions action.script.filename alert.severity cron_schedule'\n",
    "    parameters:\n",
    "```\n",
    "\n",
    "OData\n",
    "```yaml\n",
    "list_alerts_for_user:\n",
    "    description: Retrieves list of alerts for a user account\n",
    "    metadata:\n",
    "      data_source: 'graph_alert'\n",
    "    args:\n",
    "      query: '{path}?$filter=createdDateTime ge {start}\n",
    "        and createdDateTime le {end}\n",
    "        and (userStates/any(d:tolower(d/userPrincipalName) eq tolower(\"{user_principal_name}\")\n",
    "        or userStates/any(d:tolower(d/accountName) eq tolower(\"{account_name}\"))\n",
    "        {add_query_items}'\n",
    "      uri: None\n",
    "```"
   ]
  },
  {
   "cell_type": "markdown",
   "metadata": {},
   "source": [
    "---\n",
    "# Notebooklets - \"Macros\" for Notebooks [Ian] \n",
    "\n",
    "We built notebooklets because life is too short keep writing (copy/pasting) the same code over and over again.\n",
    "\n",
    "The Notebooklets (MSTICNB) package multiple notebook cells for common investigation routines into simple functions\n",
    "\n",
    "<a style=\"font-family: consolas; font-size:15pt\"\n",
    " href=\"https://github.com/microsoft/msticnb\">Repo: https://github.com/microsoft/msticnb</a>\n",
    "<br>\n",
    "<a style=\"font-family: consolas; font-size:15pt\"\n",
    " href=\"https://msticnb.readthedocs.io/en/latest/\">Docs: https://msticnb.readthedocs.io/</a>\n",
    "\n",
    "<p style=\"font-family: consolas; color:green; font-size:15pt\">$ pip install msticnb</p>\n"
   ]
  },
  {
   "cell_type": "code",
   "execution_count": null,
   "metadata": {},
   "outputs": [],
   "source": [
    "# Import and initialize MSTIC Notebooklets - companion package\n",
    "# more later\n",
    "import msticnb as nb\n",
    "qry_prov_az.connect(WorkspaceConfig(workspace=\"CyberSecuritySoc\"))\n",
    "nb.init(query_provider=qry_prov_az)\n",
    "# qry_prov_az.connect(WorkspaceConfig(workspace=\"CyberSecuritySoc\"))\n",
    "\n",
    "nb.browse()"
   ]
  },
  {
   "cell_type": "code",
   "execution_count": null,
   "metadata": {},
   "outputs": [],
   "source": [
    "host_time = nbwidgets.QueryTime()\n",
    "host_time"
   ]
  },
  {
   "cell_type": "code",
   "execution_count": null,
   "metadata": {},
   "outputs": [],
   "source": [
    "host_summary = nb.nblts.azsent.host.HostSummary()\n",
    "\n",
    "host_summary_rslt = host_summary.run(value=\"WORKSTATION6\", timespan=host_time)#, options=[\"-bookmarks\", \"-azure_api\"])"
   ]
  },
  {
   "cell_type": "code",
   "execution_count": null,
   "metadata": {},
   "outputs": [],
   "source": [
    "host_summary_rslt.browse_alerts()"
   ]
  },
  {
   "cell_type": "code",
   "execution_count": null,
   "metadata": {},
   "outputs": [],
   "source": [
    "host_summary_rslt.host_entity.qry_wevt_processes(start=\"2021-11-17 16:00\", end=\"2021-11-17 16:20\").mp_plot.timeline(group_by=\"Account\")"
   ]
  },
  {
   "cell_type": "code",
   "execution_count": null,
   "metadata": {},
   "outputs": [],
   "source": [
    "host_summary_rslt.host_entity.qry_wevt_processes(start=\"2021-11-17 16:09\", end=\"2021-11-17 16:10\").mp_plot.process_tree(legend_col=\"Account\")"
   ]
  },
  {
   "cell_type": "markdown",
   "metadata": {},
   "source": [
    "---\n",
    "# Preview feature - Virus Total and MP Preview [ian]\n",
    "\n"
   ]
  },
  {
   "cell_type": "code",
   "execution_count": null,
   "metadata": {},
   "outputs": [],
   "source": []
  },
  {
   "cell_type": "markdown",
   "metadata": {},
   "source": [
    "\n",
    "---\n",
    "# MSTICPy Community Sprint - Jan 2022\n",
    "\n",
    "MSTICPy is always open to contributions from the community, whether this be fixes to the current code base, feature additions, or just new ideas and suggestions.\n",
    "However, we know that contributing to an Open Source project can be a bit daunting, especially if it’s not something you have done before.\n",
    "\n",
    "To help people with this we are running a Community Sprint during January 2022. \n",
    "\n",
    "During this sprint we are encouraging people to engage with and contribute to MSTICPy. Contributions can take any form but in order to make this as easy as possible for people we will be offering support and guidance during the month to help people work out where and how to contribute.\n",
    "We will provide:\n",
    "- A set of contribution ideas tailored to differing skill levels and time commitments\n",
    "- Office Hours where you can come and ask questions and get help from the MSTICPy team\n",
    "- Additional contribution resources and guidance\n",
    "- Some awesome swag for people who contribute\n",
    "\n",
    "Want to get involved? Keep an eye on the MSTICPy GitHub page for updates on the Community Sprint - https://github.com/microsoft/msticpy\n",
    "\n"
   ]
  },
  {
   "cell_type": "markdown",
   "metadata": {},
   "source": []
  }
 ],
 "metadata": {
  "interpreter": {
   "hash": "f1a957ba120dd441fca5345565e323085d222a237914b966f18f2f288f750033"
  },
  "kernelspec": {
   "display_name": "Python 3.7.11 64-bit (conda)",
   "language": "python",
   "name": "python3"
  },
  "language_info": {
   "codemirror_mode": {
    "name": "ipython",
    "version": 3
   },
   "file_extension": ".py",
   "mimetype": "text/x-python",
   "name": "python",
   "nbconvert_exporter": "python",
   "pygments_lexer": "ipython3",
   "version": "3.8.10"
  },
  "orig_nbformat": 4
 },
 "nbformat": 4,
 "nbformat_minor": 2
}
