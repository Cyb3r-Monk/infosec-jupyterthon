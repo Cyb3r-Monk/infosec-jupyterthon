{
 "cells": [
  {
   "cell_type": "markdown",
   "metadata": {},
   "source": [
    "# Infosec Jupyterthon!\n",
    "\n",
    "[![Open Source Love](https://badges.frapsoft.com/os/v3/open-source.svg?v=103)](https://github.com/ellerbrock/open-source-badges/)\n",
    "\n",
    "<img src=\"content/images/infosec-jupyterthon-main.png\" width=700 alt=\"This image was created by Scriberia for The Turing Way community and is used under a CC-BY licence\">\n",
    "\n",
    "An open community event for security researchers to share their favorite notebooks with the infosec community. We meet virtually, share notebooks round robin style, and have fun learning more about Jupyter notebooks applied to the infosec field. A great place to meet other cyber Jovyan!\n",
    "\n",
    "## Event Goals\n",
    "\n",
    "* Learn basic notebook concepts with the Infosec community!\n",
    "* Share knowledge around Jupyter notebooks used for real-world scenarios in the Infosec field!\n",
    "* Share information about how to integrate Jupyter notebooks with other open source projects in the Infosec community!\n",
    "* Have fun!\n",
    "\n",
    "## Quick Information\n",
    "* **When?:** May 15th, 2020\n",
    "* **Where?:** Virtual Event. Potentially via [AltspaceVR](https://altvr.com/)\n",
    "* **How Much?:** Free\n",
    "\n",
    "## Call For Notebooks!\n",
    "If you are using Jupyter notebooks for any use case applied to Infosec, we want to hear from you! Presentation slides are not required. You and a notebook is enough! \n",
    "\n",
    "* **CFN form:** https://forms.office.com/Pages/ResponsePage.aspx?id=DQSIkWdsW0yxEjajBLZtrQAAAAAAAAAAAANAASH18J1UREEzUkhXVTRDVlFJSTBaVDQxTjk5UVdQSy4u\n",
    "* **CFN starts:** 2020/04/20\n",
    "* **CFN ends:** 2020/05/01\n",
    "\n",
    "## Open Infrastructure for an Open Event!\n",
    "\n",
    "Thanks to the [@mybinderteam](https://twitter.com/mybinderteam), **all the material used for this event** will be shared and run in their public BinderHub environment. This website was built with the awesome project [Jupyter Book](https://github.com/jupyter/jupyter-book) and it is already integrated with [Binder](https://mybinder.org/). Therefore, you could use this site to know about the event, but also use it during the event to follow most of the notebooks shared by the community! You will be able to run most of the notebooks interactively without installing anything in your computer.\n",
    "\n",
    "<img src=\"content/images/binderhub-process.png\" width=700 alt=\"Cyb3rWard0g\">\n",
    "\n",
    "\n",
    "## What is a Notebook?\n",
    "Think of a notebook as a document that you can access via a web interface that allows you to save input (i.e. live code) and output (i.e. code execution results / evaluated code output) of interactive sessions as well as important notes needed to explain the methodology and steps taken to perform specific tasks (i.e data analysis).\n",
    "\n",
    "## What is a Jupyter Notebook?\n",
    "> The Jupyter Notebook is an open-source web application that allows you to create and share documents that contain live code, equations, visualizations and narrative text. Uses include: data cleaning and transformation, numerical simulation, statistical modeling, data visualization, machine learning, and much more.\n",
    "\n",
    "## What is a Jovyan?\n",
    "\n",
    "You may see the word Jovyan used in Jupyter tools (such as the user ID in the Jupyter Docker stacks or referenced in conversations. But what is a Jovyan?\n",
    "\n",
    "In astronomical terms, the word “Jovian” means “like Jupiter”. It describes several planets that share Jupyter-like properties.\n",
    "\n",
    "Much like the planet Jupiter and our solar system, the Jupyter community is large, distributed, and nebulous. We like to use the word Jovyan to describe members of this community. Jovyans are fellow open enthusiasts that use, develop, promote, teach, learn, and otherwise enjoy tools in Jupyter’s orbit. They make up the Jupyter community. If you’re not sure whether you’re a Jovyan, you probably are :-)\n",
    "\n",
    "## References\n",
    "\n",
    "* https://mybinder.readthedocs.io/en/latest/\n",
    "* https://medium.com/threat-hunters-forge/writing-an-interactive-book-over-the-threat-hunter-playbook-with-the-help-of-the-jupyter-book-3ff37a3123c7\n",
    "* https://medium.com/threat-hunters-forge/threat-hunter-playbook-mordor-datasets-binderhub-open-infrastructure-for-open-8c8aee3d8b4\n",
    "* https://jupyter.readthedocs.io/en/latest/community/content-community.html#what-is-a-jovyan\n",
    "* https://discover-cookbook.numfocus.org/\n"
   ]
  },
  {
   "cell_type": "code",
   "execution_count": null,
   "metadata": {},
   "outputs": [],
   "source": []
  }
 ],
 "metadata": {
  "kernelspec": {
   "display_name": "Python 3",
   "language": "python",
   "name": "python3"
  },
  "language_info": {
   "codemirror_mode": {
    "name": "ipython",
    "version": 3
   },
   "file_extension": ".py",
   "mimetype": "text/x-python",
   "name": "python",
   "nbconvert_exporter": "python",
   "pygments_lexer": "ipython3",
   "version": "3.7.6"
  }
 },
 "nbformat": 4,
 "nbformat_minor": 4
}
